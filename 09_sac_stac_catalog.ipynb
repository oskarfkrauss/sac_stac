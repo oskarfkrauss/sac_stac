{
 "cells": [
  {
   "cell_type": "code",
   "execution_count": 1,
   "metadata": {},
   "outputs": [],
   "source": [
    "#default_exp sac_stac_catalog"
   ]
  },
  {
   "cell_type": "markdown",
   "metadata": {},
   "source": [
    "# Catapult STAC Catalog\n",
    "\n",
    "> Constructing a STAC *Catalog* from various Catapult *Collections*"
   ]
  },
  {
   "cell_type": "code",
   "execution_count": 10,
   "metadata": {},
   "outputs": [
    {
     "name": "stdout",
     "output_type": "stream",
     "text": [
      "The autoreload extension is already loaded. To reload it, use:\n",
      "  %reload_ext autoreload\n"
     ]
    }
   ],
   "source": [
    "#hide\n",
    "%load_ext autoreload\n",
    "%autoreload 2"
   ]
  },
  {
   "cell_type": "code",
   "execution_count": 3,
   "metadata": {},
   "outputs": [],
   "source": [
    "#hide\n",
    "from nbdev.showdoc import *"
   ]
  },
  {
   "cell_type": "code",
   "execution_count": 156,
   "metadata": {},
   "outputs": [],
   "source": [
    "#export\n",
    "from datetime import datetime\n",
    "\n",
    "import pystac\n",
    "\n",
    "from sac_stac.utils import pystac_setIO\n",
    "from sac_stac.pleiades import pleiades_create_collection\n",
    "from sac_stac.spot import spot_create_collection"
   ]
  },
  {
   "cell_type": "code",
   "execution_count": 14,
   "metadata": {},
   "outputs": [],
   "source": [
    "#export\n",
    "pystac_setIO()"
   ]
  },
  {
   "cell_type": "markdown",
   "metadata": {},
   "source": [
    "## **Build our collections**: ***Pleiades, SPOT, ...***"
   ]
  },
  {
   "cell_type": "code",
   "execution_count": 19,
   "metadata": {},
   "outputs": [],
   "source": [
    "pleiades_collection = pleiades_create_collection('uksa-ssgp/pleiades/')"
   ]
  },
  {
   "cell_type": "code",
   "execution_count": 20,
   "metadata": {},
   "outputs": [
    {
     "name": "stdout",
     "output_type": "stream",
     "text": [
      "* <Collection id=uksa-ssgp-pleiades>\n",
      "  * <Item id=Pleiades_UKSA173_SO18034614-73-01_DS_PHR1A_201809291110008_FR1_PX_W002N51_0417_007113614104101>\n",
      "  * <Item id=Pleiades_UKSA174_SO18034614-74-01_DS_PHR1A_201809291110083_FR1_PX_W002N51_0116_00596TPP1601069431>\n",
      "  * <Item id=Pleiades_UKSA204_SO18034615-4-01_DS_PHR1B_201802251121249_FR1_PX_W002N51_0314_010483613775101>\n",
      "  * <Item id=Pleiades_UKSA305_SO18034616-5-01_DS_PHR1B_201807241124303_FR1_PX_W002N51_0720_01561TPP1601069279>\n",
      "  * <Item id=Pleiades_UKSA341_SO18034616-41-01_DS_PHR1B_201809021117346_FR1_PX_W002N51_1008_03279TPP1601069492>\n",
      "  * <Item id=Pleiades_UKSA396_SO18034616-96-01_DS_PHR1B_201810241117221_FR1_PX_W002N51_0710_01712TPP1601069318>\n",
      "  * <Item id=Pleiades_UKSA7_SO18034613-7-01_DS_PHR1A_201802241127550_FR1_PX_W002N51_0711_024843613631101>\n",
      "  * <Item id=Pleiades_UKSA87_SO18034613-87-01_DS_PHR1A_201806291118170_FR1_PX_W002N51_1016_029773614015101>\n"
     ]
    }
   ],
   "source": [
    "pleiades_collection.describe()"
   ]
  },
  {
   "cell_type": "code",
   "execution_count": 21,
   "metadata": {},
   "outputs": [],
   "source": [
    "spot_collection = spot_create_collection('uksa-ssgp/spot/')"
   ]
  },
  {
   "cell_type": "code",
   "execution_count": 22,
   "metadata": {},
   "outputs": [
    {
     "name": "stdout",
     "output_type": "stream",
     "text": [
      "* <Collection id=uksa-ssgp-spot>\n",
      "  * <Item id=UKSA_SPOT155_SO18034609-55-01_DS_SPOT6_201810101058095_FR1_FR1_FR1_FR1_W001N52_01140>\n",
      "  * <Item id=UKSA_SPOT156_SO18034609-56-01_DS_SPOT6_201810101058206_FR1_FR1_FR1_FR1_W001N51_01140>\n",
      "  * <Item id=UKSA_SPOT161_SO18034609-61-01_DS_SPOT6_201810191039150_FR1_FR1_SV1_SV1_W002N51_01709>\n",
      "  * <Item id=UKSA_SPOT287_SO18034610-86-01_DS_SPOT7_201809241031594_FR1_FR1_FR1_FR1_W002N52_01222>\n",
      "  * <Item id=UKSA_SPOT288_SO18034610-87-01_DS_SPOT7_201809271058114_FR1_FR1_SV1_SV1_W001N52_02845>\n",
      "  * <Item id=UKSA_SPOT289_SO18034610-88-01_DS_SPOT7_201809271058350_FR1_FR1_SV1_SV1_W002N52_03251>\n",
      "  * <Item id=UKSA_SPOT290_SO18034610-89-01_DS_SPOT7_201809271059006_FR1_FR1_FR1_FR1_W002N52_03332>\n",
      "  * <Item id=UKSA_SPOT291_SO18034610-90-01_DS_SPOT7_201809271059251_FR1_FR1_SV1_SV1_W002N51_04469>\n"
     ]
    }
   ],
   "source": [
    "spot_collection.describe()"
   ]
  },
  {
   "cell_type": "markdown",
   "metadata": {},
   "source": [
    "## **Higher-level** ***Collections***: ***uksa-ssgp, ...***"
   ]
  },
  {
   "cell_type": "code",
   "execution_count": 154,
   "metadata": {},
   "outputs": [],
   "source": [
    "#export\n",
    "def ssgp_create_collection(child_collections):\n",
    "\n",
    "    collection_id = 'uksa-ssgp'\n",
    "    collection_title = 'SSGP-procured VHR Satellite Data over the UK'\n",
    "    collection_description = '''### UKSA / SSGP Satellite Data\n",
    "\n",
    "    A collection of Very High Resolution (VHR) optical and synthetic aperture radar (SAR) satellite datasets over the UK. Procured by UKSA under its Space for Smarter Government Programme (SSGP).\n",
    "    '''\n",
    "\n",
    "    # initially arbitrary as updated later\n",
    "    spatial_extent = pystac.SpatialExtent([[-7.57216793459, 49.959999905, 1.68153079591, 58.6350001085]])\n",
    "    temporal_extent = pystac.TemporalExtent([[datetime(2011, 12, 16), None]])\n",
    "    collection_extent = pystac.Extent(spatial_extent, temporal_extent)\n",
    "\n",
    "    collection = pystac.Collection(id=collection_id,\n",
    "                                   title=collection_title,\n",
    "                                   description=collection_description,\n",
    "                                   extent=collection_extent)\n",
    "\n",
    "    collection.providers = [\n",
    "        pystac.Provider(name='Airbus Defence & Space', roles=['producer'], url='https://www.airbus.com/space.html'),\n",
    "        pystac.Provider(name='UK Space Agency', roles=['licensor'], url='https://www.gov.uk/government/organisations/uk-space-agency'),\n",
    "        pystac.Provider(name='Satellite Applications Catapult', roles=['processor'], url='https://sa.catapult.org.uk/'),\n",
    "        pystac.Provider(name='Satellite Applications Catapult', roles=['host'], url='https://sa.catapult.org.uk/')\n",
    "    ]\n",
    "    \n",
    "    collection.add_children(child_collections)\n",
    "    \n",
    "    return collection"
   ]
  },
  {
   "cell_type": "code",
   "execution_count": 42,
   "metadata": {},
   "outputs": [],
   "source": [
    "ssgp_collection = ssgp_create_collection([pleiades_collection, \n",
    "                        spot_collection])"
   ]
  },
  {
   "cell_type": "code",
   "execution_count": 43,
   "metadata": {},
   "outputs": [
    {
     "name": "stdout",
     "output_type": "stream",
     "text": [
      "* <Collection id=uksa-ssgp>\n",
      "    * <Collection id=uksa-ssgp-pleiades>\n",
      "      * <Item id=Pleiades_UKSA173_SO18034614-73-01_DS_PHR1A_201809291110008_FR1_PX_W002N51_0417_007113614104101>\n",
      "      * <Item id=Pleiades_UKSA174_SO18034614-74-01_DS_PHR1A_201809291110083_FR1_PX_W002N51_0116_00596TPP1601069431>\n",
      "      * <Item id=Pleiades_UKSA204_SO18034615-4-01_DS_PHR1B_201802251121249_FR1_PX_W002N51_0314_010483613775101>\n",
      "      * <Item id=Pleiades_UKSA305_SO18034616-5-01_DS_PHR1B_201807241124303_FR1_PX_W002N51_0720_01561TPP1601069279>\n",
      "      * <Item id=Pleiades_UKSA341_SO18034616-41-01_DS_PHR1B_201809021117346_FR1_PX_W002N51_1008_03279TPP1601069492>\n",
      "      * <Item id=Pleiades_UKSA396_SO18034616-96-01_DS_PHR1B_201810241117221_FR1_PX_W002N51_0710_01712TPP1601069318>\n",
      "      * <Item id=Pleiades_UKSA7_SO18034613-7-01_DS_PHR1A_201802241127550_FR1_PX_W002N51_0711_024843613631101>\n",
      "      * <Item id=Pleiades_UKSA87_SO18034613-87-01_DS_PHR1A_201806291118170_FR1_PX_W002N51_1016_029773614015101>\n",
      "    * <Collection id=uksa-ssgp-spot>\n",
      "      * <Item id=UKSA_SPOT155_SO18034609-55-01_DS_SPOT6_201810101058095_FR1_FR1_FR1_FR1_W001N52_01140>\n",
      "      * <Item id=UKSA_SPOT156_SO18034609-56-01_DS_SPOT6_201810101058206_FR1_FR1_FR1_FR1_W001N51_01140>\n",
      "      * <Item id=UKSA_SPOT161_SO18034609-61-01_DS_SPOT6_201810191039150_FR1_FR1_SV1_SV1_W002N51_01709>\n",
      "      * <Item id=UKSA_SPOT287_SO18034610-86-01_DS_SPOT7_201809241031594_FR1_FR1_FR1_FR1_W002N52_01222>\n",
      "      * <Item id=UKSA_SPOT288_SO18034610-87-01_DS_SPOT7_201809271058114_FR1_FR1_SV1_SV1_W001N52_02845>\n",
      "      * <Item id=UKSA_SPOT289_SO18034610-88-01_DS_SPOT7_201809271058350_FR1_FR1_SV1_SV1_W002N52_03251>\n",
      "      * <Item id=UKSA_SPOT290_SO18034610-89-01_DS_SPOT7_201809271059006_FR1_FR1_FR1_FR1_W002N52_03332>\n",
      "      * <Item id=UKSA_SPOT291_SO18034610-90-01_DS_SPOT7_201809271059251_FR1_FR1_SV1_SV1_W002N51_04469>\n"
     ]
    }
   ],
   "source": [
    "ssgp_collection.describe()"
   ]
  },
  {
   "cell_type": "markdown",
   "metadata": {},
   "source": [
    "## **Overall** ***Catalog***: ***sac-stac***"
   ]
  },
  {
   "cell_type": "code",
   "execution_count": 155,
   "metadata": {},
   "outputs": [],
   "source": [
    "#export\n",
    "def sac_create_catalog(collections):\n",
    "\n",
    "    catalog_id = 'sac-stac'\n",
    "    catalog_title = 'Catapult-hosted Geospatial Datasets'\n",
    "    catalog_description = '''### Geospatial datasets hosted by the Satellite Applications Catapult (Catapult) \n",
    "\n",
    "    A catalog of optical and synthetic aperture radar (SAR) satellite datasets. Hosted by Catapult but often licensed by 3rd parties (i.e. UKSA/SSGP).\n",
    "    '''\n",
    "    catalog_extensions = ['eo', 'projection']\n",
    "\n",
    "    catalog = pystac.Catalog(id=catalog_id,\n",
    "                             title=catalog_title,\n",
    "                             description=catalog_description,\n",
    "                             stac_extensions=catalog_extensions)\n",
    "    \n",
    "    catalog.add_children([collections])\n",
    "\n",
    "    return catalog"
   ]
  },
  {
   "cell_type": "code",
   "execution_count": 135,
   "metadata": {},
   "outputs": [],
   "source": [
    "sac_catalog = sac_create_catalog(ssgp_collection)"
   ]
  },
  {
   "cell_type": "code",
   "execution_count": 127,
   "metadata": {},
   "outputs": [
    {
     "name": "stdout",
     "output_type": "stream",
     "text": [
      "* <Catalog id=sac-stac>\n",
      "    * <Collection id=uksa-ssgp>\n",
      "        * <Collection id=uksa-ssgp-pleiades>\n",
      "          * <Item id=Pleiades_UKSA173_SO18034614-73-01_DS_PHR1A_201809291110008_FR1_PX_W002N51_0417_007113614104101>\n",
      "          * <Item id=Pleiades_UKSA174_SO18034614-74-01_DS_PHR1A_201809291110083_FR1_PX_W002N51_0116_00596TPP1601069431>\n",
      "          * <Item id=Pleiades_UKSA204_SO18034615-4-01_DS_PHR1B_201802251121249_FR1_PX_W002N51_0314_010483613775101>\n",
      "          * <Item id=Pleiades_UKSA305_SO18034616-5-01_DS_PHR1B_201807241124303_FR1_PX_W002N51_0720_01561TPP1601069279>\n",
      "          * <Item id=Pleiades_UKSA341_SO18034616-41-01_DS_PHR1B_201809021117346_FR1_PX_W002N51_1008_03279TPP1601069492>\n",
      "          * <Item id=Pleiades_UKSA396_SO18034616-96-01_DS_PHR1B_201810241117221_FR1_PX_W002N51_0710_01712TPP1601069318>\n",
      "          * <Item id=Pleiades_UKSA7_SO18034613-7-01_DS_PHR1A_201802241127550_FR1_PX_W002N51_0711_024843613631101>\n",
      "          * <Item id=Pleiades_UKSA87_SO18034613-87-01_DS_PHR1A_201806291118170_FR1_PX_W002N51_1016_029773614015101>\n",
      "        * <Collection id=uksa-ssgp-spot>\n",
      "          * <Item id=UKSA_SPOT155_SO18034609-55-01_DS_SPOT6_201810101058095_FR1_FR1_FR1_FR1_W001N52_01140>\n",
      "          * <Item id=UKSA_SPOT156_SO18034609-56-01_DS_SPOT6_201810101058206_FR1_FR1_FR1_FR1_W001N51_01140>\n",
      "          * <Item id=UKSA_SPOT161_SO18034609-61-01_DS_SPOT6_201810191039150_FR1_FR1_SV1_SV1_W002N51_01709>\n",
      "          * <Item id=UKSA_SPOT287_SO18034610-86-01_DS_SPOT7_201809241031594_FR1_FR1_FR1_FR1_W002N52_01222>\n",
      "          * <Item id=UKSA_SPOT288_SO18034610-87-01_DS_SPOT7_201809271058114_FR1_FR1_SV1_SV1_W001N52_02845>\n",
      "          * <Item id=UKSA_SPOT289_SO18034610-88-01_DS_SPOT7_201809271058350_FR1_FR1_SV1_SV1_W002N52_03251>\n",
      "          * <Item id=UKSA_SPOT290_SO18034610-89-01_DS_SPOT7_201809271059006_FR1_FR1_FR1_FR1_W002N52_03332>\n",
      "          * <Item id=UKSA_SPOT291_SO18034610-90-01_DS_SPOT7_201809271059251_FR1_FR1_SV1_SV1_W002N51_04469>\n"
     ]
    }
   ],
   "source": [
    "sac_catalog.describe()"
   ]
  },
  {
   "cell_type": "code",
   "execution_count": 63,
   "metadata": {},
   "outputs": [],
   "source": [
    "root_path = \"/tmp/data/sac_stac/\""
   ]
  },
  {
   "cell_type": "code",
   "execution_count": 77,
   "metadata": {},
   "outputs": [
    {
     "data": {
      "text/plain": [
       "<Catalog id=sac-stac>"
      ]
     },
     "execution_count": 77,
     "metadata": {},
     "output_type": "execute_result"
    }
   ],
   "source": [
    "sac_catalog.normalize_hrefs(root_path)    "
   ]
  },
  {
   "cell_type": "code",
   "execution_count": 79,
   "metadata": {},
   "outputs": [
    {
     "data": {
      "text/plain": [
       "{'id': 'sac-stac',\n",
       " 'stac_version': '1.0.0-beta.2',\n",
       " 'description': '### Geospatial datasets hosted by the Satellite Applications Catapult (Catapult) \\n\\n    A catalog of optical and synthetic aperture radar (SAR) satellite datasets. Hosted by Catapult but often licensed by 3rd parties (i.e. UKSA/SSGP).\\n    ',\n",
       " 'links': [{'rel': 'root',\n",
       "   'href': './catalog.json',\n",
       "   'type': 'application/json'},\n",
       "  {'rel': 'child',\n",
       "   'href': './uksa-ssgp/collection.json',\n",
       "   'type': 'application/json'},\n",
       "  {'rel': 'self',\n",
       "   'href': '/tmp/data/sac_stac/catalog.json',\n",
       "   'type': 'application/json'}],\n",
       " 'stac_extensions': ['eo', 'projection'],\n",
       " 'title': 'Catapult-hosted Geospatial Datasets'}"
      ]
     },
     "execution_count": 79,
     "metadata": {},
     "output_type": "execute_result"
    }
   ],
   "source": [
    "sac_catalog.to_dict()"
   ]
  },
  {
   "cell_type": "code",
   "execution_count": 80,
   "metadata": {},
   "outputs": [],
   "source": [
    "sac_catalog.validate_all()"
   ]
  },
  {
   "cell_type": "code",
   "execution_count": 81,
   "metadata": {},
   "outputs": [],
   "source": [
    "sac_catalog.save(pystac.CatalogType.SELF_CONTAINED)"
   ]
  },
  {
   "cell_type": "code",
   "execution_count": 85,
   "metadata": {},
   "outputs": [],
   "source": [
    "from sac_stac.utils import s3_upload_dir"
   ]
  },
  {
   "cell_type": "code",
   "execution_count": 89,
   "metadata": {},
   "outputs": [],
   "source": [
    "s3_upload_dir(root_path, 'public-eo-data', 'stac_catalogs/')"
   ]
  },
  {
   "cell_type": "code",
   "execution_count": 136,
   "metadata": {},
   "outputs": [
    {
     "name": "stdout",
     "output_type": "stream",
     "text": [
      "* <Catalog id=sac-stac>\n",
      "    * <Collection id=uksa-ssgp>\n",
      "        * <Collection id=uksa-ssgp-pleiades>\n",
      "          * <Item id=Pleiades_UKSA173_SO18034614-73-01_DS_PHR1A_201809291110008_FR1_PX_W002N51_0417_007113614104101>\n",
      "          * <Item id=Pleiades_UKSA174_SO18034614-74-01_DS_PHR1A_201809291110083_FR1_PX_W002N51_0116_00596TPP1601069431>\n",
      "          * <Item id=Pleiades_UKSA204_SO18034615-4-01_DS_PHR1B_201802251121249_FR1_PX_W002N51_0314_010483613775101>\n",
      "          * <Item id=Pleiades_UKSA305_SO18034616-5-01_DS_PHR1B_201807241124303_FR1_PX_W002N51_0720_01561TPP1601069279>\n",
      "          * <Item id=Pleiades_UKSA341_SO18034616-41-01_DS_PHR1B_201809021117346_FR1_PX_W002N51_1008_03279TPP1601069492>\n",
      "          * <Item id=Pleiades_UKSA396_SO18034616-96-01_DS_PHR1B_201810241117221_FR1_PX_W002N51_0710_01712TPP1601069318>\n",
      "          * <Item id=Pleiades_UKSA7_SO18034613-7-01_DS_PHR1A_201802241127550_FR1_PX_W002N51_0711_024843613631101>\n",
      "          * <Item id=Pleiades_UKSA87_SO18034613-87-01_DS_PHR1A_201806291118170_FR1_PX_W002N51_1016_029773614015101>\n",
      "        * <Collection id=uksa-ssgp-spot>\n",
      "          * <Item id=UKSA_SPOT155_SO18034609-55-01_DS_SPOT6_201810101058095_FR1_FR1_FR1_FR1_W001N52_01140>\n",
      "          * <Item id=UKSA_SPOT156_SO18034609-56-01_DS_SPOT6_201810101058206_FR1_FR1_FR1_FR1_W001N51_01140>\n",
      "          * <Item id=UKSA_SPOT161_SO18034609-61-01_DS_SPOT6_201810191039150_FR1_FR1_SV1_SV1_W002N51_01709>\n",
      "          * <Item id=UKSA_SPOT287_SO18034610-86-01_DS_SPOT7_201809241031594_FR1_FR1_FR1_FR1_W002N52_01222>\n",
      "          * <Item id=UKSA_SPOT288_SO18034610-87-01_DS_SPOT7_201809271058114_FR1_FR1_SV1_SV1_W001N52_02845>\n",
      "          * <Item id=UKSA_SPOT289_SO18034610-88-01_DS_SPOT7_201809271058350_FR1_FR1_SV1_SV1_W002N52_03251>\n",
      "          * <Item id=UKSA_SPOT290_SO18034610-89-01_DS_SPOT7_201809271059006_FR1_FR1_FR1_FR1_W002N52_03332>\n",
      "          * <Item id=UKSA_SPOT291_SO18034610-90-01_DS_SPOT7_201809271059251_FR1_FR1_SV1_SV1_W002N51_04469>\n"
     ]
    }
   ],
   "source": [
    "sac_catalog.describe()"
   ]
  },
  {
   "cell_type": "code",
   "execution_count": 143,
   "metadata": {},
   "outputs": [],
   "source": [
    "uksa = next(sac_catalog.get_children())"
   ]
  },
  {
   "cell_type": "code",
   "execution_count": 145,
   "metadata": {},
   "outputs": [],
   "source": [
    "col = next(uksa.get_children())"
   ]
  },
  {
   "cell_type": "code",
   "execution_count": 153,
   "metadata": {},
   "outputs": [
    {
     "name": "stdout",
     "output_type": "stream",
     "text": [
      "* <Collection id=uksa-ssgp-pleiades>\n",
      "  * <Item id=Pleiades_UKSA173_SO18034614-73-01_DS_PHR1A_201809291110008_FR1_PX_W002N51_0417_007113614104101>\n",
      "  * <Item id=Pleiades_UKSA174_SO18034614-74-01_DS_PHR1A_201809291110083_FR1_PX_W002N51_0116_00596TPP1601069431>\n",
      "  * <Item id=Pleiades_UKSA204_SO18034615-4-01_DS_PHR1B_201802251121249_FR1_PX_W002N51_0314_010483613775101>\n",
      "  * <Item id=Pleiades_UKSA305_SO18034616-5-01_DS_PHR1B_201807241124303_FR1_PX_W002N51_0720_01561TPP1601069279>\n",
      "  * <Item id=Pleiades_UKSA341_SO18034616-41-01_DS_PHR1B_201809021117346_FR1_PX_W002N51_1008_03279TPP1601069492>\n",
      "  * <Item id=Pleiades_UKSA396_SO18034616-96-01_DS_PHR1B_201810241117221_FR1_PX_W002N51_0710_01712TPP1601069318>\n",
      "  * <Item id=Pleiades_UKSA7_SO18034613-7-01_DS_PHR1A_201802241127550_FR1_PX_W002N51_0711_024843613631101>\n",
      "  * <Item id=Pleiades_UKSA87_SO18034613-87-01_DS_PHR1A_201806291118170_FR1_PX_W002N51_1016_029773614015101>\n"
     ]
    }
   ],
   "source": [
    "col.describe()"
   ]
  },
  {
   "cell_type": "code",
   "execution_count": 152,
   "metadata": {},
   "outputs": [
    {
     "data": {
      "text/plain": [
       "{'type': 'Feature',\n",
       " 'stac_version': '1.0.0-beta.2',\n",
       " 'id': 'Pleiades_UKSA173_SO18034614-73-01_DS_PHR1A_201809291110008_FR1_PX_W002N51_0417_007113614104101',\n",
       " 'properties': {'gsd': 0.74,\n",
       "  'eo:cloud_cover': 0.0,\n",
       "  'proj:epsg': 27700,\n",
       "  'datetime': '2018-09-29T11:10:00Z'},\n",
       " 'geometry': {'type': 'Polygon',\n",
       "  'coordinates': [[[-1.7162111146081491, 51.703447752207374],\n",
       "    [-1.6539393674716631, 51.70305171212088],\n",
       "    [-1.5922000556276548, 51.7022918404328],\n",
       "    [-1.592478005824943, 51.66971308516982],\n",
       "    [-1.5923937686249074, 51.660564184797174],\n",
       "    [-1.5924483796708082, 51.65689143996495],\n",
       "    [-1.5923435803877832, 51.6484257860413],\n",
       "    [-1.5925225669770522, 51.629252456312805],\n",
       "    [-1.6313240498998447, 51.629686309100045],\n",
       "    [-1.6617769179346535, 51.62994873863878],\n",
       "    [-1.715447257136181, 51.63018534903567],\n",
       "    [-1.7483946591920845, 51.630161588463274],\n",
       "    [-1.7789150489058498, 51.63009707066823],\n",
       "    [-1.8369443638514822, 51.62966137158252],\n",
       "    [-1.8706869752457782, 51.629244747190995],\n",
       "    [-1.902984365251201, 51.62878127998801],\n",
       "    [-1.9031756192477154, 51.64416997236793],\n",
       "    [-1.9032281966762568, 51.65003679955556],\n",
       "    [-1.9031830688830722, 51.650868451669226],\n",
       "    [-1.9032398631646559, 51.65134952934474],\n",
       "    [-1.9032635080951406, 51.6606374853309],\n",
       "    [-1.903368845801305, 51.668909487362704],\n",
       "    [-1.9033307786452263, 51.669813072279545],\n",
       "    [-1.903389897227946, 51.672618376007144],\n",
       "    [-1.9033553365867595, 51.675275246793404],\n",
       "    [-1.9033978059631684, 51.67570685904059],\n",
       "    [-1.9034325966702832, 51.686577233067496],\n",
       "    [-1.9034135338037725, 51.70237469751975],\n",
       "    [-1.8756005685839259, 51.70273072943466],\n",
       "    [-1.841058256714323, 51.703111743030504],\n",
       "    [-1.8120077713741385, 51.703302690300696],\n",
       "    [-1.7785580302502193, 51.703473760830654],\n",
       "    [-1.7162111146081491, 51.703447752207374]]]},\n",
       " 'links': [{'rel': 'root',\n",
       "   'href': '../collection.json',\n",
       "   'type': 'application/json'},\n",
       "  {'rel': 'collection',\n",
       "   'href': '../collection.json',\n",
       "   'type': 'application/json'},\n",
       "  {'rel': 'self',\n",
       "   'href': '/tmp/data/sac_stac/uksa-ssgp/uksa-ssgp-pleiades/Pleiades_UKSA173_SO18034614-73-01_DS_PHR1A_201809291110008_FR1_PX_W002N51_0417_007113614104101/Pleiades_UKSA173_SO18034614-73-01_DS_PHR1A_201809291110008_FR1_PX_W002N51_0417_007113614104101.json',\n",
       "   'type': 'application/json'},\n",
       "  {'rel': 'parent', 'href': '../collection.json', 'type': 'application/json'}],\n",
       " 'assets': {'B0': {'href': 'http://s3-uk-1.sa-catapult.co.uk/public-eo-data/uksa-ssgp/pleiades/Pleiades_UKSA173_SO18034614-73-01_DS_PHR1A_201809291110008_FR1_PX_W002N51_0417_007113614104101/IMG_PHR1A_P_001/IMG_PHR1A_P_201809291110008_ORT_36141041_band1.tif',\n",
       "   'type': 'image/tiff; application=geotiff; profile=cloud-optimized',\n",
       "   'eo:bands': [{'name': 'Panchromatic',\n",
       "     'common_name': 'pan',\n",
       "     'description': 'Panchromatic: 480 - 830 nm'}]},\n",
       "  'B1': {'href': 'http://s3-uk-1.sa-catapult.co.uk/public-eo-data/uksa-ssgp/pleiades/Pleiades_UKSA173_SO18034614-73-01_DS_PHR1A_201809291110008_FR1_PX_W002N51_0417_007113614104101/IMG_PHR1A_MS_002/IMG_PHR1A_MS_201809291110008_ORT_36141041_band1.tif',\n",
       "   'type': 'image/tiff; application=geotiff; profile=cloud-optimized',\n",
       "   'eo:bands': [{'name': 'Blue',\n",
       "     'common_name': 'blue',\n",
       "     'description': 'Blue: 430 - 550 nm'}]},\n",
       "  'B2': {'href': 'http://s3-uk-1.sa-catapult.co.uk/public-eo-data/uksa-ssgp/pleiades/Pleiades_UKSA173_SO18034614-73-01_DS_PHR1A_201809291110008_FR1_PX_W002N51_0417_007113614104101/IMG_PHR1A_MS_002/IMG_PHR1A_MS_201809291110008_ORT_36141041_band2.tif',\n",
       "   'type': 'image/tiff; application=geotiff; profile=cloud-optimized',\n",
       "   'eo:bands': [{'name': 'Green',\n",
       "     'common_name': 'green',\n",
       "     'description': 'Green: 490 - 610 nm'}]},\n",
       "  'B3': {'href': 'http://s3-uk-1.sa-catapult.co.uk/public-eo-data/uksa-ssgp/pleiades/Pleiades_UKSA173_SO18034614-73-01_DS_PHR1A_201809291110008_FR1_PX_W002N51_0417_007113614104101/IMG_PHR1A_MS_002/IMG_PHR1A_MS_201809291110008_ORT_36141041_band3.tif',\n",
       "   'type': 'image/tiff; application=geotiff; profile=cloud-optimized',\n",
       "   'eo:bands': [{'name': 'Red',\n",
       "     'common_name': 'red',\n",
       "     'description': 'Red: 600 - 720 nm'}]},\n",
       "  'B4': {'href': 'http://s3-uk-1.sa-catapult.co.uk/public-eo-data/uksa-ssgp/pleiades/Pleiades_UKSA173_SO18034614-73-01_DS_PHR1A_201809291110008_FR1_PX_W002N51_0417_007113614104101/IMG_PHR1A_MS_002/IMG_PHR1A_MS_201809291110008_ORT_36141041_band4.tif',\n",
       "   'type': 'image/tiff; application=geotiff; profile=cloud-optimized',\n",
       "   'eo:bands': [{'name': 'Near-Infrared',\n",
       "     'common_name': 'nir',\n",
       "     'description': 'Near-Infrared: 750 - 950 nm'}]}},\n",
       " 'bbox': [-1.903199885312827,\n",
       "  51.62869184186537,\n",
       "  -1.592242985175717,\n",
       "  51.70382196570706],\n",
       " 'stac_extensions': ['eo', 'projection'],\n",
       " 'collection': 'uksa-ssgp-pleiades'}"
      ]
     },
     "execution_count": 152,
     "metadata": {},
     "output_type": "execute_result"
    }
   ],
   "source": [
    "next(col.get_items()).to_dict()"
   ]
  },
  {
   "cell_type": "code",
   "execution_count": null,
   "metadata": {},
   "outputs": [],
   "source": []
  }
 ],
 "metadata": {
  "kernelspec": {
   "display_name": "Python 3",
   "language": "python",
   "name": "python3"
  },
  "language_info": {
   "codemirror_mode": {
    "name": "ipython",
    "version": 3
   },
   "file_extension": ".py",
   "mimetype": "text/x-python",
   "name": "python",
   "nbconvert_exporter": "python",
   "pygments_lexer": "ipython3",
   "version": "3.7.9"
  }
 },
 "nbformat": 4,
 "nbformat_minor": 4
}
