{
 "cells": [
  {
   "cell_type": "code",
   "execution_count": null,
   "metadata": {},
   "outputs": [],
   "source": [
    "#default_exp pleiades"
   ]
  },
  {
   "cell_type": "markdown",
   "metadata": {},
   "source": [
    "# Pleiades Example\n",
    "\n",
    "> Working through conversion to cogs, upload to object storage, stack item metadata parsing, etc. for pleiades datasets"
   ]
  },
  {
   "cell_type": "code",
   "execution_count": null,
   "metadata": {},
   "outputs": [],
   "source": [
    "#hide\n",
    "%load_ext autoreload\n",
    "%autoreload 2"
   ]
  },
  {
   "cell_type": "code",
   "execution_count": null,
   "metadata": {},
   "outputs": [],
   "source": [
    "#hide\n",
    "from nbdev.showdoc import *"
   ]
  },
  {
   "cell_type": "code",
   "execution_count": null,
   "metadata": {},
   "outputs": [],
   "source": [
    "#export\n",
    "import os\n",
    "from glob import glob\n",
    "import time\n",
    "import numpy as np\n",
    "from datetime import datetime\n",
    "import json\n",
    "\n",
    "import xmltodict\n",
    "import pystac\n",
    "from pystac import STAC_IO\n",
    "from pystac.extensions.eo import Band\n",
    "import geopandas as gpd\n",
    "\n",
    "from sac_stac.utils import sedas_find_datasets, sedas_download, sedas_extract\n",
    "from sac_stac.utils import cogmosaicbands\n",
    "from sac_stac.utils import s3_upload_dir, s3_list_objects_paths, clean_up\n",
    "from sac_stac.utils import pystac_setIO, create_uri"
   ]
  },
  {
   "cell_type": "code",
   "execution_count": null,
   "metadata": {},
   "outputs": [],
   "source": [
    "import pandas as pd"
   ]
  },
  {
   "cell_type": "markdown",
   "metadata": {},
   "source": [
    "## Find some useful samples"
   ]
  },
  {
   "cell_type": "markdown",
   "metadata": {},
   "source": [
    "Probably best if we find some samples to work through the process."
   ]
  },
  {
   "cell_type": "code",
   "execution_count": null,
   "metadata": {},
   "outputs": [
    {
     "data": {
      "text/html": [
       "<div>\n",
       "<style scoped>\n",
       "    .dataframe tbody tr th:only-of-type {\n",
       "        vertical-align: middle;\n",
       "    }\n",
       "\n",
       "    .dataframe tbody tr th {\n",
       "        vertical-align: top;\n",
       "    }\n",
       "\n",
       "    .dataframe thead th {\n",
       "        text-align: right;\n",
       "    }\n",
       "</style>\n",
       "<table border=\"1\" class=\"dataframe\">\n",
       "  <thead>\n",
       "    <tr style=\"text-align: right;\">\n",
       "      <th></th>\n",
       "      <th>productId</th>\n",
       "      <th>supplierId</th>\n",
       "      <th>type</th>\n",
       "      <th>satelliteName</th>\n",
       "      <th>instrumentName</th>\n",
       "      <th>modeName</th>\n",
       "      <th>sensorType</th>\n",
       "      <th>sensorResolution</th>\n",
       "      <th>coordinatesWKT</th>\n",
       "      <th>start</th>\n",
       "      <th>...</th>\n",
       "      <th>area</th>\n",
       "      <th>aoiCoveragePercent</th>\n",
       "      <th>usefulAreaPercent</th>\n",
       "      <th>cloudCoveragePercent</th>\n",
       "      <th>productType</th>\n",
       "      <th>latency</th>\n",
       "      <th>ql</th>\n",
       "      <th>thumbnail</th>\n",
       "      <th>vendorSpecific</th>\n",
       "      <th>downloadUrl</th>\n",
       "    </tr>\n",
       "  </thead>\n",
       "  <tbody>\n",
       "    <tr>\n",
       "      <th>0</th>\n",
       "      <td>c0ec9a5f12356e87bc910ddbc49dbb76</td>\n",
       "      <td>Pleiades_UKSA396_SO18034616-96-01_DS_PHR1B_201...</td>\n",
       "      <td>ARCHIVE</td>\n",
       "      <td>Pleiades-1B</td>\n",
       "      <td>MS/PAN</td>\n",
       "      <td>0.000</td>\n",
       "      <td>Optical</td>\n",
       "      <td>2.0</td>\n",
       "      <td>POLYGON((-1.654728 51.309517,-1.345414 51.3081...</td>\n",
       "      <td>2018-10-24T11:17:22Z</td>\n",
       "      <td>...</td>\n",
       "      <td>4.825125e+08</td>\n",
       "      <td>1.0</td>\n",
       "      <td>5.0</td>\n",
       "      <td>0.0</td>\n",
       "      <td>L3</td>\n",
       "      <td>Standard</td>\n",
       "      <td>https://geobrowser.satapps.org/archiveql/aeweb...</td>\n",
       "      <td>https://sedasdm.satapps.org/qls/qlmgr.php?scen...</td>\n",
       "      <td>{'property': 'vendorSpecific', 'Filehash': 'cf...</td>\n",
       "      <td>https://sedasdm.satapps.org/datamgr/datamgr.ph...</td>\n",
       "    </tr>\n",
       "    <tr>\n",
       "      <th>1</th>\n",
       "      <td>94cc7887414be0912de7ca44288f79da</td>\n",
       "      <td>Pleiades_UKSA174_SO18034614-74-01_DS_PHR1A_201...</td>\n",
       "      <td>ARCHIVE</td>\n",
       "      <td>Pleiades-1A</td>\n",
       "      <td>MS/PAN</td>\n",
       "      <td>0.000</td>\n",
       "      <td>Optical</td>\n",
       "      <td>2.0</td>\n",
       "      <td>POLYGON((-2.153852 51.603313,-1.841533 51.6033...</td>\n",
       "      <td>2018-09-29T11:10:08Z</td>\n",
       "      <td>...</td>\n",
       "      <td>1.565260e+08</td>\n",
       "      <td>2.0</td>\n",
       "      <td>22.0</td>\n",
       "      <td>0.0</td>\n",
       "      <td>L3</td>\n",
       "      <td>Standard</td>\n",
       "      <td>https://geobrowser.satapps.org/archiveql/aeweb...</td>\n",
       "      <td>https://sedasdm.satapps.org/qls/qlmgr.php?scen...</td>\n",
       "      <td>{'property': 'vendorSpecific', 'Filehash': '4b...</td>\n",
       "      <td>https://sedasdm.satapps.org/datamgr/datamgr.ph...</td>\n",
       "    </tr>\n",
       "    <tr>\n",
       "      <th>2</th>\n",
       "      <td>6ac7da92a92161839c0bf29ab1b878d3</td>\n",
       "      <td>Pleiades_UKSA173_SO18034614-73-01_DS_PHR1A_201...</td>\n",
       "      <td>ARCHIVE</td>\n",
       "      <td>Pleiades-1A</td>\n",
       "      <td>MS/PAN</td>\n",
       "      <td>0.000</td>\n",
       "      <td>Optical</td>\n",
       "      <td>2.0</td>\n",
       "      <td>POLYGON((-1.903588 51.628784,-1.592515 51.6281...</td>\n",
       "      <td>2018-09-29T11:10:00Z</td>\n",
       "      <td>...</td>\n",
       "      <td>1.796598e+08</td>\n",
       "      <td>10.0</td>\n",
       "      <td>100.0</td>\n",
       "      <td>0.0</td>\n",
       "      <td>L3</td>\n",
       "      <td>Standard</td>\n",
       "      <td>https://geobrowser.satapps.org/archiveql/aeweb...</td>\n",
       "      <td>https://sedasdm.satapps.org/qls/qlmgr.php?scen...</td>\n",
       "      <td>{'property': 'vendorSpecific', 'Filehash': 'e6...</td>\n",
       "      <td>https://sedasdm.satapps.org/datamgr/datamgr.ph...</td>\n",
       "    </tr>\n",
       "    <tr>\n",
       "      <th>3</th>\n",
       "      <td>dd08a178209ed51cc57f5caef1e1ad7c</td>\n",
       "      <td>Pleiades_UKSA341_SO18034616-41-01_DS_PHR1B_201...</td>\n",
       "      <td>ARCHIVE</td>\n",
       "      <td>Pleiades-1B</td>\n",
       "      <td>MS/PAN</td>\n",
       "      <td>0.000</td>\n",
       "      <td>Optical</td>\n",
       "      <td>2.0</td>\n",
       "      <td>POLYGON((-1.401923 51.155725,-1.101068 51.1538...</td>\n",
       "      <td>2018-09-02T11:17:34Z</td>\n",
       "      <td>...</td>\n",
       "      <td>8.211908e+08</td>\n",
       "      <td>1.0</td>\n",
       "      <td>1.0</td>\n",
       "      <td>0.0</td>\n",
       "      <td>L3</td>\n",
       "      <td>Standard</td>\n",
       "      <td>https://geobrowser.satapps.org/archiveql/aeweb...</td>\n",
       "      <td>https://sedasdm.satapps.org/qls/qlmgr.php?scen...</td>\n",
       "      <td>{'property': 'vendorSpecific', 'Filehash': 'a5...</td>\n",
       "      <td>https://sedasdm.satapps.org/datamgr/datamgr.ph...</td>\n",
       "    </tr>\n",
       "    <tr>\n",
       "      <th>4</th>\n",
       "      <td>97528406bc14d1c94ef22d20b4b26c7a</td>\n",
       "      <td>Pleiades_UKSA305_SO18034616-5-01_DS_PHR1B_2018...</td>\n",
       "      <td>ARCHIVE</td>\n",
       "      <td>Pleiades-1B</td>\n",
       "      <td>MS/PAN</td>\n",
       "      <td>0.000</td>\n",
       "      <td>Optical</td>\n",
       "      <td>2.0</td>\n",
       "      <td>POLYGON((-1.576165 51.728406,-1.265721 51.7268...</td>\n",
       "      <td>2018-07-24T11:24:30Z</td>\n",
       "      <td>...</td>\n",
       "      <td>4.256422e+08</td>\n",
       "      <td>11.0</td>\n",
       "      <td>46.0</td>\n",
       "      <td>1.0</td>\n",
       "      <td>L3</td>\n",
       "      <td>Standard</td>\n",
       "      <td>https://geobrowser.satapps.org/archiveql/aeweb...</td>\n",
       "      <td>https://sedasdm.satapps.org/qls/qlmgr.php?scen...</td>\n",
       "      <td>{'property': 'vendorSpecific', 'Filehash': '77...</td>\n",
       "      <td>https://sedasdm.satapps.org/datamgr/datamgr.ph...</td>\n",
       "    </tr>\n",
       "    <tr>\n",
       "      <th>5</th>\n",
       "      <td>3e8d4c9096b3ba5c7126499e442424f5</td>\n",
       "      <td>Pleiades_UKSA87_SO18034613-87-01_DS_PHR1A_2018...</td>\n",
       "      <td>ARCHIVE</td>\n",
       "      <td>Pleiades-1A</td>\n",
       "      <td>MS/PAN</td>\n",
       "      <td>0.000</td>\n",
       "      <td>Optical</td>\n",
       "      <td>2.0</td>\n",
       "      <td>POLYGON((-1.413484 51.469752,-1.089638 51.4676...</td>\n",
       "      <td>2018-06-29T11:18:17Z</td>\n",
       "      <td>...</td>\n",
       "      <td>9.264473e+08</td>\n",
       "      <td>34.0</td>\n",
       "      <td>67.0</td>\n",
       "      <td>0.0</td>\n",
       "      <td>L3</td>\n",
       "      <td>Standard</td>\n",
       "      <td>https://geobrowser.satapps.org/archiveql/aeweb...</td>\n",
       "      <td>https://sedasdm.satapps.org/qls/qlmgr.php?scen...</td>\n",
       "      <td>{'property': 'vendorSpecific', 'Filehash': '7f...</td>\n",
       "      <td>https://sedasdm.satapps.org/datamgr/datamgr.ph...</td>\n",
       "    </tr>\n",
       "    <tr>\n",
       "      <th>6</th>\n",
       "      <td>b5ff24c70eba28f3ec7292c356fb27b0</td>\n",
       "      <td>Pleiades_UKSA204_SO18034615-4-01_DS_PHR1B_2018...</td>\n",
       "      <td>ARCHIVE</td>\n",
       "      <td>Pleiades-1B</td>\n",
       "      <td>MS/PAN</td>\n",
       "      <td>0.000</td>\n",
       "      <td>Optical</td>\n",
       "      <td>2.0</td>\n",
       "      <td>POLYGON((-1.928964 51.516819,-1.63821 51.51628...</td>\n",
       "      <td>2018-02-25T11:21:25Z</td>\n",
       "      <td>...</td>\n",
       "      <td>2.385591e+08</td>\n",
       "      <td>12.0</td>\n",
       "      <td>94.0</td>\n",
       "      <td>0.0</td>\n",
       "      <td>L3</td>\n",
       "      <td>Standard</td>\n",
       "      <td>https://geobrowser.satapps.org/archiveql/aeweb...</td>\n",
       "      <td>https://sedasdm.satapps.org/qls/qlmgr.php?scen...</td>\n",
       "      <td>{'property': 'vendorSpecific', 'Filehash': '4b...</td>\n",
       "      <td>https://sedasdm.satapps.org/datamgr/datamgr.ph...</td>\n",
       "    </tr>\n",
       "    <tr>\n",
       "      <th>7</th>\n",
       "      <td>92fe8121944a5267861d31597afb016a</td>\n",
       "      <td>Pleiades_UKSA7_SO18034613-7-01_DS_PHR1A_201802...</td>\n",
       "      <td>ARCHIVE</td>\n",
       "      <td>Pleiades-1A</td>\n",
       "      <td>MS/PAN</td>\n",
       "      <td>0.000</td>\n",
       "      <td>Optical</td>\n",
       "      <td>2.0</td>\n",
       "      <td>POLYGON((-1.606218 51.306711,-1.294645 51.3052...</td>\n",
       "      <td>2018-02-24T11:27:55Z</td>\n",
       "      <td>...</td>\n",
       "      <td>6.639221e+08</td>\n",
       "      <td>11.0</td>\n",
       "      <td>29.0</td>\n",
       "      <td>0.0</td>\n",
       "      <td>L3</td>\n",
       "      <td>Standard</td>\n",
       "      <td>https://geobrowser.satapps.org/archiveql/aeweb...</td>\n",
       "      <td>https://sedasdm.satapps.org/qls/qlmgr.php?scen...</td>\n",
       "      <td>{'property': 'vendorSpecific', 'Filehash': 'ef...</td>\n",
       "      <td>https://sedasdm.satapps.org/datamgr/datamgr.ph...</td>\n",
       "    </tr>\n",
       "  </tbody>\n",
       "</table>\n",
       "<p>8 rows × 22 columns</p>\n",
       "</div>"
      ],
      "text/plain": [
       "                          productId  \\\n",
       "0  c0ec9a5f12356e87bc910ddbc49dbb76   \n",
       "1  94cc7887414be0912de7ca44288f79da   \n",
       "2  6ac7da92a92161839c0bf29ab1b878d3   \n",
       "3  dd08a178209ed51cc57f5caef1e1ad7c   \n",
       "4  97528406bc14d1c94ef22d20b4b26c7a   \n",
       "5  3e8d4c9096b3ba5c7126499e442424f5   \n",
       "6  b5ff24c70eba28f3ec7292c356fb27b0   \n",
       "7  92fe8121944a5267861d31597afb016a   \n",
       "\n",
       "                                          supplierId     type satelliteName  \\\n",
       "0  Pleiades_UKSA396_SO18034616-96-01_DS_PHR1B_201...  ARCHIVE   Pleiades-1B   \n",
       "1  Pleiades_UKSA174_SO18034614-74-01_DS_PHR1A_201...  ARCHIVE   Pleiades-1A   \n",
       "2  Pleiades_UKSA173_SO18034614-73-01_DS_PHR1A_201...  ARCHIVE   Pleiades-1A   \n",
       "3  Pleiades_UKSA341_SO18034616-41-01_DS_PHR1B_201...  ARCHIVE   Pleiades-1B   \n",
       "4  Pleiades_UKSA305_SO18034616-5-01_DS_PHR1B_2018...  ARCHIVE   Pleiades-1B   \n",
       "5  Pleiades_UKSA87_SO18034613-87-01_DS_PHR1A_2018...  ARCHIVE   Pleiades-1A   \n",
       "6  Pleiades_UKSA204_SO18034615-4-01_DS_PHR1B_2018...  ARCHIVE   Pleiades-1B   \n",
       "7  Pleiades_UKSA7_SO18034613-7-01_DS_PHR1A_201802...  ARCHIVE   Pleiades-1A   \n",
       "\n",
       "  instrumentName modeName sensorType  sensorResolution  \\\n",
       "0         MS/PAN    0.000    Optical               2.0   \n",
       "1         MS/PAN    0.000    Optical               2.0   \n",
       "2         MS/PAN    0.000    Optical               2.0   \n",
       "3         MS/PAN    0.000    Optical               2.0   \n",
       "4         MS/PAN    0.000    Optical               2.0   \n",
       "5         MS/PAN    0.000    Optical               2.0   \n",
       "6         MS/PAN    0.000    Optical               2.0   \n",
       "7         MS/PAN    0.000    Optical               2.0   \n",
       "\n",
       "                                      coordinatesWKT                 start  \\\n",
       "0  POLYGON((-1.654728 51.309517,-1.345414 51.3081...  2018-10-24T11:17:22Z   \n",
       "1  POLYGON((-2.153852 51.603313,-1.841533 51.6033...  2018-09-29T11:10:08Z   \n",
       "2  POLYGON((-1.903588 51.628784,-1.592515 51.6281...  2018-09-29T11:10:00Z   \n",
       "3  POLYGON((-1.401923 51.155725,-1.101068 51.1538...  2018-09-02T11:17:34Z   \n",
       "4  POLYGON((-1.576165 51.728406,-1.265721 51.7268...  2018-07-24T11:24:30Z   \n",
       "5  POLYGON((-1.413484 51.469752,-1.089638 51.4676...  2018-06-29T11:18:17Z   \n",
       "6  POLYGON((-1.928964 51.516819,-1.63821 51.51628...  2018-02-25T11:21:25Z   \n",
       "7  POLYGON((-1.606218 51.306711,-1.294645 51.3052...  2018-02-24T11:27:55Z   \n",
       "\n",
       "   ...          area aoiCoveragePercent  usefulAreaPercent  \\\n",
       "0  ...  4.825125e+08                1.0                5.0   \n",
       "1  ...  1.565260e+08                2.0               22.0   \n",
       "2  ...  1.796598e+08               10.0              100.0   \n",
       "3  ...  8.211908e+08                1.0                1.0   \n",
       "4  ...  4.256422e+08               11.0               46.0   \n",
       "5  ...  9.264473e+08               34.0               67.0   \n",
       "6  ...  2.385591e+08               12.0               94.0   \n",
       "7  ...  6.639221e+08               11.0               29.0   \n",
       "\n",
       "   cloudCoveragePercent  productType   latency  \\\n",
       "0                   0.0           L3  Standard   \n",
       "1                   0.0           L3  Standard   \n",
       "2                   0.0           L3  Standard   \n",
       "3                   0.0           L3  Standard   \n",
       "4                   1.0           L3  Standard   \n",
       "5                   0.0           L3  Standard   \n",
       "6                   0.0           L3  Standard   \n",
       "7                   0.0           L3  Standard   \n",
       "\n",
       "                                                  ql  \\\n",
       "0  https://geobrowser.satapps.org/archiveql/aeweb...   \n",
       "1  https://geobrowser.satapps.org/archiveql/aeweb...   \n",
       "2  https://geobrowser.satapps.org/archiveql/aeweb...   \n",
       "3  https://geobrowser.satapps.org/archiveql/aeweb...   \n",
       "4  https://geobrowser.satapps.org/archiveql/aeweb...   \n",
       "5  https://geobrowser.satapps.org/archiveql/aeweb...   \n",
       "6  https://geobrowser.satapps.org/archiveql/aeweb...   \n",
       "7  https://geobrowser.satapps.org/archiveql/aeweb...   \n",
       "\n",
       "                                           thumbnail  \\\n",
       "0  https://sedasdm.satapps.org/qls/qlmgr.php?scen...   \n",
       "1  https://sedasdm.satapps.org/qls/qlmgr.php?scen...   \n",
       "2  https://sedasdm.satapps.org/qls/qlmgr.php?scen...   \n",
       "3  https://sedasdm.satapps.org/qls/qlmgr.php?scen...   \n",
       "4  https://sedasdm.satapps.org/qls/qlmgr.php?scen...   \n",
       "5  https://sedasdm.satapps.org/qls/qlmgr.php?scen...   \n",
       "6  https://sedasdm.satapps.org/qls/qlmgr.php?scen...   \n",
       "7  https://sedasdm.satapps.org/qls/qlmgr.php?scen...   \n",
       "\n",
       "                                      vendorSpecific  \\\n",
       "0  {'property': 'vendorSpecific', 'Filehash': 'cf...   \n",
       "1  {'property': 'vendorSpecific', 'Filehash': '4b...   \n",
       "2  {'property': 'vendorSpecific', 'Filehash': 'e6...   \n",
       "3  {'property': 'vendorSpecific', 'Filehash': 'a5...   \n",
       "4  {'property': 'vendorSpecific', 'Filehash': '77...   \n",
       "5  {'property': 'vendorSpecific', 'Filehash': '7f...   \n",
       "6  {'property': 'vendorSpecific', 'Filehash': '4b...   \n",
       "7  {'property': 'vendorSpecific', 'Filehash': 'ef...   \n",
       "\n",
       "                                         downloadUrl  \n",
       "0  https://sedasdm.satapps.org/datamgr/datamgr.ph...  \n",
       "1  https://sedasdm.satapps.org/datamgr/datamgr.ph...  \n",
       "2  https://sedasdm.satapps.org/datamgr/datamgr.ph...  \n",
       "3  https://sedasdm.satapps.org/datamgr/datamgr.ph...  \n",
       "4  https://sedasdm.satapps.org/datamgr/datamgr.ph...  \n",
       "5  https://sedasdm.satapps.org/datamgr/datamgr.ph...  \n",
       "6  https://sedasdm.satapps.org/datamgr/datamgr.ph...  \n",
       "7  https://sedasdm.satapps.org/datamgr/datamgr.ph...  \n",
       "\n",
       "[8 rows x 22 columns]"
      ]
     },
     "execution_count": null,
     "metadata": {},
     "output_type": "execute_result"
    }
   ],
   "source": [
    "result = sedas_find_datasets(\"POLYGON((-1.91 51.81,-1.15 51.81,-1.15 51.50,-1.91 51.50,-1.91 51.81))\", \n",
    "                             \"2000-01-01T00:00:00Z\", \n",
    "                             \"2020-10-27T00:00:00Z\",\n",
    "                             \"Pleiades\"\n",
    "                            )\n",
    "pd.DataFrame(result['products'])"
   ]
  },
  {
   "cell_type": "markdown",
   "metadata": {},
   "source": [
    "## Download, cloud-optimise, upload"
   ]
  },
  {
   "cell_type": "markdown",
   "metadata": {},
   "source": [
    "Once downloaded, we can now use some basic gdal tools to mosaic any tiles into single images, convert to cog and upload to our object storage."
   ]
  },
  {
   "cell_type": "code",
   "execution_count": null,
   "metadata": {},
   "outputs": [],
   "source": [
    "#export\n",
    "def prep_pleiades(inter_dir, sedas_scene_res, s3_bucket, s3_dir):\n",
    "    try:\n",
    "        wd = inter_dir\n",
    "        scene_name = sedas_scene_res['supplierId']\n",
    "        down_zip = f\"{wd}{scene_name}.zip\"\n",
    "        scene_dir = f\"{down_zip[:-4]}/\"\n",
    "        print(f\"{time.strftime('%Y-%m-%d %H:%M:%S')} Preparing {scene_name} within {inter_dir}\")\n",
    "        # download\n",
    "        sedas_download([sedas_scene_res], wd)\n",
    "        sedas_extract(down_zip, scene_dir)\n",
    "        # sensor-specific band mosaicing and cogifying\n",
    "        imgs_ms = glob(f\"{scene_dir}*/*MS_002*/*.TIF\")\n",
    "        imgs_pan = glob(f\"{scene_dir}*/*P_001*/*.TIF\")\n",
    "        cogmosaicbands(imgs_pan, 1, imgs_pan[0][:-13])\n",
    "        cogmosaicbands(imgs_ms, 4, imgs_ms[0][:-13])\n",
    "        # upload\n",
    "        s3_upload_dir(scene_dir, s3_bucket, s3_dir)\n",
    "        print(f\"{time.strftime('%Y-%m-%d %H:%M:%S')} Prepared {scene_name} at {s3_dir}{scene_name}/\")\n",
    "        clean_up(inter_dir)\n",
    "    except Exception as e:\n",
    "        print(f\"{time.strftime('%Y-%m-%d %H:%M:%S')} Failed with {e}\")    \n",
    "        clean_up(inter_dir)"
   ]
  },
  {
   "cell_type": "code",
   "execution_count": null,
   "metadata": {},
   "outputs": [
    {
     "name": "stdout",
     "output_type": "stream",
     "text": [
      "2020-11-07 15:32:39 Preparing Pleiades_UKSA396_SO18034616-96-01_DS_PHR1B_201810241117221_FR1_PX_W002N51_0710_01712 within /tmp/data/\n",
      "2020-11-07 15:32:40 Downloading\n",
      "2020-11-07 15:54:21 Downloaded\n",
      "2020-11-07 15:54:21 Extracting /tmp/data/Pleiades_UKSA396_SO18034616-96-01_DS_PHR1B_201810241117221_FR1_PX_W002N51_0710_01712.zip\n",
      "2020-11-07 15:58:12 Extracted to /tmp/data/Pleiades_UKSA396_SO18034616-96-01_DS_PHR1B_201810241117221_FR1_PX_W002N51_0710_01712/\n",
      "2020-11-07 15:58:12 Mosaicing band 1 imgs: /tmp/data/Pleiades_UKSA396_SO18034616-96-01_DS_PHR1B_201810241117221_FR1_PX_W002N51_0710_01712/TPP1601069318/IMG_PHR1B_P_001/IMG_PHR1B_P_201810241117221_ORT_3614233101-001_R1C1.TIF\n",
      "2020-11-07 15:58:12 Mosaicd /tmp/data/Pleiades_UKSA396_SO18034616-96-01_DS_PHR1B_201810241117221_FR1_PX_W002N51_0710_01712/TPP1601069318/IMG_PHR1B_P_001/IMG_PHR1B_P_201810241117221_ORT_3614233101_band1_mosaic.tif\n",
      "2020-11-07 15:58:12 Starting conversion: <osgeo.gdal.Dataset; proxy of <Swig Object of type 'GDALDatasetShadow *' at 0x7fa3b0bca2a0> >.\n",
      "2020-11-07 15:59:43 Conversion complete: True.\n",
      "2020-11-07 15:59:43 Starting conversion: /tmp/data/Pleiades_UKSA396_SO18034616-96-01_DS_PHR1B_201810241117221_FR1_PX_W002N51_0710_01712/TPP1601069318/IMG_PHR1B_MS_002/IMG_PHR1B_MS_201810241117221_ORT_3614233101-002_R1C1.TIF.\n",
      "2020-11-07 15:59:51 Conversion complete: True.\n",
      "2020-11-07 15:59:51 Starting conversion: /tmp/data/Pleiades_UKSA396_SO18034616-96-01_DS_PHR1B_201810241117221_FR1_PX_W002N51_0710_01712/TPP1601069318/IMG_PHR1B_MS_002/IMG_PHR1B_MS_201810241117221_ORT_3614233101-002_R1C1.TIF.\n",
      "2020-11-07 16:00:02 Conversion complete: True.\n",
      "2020-11-07 16:00:02 Starting conversion: /tmp/data/Pleiades_UKSA396_SO18034616-96-01_DS_PHR1B_201810241117221_FR1_PX_W002N51_0710_01712/TPP1601069318/IMG_PHR1B_MS_002/IMG_PHR1B_MS_201810241117221_ORT_3614233101-002_R1C1.TIF.\n",
      "2020-11-07 16:00:11 Conversion complete: True.\n",
      "2020-11-07 16:00:11 Starting conversion: /tmp/data/Pleiades_UKSA396_SO18034616-96-01_DS_PHR1B_201810241117221_FR1_PX_W002N51_0710_01712/TPP1601069318/IMG_PHR1B_MS_002/IMG_PHR1B_MS_201810241117221_ORT_3614233101-002_R1C1.TIF.\n",
      "2020-11-07 16:00:20 Conversion complete: True.\n",
      "2020-11-07 16:33:09 Prepared Pleiades_UKSA396_SO18034616-96-01_DS_PHR1B_201810241117221_FR1_PX_W002N51_0710_01712 at uksa-ssgp/pleiades/Pleiades_UKSA396_SO18034616-96-01_DS_PHR1B_201810241117221_FR1_PX_W002N51_0710_01712/\n"
     ]
    }
   ],
   "source": [
    "prep_pleiades(\"/tmp/data/\", result['products'][0], 'public-eo-data', 'uksa-ssgp/pleiades/')"
   ]
  },
  {
   "cell_type": "markdown",
   "metadata": {},
   "source": [
    "## Parse core (& limited extension) STAC metadata"
   ]
  },
  {
   "cell_type": "markdown",
   "metadata": {},
   "source": [
    "With some cogs hosted on object storage we can fill out some of the necessary STAC core and extension metadata fields."
   ]
  },
  {
   "cell_type": "markdown",
   "metadata": {},
   "source": [
    "### *Collection* fields"
   ]
  },
  {
   "cell_type": "markdown",
   "metadata": {},
   "source": [
    "Since for Pleiades we're working with electro-optical imagery, we can make use of the STAC **[EO Extension](https://github.com/radiantearth/stac-spec/tree/master/extensions/eo)**. At the Pleiades *Collection* level we can therefore manually set some default metadata fields that will be consistent across all *Items* and *Assets*."
   ]
  },
  {
   "cell_type": "code",
   "execution_count": null,
   "metadata": {},
   "outputs": [],
   "source": [
    "#export\n",
    "pleiades_bands = [Band.create(name='Panchromatic', description='Panchromatic: 480 - 830 nm', common_name='pan'),\n",
    "                  Band.create(name='Blue', description='Blue: 430 - 550 nm', common_name='blue'),\n",
    "                  Band.create(name='Green', description='Green: 490 - 610 nm', common_name='green'),\n",
    "                  Band.create(name='Red', description='Red: 600 - 720 nm', common_name='red'),\n",
    "                  Band.create(name='Near-Infrared', description='Near-Infrared: 750 - 950 nm', common_name='nir')]"
   ]
  },
  {
   "cell_type": "markdown",
   "metadata": {},
   "source": [
    "We could also make use of the **[Satellite Extension](https://github.com/radiantearth/stac-spec/blob/master/extensions/sat/README.md)**, however the fields of orbit_state (i.e. ascending / descending) and relative_orbit (i.e. orbit no.) don't seem immediately useful for Pleiades. Other extensions are commented on as we delve deeper into a *Collection*."
   ]
  },
  {
   "cell_type": "markdown",
   "metadata": {},
   "source": [
    "### *Item* fields"
   ]
  },
  {
   "cell_type": "code",
   "execution_count": null,
   "metadata": {},
   "outputs": [],
   "source": [
    "obj_paths_list = s3_list_objects_paths('public-eo-data', 'uksa-ssgp/pleiades/')"
   ]
  },
  {
   "cell_type": "code",
   "execution_count": null,
   "metadata": {},
   "outputs": [
    {
     "data": {
      "text/plain": [
       "['Pleiades_UKSA396_SO18034616-96-01_DS_PHR1B_201810241117221_FR1_PX_W002N51_0710_01712TPP1601069318']"
      ]
     },
     "execution_count": null,
     "metadata": {},
     "output_type": "execute_result"
    }
   ],
   "source": [
    "# get unique Item / scene names (third dir from path)\n",
    "scene_names = list(np.unique([ i.split('/')[2] for i in obj_paths_list ]))\n",
    "scene_names[:5]"
   ]
  },
  {
   "cell_type": "code",
   "execution_count": null,
   "metadata": {},
   "outputs": [
    {
     "data": {
      "text/plain": [
       "'Pleiades_UKSA396_SO18034616-96-01_DS_PHR1B_201810241117221_FR1_PX_W002N51_0710_01712TPP1601069318'"
      ]
     },
     "execution_count": null,
     "metadata": {},
     "output_type": "execute_result"
    }
   ],
   "source": [
    "# can just work with one\n",
    "scene_name = scene_names[0]\n",
    "scene_name"
   ]
  },
  {
   "cell_type": "code",
   "execution_count": null,
   "metadata": {},
   "outputs": [
    {
     "data": {
      "text/plain": [
       "['uksa-ssgp/pleiades/Pleiades_UKSA396_SO18034616-96-01_DS_PHR1B_201810241117221_FR1_PX_W002N51_0710_01712TPP1601069318/DELIVERY.PDF',\n",
       " 'uksa-ssgp/pleiades/Pleiades_UKSA396_SO18034616-96-01_DS_PHR1B_201810241117221_FR1_PX_W002N51_0710_01712TPP1601069318/IMG_PHR1B_MS_002/DIM_PHR1B_MS_201810241117221_ORT_3614233101-002.XML']"
      ]
     },
     "execution_count": null,
     "metadata": {},
     "output_type": "execute_result"
    }
   ],
   "source": [
    "# and objects associated with that scene\n",
    "scene_obj_paths = [ i for i in obj_paths_list if scene_name in i]\n",
    "scene_obj_paths[:2]"
   ]
  },
  {
   "cell_type": "code",
   "execution_count": null,
   "metadata": {},
   "outputs": [],
   "source": [
    "# set our own I/O for pystac\n",
    "pystac_setIO()"
   ]
  },
  {
   "cell_type": "markdown",
   "metadata": {},
   "source": [
    "We have a set of pleiades-specific tools for parsing stac metadata at the *Item* level. Some are more complex than others both in approach for generating and assumptions."
   ]
  },
  {
   "cell_type": "markdown",
   "metadata": {},
   "source": [
    "We start off simple by getting the date from the scene name."
   ]
  },
  {
   "cell_type": "code",
   "execution_count": null,
   "metadata": {},
   "outputs": [],
   "source": [
    "#export\n",
    "def pleiades_get_dt(scene_name):\n",
    "    return datetime.strptime(scene_name.split('_')[5][:14], '%Y%m%d%H%M%S')"
   ]
  },
  {
   "cell_type": "code",
   "execution_count": null,
   "metadata": {},
   "outputs": [
    {
     "data": {
      "text/plain": [
       "datetime.datetime(2018, 10, 24, 11, 17, 22)"
      ]
     },
     "execution_count": null,
     "metadata": {},
     "output_type": "execute_result"
    }
   ],
   "source": [
    "pleiades_get_dt(scene_name)"
   ]
  },
  {
   "cell_type": "markdown",
   "metadata": {},
   "source": [
    "Geometry (footprint of actually useful data) can be taken from a .gml."
   ]
  },
  {
   "cell_type": "code",
   "execution_count": null,
   "metadata": {},
   "outputs": [],
   "source": [
    "#export\n",
    "def pleiades_get_geom(scene_paths):\n",
    "    roi_path = [i for i in scene_paths if (i.endswith('1_MSK.GML') * os.path.basename(i).startswith('ROI'))][0]\n",
    "    roi_uri = create_uri(roi_path)\n",
    "    return json.loads(gpd.read_file(roi_uri).to_crs('EPSG:4326').to_json(show_bbox=True))['features'][0]['geometry']"
   ]
  },
  {
   "cell_type": "code",
   "execution_count": null,
   "metadata": {},
   "outputs": [
    {
     "data": {
      "text/plain": [
       "{'type': 'Polygon',\n",
       " 'coordinates': [[[-1.3449331341513882, 51.50927428517181],\n",
       "   [-1.3446521754929581, 51.50927271649961],\n",
       "   [-1.345195428911783, 51.44569144177794],\n",
       "   [-1.3452166817942117, 51.438165521284965],\n",
       "   [-1.3451720117786103, 51.4342448940449],\n",
       "   [-1.3452393864685703, 51.43204680030815],\n",
       "   [-1.345208895387082, 51.430153877208944],\n",
       "   [-1.345331876086818, 51.41802025018652],\n",
       "   [-1.3453083146522868, 51.40859229272767],\n",
       "   [-1.3453804005814718, 51.395482732004155],\n",
       "   [-1.3453225317899802, 51.3753588283898],\n",
       "   [-1.3453878649405344, 51.36724859762156],\n",
       "   [-1.3452925802124247, 51.34470558633005],\n",
       "   [-1.345334016899243, 51.320117602628706],\n",
       "   [-1.3452768314717642, 51.31758157542945],\n",
       "   [-1.3483977157362594, 51.317585484858],\n",
       "   [-1.3507808831345558, 51.31749980313956],\n",
       "   [-1.3543457949156628, 51.31755996471363],\n",
       "   [-1.3551268173685116, 51.31763170483238],\n",
       "   [-1.3563959284618738, 51.31768813800638],\n",
       "   [-1.3581321711576442, 51.31768867016099],\n",
       "   [-1.364849498834296, 51.3175499337138],\n",
       "   [-1.3655103152499606, 51.317495066783366],\n",
       "   [-1.3660914108380544, 51.31749821198432],\n",
       "   [-1.3666448005468605, 51.31742926962485],\n",
       "   [-1.367168812489072, 51.31740962124909],\n",
       "   [-1.3699525134396888, 51.317411134746784],\n",
       "   [-1.3744240652289204, 51.31727773572575],\n",
       "   [-1.3776526088486405, 51.31727694441925],\n",
       "   [-1.3792891306571864, 51.317222682095164],\n",
       "   [-1.3835283623528796, 51.317290021466846],\n",
       "   [-1.4015530947724366, 51.317109214139855],\n",
       "   [-1.4083851842383084, 51.31695507936021],\n",
       "   [-1.4116093549673543, 51.31673302962447],\n",
       "   [-1.4154113854327068, 51.31676554728997],\n",
       "   [-1.4182896268984693, 51.316662977331916],\n",
       "   [-1.4221786488985855, 51.316623772368715],\n",
       "   [-1.424928691811159, 51.31644397636266],\n",
       "   [-1.4273329114900386, 51.31637932020905],\n",
       "   [-1.429469906160712, 51.31645718342314],\n",
       "   [-1.4333867142133596, 51.31648967635786],\n",
       "   [-1.436659358351379, 51.31639755335634],\n",
       "   [-1.4404835081986067, 51.316379908333985],\n",
       "   [-1.441589059330217, 51.31632223912348],\n",
       "   [-1.447853906006998, 51.31618557740203],\n",
       "   [-1.4595754322194807, 51.315687224432494],\n",
       "   [-1.4647617689737522, 51.31574249989003],\n",
       "   [-1.4715356659424375, 51.31562038341503],\n",
       "   [-1.4726698059012648, 51.315567045743535],\n",
       "   [-1.4732938283752939, 51.31557884407552],\n",
       "   [-1.4741124187590726, 51.31551508185901],\n",
       "   [-1.4828463863126737, 51.31525272608962],\n",
       "   [-1.4861469960629423, 51.31520879900942],\n",
       "   [-1.4946015098886234, 51.3149038778361],\n",
       "   [-1.496316190256858, 51.31489777272022],\n",
       "   [-1.500227072104037, 51.31480661535598],\n",
       "   [-1.5034208547835186, 51.31468531539361],\n",
       "   [-1.5061113018674603, 51.31466970995916],\n",
       "   [-1.5114725316653075, 51.31446289119513],\n",
       "   [-1.5177938601708458, 51.31436768351584],\n",
       "   [-1.522753092643973, 51.31417667727754],\n",
       "   [-1.5267429157039332, 51.31407146837752],\n",
       "   [-1.5281786198287854, 51.31398284351195],\n",
       "   [-1.5301154647130288, 51.31399512151239],\n",
       "   [-1.5349659143364698, 51.313911063812235],\n",
       "   [-1.5381303583425594, 51.31383815609567],\n",
       "   [-1.54174063328673, 51.313659005350104],\n",
       "   [-1.5479683208953934, 51.313584282598136],\n",
       "   [-1.5500207694660102, 51.31351125507191],\n",
       "   [-1.5520520409453613, 51.31340214339446],\n",
       "   [-1.5527342321076147, 51.313332814500356],\n",
       "   [-1.5583384064281574, 51.31318772050503],\n",
       "   [-1.5633815596870118, 51.313193130326745],\n",
       "   [-1.5677022522900035, 51.3129753609472],\n",
       "   [-1.5693307745916043, 51.31296786912574],\n",
       "   [-1.574432460089423, 51.31284713291426],\n",
       "   [-1.5779630365810557, 51.31272951905581],\n",
       "   [-1.5788889967056026, 51.31266990727301],\n",
       "   [-1.5833449709489502, 51.312550956825284],\n",
       "   [-1.5883113663036372, 51.31230774573179],\n",
       "   [-1.5938363653178427, 51.31216517117397],\n",
       "   [-1.5972952660851019, 51.312028742626026],\n",
       "   [-1.6067975801969363, 51.31151250820052],\n",
       "   [-1.6142526247697404, 51.31130799154921],\n",
       "   [-1.6172379276717017, 51.31117391033122],\n",
       "   [-1.6216088420899084, 51.31090036594056],\n",
       "   [-1.624420986342574, 51.31088243587079],\n",
       "   [-1.6288268279964815, 51.310716635652994],\n",
       "   [-1.6311088590136966, 51.310606947031836],\n",
       "   [-1.63557342502854, 51.31026573785492],\n",
       "   [-1.6426838019240253, 51.310062835484466],\n",
       "   [-1.6450739897996935, 51.309872278338055],\n",
       "   [-1.6525011049597302, 51.309507886473924],\n",
       "   [-1.6528038098699556, 51.3559152468498],\n",
       "   [-1.6528978995760792, 51.36342360872344],\n",
       "   [-1.6528340488008324, 51.36997387731754],\n",
       "   [-1.6529304415212185, 51.37337752035855],\n",
       "   [-1.652969734791556, 51.37768465715964],\n",
       "   [-1.6529507428284846, 51.382099518483514],\n",
       "   [-1.6530293473256543, 51.38500855946107],\n",
       "   [-1.6530629782044024, 51.399575158328496],\n",
       "   [-1.6531522518123283, 51.40297876280007],\n",
       "   [-1.653111979408286, 51.40640446128559],\n",
       "   [-1.6531798017002446, 51.40789277881721],\n",
       "   [-1.6531148357597398, 51.42028755242829],\n",
       "   [-1.6531696536075535, 51.42349772310056],\n",
       "   [-1.6532639532030045, 51.4252918294076],\n",
       "   [-1.6532945588599868, 51.42885259849376],\n",
       "   [-1.6532243539964666, 51.43528138860933],\n",
       "   [-1.6533052273539521, 51.43790267844906],\n",
       "   [-1.6532539212692898, 51.43993013139375],\n",
       "   [-1.6533009766222961, 51.4422680841396],\n",
       "   [-1.6531369604755612, 51.46108246985694],\n",
       "   [-1.653166103531558, 51.46768685339015],\n",
       "   [-1.6532587150307447, 51.46971472128114],\n",
       "   [-1.6532223403838326, 51.471665779207534],\n",
       "   [-1.653258848470436, 51.474448769318315],\n",
       "   [-1.6531648177712204, 51.47735725389756],\n",
       "   [-1.6532740046523613, 51.48005054072996],\n",
       "   [-1.6531883857378242, 51.485647513286764],\n",
       "   [-1.6531986365235956, 51.4899949431504],\n",
       "   [-1.6532811009193322, 51.493367004266524],\n",
       "   [-1.6532664182980943, 51.50195384735368],\n",
       "   [-1.6511472559620377, 51.50213189459823],\n",
       "   [-1.6472058492313257, 51.50227746677381],\n",
       "   [-1.6400588355781867, 51.50242660835513],\n",
       "   [-1.6305762627915659, 51.502770296312455],\n",
       "   [-1.6296182154364434, 51.502767277333234],\n",
       "   [-1.62494763554498, 51.5030941245238],\n",
       "   [-1.6234202164758345, 51.50312520037314],\n",
       "   [-1.6199247678095545, 51.50332973063631],\n",
       "   [-1.6167396784090042, 51.50345874273376],\n",
       "   [-1.6160626285944706, 51.50344753868258],\n",
       "   [-1.611688641669669, 51.503608484984554],\n",
       "   [-1.6105071943790499, 51.50361356219849],\n",
       "   [-1.6085471936994187, 51.503683470004866],\n",
       "   [-1.6039776519575106, 51.503960366086446],\n",
       "   [-1.5984719867601416, 51.50418892816604],\n",
       "   [-1.5916484525315713, 51.504363201234405],\n",
       "   [-1.590301342570571, 51.50436300276175],\n",
       "   [-1.5884422524507118, 51.50441943960972],\n",
       "   [-1.587649979473441, 51.50440317175963],\n",
       "   [-1.5844937071093406, 51.50451342666154],\n",
       "   [-1.5782900020249595, 51.50464415771334],\n",
       "   [-1.5756304501890463, 51.504787428025935],\n",
       "   [-1.5743481615859958, 51.504787280699574],\n",
       "   [-1.5666384051935802, 51.5049568819684],\n",
       "   [-1.5634892939335205, 51.50506210247871],\n",
       "   [-1.5617097732078364, 51.50507794978951],\n",
       "   [-1.5587984946967266, 51.50517044497722],\n",
       "   [-1.5545388882597906, 51.50538363964102],\n",
       "   [-1.5438739136305857, 51.50569334767313],\n",
       "   [-1.5403288128057753, 51.505764936662366],\n",
       "   [-1.5393349213642544, 51.505738561181666],\n",
       "   [-1.5373677523118925, 51.50578477293046],\n",
       "   [-1.5361360017309478, 51.505770919828755],\n",
       "   [-1.531681967202675, 51.5059600373069],\n",
       "   [-1.5279354480674994, 51.50599897760938],\n",
       "   [-1.5245342371951451, 51.50608415524195],\n",
       "   [-1.5233086556770232, 51.50616909920313],\n",
       "   [-1.5146174917330433, 51.50645267738836],\n",
       "   [-1.5111867364232754, 51.50660028658121],\n",
       "   [-1.5082826647267225, 51.50667357523545],\n",
       "   [-1.5050332364926633, 51.50670487417509],\n",
       "   [-1.5010766968726192, 51.50683648189945],\n",
       "   [-1.4995772560887042, 51.50692450926666],\n",
       "   [-1.4881132586812513, 51.50710884902304],\n",
       "   [-1.4787684136187162, 51.507189104960254],\n",
       "   [-1.4755961659399308, 51.50739526623734],\n",
       "   [-1.4722742160418585, 51.50746129988964],\n",
       "   [-1.4711577083068363, 51.50744728263716],\n",
       "   [-1.4676044895666942, 51.50757508249692],\n",
       "   [-1.464448524045922, 51.50761467278489],\n",
       "   [-1.4605128804477054, 51.5077899656366],\n",
       "   [-1.4567657408890813, 51.5078625964352],\n",
       "   [-1.4557925595883918, 51.50791203706752],\n",
       "   [-1.4509797508889777, 51.507934578977725],\n",
       "   [-1.4471331445688957, 51.50788954666717],\n",
       "   [-1.4409295832682552, 51.507936586777056],\n",
       "   [-1.4372399820682993, 51.50801336375307],\n",
       "   [-1.42820438622654, 51.508113553250965],\n",
       "   [-1.4245792489903313, 51.508217220770746],\n",
       "   [-1.42213476004675, 51.508389536545295],\n",
       "   [-1.4206219133423617, 51.50838207761855],\n",
       "   [-1.4192524051747974, 51.50843375368226],\n",
       "   [-1.4138708208714983, 51.50842048671322],\n",
       "   [-1.4116367626901138, 51.50847224856664],\n",
       "   [-1.4084521742023244, 51.50848771004712],\n",
       "   [-1.4060514797689923, 51.508610457947476],\n",
       "   [-1.3999330056894967, 51.508750172114716],\n",
       "   [-1.3930084764803234, 51.508822459920275],\n",
       "   [-1.3881381717150114, 51.50882414312016],\n",
       "   [-1.3795198715914216, 51.50894523675206],\n",
       "   [-1.3777118966341602, 51.50891768049936],\n",
       "   [-1.3669677366609456, 51.50907151789137],\n",
       "   [-1.3633304361386067, 51.50899789158125],\n",
       "   [-1.3589912671804618, 51.50914061438523],\n",
       "   [-1.3459927114553565, 51.5092397329256],\n",
       "   [-1.3449331341513882, 51.50927428517181]]]}"
      ]
     },
     "execution_count": null,
     "metadata": {},
     "output_type": "execute_result"
    }
   ],
   "source": [
    "pleiades_get_geom(scene_obj_paths)"
   ]
  },
  {
   "cell_type": "markdown",
   "metadata": {},
   "source": [
    "A variety of *Item* metadata already exists within either the multi-spectral and / or the panchromatic image metadata supplied with the original dataset."
   ]
  },
  {
   "cell_type": "code",
   "execution_count": null,
   "metadata": {},
   "outputs": [],
   "source": [
    "#export\n",
    "def pleiades_parsemeta(meta_path):\n",
    "    return xmltodict.parse(pystac.STAC_IO.read_text(create_uri(meta_path)))"
   ]
  },
  {
   "cell_type": "code",
   "execution_count": null,
   "metadata": {},
   "outputs": [],
   "source": [
    "meta = pleiades_parsemeta([i for i in scene_obj_paths if i.endswith('-002.XML')][0]) # not sure if this catches for all Items?"
   ]
  },
  {
   "cell_type": "markdown",
   "metadata": {},
   "source": [
    "Bounding box is one.."
   ]
  },
  {
   "cell_type": "code",
   "execution_count": null,
   "metadata": {},
   "outputs": [],
   "source": [
    "#export\n",
    "def pleiades_get_bbox(metadata):\n",
    "    lons = [float(i['LON']) for i in metadata['Dimap_Document']['Dataset_Content']['Dataset_Extent']['Vertex']]\n",
    "    lats = [float(i['LAT']) for i in metadata['Dimap_Document']['Dataset_Content']['Dataset_Extent']['Vertex']]\n",
    "    return [min(lons), min(lats), max(lons), max(lats)]"
   ]
  },
  {
   "cell_type": "code",
   "execution_count": null,
   "metadata": {},
   "outputs": [
    {
     "data": {
      "text/plain": [
       "[-1.654267391010452, 51.3089303018909, -1.343017308021802, 51.51106070120541]"
      ]
     },
     "execution_count": null,
     "metadata": {},
     "output_type": "execute_result"
    }
   ],
   "source": [
    "pleiades_get_bbox(meta)"
   ]
  },
  {
   "cell_type": "markdown",
   "metadata": {},
   "source": [
    "That's it to meet the **core specification** of STAC."
   ]
  },
  {
   "cell_type": "code",
   "execution_count": null,
   "metadata": {},
   "outputs": [],
   "source": [
    "item = pystac.Item(id=item_id,\n",
    "                  datetime=pleiades_get_dt(scene_name),\n",
    "                  geometry=pleiades_get_geom(scene_obj_paths),\n",
    "                  bbox=pleiades_get_bbox(meta),\n",
    "                  properties={})"
   ]
  },
  {
   "cell_type": "code",
   "execution_count": null,
   "metadata": {},
   "outputs": [],
   "source": [
    "item.validate()#, item.to_dict()"
   ]
  },
  {
   "cell_type": "markdown",
   "metadata": {},
   "source": [
    "We can now focus on adding useful extensions."
   ]
  },
  {
   "cell_type": "code",
   "execution_count": null,
   "metadata": {},
   "outputs": [],
   "source": [
    "def pleiades_get_gsd(metadata):\n",
    "    across = float(metadata['Dimap_Document']['Geometric_Data']['Use_Area']['Located_Geometric_Values'][0]['Ground_Sample_Distance']['GSD_ACROSS_TRACK']['#text'])\n",
    "    along = float(metadata['Dimap_Document']['Geometric_Data']['Use_Area']['Located_Geometric_Values'][0]['Ground_Sample_Distance']['GSD_ALONG_TRACK']['#text'])\n",
    "    return round(( across + along ) / 2, 2)"
   ]
  },
  {
   "cell_type": "code",
   "execution_count": null,
   "metadata": {},
   "outputs": [
    {
     "data": {
      "text/plain": [
       "0.77"
      ]
     },
     "execution_count": null,
     "metadata": {},
     "output_type": "execute_result"
    }
   ],
   "source": [
    "pleiades_get_gsd(meta)"
   ]
  },
  {
   "cell_type": "code",
   "execution_count": null,
   "metadata": {},
   "outputs": [],
   "source": [
    "item.common_metadata.gsd = pleiades_get_gsd(meta)"
   ]
  },
  {
   "cell_type": "code",
   "execution_count": null,
   "metadata": {},
   "outputs": [],
   "source": [
    "item.ext.enable('eo')"
   ]
  },
  {
   "cell_type": "code",
   "execution_count": null,
   "metadata": {},
   "outputs": [],
   "source": [
    "def pleiades_get_cloudcover(metadata):\n",
    "    return round(float(metadata['Dimap_Document']['Dataset_Content']['CLOUD_COVERAGE']['#text']),2)"
   ]
  },
  {
   "cell_type": "code",
   "execution_count": null,
   "metadata": {},
   "outputs": [
    {
     "data": {
      "text/plain": [
       "0.0"
      ]
     },
     "execution_count": null,
     "metadata": {},
     "output_type": "execute_result"
    }
   ],
   "source": [
    "pleiades_get_cloudcover(meta)"
   ]
  },
  {
   "cell_type": "code",
   "execution_count": null,
   "metadata": {},
   "outputs": [],
   "source": [
    "item.ext.eo.cloud_cover = pleiades_get_cloudcover(meta)"
   ]
  },
  {
   "cell_type": "code",
   "execution_count": null,
   "metadata": {},
   "outputs": [],
   "source": [
    "item.ext.enable('projection')"
   ]
  },
  {
   "cell_type": "code",
   "execution_count": null,
   "metadata": {},
   "outputs": [],
   "source": [
    "def pleiades_get_crs(metadata):\n",
    "    return int(metadata['Dimap_Document']['Coordinate_Reference_System']['Projected_CRS']['PROJECTED_CRS_NAME'])"
   ]
  },
  {
   "cell_type": "code",
   "execution_count": null,
   "metadata": {},
   "outputs": [
    {
     "data": {
      "text/plain": [
       "27700"
      ]
     },
     "execution_count": null,
     "metadata": {},
     "output_type": "execute_result"
    }
   ],
   "source": [
    "pleiades_get_crs(meta)"
   ]
  },
  {
   "cell_type": "code",
   "execution_count": null,
   "metadata": {},
   "outputs": [],
   "source": [
    "item.ext.projection.epsg = pleiades_get_crs(meta)"
   ]
  },
  {
   "cell_type": "code",
   "execution_count": null,
   "metadata": {},
   "outputs": [],
   "source": [
    "item.validate()"
   ]
  },
  {
   "cell_type": "markdown",
   "metadata": {},
   "source": [
    "### Adding *Assets*"
   ]
  },
  {
   "cell_type": "code",
   "execution_count": null,
   "metadata": {},
   "outputs": [],
   "source": [
    "#export\n",
    "pleiades_bands = [Band.create(name='Panchromatic', description='Panchromatic: 480 - 830 nm', common_name='pan'),\n",
    "                  Band.create(name='Blue', description='Blue: 430 - 550 nm', common_name='blue'),\n",
    "                  Band.create(name='Green', description='Green: 490 - 610 nm', common_name='green'),\n",
    "                  Band.create(name='Red', description='Red: 600 - 720 nm', common_name='red'),\n",
    "                  Band.create(name='Near-Infrared', description='Near-Infrared: 750 - 950 nm', common_name='nir')]"
   ]
  },
  {
   "cell_type": "code",
   "execution_count": null,
   "metadata": {},
   "outputs": [
    {
     "data": {
      "text/plain": [
       "{'Panchromatic': {'ends': '_band1', 'dif': '_P_', 'id': 'B0'},\n",
       " 'Blue': {'ends': '_band1', 'dif': '_MS_', 'id': 'B1'},\n",
       " 'Green': {'ends': '_band2', 'dif': '_MS_', 'id': 'B2'},\n",
       " 'Red': {'ends': '_band3', 'dif': '_MS_', 'id': 'B3'},\n",
       " 'Near-Infrared': {'ends': '_band4', 'dif': '_MS_', 'id': 'B4'}}"
      ]
     },
     "execution_count": null,
     "metadata": {},
     "output_type": "execute_result"
    }
   ],
   "source": [
    "bfs = {\n",
    "    'Panchromatic':{'ends':'_band1', 'dif':'_P_', 'id':'B0'},\n",
    "    'Blue':{'ends':'_band1', 'dif':'_MS_', 'id':'B1'},\n",
    "    'Green':{'ends':'_band2', 'dif':'_MS_', 'id':'B2'},\n",
    "    'Red':{'ends':'_band3', 'dif':'_MS_', 'id':'B3'},\n",
    "    'Near-Infrared':{'ends':'_band4', 'dif':'_MS_', 'id':'B4'}\n",
    "}\n",
    "bfs"
   ]
  },
  {
   "cell_type": "code",
   "execution_count": null,
   "metadata": {},
   "outputs": [
    {
     "name": "stdout",
     "output_type": "stream",
     "text": [
      "Panchromatic\n",
      "http://s3-uk-1.sa-catapult.co.uk/public-eo-data/uksa-ssgp/pleiades/Pleiades_UKSA396_SO18034616-96-01_DS_PHR1B_201810241117221_FR1_PX_W002N51_0710_01712TPP1601069318/IMG_PHR1B_P_001/IMG_PHR1B_P_201810241117221_ORT_3614233101_band1.tif\n",
      "Blue\n",
      "http://s3-uk-1.sa-catapult.co.uk/public-eo-data/uksa-ssgp/pleiades/Pleiades_UKSA396_SO18034616-96-01_DS_PHR1B_201810241117221_FR1_PX_W002N51_0710_01712TPP1601069318/IMG_PHR1B_MS_002/IMG_PHR1B_MS_201810241117221_ORT_3614233101_band1.tif\n",
      "Green\n",
      "http://s3-uk-1.sa-catapult.co.uk/public-eo-data/uksa-ssgp/pleiades/Pleiades_UKSA396_SO18034616-96-01_DS_PHR1B_201810241117221_FR1_PX_W002N51_0710_01712TPP1601069318/IMG_PHR1B_MS_002/IMG_PHR1B_MS_201810241117221_ORT_3614233101_band2.tif\n",
      "Red\n",
      "http://s3-uk-1.sa-catapult.co.uk/public-eo-data/uksa-ssgp/pleiades/Pleiades_UKSA396_SO18034616-96-01_DS_PHR1B_201810241117221_FR1_PX_W002N51_0710_01712TPP1601069318/IMG_PHR1B_MS_002/IMG_PHR1B_MS_201810241117221_ORT_3614233101_band3.tif\n",
      "Near-Infrared\n",
      "http://s3-uk-1.sa-catapult.co.uk/public-eo-data/uksa-ssgp/pleiades/Pleiades_UKSA396_SO18034616-96-01_DS_PHR1B_201810241117221_FR1_PX_W002N51_0710_01712TPP1601069318/IMG_PHR1B_MS_002/IMG_PHR1B_MS_201810241117221_ORT_3614233101_band4.tif\n"
     ]
    }
   ],
   "source": [
    "for band in pleiades_bands:\n",
    "    print(band.name)\n",
    "    \n",
    "    matched_paths = [ o for o in scene_obj_paths if (o.endswith(f\"{bfs[band.name]['ends']}.tif\")) & (f\"{bfs[band.name]['dif']}\" in o) ]\n",
    "    if len(matched_paths) > 1:\n",
    "        raise Exception(f\"Found too many matches: {matched_paths}\")\n",
    "    band_url = create_uri(matched_paths[0])\n",
    "    print(band_url)\n",
    "    \n",
    "    asset = pystac.Asset(href=band_url, media_type=pystac.MediaType.COG)\n",
    "    item.ext.eo.set_bands([band], asset)\n",
    "    item.add_asset(bfs[band.name]['id'], asset)    "
   ]
  },
  {
   "cell_type": "code",
   "execution_count": null,
   "metadata": {},
   "outputs": [
    {
     "data": {
      "text/plain": [
       "{'type': 'Feature',\n",
       " 'stac_version': '1.0.0-beta.2',\n",
       " 'id': 'Pleiades_UKSA396_SO18034616-96-01_DS_PHR1B_201810241117221_FR1_PX_W002N51_0710_01712TPP1601069318',\n",
       " 'properties': {'datetime': '2018-10-24T11:17:22Z',\n",
       "  'gsd': 0.77,\n",
       "  'eo:cloud_cover': 0.0,\n",
       "  'proj:epsg': 27700},\n",
       " 'geometry': {'type': 'Polygon',\n",
       "  'coordinates': [[[-1.3449331341513882, 51.50927428517181],\n",
       "    [-1.3446521754929581, 51.50927271649961],\n",
       "    [-1.345195428911783, 51.44569144177794],\n",
       "    [-1.3452166817942117, 51.438165521284965],\n",
       "    [-1.3451720117786103, 51.4342448940449],\n",
       "    [-1.3452393864685703, 51.43204680030815],\n",
       "    [-1.345208895387082, 51.430153877208944],\n",
       "    [-1.345331876086818, 51.41802025018652],\n",
       "    [-1.3453083146522868, 51.40859229272767],\n",
       "    [-1.3453804005814718, 51.395482732004155],\n",
       "    [-1.3453225317899802, 51.3753588283898],\n",
       "    [-1.3453878649405344, 51.36724859762156],\n",
       "    [-1.3452925802124247, 51.34470558633005],\n",
       "    [-1.345334016899243, 51.320117602628706],\n",
       "    [-1.3452768314717642, 51.31758157542945],\n",
       "    [-1.3483977157362594, 51.317585484858],\n",
       "    [-1.3507808831345558, 51.31749980313956],\n",
       "    [-1.3543457949156628, 51.31755996471363],\n",
       "    [-1.3551268173685116, 51.31763170483238],\n",
       "    [-1.3563959284618738, 51.31768813800638],\n",
       "    [-1.3581321711576442, 51.31768867016099],\n",
       "    [-1.364849498834296, 51.3175499337138],\n",
       "    [-1.3655103152499606, 51.317495066783366],\n",
       "    [-1.3660914108380544, 51.31749821198432],\n",
       "    [-1.3666448005468605, 51.31742926962485],\n",
       "    [-1.367168812489072, 51.31740962124909],\n",
       "    [-1.3699525134396888, 51.317411134746784],\n",
       "    [-1.3744240652289204, 51.31727773572575],\n",
       "    [-1.3776526088486405, 51.31727694441925],\n",
       "    [-1.3792891306571864, 51.317222682095164],\n",
       "    [-1.3835283623528796, 51.317290021466846],\n",
       "    [-1.4015530947724366, 51.317109214139855],\n",
       "    [-1.4083851842383084, 51.31695507936021],\n",
       "    [-1.4116093549673543, 51.31673302962447],\n",
       "    [-1.4154113854327068, 51.31676554728997],\n",
       "    [-1.4182896268984693, 51.316662977331916],\n",
       "    [-1.4221786488985855, 51.316623772368715],\n",
       "    [-1.424928691811159, 51.31644397636266],\n",
       "    [-1.4273329114900386, 51.31637932020905],\n",
       "    [-1.429469906160712, 51.31645718342314],\n",
       "    [-1.4333867142133596, 51.31648967635786],\n",
       "    [-1.436659358351379, 51.31639755335634],\n",
       "    [-1.4404835081986067, 51.316379908333985],\n",
       "    [-1.441589059330217, 51.31632223912348],\n",
       "    [-1.447853906006998, 51.31618557740203],\n",
       "    [-1.4595754322194807, 51.315687224432494],\n",
       "    [-1.4647617689737522, 51.31574249989003],\n",
       "    [-1.4715356659424375, 51.31562038341503],\n",
       "    [-1.4726698059012648, 51.315567045743535],\n",
       "    [-1.4732938283752939, 51.31557884407552],\n",
       "    [-1.4741124187590726, 51.31551508185901],\n",
       "    [-1.4828463863126737, 51.31525272608962],\n",
       "    [-1.4861469960629423, 51.31520879900942],\n",
       "    [-1.4946015098886234, 51.3149038778361],\n",
       "    [-1.496316190256858, 51.31489777272022],\n",
       "    [-1.500227072104037, 51.31480661535598],\n",
       "    [-1.5034208547835186, 51.31468531539361],\n",
       "    [-1.5061113018674603, 51.31466970995916],\n",
       "    [-1.5114725316653075, 51.31446289119513],\n",
       "    [-1.5177938601708458, 51.31436768351584],\n",
       "    [-1.522753092643973, 51.31417667727754],\n",
       "    [-1.5267429157039332, 51.31407146837752],\n",
       "    [-1.5281786198287854, 51.31398284351195],\n",
       "    [-1.5301154647130288, 51.31399512151239],\n",
       "    [-1.5349659143364698, 51.313911063812235],\n",
       "    [-1.5381303583425594, 51.31383815609567],\n",
       "    [-1.54174063328673, 51.313659005350104],\n",
       "    [-1.5479683208953934, 51.313584282598136],\n",
       "    [-1.5500207694660102, 51.31351125507191],\n",
       "    [-1.5520520409453613, 51.31340214339446],\n",
       "    [-1.5527342321076147, 51.313332814500356],\n",
       "    [-1.5583384064281574, 51.31318772050503],\n",
       "    [-1.5633815596870118, 51.313193130326745],\n",
       "    [-1.5677022522900035, 51.3129753609472],\n",
       "    [-1.5693307745916043, 51.31296786912574],\n",
       "    [-1.574432460089423, 51.31284713291426],\n",
       "    [-1.5779630365810557, 51.31272951905581],\n",
       "    [-1.5788889967056026, 51.31266990727301],\n",
       "    [-1.5833449709489502, 51.312550956825284],\n",
       "    [-1.5883113663036372, 51.31230774573179],\n",
       "    [-1.5938363653178427, 51.31216517117397],\n",
       "    [-1.5972952660851019, 51.312028742626026],\n",
       "    [-1.6067975801969363, 51.31151250820052],\n",
       "    [-1.6142526247697404, 51.31130799154921],\n",
       "    [-1.6172379276717017, 51.31117391033122],\n",
       "    [-1.6216088420899084, 51.31090036594056],\n",
       "    [-1.624420986342574, 51.31088243587079],\n",
       "    [-1.6288268279964815, 51.310716635652994],\n",
       "    [-1.6311088590136966, 51.310606947031836],\n",
       "    [-1.63557342502854, 51.31026573785492],\n",
       "    [-1.6426838019240253, 51.310062835484466],\n",
       "    [-1.6450739897996935, 51.309872278338055],\n",
       "    [-1.6525011049597302, 51.309507886473924],\n",
       "    [-1.6528038098699556, 51.3559152468498],\n",
       "    [-1.6528978995760792, 51.36342360872344],\n",
       "    [-1.6528340488008324, 51.36997387731754],\n",
       "    [-1.6529304415212185, 51.37337752035855],\n",
       "    [-1.652969734791556, 51.37768465715964],\n",
       "    [-1.6529507428284846, 51.382099518483514],\n",
       "    [-1.6530293473256543, 51.38500855946107],\n",
       "    [-1.6530629782044024, 51.399575158328496],\n",
       "    [-1.6531522518123283, 51.40297876280007],\n",
       "    [-1.653111979408286, 51.40640446128559],\n",
       "    [-1.6531798017002446, 51.40789277881721],\n",
       "    [-1.6531148357597398, 51.42028755242829],\n",
       "    [-1.6531696536075535, 51.42349772310056],\n",
       "    [-1.6532639532030045, 51.4252918294076],\n",
       "    [-1.6532945588599868, 51.42885259849376],\n",
       "    [-1.6532243539964666, 51.43528138860933],\n",
       "    [-1.6533052273539521, 51.43790267844906],\n",
       "    [-1.6532539212692898, 51.43993013139375],\n",
       "    [-1.6533009766222961, 51.4422680841396],\n",
       "    [-1.6531369604755612, 51.46108246985694],\n",
       "    [-1.653166103531558, 51.46768685339015],\n",
       "    [-1.6532587150307447, 51.46971472128114],\n",
       "    [-1.6532223403838326, 51.471665779207534],\n",
       "    [-1.653258848470436, 51.474448769318315],\n",
       "    [-1.6531648177712204, 51.47735725389756],\n",
       "    [-1.6532740046523613, 51.48005054072996],\n",
       "    [-1.6531883857378242, 51.485647513286764],\n",
       "    [-1.6531986365235956, 51.4899949431504],\n",
       "    [-1.6532811009193322, 51.493367004266524],\n",
       "    [-1.6532664182980943, 51.50195384735368],\n",
       "    [-1.6511472559620377, 51.50213189459823],\n",
       "    [-1.6472058492313257, 51.50227746677381],\n",
       "    [-1.6400588355781867, 51.50242660835513],\n",
       "    [-1.6305762627915659, 51.502770296312455],\n",
       "    [-1.6296182154364434, 51.502767277333234],\n",
       "    [-1.62494763554498, 51.5030941245238],\n",
       "    [-1.6234202164758345, 51.50312520037314],\n",
       "    [-1.6199247678095545, 51.50332973063631],\n",
       "    [-1.6167396784090042, 51.50345874273376],\n",
       "    [-1.6160626285944706, 51.50344753868258],\n",
       "    [-1.611688641669669, 51.503608484984554],\n",
       "    [-1.6105071943790499, 51.50361356219849],\n",
       "    [-1.6085471936994187, 51.503683470004866],\n",
       "    [-1.6039776519575106, 51.503960366086446],\n",
       "    [-1.5984719867601416, 51.50418892816604],\n",
       "    [-1.5916484525315713, 51.504363201234405],\n",
       "    [-1.590301342570571, 51.50436300276175],\n",
       "    [-1.5884422524507118, 51.50441943960972],\n",
       "    [-1.587649979473441, 51.50440317175963],\n",
       "    [-1.5844937071093406, 51.50451342666154],\n",
       "    [-1.5782900020249595, 51.50464415771334],\n",
       "    [-1.5756304501890463, 51.504787428025935],\n",
       "    [-1.5743481615859958, 51.504787280699574],\n",
       "    [-1.5666384051935802, 51.5049568819684],\n",
       "    [-1.5634892939335205, 51.50506210247871],\n",
       "    [-1.5617097732078364, 51.50507794978951],\n",
       "    [-1.5587984946967266, 51.50517044497722],\n",
       "    [-1.5545388882597906, 51.50538363964102],\n",
       "    [-1.5438739136305857, 51.50569334767313],\n",
       "    [-1.5403288128057753, 51.505764936662366],\n",
       "    [-1.5393349213642544, 51.505738561181666],\n",
       "    [-1.5373677523118925, 51.50578477293046],\n",
       "    [-1.5361360017309478, 51.505770919828755],\n",
       "    [-1.531681967202675, 51.5059600373069],\n",
       "    [-1.5279354480674994, 51.50599897760938],\n",
       "    [-1.5245342371951451, 51.50608415524195],\n",
       "    [-1.5233086556770232, 51.50616909920313],\n",
       "    [-1.5146174917330433, 51.50645267738836],\n",
       "    [-1.5111867364232754, 51.50660028658121],\n",
       "    [-1.5082826647267225, 51.50667357523545],\n",
       "    [-1.5050332364926633, 51.50670487417509],\n",
       "    [-1.5010766968726192, 51.50683648189945],\n",
       "    [-1.4995772560887042, 51.50692450926666],\n",
       "    [-1.4881132586812513, 51.50710884902304],\n",
       "    [-1.4787684136187162, 51.507189104960254],\n",
       "    [-1.4755961659399308, 51.50739526623734],\n",
       "    [-1.4722742160418585, 51.50746129988964],\n",
       "    [-1.4711577083068363, 51.50744728263716],\n",
       "    [-1.4676044895666942, 51.50757508249692],\n",
       "    [-1.464448524045922, 51.50761467278489],\n",
       "    [-1.4605128804477054, 51.5077899656366],\n",
       "    [-1.4567657408890813, 51.5078625964352],\n",
       "    [-1.4557925595883918, 51.50791203706752],\n",
       "    [-1.4509797508889777, 51.507934578977725],\n",
       "    [-1.4471331445688957, 51.50788954666717],\n",
       "    [-1.4409295832682552, 51.507936586777056],\n",
       "    [-1.4372399820682993, 51.50801336375307],\n",
       "    [-1.42820438622654, 51.508113553250965],\n",
       "    [-1.4245792489903313, 51.508217220770746],\n",
       "    [-1.42213476004675, 51.508389536545295],\n",
       "    [-1.4206219133423617, 51.50838207761855],\n",
       "    [-1.4192524051747974, 51.50843375368226],\n",
       "    [-1.4138708208714983, 51.50842048671322],\n",
       "    [-1.4116367626901138, 51.50847224856664],\n",
       "    [-1.4084521742023244, 51.50848771004712],\n",
       "    [-1.4060514797689923, 51.508610457947476],\n",
       "    [-1.3999330056894967, 51.508750172114716],\n",
       "    [-1.3930084764803234, 51.508822459920275],\n",
       "    [-1.3881381717150114, 51.50882414312016],\n",
       "    [-1.3795198715914216, 51.50894523675206],\n",
       "    [-1.3777118966341602, 51.50891768049936],\n",
       "    [-1.3669677366609456, 51.50907151789137],\n",
       "    [-1.3633304361386067, 51.50899789158125],\n",
       "    [-1.3589912671804618, 51.50914061438523],\n",
       "    [-1.3459927114553565, 51.5092397329256],\n",
       "    [-1.3449331341513882, 51.50927428517181]]]},\n",
       " 'links': [],\n",
       " 'assets': {'B0': {'href': 'http://s3-uk-1.sa-catapult.co.uk/public-eo-data/uksa-ssgp/pleiades/Pleiades_UKSA396_SO18034616-96-01_DS_PHR1B_201810241117221_FR1_PX_W002N51_0710_01712TPP1601069318/IMG_PHR1B_P_001/IMG_PHR1B_P_201810241117221_ORT_3614233101_band1.tif',\n",
       "   'type': 'image/tiff; application=geotiff; profile=cloud-optimized',\n",
       "   'eo:bands': [{'name': 'Panchromatic',\n",
       "     'common_name': 'pan',\n",
       "     'description': 'Panchromatic: 480 - 830 nm'}]},\n",
       "  'B1': {'href': 'http://s3-uk-1.sa-catapult.co.uk/public-eo-data/uksa-ssgp/pleiades/Pleiades_UKSA396_SO18034616-96-01_DS_PHR1B_201810241117221_FR1_PX_W002N51_0710_01712TPP1601069318/IMG_PHR1B_MS_002/IMG_PHR1B_MS_201810241117221_ORT_3614233101_band1.tif',\n",
       "   'type': 'image/tiff; application=geotiff; profile=cloud-optimized',\n",
       "   'eo:bands': [{'name': 'Blue',\n",
       "     'common_name': 'blue',\n",
       "     'description': 'Blue: 430 - 550 nm'}]},\n",
       "  'B2': {'href': 'http://s3-uk-1.sa-catapult.co.uk/public-eo-data/uksa-ssgp/pleiades/Pleiades_UKSA396_SO18034616-96-01_DS_PHR1B_201810241117221_FR1_PX_W002N51_0710_01712TPP1601069318/IMG_PHR1B_MS_002/IMG_PHR1B_MS_201810241117221_ORT_3614233101_band2.tif',\n",
       "   'type': 'image/tiff; application=geotiff; profile=cloud-optimized',\n",
       "   'eo:bands': [{'name': 'Green',\n",
       "     'common_name': 'green',\n",
       "     'description': 'Green: 490 - 610 nm'}]},\n",
       "  'B3': {'href': 'http://s3-uk-1.sa-catapult.co.uk/public-eo-data/uksa-ssgp/pleiades/Pleiades_UKSA396_SO18034616-96-01_DS_PHR1B_201810241117221_FR1_PX_W002N51_0710_01712TPP1601069318/IMG_PHR1B_MS_002/IMG_PHR1B_MS_201810241117221_ORT_3614233101_band3.tif',\n",
       "   'type': 'image/tiff; application=geotiff; profile=cloud-optimized',\n",
       "   'eo:bands': [{'name': 'Red',\n",
       "     'common_name': 'red',\n",
       "     'description': 'Red: 600 - 720 nm'}]},\n",
       "  'B4': {'href': 'http://s3-uk-1.sa-catapult.co.uk/public-eo-data/uksa-ssgp/pleiades/Pleiades_UKSA396_SO18034616-96-01_DS_PHR1B_201810241117221_FR1_PX_W002N51_0710_01712TPP1601069318/IMG_PHR1B_MS_002/IMG_PHR1B_MS_201810241117221_ORT_3614233101_band4.tif',\n",
       "   'type': 'image/tiff; application=geotiff; profile=cloud-optimized',\n",
       "   'eo:bands': [{'name': 'Near-Infrared',\n",
       "     'common_name': 'nir',\n",
       "     'description': 'Near-Infrared: 750 - 950 nm'}]}},\n",
       " 'bbox': [-1.654267391010452,\n",
       "  51.3089303018909,\n",
       "  -1.343017308021802,\n",
       "  51.51106070120541],\n",
       " 'stac_extensions': ['eo', 'projection']}"
      ]
     },
     "execution_count": null,
     "metadata": {},
     "output_type": "execute_result"
    }
   ],
   "source": [
    "item.to_dict()"
   ]
  },
  {
   "cell_type": "markdown",
   "metadata": {},
   "source": [
    "### Building the *Collection*"
   ]
  },
  {
   "cell_type": "code",
   "execution_count": null,
   "metadata": {},
   "outputs": [
    {
     "data": {
      "text/plain": [
       "'uksa-ssgp-pleiades'"
      ]
     },
     "execution_count": null,
     "metadata": {},
     "output_type": "execute_result"
    }
   ],
   "source": [
    "collection_id = 'uksa-ssgp-pleiades'\n",
    "collection_id"
   ]
  },
  {
   "cell_type": "code",
   "execution_count": null,
   "metadata": {},
   "outputs": [
    {
     "data": {
      "text/plain": [
       "'SSGP-procured Pleiades images over the UK'"
      ]
     },
     "execution_count": null,
     "metadata": {},
     "output_type": "execute_result"
    }
   ],
   "source": [
    "collection_title = 'SSGP-procured Pleiades images over the UK'\n",
    "collection_title"
   ]
  },
  {
   "cell_type": "code",
   "execution_count": null,
   "metadata": {},
   "outputs": [
    {
     "name": "stdout",
     "output_type": "stream",
     "text": [
      "### UKSA / SSGP Pleiades\n",
      "\n",
      "A collection of Pleiades images over the UK. Procured by UKSA under its Space for Smarter Government Programme (SSGP).\n",
      "\n"
     ]
    }
   ],
   "source": [
    "collection_description = '''### UKSA / SSGP Pleiades\n",
    "\n",
    "A collection of Pleiades images over the UK. Procured by UKSA under its Space for Smarter Government Programme (SSGP).\n",
    "'''\n",
    "print(collection_description)"
   ]
  },
  {
   "cell_type": "code",
   "execution_count": null,
   "metadata": {},
   "outputs": [],
   "source": [
    "spatial_extent = pystac.SpatialExtent([[-7.57216793459, 49.959999905, 1.68153079591, 58.6350001085]])\n",
    "temporal_extent = pystac.TemporalExtent([[datetime(2011, 12, 16), None]])\n",
    "collection_extent = pystac.Extent(spatial_extent, temporal_extent)"
   ]
  },
  {
   "cell_type": "code",
   "execution_count": null,
   "metadata": {},
   "outputs": [],
   "source": [
    "collection = pystac.Collection(id=collection_id,\n",
    "                     title=collection_title,\n",
    "                     description=collection_description,\n",
    "                     extent=collection_extent)"
   ]
  },
  {
   "cell_type": "code",
   "execution_count": null,
   "metadata": {},
   "outputs": [
    {
     "data": {
      "text/plain": [
       "{'id': 'uksa-ssgp-pleiades',\n",
       " 'stac_version': '1.0.0-beta.2',\n",
       " 'description': '### UKSA / SSGP Pleiades\\n\\nA collection of Pleiades images over the UK. Procured by UKSA under its Space for Smarter Government Programme (SSGP).\\n',\n",
       " 'links': [{'rel': 'root', 'href': None, 'type': 'application/json'}],\n",
       " 'title': 'SSGP-procured Pleiades images over the UK',\n",
       " 'extent': {'spatial': {'bbox': [[-7.57216793459,\n",
       "     49.959999905,\n",
       "     1.68153079591,\n",
       "     58.6350001085]]},\n",
       "  'temporal': {'interval': [['2011-12-16T00:00:00Z', None]]}},\n",
       " 'license': 'proprietary'}"
      ]
     },
     "execution_count": null,
     "metadata": {},
     "output_type": "execute_result"
    }
   ],
   "source": [
    "collection.to_dict()"
   ]
  },
  {
   "cell_type": "code",
   "execution_count": null,
   "metadata": {},
   "outputs": [],
   "source": [
    "collection.providers = [\n",
    "    pystac.Provider(name='Airbus Defence & Space', roles=['producer'], url='https://www.airbus.com/space.html'),\n",
    "    pystac.Provider(name='UK Space Agency', roles=['licensor'], url='https://www.gov.uk/government/organisations/uk-space-agency'),\n",
    "    pystac.Provider(name='Satellite Applications Catapult', roles=['processor'], url='https://sa.catapult.org.uk/'),\n",
    "    pystac.Provider(name='Satellite Applications Catapult', roles=['host'], url='https://sa.catapult.org.uk/')\n",
    "]"
   ]
  },
  {
   "cell_type": "code",
   "execution_count": null,
   "metadata": {},
   "outputs": [],
   "source": [
    "collection.add_item(item)"
   ]
  },
  {
   "cell_type": "code",
   "execution_count": null,
   "metadata": {},
   "outputs": [
    {
     "data": {
      "text/plain": [
       "{'id': 'uksa-ssgp-pleiades',\n",
       " 'stac_version': '1.0.0-beta.2',\n",
       " 'description': '### UKSA / SSGP Pleiades\\n\\nA collection of Pleiades images over the UK. Procured by UKSA under its Space for Smarter Government Programme (SSGP).\\n',\n",
       " 'links': [{'rel': 'root',\n",
       "   'href': '/root/uksa-ssgp-pleiades/collection.json',\n",
       "   'type': 'application/json'},\n",
       "  {'rel': 'item',\n",
       "   'href': '/root/uksa-ssgp-pleiades/Pleiades_UKSA396_SO18034616-96-01_DS_PHR1B_201810241117221_FR1_PX_W002N51_0710_01712TPP1601069318/Pleiades_UKSA396_SO18034616-96-01_DS_PHR1B_201810241117221_FR1_PX_W002N51_0710_01712TPP1601069318.json',\n",
       "   'type': 'application/json'},\n",
       "  {'rel': 'self',\n",
       "   'href': '/root/uksa-ssgp-pleiades/collection.json',\n",
       "   'type': 'application/json'}],\n",
       " 'title': 'SSGP-procured Pleiades images over the UK',\n",
       " 'extent': {'spatial': {'bbox': [[-1.654267391010452,\n",
       "     51.3089303018909,\n",
       "     -1.343017308021802,\n",
       "     51.51106070120541]]},\n",
       "  'temporal': {'interval': [['2018-10-24T11:17:22Z',\n",
       "     '2018-10-24T11:17:22Z']]}},\n",
       " 'license': 'proprietary',\n",
       " 'providers': [{'name': 'Airbus Defence & Space',\n",
       "   'roles': ['producer'],\n",
       "   'url': 'https://www.airbus.com/space.html'},\n",
       "  {'name': 'UK Space Agency',\n",
       "   'roles': ['licensor'],\n",
       "   'url': 'https://www.gov.uk/government/organisations/uk-space-agency'},\n",
       "  {'name': 'Satellite Applications Catapult',\n",
       "   'roles': ['processor'],\n",
       "   'url': 'https://sa.catapult.org.uk/'},\n",
       "  {'name': 'Satellite Applications Catapult',\n",
       "   'roles': ['host'],\n",
       "   'url': 'https://sa.catapult.org.uk/'}]}"
      ]
     },
     "execution_count": null,
     "metadata": {},
     "output_type": "execute_result"
    }
   ],
   "source": [
    "collection.to_dict()"
   ]
  },
  {
   "cell_type": "code",
   "execution_count": null,
   "metadata": {},
   "outputs": [
    {
     "data": {
      "text/plain": [
       "{'spatial': {'bbox': [[-1.654267391010452,\n",
       "    51.3089303018909,\n",
       "    -1.343017308021802,\n",
       "    51.51106070120541]]},\n",
       " 'temporal': {'interval': [['2018-10-24T11:17:22Z', '2018-10-24T11:17:22Z']]}}"
      ]
     },
     "execution_count": null,
     "metadata": {},
     "output_type": "execute_result"
    }
   ],
   "source": [
    "collection.update_extent_from_items()\n",
    "collection.extent.to_dict()"
   ]
  },
  {
   "cell_type": "code",
   "execution_count": null,
   "metadata": {},
   "outputs": [
    {
     "data": {
      "text/plain": [
       "{'id': 'uksa-ssgp-pleiades',\n",
       " 'stac_version': '1.0.0-beta.2',\n",
       " 'description': '### UKSA / SSGP Pleiades\\n\\nA collection of Pleiades images over the UK. Procured by UKSA under its Space for Smarter Government Programme (SSGP).\\n',\n",
       " 'links': [{'rel': 'root', 'href': None, 'type': 'application/json'},\n",
       "  {'rel': 'item', 'href': None, 'type': 'application/json'}],\n",
       " 'title': 'SSGP-procured Pleiades images over the UK',\n",
       " 'extent': {'spatial': {'bbox': [[-1.654267391010452,\n",
       "     51.3089303018909,\n",
       "     -1.343017308021802,\n",
       "     51.51106070120541]]},\n",
       "  'temporal': {'interval': [['2018-10-24T11:17:22Z',\n",
       "     '2018-10-24T11:17:22Z']]}},\n",
       " 'license': 'proprietary',\n",
       " 'providers': [{'name': 'Airbus Defence & Space',\n",
       "   'roles': ['producer'],\n",
       "   'url': 'https://www.airbus.com/space.html'},\n",
       "  {'name': 'UK Space Agency',\n",
       "   'roles': ['procurer'],\n",
       "   'url': 'https://www.gov.uk/government/organisations/uk-space-agency'},\n",
       "  {'name': 'Satellite Applications Catapult',\n",
       "   'roles': ['processor'],\n",
       "   'url': 'https://sa.catapult.org.uk/'},\n",
       "  {'name': 'Satellite Applications Catapult',\n",
       "   'roles': ['host'],\n",
       "   'url': 'https://sa.catapult.org.uk/'}]}"
      ]
     },
     "execution_count": null,
     "metadata": {},
     "output_type": "execute_result"
    }
   ],
   "source": [
    "collection.to_dict()"
   ]
  },
  {
   "cell_type": "code",
   "execution_count": null,
   "metadata": {},
   "outputs": [],
   "source": [
    "from pathlib import Path"
   ]
  },
  {
   "cell_type": "code",
   "execution_count": null,
   "metadata": {},
   "outputs": [],
   "source": [
    "root_path = str(Path.home() / collection.id)"
   ]
  },
  {
   "cell_type": "code",
   "execution_count": null,
   "metadata": {},
   "outputs": [
    {
     "data": {
      "text/plain": [
       "'/root/uksa-ssgp-pleiades'"
      ]
     },
     "execution_count": null,
     "metadata": {},
     "output_type": "execute_result"
    }
   ],
   "source": [
    "root_path"
   ]
  },
  {
   "cell_type": "code",
   "execution_count": null,
   "metadata": {},
   "outputs": [
    {
     "data": {
      "text/plain": [
       "<Collection id=uksa-ssgp-pleiades>"
      ]
     },
     "execution_count": null,
     "metadata": {},
     "output_type": "execute_result"
    }
   ],
   "source": [
    "collection.normalize_hrefs(root_path)"
   ]
  },
  {
   "cell_type": "code",
   "execution_count": null,
   "metadata": {},
   "outputs": [],
   "source": [
    "collection.validate_all()"
   ]
  },
  {
   "cell_type": "code",
   "execution_count": null,
   "metadata": {},
   "outputs": [],
   "source": [
    "collection.save(pystac.CatalogType.SELF_CONTAINED)"
   ]
  },
  {
   "cell_type": "code",
   "execution_count": null,
   "metadata": {},
   "outputs": [
    {
     "name": "stdout",
     "output_type": "stream",
     "text": [
      "* <Collection id=uksa-ssgp-pleiades>\n",
      "  * <Item id=Pleiades_UKSA396_SO18034616-96-01_DS_PHR1B_201810241117221_FR1_PX_W002N51_0710_01712TPP1601069318>\n"
     ]
    }
   ],
   "source": [
    "collection.describe()"
   ]
  },
  {
   "cell_type": "code",
   "execution_count": null,
   "metadata": {},
   "outputs": [
    {
     "data": {
      "text/plain": [
       "{'id': 'uksa-ssgp-pleiades',\n",
       " 'stac_version': '1.0.0-beta.2',\n",
       " 'description': '### UKSA / SSGP Pleiades\\n\\nA collection of Pleiades images over the UK. Procured by UKSA under its Space for Smarter Government Programme (SSGP).\\n',\n",
       " 'links': [{'rel': 'root',\n",
       "   'href': './collection.json',\n",
       "   'type': 'application/json'},\n",
       "  {'rel': 'item',\n",
       "   'href': './Pleiades_UKSA396_SO18034616-96-01_DS_PHR1B_201810241117221_FR1_PX_W002N51_0710_01712TPP1601069318/Pleiades_UKSA396_SO18034616-96-01_DS_PHR1B_201810241117221_FR1_PX_W002N51_0710_01712TPP1601069318.json',\n",
       "   'type': 'application/json'},\n",
       "  {'rel': 'self',\n",
       "   'href': '/root/uksa-ssgp-pleiades/collection.json',\n",
       "   'type': 'application/json'}],\n",
       " 'title': 'SSGP-procured Pleiades images over the UK',\n",
       " 'extent': {'spatial': {'bbox': [[-1.654267391010452,\n",
       "     51.3089303018909,\n",
       "     -1.343017308021802,\n",
       "     51.51106070120541]]},\n",
       "  'temporal': {'interval': [['2018-10-24T11:17:22Z',\n",
       "     '2018-10-24T11:17:22Z']]}},\n",
       " 'license': 'proprietary',\n",
       " 'providers': [{'name': 'Airbus Defence & Space',\n",
       "   'roles': ['producer'],\n",
       "   'url': 'https://www.airbus.com/space.html'},\n",
       "  {'name': 'UK Space Agency',\n",
       "   'roles': ['licensor'],\n",
       "   'url': 'https://www.gov.uk/government/organisations/uk-space-agency'},\n",
       "  {'name': 'Satellite Applications Catapult',\n",
       "   'roles': ['processor'],\n",
       "   'url': 'https://sa.catapult.org.uk/'},\n",
       "  {'name': 'Satellite Applications Catapult',\n",
       "   'roles': ['host'],\n",
       "   'url': 'https://sa.catapult.org.uk/'}]}"
      ]
     },
     "execution_count": null,
     "metadata": {},
     "output_type": "execute_result"
    }
   ],
   "source": [
    "collection.to_dict()"
   ]
  },
  {
   "cell_type": "code",
   "execution_count": null,
   "metadata": {},
   "outputs": [
    {
     "ename": "KeyboardInterrupt",
     "evalue": "",
     "output_type": "error",
     "traceback": [
      "\u001b[0;31m---------------------------------------------------------------------------\u001b[0m",
      "\u001b[0;31mKeyboardInterrupt\u001b[0m                         Traceback (most recent call last)",
      "\u001b[0;32m<ipython-input-142-3e032debc920>\u001b[0m in \u001b[0;36m<module>\u001b[0;34m\u001b[0m\n\u001b[1;32m     13\u001b[0m \u001b[0;34m\u001b[0m\u001b[0m\n\u001b[1;32m     14\u001b[0m \u001b[0;32mwith\u001b[0m \u001b[0mHTTPServer\u001b[0m\u001b[0;34m(\u001b[0m\u001b[0;34m(\u001b[0m\u001b[0;34m'localhost'\u001b[0m\u001b[0;34m,\u001b[0m \u001b[0;36m5555\u001b[0m\u001b[0;34m)\u001b[0m\u001b[0;34m,\u001b[0m \u001b[0mCORSRequestHandler\u001b[0m\u001b[0;34m)\u001b[0m \u001b[0;32mas\u001b[0m \u001b[0mhttpd\u001b[0m\u001b[0;34m:\u001b[0m\u001b[0;34m\u001b[0m\u001b[0;34m\u001b[0m\u001b[0m\n\u001b[0;32m---> 15\u001b[0;31m     \u001b[0mhttpd\u001b[0m\u001b[0;34m.\u001b[0m\u001b[0mserve_forever\u001b[0m\u001b[0;34m(\u001b[0m\u001b[0;34m)\u001b[0m\u001b[0;34m\u001b[0m\u001b[0;34m\u001b[0m\u001b[0m\n\u001b[0m",
      "\u001b[0;32m/opt/conda/lib/python3.7/socketserver.py\u001b[0m in \u001b[0;36mserve_forever\u001b[0;34m(self, poll_interval)\u001b[0m\n\u001b[1;32m    230\u001b[0m \u001b[0;34m\u001b[0m\u001b[0m\n\u001b[1;32m    231\u001b[0m                 \u001b[0;32mwhile\u001b[0m \u001b[0;32mnot\u001b[0m \u001b[0mself\u001b[0m\u001b[0;34m.\u001b[0m\u001b[0m__shutdown_request\u001b[0m\u001b[0;34m:\u001b[0m\u001b[0;34m\u001b[0m\u001b[0;34m\u001b[0m\u001b[0m\n\u001b[0;32m--> 232\u001b[0;31m                     \u001b[0mready\u001b[0m \u001b[0;34m=\u001b[0m \u001b[0mselector\u001b[0m\u001b[0;34m.\u001b[0m\u001b[0mselect\u001b[0m\u001b[0;34m(\u001b[0m\u001b[0mpoll_interval\u001b[0m\u001b[0;34m)\u001b[0m\u001b[0;34m\u001b[0m\u001b[0;34m\u001b[0m\u001b[0m\n\u001b[0m\u001b[1;32m    233\u001b[0m                     \u001b[0;31m# bpo-35017: shutdown() called during select(), exit immediately.\u001b[0m\u001b[0;34m\u001b[0m\u001b[0;34m\u001b[0m\u001b[0;34m\u001b[0m\u001b[0m\n\u001b[1;32m    234\u001b[0m                     \u001b[0;32mif\u001b[0m \u001b[0mself\u001b[0m\u001b[0;34m.\u001b[0m\u001b[0m__shutdown_request\u001b[0m\u001b[0;34m:\u001b[0m\u001b[0;34m\u001b[0m\u001b[0;34m\u001b[0m\u001b[0m\n",
      "\u001b[0;32m/opt/conda/lib/python3.7/selectors.py\u001b[0m in \u001b[0;36mselect\u001b[0;34m(self, timeout)\u001b[0m\n\u001b[1;32m    413\u001b[0m         \u001b[0mready\u001b[0m \u001b[0;34m=\u001b[0m \u001b[0;34m[\u001b[0m\u001b[0;34m]\u001b[0m\u001b[0;34m\u001b[0m\u001b[0;34m\u001b[0m\u001b[0m\n\u001b[1;32m    414\u001b[0m         \u001b[0;32mtry\u001b[0m\u001b[0;34m:\u001b[0m\u001b[0;34m\u001b[0m\u001b[0;34m\u001b[0m\u001b[0m\n\u001b[0;32m--> 415\u001b[0;31m             \u001b[0mfd_event_list\u001b[0m \u001b[0;34m=\u001b[0m \u001b[0mself\u001b[0m\u001b[0;34m.\u001b[0m\u001b[0m_selector\u001b[0m\u001b[0;34m.\u001b[0m\u001b[0mpoll\u001b[0m\u001b[0;34m(\u001b[0m\u001b[0mtimeout\u001b[0m\u001b[0;34m)\u001b[0m\u001b[0;34m\u001b[0m\u001b[0;34m\u001b[0m\u001b[0m\n\u001b[0m\u001b[1;32m    416\u001b[0m         \u001b[0;32mexcept\u001b[0m \u001b[0mInterruptedError\u001b[0m\u001b[0;34m:\u001b[0m\u001b[0;34m\u001b[0m\u001b[0;34m\u001b[0m\u001b[0m\n\u001b[1;32m    417\u001b[0m             \u001b[0;32mreturn\u001b[0m \u001b[0mready\u001b[0m\u001b[0;34m\u001b[0m\u001b[0;34m\u001b[0m\u001b[0m\n",
      "\u001b[0;31mKeyboardInterrupt\u001b[0m: "
     ]
    }
   ],
   "source": [
    "import os\n",
    "from http.server import HTTPServer, SimpleHTTPRequestHandler\n",
    "\n",
    "os.chdir(root_path)\n",
    "\n",
    "class CORSRequestHandler(SimpleHTTPRequestHandler):\n",
    "    def end_headers(self):\n",
    "        self.send_header('Access-Control-Allow-Origin', '*')\n",
    "        self.send_header('Access-Control-Allow-Methods', 'GET')\n",
    "        self.send_header('Cache-Control', 'no-store, no-cache, must-revalidate')\n",
    "        return super(CORSRequestHandler, self).end_headers()\n",
    "\n",
    "\n",
    "with HTTPServer(('localhost', 5555), CORSRequestHandler) as httpd:\n",
    "    httpd.serve_forever()"
   ]
  },
  {
   "cell_type": "markdown",
   "metadata": {},
   "source": [
    "## Export"
   ]
  },
  {
   "cell_type": "code",
   "execution_count": null,
   "metadata": {},
   "outputs": [
    {
     "name": "stdout",
     "output_type": "stream",
     "text": [
      "Converted 00_utils.ipynb.\n",
      "Converted 01_pleiades.ipynb.\n",
      "Converted index.ipynb.\n"
     ]
    }
   ],
   "source": [
    "from nbdev.export import notebook2script; notebook2script()"
   ]
  }
 ],
 "metadata": {
  "kernelspec": {
   "display_name": "Python 3",
   "language": "python",
   "name": "python3"
  }
 },
 "nbformat": 4,
 "nbformat_minor": 4
}
