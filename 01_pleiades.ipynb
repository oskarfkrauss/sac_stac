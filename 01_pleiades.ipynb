{
 "cells": [
  {
   "cell_type": "code",
   "execution_count": null,
   "metadata": {},
   "outputs": [],
   "source": [
    "#default_exp pleiades"
   ]
  },
  {
   "cell_type": "markdown",
   "metadata": {},
   "source": [
    "# Pleiades Example\n",
    "\n",
    "> Working through conversion to cogs, upload to object storage, stack item metadata parsing, etc. for pleiades datasets"
   ]
  },
  {
   "cell_type": "code",
   "execution_count": null,
   "metadata": {},
   "outputs": [
    {
     "name": "stdout",
     "output_type": "stream",
     "text": [
      "The autoreload extension is already loaded. To reload it, use:\n",
      "  %reload_ext autoreload\n"
     ]
    }
   ],
   "source": [
    "#hide\n",
    "%load_ext autoreload\n",
    "%autoreload 2"
   ]
  },
  {
   "cell_type": "code",
   "execution_count": null,
   "metadata": {},
   "outputs": [],
   "source": [
    "#hide\n",
    "from nbdev.showdoc import *"
   ]
  },
  {
   "cell_type": "code",
   "execution_count": null,
   "metadata": {},
   "outputs": [],
   "source": [
    "#export\n",
    "from sac_stac.utils import sedas_find_datasets, sedas_download, sedas_extract"
   ]
  },
  {
   "cell_type": "code",
   "execution_count": null,
   "metadata": {},
   "outputs": [],
   "source": [
    "import pandas as pd\n",
    "import os"
   ]
  },
  {
   "cell_type": "code",
   "execution_count": null,
   "metadata": {},
   "outputs": [],
   "source": [
    "import geopandas as gpd"
   ]
  },
  {
   "cell_type": "markdown",
   "metadata": {},
   "source": [
    "## Find some useful samples"
   ]
  },
  {
   "cell_type": "markdown",
   "metadata": {},
   "source": [
    "Probably best if we find some samples to work through the process."
   ]
  },
  {
   "cell_type": "code",
   "execution_count": null,
   "metadata": {},
   "outputs": [
    {
     "data": {
      "text/html": [
       "<div>\n",
       "<style scoped>\n",
       "    .dataframe tbody tr th:only-of-type {\n",
       "        vertical-align: middle;\n",
       "    }\n",
       "\n",
       "    .dataframe tbody tr th {\n",
       "        vertical-align: top;\n",
       "    }\n",
       "\n",
       "    .dataframe thead th {\n",
       "        text-align: right;\n",
       "    }\n",
       "</style>\n",
       "<table border=\"1\" class=\"dataframe\">\n",
       "  <thead>\n",
       "    <tr style=\"text-align: right;\">\n",
       "      <th></th>\n",
       "      <th>productId</th>\n",
       "      <th>supplierId</th>\n",
       "      <th>type</th>\n",
       "      <th>satelliteName</th>\n",
       "      <th>instrumentName</th>\n",
       "      <th>modeName</th>\n",
       "      <th>sensorType</th>\n",
       "      <th>sensorResolution</th>\n",
       "      <th>coordinatesWKT</th>\n",
       "      <th>start</th>\n",
       "      <th>...</th>\n",
       "      <th>area</th>\n",
       "      <th>aoiCoveragePercent</th>\n",
       "      <th>usefulAreaPercent</th>\n",
       "      <th>cloudCoveragePercent</th>\n",
       "      <th>productType</th>\n",
       "      <th>latency</th>\n",
       "      <th>ql</th>\n",
       "      <th>thumbnail</th>\n",
       "      <th>vendorSpecific</th>\n",
       "      <th>downloadUrl</th>\n",
       "    </tr>\n",
       "  </thead>\n",
       "  <tbody>\n",
       "    <tr>\n",
       "      <th>0</th>\n",
       "      <td>c0ec9a5f12356e87bc910ddbc49dbb76</td>\n",
       "      <td>Pleiades_UKSA396_SO18034616-96-01_DS_PHR1B_201...</td>\n",
       "      <td>ARCHIVE</td>\n",
       "      <td>Pleiades-1B</td>\n",
       "      <td>MS/PAN</td>\n",
       "      <td>0.000</td>\n",
       "      <td>Optical</td>\n",
       "      <td>2.0</td>\n",
       "      <td>POLYGON((-1.654728 51.309517,-1.345414 51.3081...</td>\n",
       "      <td>2018-10-24T11:17:22Z</td>\n",
       "      <td>...</td>\n",
       "      <td>4.825125e+08</td>\n",
       "      <td>1.0</td>\n",
       "      <td>5.0</td>\n",
       "      <td>0.0</td>\n",
       "      <td>L3</td>\n",
       "      <td>Standard</td>\n",
       "      <td>https://geobrowser.satapps.org/archiveql/aeweb...</td>\n",
       "      <td>https://sedasdm.satapps.org/qls/qlmgr.php?scen...</td>\n",
       "      <td>{'property': 'vendorSpecific', 'Filehash': 'cf...</td>\n",
       "      <td>https://sedasdm.satapps.org/datamgr/datamgr.ph...</td>\n",
       "    </tr>\n",
       "    <tr>\n",
       "      <th>1</th>\n",
       "      <td>94cc7887414be0912de7ca44288f79da</td>\n",
       "      <td>Pleiades_UKSA174_SO18034614-74-01_DS_PHR1A_201...</td>\n",
       "      <td>ARCHIVE</td>\n",
       "      <td>Pleiades-1A</td>\n",
       "      <td>MS/PAN</td>\n",
       "      <td>0.000</td>\n",
       "      <td>Optical</td>\n",
       "      <td>2.0</td>\n",
       "      <td>POLYGON((-2.153852 51.603313,-1.841533 51.6033...</td>\n",
       "      <td>2018-09-29T11:10:08Z</td>\n",
       "      <td>...</td>\n",
       "      <td>1.565260e+08</td>\n",
       "      <td>2.0</td>\n",
       "      <td>22.0</td>\n",
       "      <td>0.0</td>\n",
       "      <td>L3</td>\n",
       "      <td>Standard</td>\n",
       "      <td>https://geobrowser.satapps.org/archiveql/aeweb...</td>\n",
       "      <td>https://sedasdm.satapps.org/qls/qlmgr.php?scen...</td>\n",
       "      <td>{'property': 'vendorSpecific', 'Filehash': '4b...</td>\n",
       "      <td>https://sedasdm.satapps.org/datamgr/datamgr.ph...</td>\n",
       "    </tr>\n",
       "    <tr>\n",
       "      <th>2</th>\n",
       "      <td>6ac7da92a92161839c0bf29ab1b878d3</td>\n",
       "      <td>Pleiades_UKSA173_SO18034614-73-01_DS_PHR1A_201...</td>\n",
       "      <td>ARCHIVE</td>\n",
       "      <td>Pleiades-1A</td>\n",
       "      <td>MS/PAN</td>\n",
       "      <td>0.000</td>\n",
       "      <td>Optical</td>\n",
       "      <td>2.0</td>\n",
       "      <td>POLYGON((-1.903588 51.628784,-1.592515 51.6281...</td>\n",
       "      <td>2018-09-29T11:10:00Z</td>\n",
       "      <td>...</td>\n",
       "      <td>1.796598e+08</td>\n",
       "      <td>10.0</td>\n",
       "      <td>100.0</td>\n",
       "      <td>0.0</td>\n",
       "      <td>L3</td>\n",
       "      <td>Standard</td>\n",
       "      <td>https://geobrowser.satapps.org/archiveql/aeweb...</td>\n",
       "      <td>https://sedasdm.satapps.org/qls/qlmgr.php?scen...</td>\n",
       "      <td>{'property': 'vendorSpecific', 'Filehash': 'e6...</td>\n",
       "      <td>https://sedasdm.satapps.org/datamgr/datamgr.ph...</td>\n",
       "    </tr>\n",
       "    <tr>\n",
       "      <th>3</th>\n",
       "      <td>dd08a178209ed51cc57f5caef1e1ad7c</td>\n",
       "      <td>Pleiades_UKSA341_SO18034616-41-01_DS_PHR1B_201...</td>\n",
       "      <td>ARCHIVE</td>\n",
       "      <td>Pleiades-1B</td>\n",
       "      <td>MS/PAN</td>\n",
       "      <td>0.000</td>\n",
       "      <td>Optical</td>\n",
       "      <td>2.0</td>\n",
       "      <td>POLYGON((-1.401923 51.155725,-1.101068 51.1538...</td>\n",
       "      <td>2018-09-02T11:17:34Z</td>\n",
       "      <td>...</td>\n",
       "      <td>8.211908e+08</td>\n",
       "      <td>1.0</td>\n",
       "      <td>1.0</td>\n",
       "      <td>0.0</td>\n",
       "      <td>L3</td>\n",
       "      <td>Standard</td>\n",
       "      <td>https://geobrowser.satapps.org/archiveql/aeweb...</td>\n",
       "      <td>https://sedasdm.satapps.org/qls/qlmgr.php?scen...</td>\n",
       "      <td>{'property': 'vendorSpecific', 'Filehash': 'a5...</td>\n",
       "      <td>https://sedasdm.satapps.org/datamgr/datamgr.ph...</td>\n",
       "    </tr>\n",
       "    <tr>\n",
       "      <th>4</th>\n",
       "      <td>97528406bc14d1c94ef22d20b4b26c7a</td>\n",
       "      <td>Pleiades_UKSA305_SO18034616-5-01_DS_PHR1B_2018...</td>\n",
       "      <td>ARCHIVE</td>\n",
       "      <td>Pleiades-1B</td>\n",
       "      <td>MS/PAN</td>\n",
       "      <td>0.000</td>\n",
       "      <td>Optical</td>\n",
       "      <td>2.0</td>\n",
       "      <td>POLYGON((-1.576165 51.728406,-1.265721 51.7268...</td>\n",
       "      <td>2018-07-24T11:24:30Z</td>\n",
       "      <td>...</td>\n",
       "      <td>4.256422e+08</td>\n",
       "      <td>11.0</td>\n",
       "      <td>46.0</td>\n",
       "      <td>1.0</td>\n",
       "      <td>L3</td>\n",
       "      <td>Standard</td>\n",
       "      <td>https://geobrowser.satapps.org/archiveql/aeweb...</td>\n",
       "      <td>https://sedasdm.satapps.org/qls/qlmgr.php?scen...</td>\n",
       "      <td>{'property': 'vendorSpecific', 'Filehash': '77...</td>\n",
       "      <td>https://sedasdm.satapps.org/datamgr/datamgr.ph...</td>\n",
       "    </tr>\n",
       "    <tr>\n",
       "      <th>5</th>\n",
       "      <td>3e8d4c9096b3ba5c7126499e442424f5</td>\n",
       "      <td>Pleiades_UKSA87_SO18034613-87-01_DS_PHR1A_2018...</td>\n",
       "      <td>ARCHIVE</td>\n",
       "      <td>Pleiades-1A</td>\n",
       "      <td>MS/PAN</td>\n",
       "      <td>0.000</td>\n",
       "      <td>Optical</td>\n",
       "      <td>2.0</td>\n",
       "      <td>POLYGON((-1.413484 51.469752,-1.089638 51.4676...</td>\n",
       "      <td>2018-06-29T11:18:17Z</td>\n",
       "      <td>...</td>\n",
       "      <td>9.264473e+08</td>\n",
       "      <td>34.0</td>\n",
       "      <td>67.0</td>\n",
       "      <td>0.0</td>\n",
       "      <td>L3</td>\n",
       "      <td>Standard</td>\n",
       "      <td>https://geobrowser.satapps.org/archiveql/aeweb...</td>\n",
       "      <td>https://sedasdm.satapps.org/qls/qlmgr.php?scen...</td>\n",
       "      <td>{'property': 'vendorSpecific', 'Filehash': '7f...</td>\n",
       "      <td>https://sedasdm.satapps.org/datamgr/datamgr.ph...</td>\n",
       "    </tr>\n",
       "    <tr>\n",
       "      <th>6</th>\n",
       "      <td>b5ff24c70eba28f3ec7292c356fb27b0</td>\n",
       "      <td>Pleiades_UKSA204_SO18034615-4-01_DS_PHR1B_2018...</td>\n",
       "      <td>ARCHIVE</td>\n",
       "      <td>Pleiades-1B</td>\n",
       "      <td>MS/PAN</td>\n",
       "      <td>0.000</td>\n",
       "      <td>Optical</td>\n",
       "      <td>2.0</td>\n",
       "      <td>POLYGON((-1.928964 51.516819,-1.63821 51.51628...</td>\n",
       "      <td>2018-02-25T11:21:25Z</td>\n",
       "      <td>...</td>\n",
       "      <td>2.385591e+08</td>\n",
       "      <td>12.0</td>\n",
       "      <td>94.0</td>\n",
       "      <td>0.0</td>\n",
       "      <td>L3</td>\n",
       "      <td>Standard</td>\n",
       "      <td>https://geobrowser.satapps.org/archiveql/aeweb...</td>\n",
       "      <td>https://sedasdm.satapps.org/qls/qlmgr.php?scen...</td>\n",
       "      <td>{'property': 'vendorSpecific', 'Filehash': '4b...</td>\n",
       "      <td>https://sedasdm.satapps.org/datamgr/datamgr.ph...</td>\n",
       "    </tr>\n",
       "    <tr>\n",
       "      <th>7</th>\n",
       "      <td>92fe8121944a5267861d31597afb016a</td>\n",
       "      <td>Pleiades_UKSA7_SO18034613-7-01_DS_PHR1A_201802...</td>\n",
       "      <td>ARCHIVE</td>\n",
       "      <td>Pleiades-1A</td>\n",
       "      <td>MS/PAN</td>\n",
       "      <td>0.000</td>\n",
       "      <td>Optical</td>\n",
       "      <td>2.0</td>\n",
       "      <td>POLYGON((-1.606218 51.306711,-1.294645 51.3052...</td>\n",
       "      <td>2018-02-24T11:27:55Z</td>\n",
       "      <td>...</td>\n",
       "      <td>6.639221e+08</td>\n",
       "      <td>11.0</td>\n",
       "      <td>29.0</td>\n",
       "      <td>0.0</td>\n",
       "      <td>L3</td>\n",
       "      <td>Standard</td>\n",
       "      <td>https://geobrowser.satapps.org/archiveql/aeweb...</td>\n",
       "      <td>https://sedasdm.satapps.org/qls/qlmgr.php?scen...</td>\n",
       "      <td>{'property': 'vendorSpecific', 'Filehash': 'ef...</td>\n",
       "      <td>https://sedasdm.satapps.org/datamgr/datamgr.ph...</td>\n",
       "    </tr>\n",
       "  </tbody>\n",
       "</table>\n",
       "<p>8 rows × 22 columns</p>\n",
       "</div>"
      ],
      "text/plain": [
       "                          productId  \\\n",
       "0  c0ec9a5f12356e87bc910ddbc49dbb76   \n",
       "1  94cc7887414be0912de7ca44288f79da   \n",
       "2  6ac7da92a92161839c0bf29ab1b878d3   \n",
       "3  dd08a178209ed51cc57f5caef1e1ad7c   \n",
       "4  97528406bc14d1c94ef22d20b4b26c7a   \n",
       "5  3e8d4c9096b3ba5c7126499e442424f5   \n",
       "6  b5ff24c70eba28f3ec7292c356fb27b0   \n",
       "7  92fe8121944a5267861d31597afb016a   \n",
       "\n",
       "                                          supplierId     type satelliteName  \\\n",
       "0  Pleiades_UKSA396_SO18034616-96-01_DS_PHR1B_201...  ARCHIVE   Pleiades-1B   \n",
       "1  Pleiades_UKSA174_SO18034614-74-01_DS_PHR1A_201...  ARCHIVE   Pleiades-1A   \n",
       "2  Pleiades_UKSA173_SO18034614-73-01_DS_PHR1A_201...  ARCHIVE   Pleiades-1A   \n",
       "3  Pleiades_UKSA341_SO18034616-41-01_DS_PHR1B_201...  ARCHIVE   Pleiades-1B   \n",
       "4  Pleiades_UKSA305_SO18034616-5-01_DS_PHR1B_2018...  ARCHIVE   Pleiades-1B   \n",
       "5  Pleiades_UKSA87_SO18034613-87-01_DS_PHR1A_2018...  ARCHIVE   Pleiades-1A   \n",
       "6  Pleiades_UKSA204_SO18034615-4-01_DS_PHR1B_2018...  ARCHIVE   Pleiades-1B   \n",
       "7  Pleiades_UKSA7_SO18034613-7-01_DS_PHR1A_201802...  ARCHIVE   Pleiades-1A   \n",
       "\n",
       "  instrumentName modeName sensorType  sensorResolution  \\\n",
       "0         MS/PAN    0.000    Optical               2.0   \n",
       "1         MS/PAN    0.000    Optical               2.0   \n",
       "2         MS/PAN    0.000    Optical               2.0   \n",
       "3         MS/PAN    0.000    Optical               2.0   \n",
       "4         MS/PAN    0.000    Optical               2.0   \n",
       "5         MS/PAN    0.000    Optical               2.0   \n",
       "6         MS/PAN    0.000    Optical               2.0   \n",
       "7         MS/PAN    0.000    Optical               2.0   \n",
       "\n",
       "                                      coordinatesWKT                 start  \\\n",
       "0  POLYGON((-1.654728 51.309517,-1.345414 51.3081...  2018-10-24T11:17:22Z   \n",
       "1  POLYGON((-2.153852 51.603313,-1.841533 51.6033...  2018-09-29T11:10:08Z   \n",
       "2  POLYGON((-1.903588 51.628784,-1.592515 51.6281...  2018-09-29T11:10:00Z   \n",
       "3  POLYGON((-1.401923 51.155725,-1.101068 51.1538...  2018-09-02T11:17:34Z   \n",
       "4  POLYGON((-1.576165 51.728406,-1.265721 51.7268...  2018-07-24T11:24:30Z   \n",
       "5  POLYGON((-1.413484 51.469752,-1.089638 51.4676...  2018-06-29T11:18:17Z   \n",
       "6  POLYGON((-1.928964 51.516819,-1.63821 51.51628...  2018-02-25T11:21:25Z   \n",
       "7  POLYGON((-1.606218 51.306711,-1.294645 51.3052...  2018-02-24T11:27:55Z   \n",
       "\n",
       "   ...          area aoiCoveragePercent  usefulAreaPercent  \\\n",
       "0  ...  4.825125e+08                1.0                5.0   \n",
       "1  ...  1.565260e+08                2.0               22.0   \n",
       "2  ...  1.796598e+08               10.0              100.0   \n",
       "3  ...  8.211908e+08                1.0                1.0   \n",
       "4  ...  4.256422e+08               11.0               46.0   \n",
       "5  ...  9.264473e+08               34.0               67.0   \n",
       "6  ...  2.385591e+08               12.0               94.0   \n",
       "7  ...  6.639221e+08               11.0               29.0   \n",
       "\n",
       "   cloudCoveragePercent  productType   latency  \\\n",
       "0                   0.0           L3  Standard   \n",
       "1                   0.0           L3  Standard   \n",
       "2                   0.0           L3  Standard   \n",
       "3                   0.0           L3  Standard   \n",
       "4                   1.0           L3  Standard   \n",
       "5                   0.0           L3  Standard   \n",
       "6                   0.0           L3  Standard   \n",
       "7                   0.0           L3  Standard   \n",
       "\n",
       "                                                  ql  \\\n",
       "0  https://geobrowser.satapps.org/archiveql/aeweb...   \n",
       "1  https://geobrowser.satapps.org/archiveql/aeweb...   \n",
       "2  https://geobrowser.satapps.org/archiveql/aeweb...   \n",
       "3  https://geobrowser.satapps.org/archiveql/aeweb...   \n",
       "4  https://geobrowser.satapps.org/archiveql/aeweb...   \n",
       "5  https://geobrowser.satapps.org/archiveql/aeweb...   \n",
       "6  https://geobrowser.satapps.org/archiveql/aeweb...   \n",
       "7  https://geobrowser.satapps.org/archiveql/aeweb...   \n",
       "\n",
       "                                           thumbnail  \\\n",
       "0  https://sedasdm.satapps.org/qls/qlmgr.php?scen...   \n",
       "1  https://sedasdm.satapps.org/qls/qlmgr.php?scen...   \n",
       "2  https://sedasdm.satapps.org/qls/qlmgr.php?scen...   \n",
       "3  https://sedasdm.satapps.org/qls/qlmgr.php?scen...   \n",
       "4  https://sedasdm.satapps.org/qls/qlmgr.php?scen...   \n",
       "5  https://sedasdm.satapps.org/qls/qlmgr.php?scen...   \n",
       "6  https://sedasdm.satapps.org/qls/qlmgr.php?scen...   \n",
       "7  https://sedasdm.satapps.org/qls/qlmgr.php?scen...   \n",
       "\n",
       "                                      vendorSpecific  \\\n",
       "0  {'property': 'vendorSpecific', 'Filehash': 'cf...   \n",
       "1  {'property': 'vendorSpecific', 'Filehash': '4b...   \n",
       "2  {'property': 'vendorSpecific', 'Filehash': 'e6...   \n",
       "3  {'property': 'vendorSpecific', 'Filehash': 'a5...   \n",
       "4  {'property': 'vendorSpecific', 'Filehash': '77...   \n",
       "5  {'property': 'vendorSpecific', 'Filehash': '7f...   \n",
       "6  {'property': 'vendorSpecific', 'Filehash': '4b...   \n",
       "7  {'property': 'vendorSpecific', 'Filehash': 'ef...   \n",
       "\n",
       "                                         downloadUrl  \n",
       "0  https://sedasdm.satapps.org/datamgr/datamgr.ph...  \n",
       "1  https://sedasdm.satapps.org/datamgr/datamgr.ph...  \n",
       "2  https://sedasdm.satapps.org/datamgr/datamgr.ph...  \n",
       "3  https://sedasdm.satapps.org/datamgr/datamgr.ph...  \n",
       "4  https://sedasdm.satapps.org/datamgr/datamgr.ph...  \n",
       "5  https://sedasdm.satapps.org/datamgr/datamgr.ph...  \n",
       "6  https://sedasdm.satapps.org/datamgr/datamgr.ph...  \n",
       "7  https://sedasdm.satapps.org/datamgr/datamgr.ph...  \n",
       "\n",
       "[8 rows x 22 columns]"
      ]
     },
     "execution_count": null,
     "metadata": {},
     "output_type": "execute_result"
    }
   ],
   "source": [
    "result = sedas_find_datasets(\"POLYGON((-1.91 51.81,-1.15 51.81,-1.15 51.50,-1.91 51.50,-1.91 51.81))\", \n",
    "                             \"2000-01-01T00:00:00Z\", \n",
    "                             \"2020-10-27T00:00:00Z\",\n",
    "                             \"Pleiades\"\n",
    "                            )\n",
    "pd.DataFrame(result['products'])"
   ]
  },
  {
   "cell_type": "markdown",
   "metadata": {},
   "source": [
    "## Use single example"
   ]
  },
  {
   "cell_type": "code",
   "execution_count": null,
   "metadata": {},
   "outputs": [
    {
     "data": {
      "text/plain": [
       "'Pleiades_UKSA396_SO18034616-96-01_DS_PHR1B_201810241117221_FR1_PX_W002N51_0710_01712'"
      ]
     },
     "execution_count": null,
     "metadata": {},
     "output_type": "execute_result"
    }
   ],
   "source": [
    "wd = \"/tmp/data/\"\n",
    "\n",
    "scene_res = result['products'][0]\n",
    "scene_name = sedas_res['supplierId']\n",
    "scene_name"
   ]
  },
  {
   "cell_type": "code",
   "execution_count": null,
   "metadata": {},
   "outputs": [
    {
     "data": {
      "text/plain": [
       "{'productId': 'c0ec9a5f12356e87bc910ddbc49dbb76',\n",
       " 'supplierId': 'Pleiades_UKSA396_SO18034616-96-01_DS_PHR1B_201810241117221_FR1_PX_W002N51_0710_01712',\n",
       " 'type': 'ARCHIVE',\n",
       " 'satelliteName': 'Pleiades-1B',\n",
       " 'instrumentName': 'MS/PAN',\n",
       " 'modeName': '0.000',\n",
       " 'sensorType': 'Optical',\n",
       " 'sensorResolution': 2.0,\n",
       " 'coordinatesWKT': 'POLYGON((-1.654728 51.309517,-1.345414 51.308197,-1.342538 51.509259,-1.653212 51.510588,-1.654728 51.309517))',\n",
       " 'start': '2018-10-24T11:17:22Z',\n",
       " 'stop': '2018-10-24T11:17:24Z',\n",
       " 'orbitDirection': 'DESCENDING',\n",
       " 'area': 482512528.74,\n",
       " 'aoiCoveragePercent': 1.0,\n",
       " 'usefulAreaPercent': 5.0,\n",
       " 'cloudCoveragePercent': 0.0,\n",
       " 'productType': 'L3',\n",
       " 'latency': 'Standard',\n",
       " 'ql': 'https://geobrowser.satapps.org/archiveql/aewebpub/getaeql.php?aeimgid=c0ec9a5f12356e87bc910ddbc49dbb76&aeimgtype=ql&epsg=3857&',\n",
       " 'thumbnail': 'https://sedasdm.satapps.org/qls/qlmgr.php?sceneid=UKSA/pleiades/Pleiades_UKSA396_SO18034616-96-01_DS_PHR1B_201810241117221_FR1_PX_W002N51_0710_01712/c0ec9a5f12356e87bc910ddbc49dbb76/geo-quick-look-thumb.png',\n",
       " 'vendorSpecific': {'property': 'vendorSpecific',\n",
       "  'Filehash': 'cfa0e45b42c7d03850a0cbe9d3c5af6f',\n",
       "  'Identifier': 'Pleiades_UKSA396_SO18034616-96-01_DS_PHR1B_201810241117221_FR1_PX_W002N51_0710_01712',\n",
       "  'FilesizeBytes': '2608835665',\n",
       "  'Supplier Product ID': 'DS_PHR1B_201810241117221_FR1_PX_W002N51_0710_01712',\n",
       "  'Processing Level': 'ORTHO',\n",
       "  'Projected CRS Code': 'urn:ogc:def:crs:EPSG::27700'},\n",
       " 'downloadUrl': 'https://sedasdm.satapps.org/datamgr/datamgr.php?p=SSGP&sceneid=Pleiades_UKSA396_SO18034616-96-01_DS_PHR1B_201810241117221_FR1_PX_W002N51_0710_01712.zip'}"
      ]
     },
     "execution_count": null,
     "metadata": {},
     "output_type": "execute_result"
    }
   ],
   "source": [
    "scene_res"
   ]
  },
  {
   "cell_type": "markdown",
   "metadata": {},
   "source": [
    "## Download & Extract"
   ]
  },
  {
   "cell_type": "markdown",
   "metadata": {},
   "source": [
    "create zip path to download into from sedas result"
   ]
  },
  {
   "cell_type": "code",
   "execution_count": null,
   "metadata": {},
   "outputs": [
    {
     "data": {
      "text/plain": [
       "'/tmp/data/Pleiades_UKSA396_SO18034616-96-01_DS_PHR1B_201810241117221_FR1_PX_W002N51_0710_01712.zip'"
      ]
     },
     "execution_count": null,
     "metadata": {},
     "output_type": "execute_result"
    }
   ],
   "source": [
    "down_zip = f\"{wd}{scene_res['supplierId']}.zip\"\n",
    "down_zip"
   ]
  },
  {
   "cell_type": "markdown",
   "metadata": {},
   "source": [
    "download the scene"
   ]
  },
  {
   "cell_type": "code",
   "execution_count": null,
   "metadata": {},
   "outputs": [],
   "source": [
    "sedas_download(scene_res, down_zip)"
   ]
  },
  {
   "cell_type": "code",
   "execution_count": null,
   "metadata": {},
   "outputs": [
    {
     "data": {
      "text/plain": [
       "True"
      ]
     },
     "execution_count": null,
     "metadata": {},
     "output_type": "execute_result"
    }
   ],
   "source": [
    "os.path.exists(down_zip)"
   ]
  },
  {
   "cell_type": "markdown",
   "metadata": {},
   "source": [
    "create a scene directory path to extract into"
   ]
  },
  {
   "cell_type": "code",
   "execution_count": null,
   "metadata": {},
   "outputs": [
    {
     "data": {
      "text/plain": [
       "'/tmp/data/Pleiades_UKSA396_SO18034616-96-01_DS_PHR1B_201810241117221_FR1_PX_W002N51_0710_01712/'"
      ]
     },
     "execution_count": null,
     "metadata": {},
     "output_type": "execute_result"
    }
   ],
   "source": [
    "scene_dir = f\"{down_zip[:-4]}/\"\n",
    "scene_dir"
   ]
  },
  {
   "cell_type": "markdown",
   "metadata": {},
   "source": [
    "extract"
   ]
  },
  {
   "cell_type": "code",
   "execution_count": null,
   "metadata": {},
   "outputs": [],
   "source": [
    "sedas_extract(down_zip, scene_dir)"
   ]
  },
  {
   "cell_type": "markdown",
   "metadata": {},
   "source": [
    "## Mosaic & COG"
   ]
  },
  {
   "cell_type": "code",
   "execution_count": null,
   "metadata": {},
   "outputs": [],
   "source": []
  },
  {
   "cell_type": "code",
   "execution_count": null,
   "metadata": {},
   "outputs": [],
   "source": []
  },
  {
   "cell_type": "code",
   "execution_count": null,
   "metadata": {},
   "outputs": [],
   "source": []
  },
  {
   "cell_type": "code",
   "execution_count": null,
   "metadata": {},
   "outputs": [],
   "source": []
  },
  {
   "cell_type": "code",
   "execution_count": null,
   "metadata": {},
   "outputs": [],
   "source": []
  },
  {
   "cell_type": "markdown",
   "metadata": {},
   "source": [
    "## Export"
   ]
  },
  {
   "cell_type": "code",
   "execution_count": null,
   "metadata": {},
   "outputs": [
    {
     "name": "stdout",
     "output_type": "stream",
     "text": [
      "Converted 00_core.ipynb.\n",
      "Converted index.ipynb.\n"
     ]
    }
   ],
   "source": [
    "from nbdev.export import notebook2script; notebook2script()"
   ]
  }
 ],
 "metadata": {
  "kernelspec": {
   "display_name": "Python 3",
   "language": "python",
   "name": "python3"
  }
 },
 "nbformat": 4,
 "nbformat_minor": 4
}
