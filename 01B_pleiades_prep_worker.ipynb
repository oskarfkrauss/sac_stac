{
 "cells": [
  {
   "cell_type": "code",
   "execution_count": 1,
   "metadata": {},
   "outputs": [],
   "source": [
    "#default_exp pleiades_prep_worker"
   ]
  },
  {
   "cell_type": "markdown",
   "metadata": {},
   "source": [
    "# Pleiades Job\n",
    "\n",
    "> Data prep workflow via redis: testing and deployment."
   ]
  },
  {
   "cell_type": "markdown",
   "metadata": {},
   "source": [
    "This notebook is used to troubleshoot the the data prep workflow when deployed as job to worker via redis queue. Thanks to using nbdev it is also used as the actual deployment script exported from this notebook: `pleiades_prep_worker`."
   ]
  },
  {
   "cell_type": "code",
   "execution_count": 2,
   "metadata": {},
   "outputs": [],
   "source": [
    "#hide\n",
    "%load_ext autoreload\n",
    "%autoreload 2"
   ]
  },
  {
   "cell_type": "code",
   "execution_count": 3,
   "metadata": {},
   "outputs": [],
   "source": [
    "#hide\n",
    "from nbdev.showdoc import *"
   ]
  },
  {
   "cell_type": "markdown",
   "metadata": {},
   "source": [
    "## Prep Workflow"
   ]
  },
  {
   "cell_type": "code",
   "execution_count": 4,
   "metadata": {},
   "outputs": [],
   "source": [
    "#export\n",
    "import json\n",
    "from sac_stac.pleiades import prep_pleiades"
   ]
  },
  {
   "cell_type": "code",
   "execution_count": 5,
   "metadata": {},
   "outputs": [],
   "source": [
    "#export\n",
    "def process_scene(json_data):\n",
    "    loaded_json = json.loads(json_data)\n",
    "    prep_pleiades(**loaded_json)"
   ]
  },
  {
   "cell_type": "markdown",
   "metadata": {},
   "source": [
    "## Job Processing"
   ]
  },
  {
   "cell_type": "code",
   "execution_count": 6,
   "metadata": {},
   "outputs": [],
   "source": [
    "#export\n",
    "import os\n",
    "import logging\n",
    "import datetime\n",
    "\n",
    "from sac_stac.rediswq import RedisWQ"
   ]
  },
  {
   "cell_type": "code",
   "execution_count": 7,
   "metadata": {},
   "outputs": [],
   "source": [
    "#export\n",
    "level = os.getenv(\"LOGLEVEL\", \"ERROR\").upper()\n",
    "logging.basicConfig(format=\"%(asctime)s %(levelname)-8s %(name)s %(message)s\", \n",
    "                    datefmt=\"%Y-%m-%d %H:%M:%S\", level=level)"
   ]
  },
  {
   "cell_type": "code",
   "execution_count": 8,
   "metadata": {},
   "outputs": [],
   "source": [
    "#export\n",
    "host = os.getenv(\"REDIS_SERVICE_HOST\", \"redis-master\")\n",
    "q = RedisWQ(name=\"jobPL\", host=host)"
   ]
  },
  {
   "cell_type": "code",
   "execution_count": 10,
   "metadata": {},
   "outputs": [
    {
     "name": "stderr",
     "output_type": "stream",
     "text": [
      "2020-11-11 14:12:27 INFO     worker Worker with sessionID: 8b8d4e5b-d69f-4333-a58d-c0a13a8597e8\n",
      "2020-11-11 14:12:27 INFO     worker Initial queue state: empty=True\n"
     ]
    }
   ],
   "source": [
    "#export\n",
    "logger = logging.getLogger(\"worker\")\n",
    "logger.info(f\"Worker with sessionID: {q.sessionID()}\")\n",
    "logger.info(f\"Initial queue state: empty={q.empty()}\")"
   ]
  },
  {
   "cell_type": "code",
   "execution_count": 11,
   "metadata": {},
   "outputs": [],
   "source": [
    "#export\n",
    "while not q.empty():\n",
    "    item = q.lease(lease_secs=1800, block=True, timeout=600)\n",
    "    if item is not None:\n",
    "        itemstr = item.decode(\"utf=8\")\n",
    "        logger.info(f\"Working on {itemstr}\")\n",
    "        start = datetime.datetime.now().replace(microsecond=0)\n",
    "\n",
    "        process_scene(itemstr)\n",
    "        q.complete(item)\n",
    "\n",
    "        end = datetime.datetime.now().replace(microsecond=0)\n",
    "        logger.info(f\"Total processing time {end - start}\")\n",
    "    else:\n",
    "        logger.info(\"Waiting for work\")"
   ]
  },
  {
   "cell_type": "code",
   "execution_count": 12,
   "metadata": {},
   "outputs": [
    {
     "name": "stderr",
     "output_type": "stream",
     "text": [
      "2020-11-11 14:12:31 INFO     worker Queue empty, exiting\n"
     ]
    }
   ],
   "source": [
    "#export\n",
    "logger.info(\"Queue empty, exiting\")"
   ]
  },
  {
   "cell_type": "markdown",
   "metadata": {},
   "source": [
    "## Export"
   ]
  },
  {
   "cell_type": "code",
   "execution_count": 13,
   "metadata": {},
   "outputs": [
    {
     "name": "stdout",
     "output_type": "stream",
     "text": [
      "Converted 00_rediswq.ipynb.\n",
      "Converted 00_utils.ipynb.\n",
      "Converted 01A_pleiades.ipynb.\n",
      "Converted 01B_pleiades_prep_worker.ipynb.\n",
      "Converted 02A_spot.ipynb.\n",
      "Converted index.ipynb.\n"
     ]
    }
   ],
   "source": [
    "#hide\n",
    "from nbdev.export import notebook2script; notebook2script()"
   ]
  }
 ],
 "metadata": {
  "kernelspec": {
   "display_name": "Python 3",
   "language": "python",
   "name": "python3"
  },
  "language_info": {
   "codemirror_mode": {
    "name": "ipython",
    "version": 3
   },
   "file_extension": ".py",
   "mimetype": "text/x-python",
   "name": "python",
   "nbconvert_exporter": "python",
   "pygments_lexer": "ipython3",
   "version": "3.7.9"
  }
 },
 "nbformat": 4,
 "nbformat_minor": 4
}
