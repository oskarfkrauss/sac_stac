{
 "cells": [
  {
   "cell_type": "code",
   "execution_count": null,
   "metadata": {},
   "outputs": [],
   "source": [
    "#default_exp cs_stac_catalog"
   ]
  },
  {
   "cell_type": "markdown",
   "metadata": {},
   "source": [
    "# Catapult STAC Catalog\n",
    "\n",
    "> Constructing a STAC *Catalog* from various Catapult *Collections*"
   ]
  },
  {
   "cell_type": "code",
   "execution_count": null,
   "metadata": {},
   "outputs": [],
   "source": [
    "#hide\n",
    "%load_ext autoreload\n",
    "%autoreload 2"
   ]
  },
  {
   "cell_type": "code",
   "execution_count": null,
   "metadata": {},
   "outputs": [],
   "source": [
    "#hide\n",
    "from nbdev.showdoc import *"
   ]
  },
  {
   "cell_type": "code",
   "execution_count": null,
   "metadata": {},
   "outputs": [],
   "source": [
    "#export\n",
    "from datetime import datetime\n",
    "\n",
    "import pystac\n",
    "\n",
    "from sac_stac.utils import pystac_setIO\n",
    "from sac_stac.sentinel2 import s2_create_collection\n"
   ]
  },
  {
   "cell_type": "code",
   "execution_count": null,
   "metadata": {},
   "outputs": [],
   "source": [
    "#export\n",
    "pystac_setIO()"
   ]
  },
  {
   "cell_type": "markdown",
   "metadata": {},
   "source": [
    "## **Build our collections**: ***Pleiades, SPOT, ...***"
   ]
  },
  {
   "cell_type": "code",
   "execution_count": null,
   "metadata": {},
   "outputs": [
    {
     "name": "stdout",
     "output_type": "stream",
     "text": [
      "S2A_MSIL2A_20151002T222056_T01KAU\n",
      "S2A_MSIL2A_20151002T222056_T01KBU\n",
      "S2A_MSIL2A_20151022T222102_T01KAU\n",
      "S2A_MSIL2A_20151022T222102_T01KBU\n",
      "S2A_MSIL2A_20151114T223002_T60KWD\n",
      "S2A_MSIL2A_20151114T223002_T60KWE\n",
      "S2A_MSIL2A_20151114T223002_T60KWF\n",
      "S2A_MSIL2A_20151114T223002_T60KWG\n",
      "S2A_MSIL2A_20151114T223002_T60KXD\n",
      "S2A_MSIL2A_20151114T223002_T60KXE\n"
     ]
    }
   ],
   "source": [
    "s2_collection = s2_create_collection('common_sensing/fiji/sentinel_2/', n=10)"
   ]
  },
  {
   "cell_type": "code",
   "execution_count": null,
   "metadata": {},
   "outputs": [
    {
     "name": "stdout",
     "output_type": "stream",
     "text": [
      "* <Collection id=sentinel-2>\n",
      "  * <Item id=S2A_MSIL2A_20151002T222056_T01KAU>\n",
      "  * <Item id=S2A_MSIL2A_20151002T222056_T01KBU>\n",
      "  * <Item id=S2A_MSIL2A_20151022T222102_T01KAU>\n",
      "  * <Item id=S2A_MSIL2A_20151022T222102_T01KBU>\n",
      "  * <Item id=S2A_MSIL2A_20151114T223002_T60KWD>\n",
      "  * <Item id=S2A_MSIL2A_20151114T223002_T60KWE>\n",
      "  * <Item id=S2A_MSIL2A_20151114T223002_T60KWF>\n",
      "  * <Item id=S2A_MSIL2A_20151114T223002_T60KWG>\n",
      "  * <Item id=S2A_MSIL2A_20151114T223002_T60KXD>\n",
      "  * <Item id=S2A_MSIL2A_20151114T223002_T60KXE>\n"
     ]
    }
   ],
   "source": [
    "s2_collection.describe()"
   ]
  },
  {
   "cell_type": "markdown",
   "metadata": {},
   "source": [
    "## **Overall** ***Catalog***: ***sac-stac***"
   ]
  },
  {
   "cell_type": "code",
   "execution_count": null,
   "metadata": {},
   "outputs": [],
   "source": [
    "#export\n",
    "def cs_create_catalog(collections):\n",
    "\n",
    "    catalog_id = 'cs-stac'\n",
    "    catalog_title = 'IPP Common Sensing Geospatial Datasets'\n",
    "    catalog_description = '''### Geospatial datasets hosted by IPP Common Sensing Project \n",
    "\n",
    "    A catalog of optical and synthetic aperture radar (SAR) satellite datasets and derived products. Hosted by Satellite Applications Catapult.\n",
    "    '''\n",
    "    catalog_extensions = ['eo', 'projection', 'product_definition']\n",
    "\n",
    "    catalog = pystac.Catalog(id=catalog_id,\n",
    "                             title=catalog_title,\n",
    "                             description=catalog_description,\n",
    "                             stac_extensions=catalog_extensions)\n",
    "    \n",
    "    catalog.add_children([collections])\n",
    "\n",
    "    return catalog"
   ]
  },
  {
   "cell_type": "code",
   "execution_count": null,
   "metadata": {},
   "outputs": [],
   "source": [
    "cs_catalog = cs_create_catalog(s2_collection)"
   ]
  },
  {
   "cell_type": "code",
   "execution_count": null,
   "metadata": {},
   "outputs": [
    {
     "name": "stdout",
     "output_type": "stream",
     "text": [
      "* <Catalog id=cs-stac>\n",
      "    * <Collection id=sentinel-2>\n",
      "      * <Item id=S2A_MSIL2A_20151002T222056_T01KAU>\n",
      "      * <Item id=S2A_MSIL2A_20151002T222056_T01KBU>\n",
      "      * <Item id=S2A_MSIL2A_20151022T222102_T01KAU>\n",
      "      * <Item id=S2A_MSIL2A_20151022T222102_T01KBU>\n",
      "      * <Item id=S2A_MSIL2A_20151114T223002_T60KWD>\n",
      "      * <Item id=S2A_MSIL2A_20151114T223002_T60KWE>\n",
      "      * <Item id=S2A_MSIL2A_20151114T223002_T60KWF>\n",
      "      * <Item id=S2A_MSIL2A_20151114T223002_T60KWG>\n",
      "      * <Item id=S2A_MSIL2A_20151114T223002_T60KXD>\n",
      "      * <Item id=S2A_MSIL2A_20151114T223002_T60KXE>\n"
     ]
    }
   ],
   "source": [
    "cs_catalog.describe()"
   ]
  },
  {
   "cell_type": "code",
   "execution_count": null,
   "metadata": {},
   "outputs": [],
   "source": [
    "# root_path = \"/tmp/data/cs_stac/\"\n",
    "root_path = \"https://s3-uk-1.sa-catapult.co.uk/public-eo-data/stac_catalogs/cs_stac\""
   ]
  },
  {
   "cell_type": "code",
   "execution_count": null,
   "metadata": {},
   "outputs": [
    {
     "data": {
      "text/plain": [
       "<Catalog id=cs-stac>"
      ]
     },
     "execution_count": null,
     "metadata": {},
     "output_type": "execute_result"
    }
   ],
   "source": [
    "cs_catalog.normalize_hrefs(root_path)    "
   ]
  },
  {
   "cell_type": "code",
   "execution_count": null,
   "metadata": {},
   "outputs": [
    {
     "data": {
      "text/plain": [
       "{'id': 'cs-stac',\n",
       " 'stac_version': '1.0.0-beta.2',\n",
       " 'description': '### Geospatial datasets hosted by IPP Common Sensing Project \\n\\n    A catalog of optical and synthetic aperture radar (SAR) satellite datasets and derived products. Hosted by Satellite Applications Catapult.\\n    ',\n",
       " 'links': [{'rel': 'root',\n",
       "   'href': 'https://s3-uk-1.sa-catapult.co.uk/public-eo-data/stac_catalogs/cs_stac/catalog.json',\n",
       "   'type': 'application/json'},\n",
       "  {'rel': 'child',\n",
       "   'href': 'https://s3-uk-1.sa-catapult.co.uk/public-eo-data/stac_catalogs/cs_stac/sentinel-2/collection.json',\n",
       "   'type': 'application/json'},\n",
       "  {'rel': 'self',\n",
       "   'href': 'https://s3-uk-1.sa-catapult.co.uk/public-eo-data/stac_catalogs/cs_stac/catalog.json',\n",
       "   'type': 'application/json'}],\n",
       " 'stac_extensions': ['eo', 'projection', 'product_definition'],\n",
       " 'title': 'IPP Common Sensing Geospatial Datasets'}"
      ]
     },
     "execution_count": null,
     "metadata": {},
     "output_type": "execute_result"
    }
   ],
   "source": [
    "cs_catalog.to_dict()"
   ]
  },
  {
   "cell_type": "code",
   "execution_count": null,
   "metadata": {},
   "outputs": [],
   "source": [
    "cs_catalog.validate_all()"
   ]
  },
  {
   "cell_type": "code",
   "execution_count": null,
   "metadata": {},
   "outputs": [],
   "source": [
    "# cs_catalog.save(pystac.CatalogType.SELF_CONTAINED)\n",
    "cs_catalog.save(pystac.CatalogType.ABSOLUTE_PUBLISHED)"
   ]
  },
  {
   "cell_type": "code",
   "execution_count": null,
   "metadata": {},
   "outputs": [],
   "source": []
  },
  {
   "cell_type": "code",
   "execution_count": null,
   "metadata": {},
   "outputs": [],
   "source": []
  },
  {
   "cell_type": "code",
   "execution_count": null,
   "metadata": {},
   "outputs": [],
   "source": []
  },
  {
   "cell_type": "code",
   "execution_count": null,
   "metadata": {},
   "outputs": [],
   "source": []
  },
  {
   "cell_type": "code",
   "execution_count": null,
   "metadata": {},
   "outputs": [],
   "source": []
  },
  {
   "cell_type": "code",
   "execution_count": null,
   "metadata": {},
   "outputs": [],
   "source": []
  },
  {
   "cell_type": "code",
   "execution_count": null,
   "metadata": {},
   "outputs": [],
   "source": [
    "from sac_stac.utils import s3_upload_dir"
   ]
  },
  {
   "cell_type": "code",
   "execution_count": null,
   "metadata": {},
   "outputs": [],
   "source": [
    "s3_upload_dir(root_path, 'public-eo-data', 'stac_catalogs/')"
   ]
  },
  {
   "cell_type": "code",
   "execution_count": null,
   "metadata": {},
   "outputs": [
    {
     "name": "stdout",
     "output_type": "stream",
     "text": [
      "* <Catalog id=cs-stac>\n",
      "    * <Collection id=sentinel-2>\n",
      "      * <Item id=S2A_MSIL2A_20151002T222056_T01KAU>\n",
      "      * <Item id=S2A_MSIL2A_20151002T222056_T01KBU>\n",
      "      * <Item id=S2A_MSIL2A_20151022T222102_T01KAU>\n",
      "      * <Item id=S2A_MSIL2A_20151022T222102_T01KBU>\n",
      "      * <Item id=S2A_MSIL2A_20151114T223002_T60KWD>\n",
      "      * <Item id=S2A_MSIL2A_20151114T223002_T60KWE>\n",
      "      * <Item id=S2A_MSIL2A_20151114T223002_T60KWF>\n",
      "      * <Item id=S2A_MSIL2A_20151114T223002_T60KWG>\n",
      "      * <Item id=S2A_MSIL2A_20151114T223002_T60KXD>\n",
      "      * <Item id=S2A_MSIL2A_20151114T223002_T60KXE>\n"
     ]
    }
   ],
   "source": [
    "cs_catalog.describe()"
   ]
  },
  {
   "cell_type": "code",
   "execution_count": null,
   "metadata": {},
   "outputs": [
    {
     "data": {
      "text/plain": [
       "{'id': 'cs-stac',\n",
       " 'stac_version': '1.0.0-beta.2',\n",
       " 'description': '### Geospatial datasets hosted by IPP Common Sensing Project \\n\\n    A catalog of optical and synthetic aperture radar (SAR) satellite datasets and derived products. Hosted by Satellite Applications Catapult.\\n    ',\n",
       " 'links': [{'rel': 'root',\n",
       "   'href': 'https://s3-uk-1.sa-catapult.co.uk/public-eo-data/stac_catalogs/cs_stac/catalog.json',\n",
       "   'type': 'application/json'},\n",
       "  {'rel': 'child',\n",
       "   'href': 'https://s3-uk-1.sa-catapult.co.uk/public-eo-data/stac_catalogs/cs_stac/sentinel-2/collection.json',\n",
       "   'type': 'application/json'},\n",
       "  {'rel': 'self',\n",
       "   'href': 'https://s3-uk-1.sa-catapult.co.uk/public-eo-data/stac_catalogs/cs_stac/catalog.json',\n",
       "   'type': 'application/json'}],\n",
       " 'stac_extensions': ['eo', 'projection', 'product_definition'],\n",
       " 'title': 'IPP Common Sensing Geospatial Datasets'}"
      ]
     },
     "execution_count": null,
     "metadata": {},
     "output_type": "execute_result"
    }
   ],
   "source": [
    "cs_catalog.to_dict()"
   ]
  },
  {
   "cell_type": "code",
   "execution_count": null,
   "metadata": {},
   "outputs": [],
   "source": [
    "cs = next(cs_catalog.get_children())"
   ]
  },
  {
   "cell_type": "code",
   "execution_count": null,
   "metadata": {},
   "outputs": [],
   "source": [
    "col = next(uksa.get_children())"
   ]
  },
  {
   "cell_type": "code",
   "execution_count": null,
   "metadata": {},
   "outputs": [
    {
     "name": "stdout",
     "output_type": "stream",
     "text": [
      "* <Collection id=uksa-ssgp-pleiades>\n",
      "  * <Item id=Pleiades_UKSA173_SO18034614-73-01_DS_PHR1A_201809291110008_FR1_PX_W002N51_0417_007113614104101>\n",
      "  * <Item id=Pleiades_UKSA174_SO18034614-74-01_DS_PHR1A_201809291110083_FR1_PX_W002N51_0116_00596TPP1601069431>\n",
      "  * <Item id=Pleiades_UKSA204_SO18034615-4-01_DS_PHR1B_201802251121249_FR1_PX_W002N51_0314_010483613775101>\n",
      "  * <Item id=Pleiades_UKSA305_SO18034616-5-01_DS_PHR1B_201807241124303_FR1_PX_W002N51_0720_01561TPP1601069279>\n",
      "  * <Item id=Pleiades_UKSA341_SO18034616-41-01_DS_PHR1B_201809021117346_FR1_PX_W002N51_1008_03279TPP1601069492>\n",
      "  * <Item id=Pleiades_UKSA396_SO18034616-96-01_DS_PHR1B_201810241117221_FR1_PX_W002N51_0710_01712TPP1601069318>\n",
      "  * <Item id=Pleiades_UKSA7_SO18034613-7-01_DS_PHR1A_201802241127550_FR1_PX_W002N51_0711_024843613631101>\n",
      "  * <Item id=Pleiades_UKSA87_SO18034613-87-01_DS_PHR1A_201806291118170_FR1_PX_W002N51_1016_029773614015101>\n"
     ]
    }
   ],
   "source": [
    "col.describe()"
   ]
  },
  {
   "cell_type": "code",
   "execution_count": null,
   "metadata": {},
   "outputs": [
    {
     "data": {
      "text/plain": [
       "{'type': 'Feature',\n",
       " 'stac_version': '1.0.0-beta.2',\n",
       " 'id': 'Pleiades_UKSA173_SO18034614-73-01_DS_PHR1A_201809291110008_FR1_PX_W002N51_0417_007113614104101',\n",
       " 'properties': {'gsd': 0.74,\n",
       "  'eo:cloud_cover': 0.0,\n",
       "  'proj:epsg': 27700,\n",
       "  'datetime': '2018-09-29T11:10:00Z'},\n",
       " 'geometry': {'type': 'Polygon',\n",
       "  'coordinates': [[[-1.7162111146081491, 51.703447752207374],\n",
       "    [-1.6539393674716631, 51.70305171212088],\n",
       "    [-1.5922000556276548, 51.7022918404328],\n",
       "    [-1.592478005824943, 51.66971308516982],\n",
       "    [-1.5923937686249074, 51.660564184797174],\n",
       "    [-1.5924483796708082, 51.65689143996495],\n",
       "    [-1.5923435803877832, 51.6484257860413],\n",
       "    [-1.5925225669770522, 51.629252456312805],\n",
       "    [-1.6313240498998447, 51.629686309100045],\n",
       "    [-1.6617769179346535, 51.62994873863878],\n",
       "    [-1.715447257136181, 51.63018534903567],\n",
       "    [-1.7483946591920845, 51.630161588463274],\n",
       "    [-1.7789150489058498, 51.63009707066823],\n",
       "    [-1.8369443638514822, 51.62966137158252],\n",
       "    [-1.8706869752457782, 51.629244747190995],\n",
       "    [-1.902984365251201, 51.62878127998801],\n",
       "    [-1.9031756192477154, 51.64416997236793],\n",
       "    [-1.9032281966762568, 51.65003679955556],\n",
       "    [-1.9031830688830722, 51.650868451669226],\n",
       "    [-1.9032398631646559, 51.65134952934474],\n",
       "    [-1.9032635080951406, 51.6606374853309],\n",
       "    [-1.903368845801305, 51.668909487362704],\n",
       "    [-1.9033307786452263, 51.669813072279545],\n",
       "    [-1.903389897227946, 51.672618376007144],\n",
       "    [-1.9033553365867595, 51.675275246793404],\n",
       "    [-1.9033978059631684, 51.67570685904059],\n",
       "    [-1.9034325966702832, 51.686577233067496],\n",
       "    [-1.9034135338037725, 51.70237469751975],\n",
       "    [-1.8756005685839259, 51.70273072943466],\n",
       "    [-1.841058256714323, 51.703111743030504],\n",
       "    [-1.8120077713741385, 51.703302690300696],\n",
       "    [-1.7785580302502193, 51.703473760830654],\n",
       "    [-1.7162111146081491, 51.703447752207374]]]},\n",
       " 'links': [{'rel': 'root',\n",
       "   'href': '../collection.json',\n",
       "   'type': 'application/json'},\n",
       "  {'rel': 'collection',\n",
       "   'href': '../collection.json',\n",
       "   'type': 'application/json'},\n",
       "  {'rel': 'self',\n",
       "   'href': '/tmp/data/sac_stac/uksa-ssgp/uksa-ssgp-pleiades/Pleiades_UKSA173_SO18034614-73-01_DS_PHR1A_201809291110008_FR1_PX_W002N51_0417_007113614104101/Pleiades_UKSA173_SO18034614-73-01_DS_PHR1A_201809291110008_FR1_PX_W002N51_0417_007113614104101.json',\n",
       "   'type': 'application/json'},\n",
       "  {'rel': 'parent', 'href': '../collection.json', 'type': 'application/json'}],\n",
       " 'assets': {'B0': {'href': 'http://s3-uk-1.sa-catapult.co.uk/public-eo-data/uksa-ssgp/pleiades/Pleiades_UKSA173_SO18034614-73-01_DS_PHR1A_201809291110008_FR1_PX_W002N51_0417_007113614104101/IMG_PHR1A_P_001/IMG_PHR1A_P_201809291110008_ORT_36141041_band1.tif',\n",
       "   'type': 'image/tiff; application=geotiff; profile=cloud-optimized',\n",
       "   'eo:bands': [{'name': 'Panchromatic',\n",
       "     'common_name': 'pan',\n",
       "     'description': 'Panchromatic: 480 - 830 nm'}]},\n",
       "  'B1': {'href': 'http://s3-uk-1.sa-catapult.co.uk/public-eo-data/uksa-ssgp/pleiades/Pleiades_UKSA173_SO18034614-73-01_DS_PHR1A_201809291110008_FR1_PX_W002N51_0417_007113614104101/IMG_PHR1A_MS_002/IMG_PHR1A_MS_201809291110008_ORT_36141041_band1.tif',\n",
       "   'type': 'image/tiff; application=geotiff; profile=cloud-optimized',\n",
       "   'eo:bands': [{'name': 'Blue',\n",
       "     'common_name': 'blue',\n",
       "     'description': 'Blue: 430 - 550 nm'}]},\n",
       "  'B2': {'href': 'http://s3-uk-1.sa-catapult.co.uk/public-eo-data/uksa-ssgp/pleiades/Pleiades_UKSA173_SO18034614-73-01_DS_PHR1A_201809291110008_FR1_PX_W002N51_0417_007113614104101/IMG_PHR1A_MS_002/IMG_PHR1A_MS_201809291110008_ORT_36141041_band2.tif',\n",
       "   'type': 'image/tiff; application=geotiff; profile=cloud-optimized',\n",
       "   'eo:bands': [{'name': 'Green',\n",
       "     'common_name': 'green',\n",
       "     'description': 'Green: 490 - 610 nm'}]},\n",
       "  'B3': {'href': 'http://s3-uk-1.sa-catapult.co.uk/public-eo-data/uksa-ssgp/pleiades/Pleiades_UKSA173_SO18034614-73-01_DS_PHR1A_201809291110008_FR1_PX_W002N51_0417_007113614104101/IMG_PHR1A_MS_002/IMG_PHR1A_MS_201809291110008_ORT_36141041_band3.tif',\n",
       "   'type': 'image/tiff; application=geotiff; profile=cloud-optimized',\n",
       "   'eo:bands': [{'name': 'Red',\n",
       "     'common_name': 'red',\n",
       "     'description': 'Red: 600 - 720 nm'}]},\n",
       "  'B4': {'href': 'http://s3-uk-1.sa-catapult.co.uk/public-eo-data/uksa-ssgp/pleiades/Pleiades_UKSA173_SO18034614-73-01_DS_PHR1A_201809291110008_FR1_PX_W002N51_0417_007113614104101/IMG_PHR1A_MS_002/IMG_PHR1A_MS_201809291110008_ORT_36141041_band4.tif',\n",
       "   'type': 'image/tiff; application=geotiff; profile=cloud-optimized',\n",
       "   'eo:bands': [{'name': 'Near-Infrared',\n",
       "     'common_name': 'nir',\n",
       "     'description': 'Near-Infrared: 750 - 950 nm'}]}},\n",
       " 'bbox': [-1.903199885312827,\n",
       "  51.62869184186537,\n",
       "  -1.592242985175717,\n",
       "  51.70382196570706],\n",
       " 'stac_extensions': ['eo', 'projection'],\n",
       " 'collection': 'uksa-ssgp-pleiades'}"
      ]
     },
     "execution_count": null,
     "metadata": {},
     "output_type": "execute_result"
    }
   ],
   "source": [
    "next(col.get_items()).to_dict()"
   ]
  },
  {
   "cell_type": "code",
   "execution_count": null,
   "metadata": {},
   "outputs": [],
   "source": []
  }
 ],
 "metadata": {
  "kernelspec": {
   "display_name": "Python 3",
   "language": "python",
   "name": "python3"
  }
 },
 "nbformat": 4,
 "nbformat_minor": 4
}
