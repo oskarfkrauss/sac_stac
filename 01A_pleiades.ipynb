{
 "cells": [
  {
   "cell_type": "code",
   "execution_count": null,
   "metadata": {},
   "outputs": [],
   "source": [
    "#default_exp pleiades"
   ]
  },
  {
   "cell_type": "markdown",
   "metadata": {},
   "source": [
    "# Pleiades\n",
    "\n",
    "> Working through conversion to cogs, upload to object storage, stac item metadata parsing, etc. for pleiades datasets"
   ]
  },
  {
   "cell_type": "code",
   "execution_count": 1,
   "metadata": {},
   "outputs": [],
   "source": [
    "#hide\n",
    "%load_ext autoreload\n",
    "%autoreload 2"
   ]
  },
  {
   "cell_type": "code",
   "execution_count": 2,
   "metadata": {},
   "outputs": [],
   "source": [
    "#hide\n",
    "from nbdev.showdoc import *"
   ]
  },
  {
   "cell_type": "code",
   "execution_count": 3,
   "metadata": {},
   "outputs": [],
   "source": [
    "#export\n",
    "import os\n",
    "from glob import glob\n",
    "import time\n",
    "import numpy as np\n",
    "from datetime import datetime\n",
    "import json\n",
    "\n",
    "import xmltodict\n",
    "import pystac\n",
    "from pystac import STAC_IO\n",
    "from pystac.extensions.eo import Band\n",
    "import geopandas as gpd\n",
    "\n",
    "from sac_stac.utils import sedas_client, sedas_find_datasets, sedas_download, sedas_extract\n",
    "from sac_stac.utils import cogmosaicbands\n",
    "from sac_stac.utils import s3_upload_dir, s3_list_objects_paths, clean_up\n",
    "from sac_stac.utils import pystac_setIO, create_uri"
   ]
  },
  {
   "cell_type": "code",
   "execution_count": 4,
   "metadata": {},
   "outputs": [],
   "source": [
    "import pandas as pd"
   ]
  },
  {
   "cell_type": "markdown",
   "metadata": {},
   "source": [
    "## **Preparation**: ***Download, cloud-optimise, upload***"
   ]
  },
  {
   "cell_type": "markdown",
   "metadata": {},
   "source": [
    "### **Prep Function**"
   ]
  },
  {
   "cell_type": "markdown",
   "metadata": {},
   "source": [
    "Download and use basic gdal tools to mosaic any tiles into single images, convert to cog and upload to our object storage."
   ]
  },
  {
   "cell_type": "code",
   "execution_count": null,
   "metadata": {},
   "outputs": [],
   "source": [
    "#export\n",
    "def prep_pleiades(sedas_supplierId, inter_dir=\"/tmp/data/intermediate/\", \n",
    "                  s3_bucket=\"public-eo-data\", s3_dir=\"uksa-ssgp/pleiades/\"):\n",
    "    try:\n",
    "        inter_dir = f\"{inter_dir}{sedas_supplierId}_tmp/\"\n",
    "        os.makedirs(inter_dir, exist_ok=True)\n",
    "        scene_name = sedas_supplierId\n",
    "        down_zip = f\"{inter_dir}{scene_name}.zip\"\n",
    "        scene_dir = f\"{down_zip[:-4]}/\"\n",
    "        print(f\"{time.strftime('%Y-%m-%d %H:%M:%S')} Preparing {scene_name} within {inter_dir}\")\n",
    "        # find & download\n",
    "        sedas_scene_res = sedas_client().search_product(sedas_supplierId)[0]\n",
    "        sedas_download([sedas_scene_res], inter_dir)\n",
    "        sedas_extract(down_zip, scene_dir)\n",
    "        # sensor-specific band mosaicing and cogifying\n",
    "        imgs_ms = glob(f\"{scene_dir}*/*MS_002*/*.TIF\")\n",
    "        imgs_pan = glob(f\"{scene_dir}*/*P_001*/*.TIF\")\n",
    "        cogmosaicbands(imgs_pan, 1, imgs_pan[0][:-13])\n",
    "        cogmosaicbands(imgs_ms, 4, imgs_ms[0][:-13])\n",
    "        # upload\n",
    "        s3_upload_dir(scene_dir, s3_bucket, s3_dir)\n",
    "        print(f\"{time.strftime('%Y-%m-%d %H:%M:%S')} Prepared {scene_name} at {s3_dir}{scene_name}/\")\n",
    "        clean_up(inter_dir)\n",
    "    except Exception as e:\n",
    "        print(f\"{time.strftime('%Y-%m-%d %H:%M:%S')} Failed with {e}\")    \n",
    "        clean_up(inter_dir)"
   ]
  },
  {
   "cell_type": "markdown",
   "metadata": {},
   "source": [
    "### **Iteration with examples**"
   ]
  },
  {
   "cell_type": "markdown",
   "metadata": {},
   "source": [
    "Some samples used to iterate creation of the prep function."
   ]
  },
  {
   "cell_type": "code",
   "execution_count": null,
   "metadata": {},
   "outputs": [
    {
     "data": {
      "text/html": [
       "<div>\n",
       "<style scoped>\n",
       "    .dataframe tbody tr th:only-of-type {\n",
       "        vertical-align: middle;\n",
       "    }\n",
       "\n",
       "    .dataframe tbody tr th {\n",
       "        vertical-align: top;\n",
       "    }\n",
       "\n",
       "    .dataframe thead th {\n",
       "        text-align: right;\n",
       "    }\n",
       "</style>\n",
       "<table border=\"1\" class=\"dataframe\">\n",
       "  <thead>\n",
       "    <tr style=\"text-align: right;\">\n",
       "      <th></th>\n",
       "      <th>productId</th>\n",
       "      <th>supplierId</th>\n",
       "      <th>type</th>\n",
       "      <th>satelliteName</th>\n",
       "      <th>instrumentName</th>\n",
       "      <th>modeName</th>\n",
       "      <th>sensorType</th>\n",
       "      <th>sensorResolution</th>\n",
       "      <th>coordinatesWKT</th>\n",
       "      <th>start</th>\n",
       "      <th>...</th>\n",
       "      <th>area</th>\n",
       "      <th>aoiCoveragePercent</th>\n",
       "      <th>usefulAreaPercent</th>\n",
       "      <th>cloudCoveragePercent</th>\n",
       "      <th>productType</th>\n",
       "      <th>latency</th>\n",
       "      <th>ql</th>\n",
       "      <th>thumbnail</th>\n",
       "      <th>vendorSpecific</th>\n",
       "      <th>downloadUrl</th>\n",
       "    </tr>\n",
       "  </thead>\n",
       "  <tbody>\n",
       "    <tr>\n",
       "      <th>0</th>\n",
       "      <td>c0ec9a5f12356e87bc910ddbc49dbb76</td>\n",
       "      <td>Pleiades_UKSA396_SO18034616-96-01_DS_PHR1B_201...</td>\n",
       "      <td>ARCHIVE</td>\n",
       "      <td>Pleiades-1B</td>\n",
       "      <td>MS/PAN</td>\n",
       "      <td>0.000</td>\n",
       "      <td>Optical</td>\n",
       "      <td>2.0</td>\n",
       "      <td>POLYGON((-1.654728 51.309517,-1.345414 51.3081...</td>\n",
       "      <td>2018-10-24T11:17:22Z</td>\n",
       "      <td>...</td>\n",
       "      <td>4.825125e+08</td>\n",
       "      <td>1.0</td>\n",
       "      <td>5.0</td>\n",
       "      <td>0.0</td>\n",
       "      <td>L3</td>\n",
       "      <td>Standard</td>\n",
       "      <td>https://geobrowser.satapps.org/archiveql/aeweb...</td>\n",
       "      <td>https://sedasdm.satapps.org/qls/qlmgr.php?scen...</td>\n",
       "      <td>{'property': 'vendorSpecific', 'Filehash': 'cf...</td>\n",
       "      <td>https://sedasdm.satapps.org/datamgr/datamgr.ph...</td>\n",
       "    </tr>\n",
       "    <tr>\n",
       "      <th>1</th>\n",
       "      <td>94cc7887414be0912de7ca44288f79da</td>\n",
       "      <td>Pleiades_UKSA174_SO18034614-74-01_DS_PHR1A_201...</td>\n",
       "      <td>ARCHIVE</td>\n",
       "      <td>Pleiades-1A</td>\n",
       "      <td>MS/PAN</td>\n",
       "      <td>0.000</td>\n",
       "      <td>Optical</td>\n",
       "      <td>2.0</td>\n",
       "      <td>POLYGON((-2.153852 51.603313,-1.841533 51.6033...</td>\n",
       "      <td>2018-09-29T11:10:08Z</td>\n",
       "      <td>...</td>\n",
       "      <td>1.565260e+08</td>\n",
       "      <td>2.0</td>\n",
       "      <td>22.0</td>\n",
       "      <td>0.0</td>\n",
       "      <td>L3</td>\n",
       "      <td>Standard</td>\n",
       "      <td>https://geobrowser.satapps.org/archiveql/aeweb...</td>\n",
       "      <td>https://sedasdm.satapps.org/qls/qlmgr.php?scen...</td>\n",
       "      <td>{'property': 'vendorSpecific', 'Filehash': '4b...</td>\n",
       "      <td>https://sedasdm.satapps.org/datamgr/datamgr.ph...</td>\n",
       "    </tr>\n",
       "  </tbody>\n",
       "</table>\n",
       "<p>2 rows × 22 columns</p>\n",
       "</div>"
      ],
      "text/plain": [
       "                          productId  \\\n",
       "0  c0ec9a5f12356e87bc910ddbc49dbb76   \n",
       "1  94cc7887414be0912de7ca44288f79da   \n",
       "\n",
       "                                          supplierId     type satelliteName  \\\n",
       "0  Pleiades_UKSA396_SO18034616-96-01_DS_PHR1B_201...  ARCHIVE   Pleiades-1B   \n",
       "1  Pleiades_UKSA174_SO18034614-74-01_DS_PHR1A_201...  ARCHIVE   Pleiades-1A   \n",
       "\n",
       "  instrumentName modeName sensorType  sensorResolution  \\\n",
       "0         MS/PAN    0.000    Optical               2.0   \n",
       "1         MS/PAN    0.000    Optical               2.0   \n",
       "\n",
       "                                      coordinatesWKT                 start  \\\n",
       "0  POLYGON((-1.654728 51.309517,-1.345414 51.3081...  2018-10-24T11:17:22Z   \n",
       "1  POLYGON((-2.153852 51.603313,-1.841533 51.6033...  2018-09-29T11:10:08Z   \n",
       "\n",
       "   ...          area aoiCoveragePercent  usefulAreaPercent  \\\n",
       "0  ...  4.825125e+08                1.0                5.0   \n",
       "1  ...  1.565260e+08                2.0               22.0   \n",
       "\n",
       "   cloudCoveragePercent  productType   latency  \\\n",
       "0                   0.0           L3  Standard   \n",
       "1                   0.0           L3  Standard   \n",
       "\n",
       "                                                  ql  \\\n",
       "0  https://geobrowser.satapps.org/archiveql/aeweb...   \n",
       "1  https://geobrowser.satapps.org/archiveql/aeweb...   \n",
       "\n",
       "                                           thumbnail  \\\n",
       "0  https://sedasdm.satapps.org/qls/qlmgr.php?scen...   \n",
       "1  https://sedasdm.satapps.org/qls/qlmgr.php?scen...   \n",
       "\n",
       "                                      vendorSpecific  \\\n",
       "0  {'property': 'vendorSpecific', 'Filehash': 'cf...   \n",
       "1  {'property': 'vendorSpecific', 'Filehash': '4b...   \n",
       "\n",
       "                                         downloadUrl  \n",
       "0  https://sedasdm.satapps.org/datamgr/datamgr.ph...  \n",
       "1  https://sedasdm.satapps.org/datamgr/datamgr.ph...  \n",
       "\n",
       "[2 rows x 22 columns]"
      ]
     },
     "execution_count": null,
     "metadata": {},
     "output_type": "execute_result"
    }
   ],
   "source": [
    "result = sedas_find_datasets(\"POLYGON((-1.91 51.81,-1.15 51.81,-1.15 51.50,-1.91 51.50,-1.91 51.81))\", \n",
    "                             \"2000-01-01T00:00:00Z\", \n",
    "                             \"2020-10-27T00:00:00Z\",\n",
    "                             \"Pleiades\"\n",
    "                            )\n",
    "pd.DataFrame(result['products']).head(2)"
   ]
  },
  {
   "cell_type": "markdown",
   "metadata": {},
   "source": [
    "Example of testing the first one."
   ]
  },
  {
   "cell_type": "code",
   "execution_count": null,
   "metadata": {},
   "outputs": [],
   "source": [
    "done = [\"Pleiades_UKSA7_SO18034613-7-01_DS_PHR1A_201802241127550_FR1_PX_W002N51_0711_024843613631101\",\n",
    "        \"Pleiades_UKSA173_SO18034614-73-01_DS_PHR1A_201809291110008_FR1_PX_W002N51_0417_007113614104101\",\n",
    "        \"Pleiades_UKSA305_SO18034616-5-01_DS_PHR1B_201807241124303_FR1_PX_W002N51_0720_01561TPP1601069279\",\n",
    "        \"Pleiades_UKSA341_SO18034616-41-01_DS_PHR1B_201809021117346_FR1_PX_W002N51_1008_03279TPP1601069492\",\n",
    "        \"Pleiades_UKSA396_SO18034616-96-01_DS_PHR1B_201810241117221_FR1_PX_W002N51_0710_01712TPP1601069318\",\n",
    "        \"Pleiades_UKSA396_SO18034616-96-01_DS_PHR1B_201810241117221_FR1_PX_W002N51_0710_01712\"]"
   ]
  },
  {
   "cell_type": "code",
   "execution_count": null,
   "metadata": {},
   "outputs": [],
   "source": [
    "#hide\n",
    "# for p in pd.DataFrame(result['products']).supplierId.values:\n",
    "    \n",
    "#     if not True in [i.split('_')[1] in p for i in done]:\n",
    "#         prep_pleiades(p)"
   ]
  },
  {
   "cell_type": "code",
   "execution_count": null,
   "metadata": {},
   "outputs": [],
   "source": [
    "# prep_pleiades(\"Pleiades_UKSA396_SO18034616-96-01_DS_PHR1B_201810241117221_FR1_PX_W002N51_0710_01712\")"
   ]
  },
  {
   "cell_type": "markdown",
   "metadata": {},
   "source": [
    "### **Full Job Lists**"
   ]
  },
  {
   "cell_type": "markdown",
   "metadata": {},
   "source": [
    "Once happy with `prep_pleiades` we create a list of jobs from search results of `sedas_find_datasets` to submit to a redis queue as per `rediswq`.\n",
    "\n",
    "We can test these via redis within `pleiades_prep_worker`.\n",
    "\n",
    "Sometimes we run as campaigns via K8s."
   ]
  },
  {
   "cell_type": "code",
   "execution_count": null,
   "metadata": {},
   "outputs": [
    {
     "data": {
      "text/plain": [
       "'20201111'"
      ]
     },
     "execution_count": null,
     "metadata": {},
     "output_type": "execute_result"
    }
   ],
   "source": [
    "jobs_dir = \"/tmp/data/\"\n",
    "td = datetime.today()\n",
    "td = td.strftime('%Y')+td.strftime('%m')+td.strftime('%d')\n",
    "td"
   ]
  },
  {
   "cell_type": "code",
   "execution_count": null,
   "metadata": {},
   "outputs": [],
   "source": [
    "with open(f\"{jobs_dir}/JOBLIST_{td}_pleiades.txt\", 'w') as t:\n",
    "    for v in pd.DataFrame(result['products']).supplierId.values:\n",
    "        t.write(\"rpush jobPL\"+\" '{\"+'\"sedas_supplierId\": \"'+ v +'\"'\"}'\" + '\\n')"
   ]
  },
  {
   "cell_type": "markdown",
   "metadata": {},
   "source": [
    "## **STAC metadata**: ***core & extensions***"
   ]
  },
  {
   "cell_type": "markdown",
   "metadata": {},
   "source": [
    "With the cogs above hosted object storage we can go create some tools for building a STAC *Collection* from them, to be used within in **insert nb** to build a *Catalog* of different Catapult *Collections*. As per the nb these initially sit within a *static* STAC alongside the actual datasets on the object storage. However we plan on hosting via a STAC compliant API - probs [pygeoapi](https://pygeoapi.io/)."
   ]
  },
  {
   "cell_type": "code",
   "execution_count": 6,
   "metadata": {},
   "outputs": [],
   "source": [
    "obj_paths_list = s3_list_objects_paths('public-eo-data', 'uksa-ssgp/pleiades/')"
   ]
  },
  {
   "cell_type": "code",
   "execution_count": 7,
   "metadata": {},
   "outputs": [
    {
     "data": {
      "text/plain": [
       "['Pleiades_UKSA173_SO18034614-73-01_DS_PHR1A_201809291110008_FR1_PX_W002N51_0417_007113614104101',\n",
       " 'Pleiades_UKSA174_SO18034614-74-01_DS_PHR1A_201809291110083_FR1_PX_W002N51_0116_00596TPP1601069431',\n",
       " 'Pleiades_UKSA204_SO18034615-4-01_DS_PHR1B_201802251121249_FR1_PX_W002N51_0314_01048',\n",
       " 'Pleiades_UKSA204_SO18034615-4-01_DS_PHR1B_201802251121249_FR1_PX_W002N51_0314_010483613775101',\n",
       " 'Pleiades_UKSA305_SO18034616-5-01_DS_PHR1B_201807241124303_FR1_PX_W002N51_0720_01561TPP1601069279']"
      ]
     },
     "execution_count": 7,
     "metadata": {},
     "output_type": "execute_result"
    }
   ],
   "source": [
    "# get unique Item / scene names (third dir from path)\n",
    "scene_names = list(np.unique([ i.split('/')[2] for i in obj_paths_list ]))\n",
    "scene_names[:5]"
   ]
  },
  {
   "cell_type": "markdown",
   "metadata": {},
   "source": [
    "### **Individual example for iteration**"
   ]
  },
  {
   "cell_type": "markdown",
   "metadata": {},
   "source": [
    "can just work with one"
   ]
  },
  {
   "cell_type": "code",
   "execution_count": 12,
   "metadata": {},
   "outputs": [
    {
     "data": {
      "text/plain": [
       "'Pleiades_UKSA173_SO18034614-73-01_DS_PHR1A_201809291110008_FR1_PX_W002N51_0417_007113614104101'"
      ]
     },
     "execution_count": 12,
     "metadata": {},
     "output_type": "execute_result"
    }
   ],
   "source": [
    "scene_name = scene_names[0]\n",
    "scene_name"
   ]
  },
  {
   "cell_type": "markdown",
   "metadata": {},
   "source": [
    "and objects associated with that scene"
   ]
  },
  {
   "cell_type": "code",
   "execution_count": 13,
   "metadata": {},
   "outputs": [
    {
     "data": {
      "text/plain": [
       "['uksa-ssgp/pleiades/Pleiades_UKSA173_SO18034614-73-01_DS_PHR1A_201809291110008_FR1_PX_W002N51_0417_007113614104101/DELIVERY.PDF',\n",
       " 'uksa-ssgp/pleiades/Pleiades_UKSA173_SO18034614-73-01_DS_PHR1A_201809291110008_FR1_PX_W002N51_0417_007113614104101/IMG_PHR1A_MS_002/DIM_PHR1A_MS_201809291110008_ORT_3614104101-2.XML']"
      ]
     },
     "execution_count": 13,
     "metadata": {},
     "output_type": "execute_result"
    }
   ],
   "source": [
    "scene_obj_paths = [ i for i in obj_paths_list if scene_name in i]\n",
    "scene_obj_paths[:2]"
   ]
  },
  {
   "cell_type": "markdown",
   "metadata": {},
   "source": [
    "set our own I/O for pystac"
   ]
  },
  {
   "cell_type": "code",
   "execution_count": 14,
   "metadata": {},
   "outputs": [],
   "source": [
    "#export\n",
    "pystac_setIO()"
   ]
  },
  {
   "cell_type": "markdown",
   "metadata": {},
   "source": [
    "### **Functions for** ***Item*** **metadata**"
   ]
  },
  {
   "cell_type": "code",
   "execution_count": 15,
   "metadata": {},
   "outputs": [],
   "source": [
    "#export\n",
    "def pleiades_get_dt(scene_name):\n",
    "    return datetime.strptime(scene_name.split('_')[5][:14], '%Y%m%d%H%M%S')"
   ]
  },
  {
   "cell_type": "code",
   "execution_count": 16,
   "metadata": {},
   "outputs": [
    {
     "data": {
      "text/plain": [
       "datetime.datetime(2018, 9, 29, 11, 10)"
      ]
     },
     "execution_count": 16,
     "metadata": {},
     "output_type": "execute_result"
    }
   ],
   "source": [
    "pleiades_get_dt(scene_name)"
   ]
  },
  {
   "cell_type": "code",
   "execution_count": 22,
   "metadata": {},
   "outputs": [],
   "source": [
    "#export\n",
    "def pleiades_parsemeta(scene_name, scene_obj_paths):\n",
    "    meta_path = [i for i in scene_obj_paths if (i.endswith('.XML')) & (os.path.basename(i).startswith('DIM'))][0]\n",
    "    return xmltodict.parse(pystac.STAC_IO.read_text(create_uri(meta_path)))"
   ]
  },
  {
   "cell_type": "code",
   "execution_count": 23,
   "metadata": {},
   "outputs": [
    {
     "data": {
      "text/plain": [
       "odict_keys(['Metadata_Identification', 'Dataset_Identification', 'Dataset_Content', 'Product_Information', 'Coordinate_Reference_System', 'Geoposition', 'Processing_Information', 'Raster_Data', 'Radiometric_Data', 'Geometric_Data', 'Quality_Assessment', 'Dataset_Sources'])"
      ]
     },
     "execution_count": 23,
     "metadata": {},
     "output_type": "execute_result"
    }
   ],
   "source": [
    "meta = pleiades_parsemeta(scene_name, scene_obj_paths)\n",
    "meta['Dimap_Document'].keys()"
   ]
  },
  {
   "cell_type": "code",
   "execution_count": 67,
   "metadata": {},
   "outputs": [],
   "source": [
    "#export\n",
    "def pleiades_get_crs(metadata):\n",
    "    return int(metadata['Dimap_Document']['Coordinate_Reference_System']['Projected_CRS']['PROJECTED_CRS_NAME'])"
   ]
  },
  {
   "cell_type": "code",
   "execution_count": 37,
   "metadata": {},
   "outputs": [
    {
     "data": {
      "text/plain": [
       "27700"
      ]
     },
     "execution_count": 37,
     "metadata": {},
     "output_type": "execute_result"
    }
   ],
   "source": [
    "crs = pleiades_get_crs(meta)\n",
    "crs"
   ]
  },
  {
   "cell_type": "code",
   "execution_count": 17,
   "metadata": {},
   "outputs": [],
   "source": [
    "#export\n",
    "def pleiades_get_geom(scene_paths):\n",
    "    roi_path = [i for i in scene_paths if (i.endswith('1_MSK.GML') * os.path.basename(i).startswith('ROI'))][0]\n",
    "    roi_uri = create_uri(roi_path)\n",
    "    return json.loads(gpd.read_file(roi_uri).to_crs('EPSG:4326').to_json(show_bbox=True))['features'][0]['geometry']"
   ]
  },
  {
   "cell_type": "code",
   "execution_count": 18,
   "metadata": {},
   "outputs": [
    {
     "data": {
      "text/plain": [
       "{'type': 'Polygon',\n",
       " 'coordinates': [[[-1.7162111146081491, 51.703447752207374],\n",
       "   [-1.6539393674716631, 51.70305171212088],\n",
       "   [-1.5922000556276548, 51.7022918404328],\n",
       "   [-1.592478005824943, 51.66971308516982],\n",
       "   [-1.5923937686249074, 51.660564184797174],\n",
       "   [-1.5924483796708082, 51.65689143996495],\n",
       "   [-1.5923435803877832, 51.6484257860413],\n",
       "   [-1.5925225669770522, 51.629252456312805],\n",
       "   [-1.6313240498998447, 51.629686309100045],\n",
       "   [-1.6617769179346535, 51.62994873863878],\n",
       "   [-1.715447257136181, 51.63018534903567],\n",
       "   [-1.7483946591920845, 51.630161588463274],\n",
       "   [-1.7789150489058498, 51.63009707066823],\n",
       "   [-1.8369443638514822, 51.62966137158252],\n",
       "   [-1.8706869752457782, 51.629244747190995],\n",
       "   [-1.902984365251201, 51.62878127998801],\n",
       "   [-1.9031756192477154, 51.64416997236793],\n",
       "   [-1.9032281966762568, 51.65003679955556],\n",
       "   [-1.9031830688830722, 51.650868451669226],\n",
       "   [-1.9032398631646559, 51.65134952934474],\n",
       "   [-1.9032635080951406, 51.6606374853309],\n",
       "   [-1.903368845801305, 51.668909487362704],\n",
       "   [-1.9033307786452263, 51.669813072279545],\n",
       "   [-1.903389897227946, 51.672618376007144],\n",
       "   [-1.9033553365867595, 51.675275246793404],\n",
       "   [-1.9033978059631684, 51.67570685904059],\n",
       "   [-1.9034325966702832, 51.686577233067496],\n",
       "   [-1.9034135338037725, 51.70237469751975],\n",
       "   [-1.8756005685839259, 51.70273072943466],\n",
       "   [-1.841058256714323, 51.703111743030504],\n",
       "   [-1.8120077713741385, 51.703302690300696],\n",
       "   [-1.7785580302502193, 51.703473760830654],\n",
       "   [-1.7162111146081491, 51.703447752207374]]]}"
      ]
     },
     "execution_count": 18,
     "metadata": {},
     "output_type": "execute_result"
    }
   ],
   "source": [
    "pleiades_get_geom(scene_obj_paths)"
   ]
  },
  {
   "cell_type": "code",
   "execution_count": 26,
   "metadata": {},
   "outputs": [],
   "source": [
    "#export\n",
    "def pleiades_get_bbox(metadata):\n",
    "    lons = [float(i['LON']) for i in metadata['Dimap_Document']['Dataset_Content']['Dataset_Extent']['Vertex']]\n",
    "    lats = [float(i['LAT']) for i in metadata['Dimap_Document']['Dataset_Content']['Dataset_Extent']['Vertex']]\n",
    "    return [min(lons), min(lats), max(lons), max(lats)]"
   ]
  },
  {
   "cell_type": "code",
   "execution_count": 27,
   "metadata": {},
   "outputs": [
    {
     "data": {
      "text/plain": [
       "[-1.903199885312827, 51.62869184186537, -1.592242985175717, 51.70382196570706]"
      ]
     },
     "execution_count": 27,
     "metadata": {},
     "output_type": "execute_result"
    }
   ],
   "source": [
    "pleiades_get_bbox(meta)"
   ]
  },
  {
   "cell_type": "code",
   "execution_count": 66,
   "metadata": {},
   "outputs": [],
   "source": [
    "#export\n",
    "def pleiades_get_gsd(metadata):\n",
    "    across = float(metadata['Dimap_Document']['Geometric_Data']['Use_Area']['Located_Geometric_Values'][0]['Ground_Sample_Distance']['GSD_ACROSS_TRACK']['#text'])\n",
    "    along = float(metadata['Dimap_Document']['Geometric_Data']['Use_Area']['Located_Geometric_Values'][0]['Ground_Sample_Distance']['GSD_ALONG_TRACK']['#text'])\n",
    "    return round(( across + along ) / 2, 2)"
   ]
  },
  {
   "cell_type": "code",
   "execution_count": 30,
   "metadata": {},
   "outputs": [
    {
     "data": {
      "text/plain": [
       "0.74"
      ]
     },
     "execution_count": 30,
     "metadata": {},
     "output_type": "execute_result"
    }
   ],
   "source": [
    "pleiades_get_gsd(meta)"
   ]
  },
  {
   "cell_type": "code",
   "execution_count": 65,
   "metadata": {},
   "outputs": [],
   "source": [
    "#export\n",
    "def pleiades_get_cloudcover(metadata):\n",
    "    return round(float(metadata['Dimap_Document']['Dataset_Content']['CLOUD_COVERAGE']['#text']),2)"
   ]
  },
  {
   "cell_type": "code",
   "execution_count": 32,
   "metadata": {},
   "outputs": [
    {
     "data": {
      "text/plain": [
       "0.0"
      ]
     },
     "execution_count": 32,
     "metadata": {},
     "output_type": "execute_result"
    }
   ],
   "source": [
    "pleiades_get_cloudcover(meta)"
   ]
  },
  {
   "cell_type": "markdown",
   "metadata": {},
   "source": [
    "**Can now create** ***Item*** **containing core STAC metadata.**"
   ]
  },
  {
   "cell_type": "code",
   "execution_count": 40,
   "metadata": {},
   "outputs": [],
   "source": [
    "def pleiades_create_item(scene_name, scene_obj_paths):\n",
    "\n",
    "    meta = pleiades_parsemeta(scene_name, scene_obj_paths)\n",
    "\n",
    "    crs = pleiades_get_crs(meta)\n",
    "\n",
    "    item = pystac.Item(id=scene_name,\n",
    "                      datetime=pleiades_get_dt(scene_name),\n",
    "                      geometry=pleiades_get_geom(scene_obj_paths),\n",
    "                      bbox=pleiades_get_bbox(meta),\n",
    "                      properties={})\n",
    "\n",
    "    item.common_metadata.gsd = pleiades_get_gsd(meta)\n",
    "\n",
    "    item.ext.enable('eo')\n",
    "    item.ext.eo.cloud_cover = pleiades_get_cloudcover(meta)\n",
    "\n",
    "    item.ext.enable('projection')\n",
    "    item.ext.projection.epsg = pleiades_get_crs(meta)\n",
    "\n",
    "    return item"
   ]
  },
  {
   "cell_type": "code",
   "execution_count": 41,
   "metadata": {},
   "outputs": [],
   "source": [
    "example_item = pleiades_create_item(scene_name, scene_obj_paths)\n",
    "example_item.validate()"
   ]
  },
  {
   "cell_type": "code",
   "execution_count": 42,
   "metadata": {},
   "outputs": [
    {
     "data": {
      "text/plain": [
       "{'type': 'Feature',\n",
       " 'stac_version': '1.0.0-beta.2',\n",
       " 'id': 'Pleiades_UKSA173_SO18034614-73-01_DS_PHR1A_201809291110008_FR1_PX_W002N51_0417_007113614104101',\n",
       " 'properties': {'gsd': 0.74,\n",
       "  'eo:cloud_cover': 0.0,\n",
       "  'proj:epsg': 27700,\n",
       "  'datetime': '2018-09-29T11:10:00Z'},\n",
       " 'geometry': {'type': 'Polygon',\n",
       "  'coordinates': [[[-1.7162111146081491, 51.703447752207374],\n",
       "    [-1.6539393674716631, 51.70305171212088],\n",
       "    [-1.5922000556276548, 51.7022918404328],\n",
       "    [-1.592478005824943, 51.66971308516982],\n",
       "    [-1.5923937686249074, 51.660564184797174],\n",
       "    [-1.5924483796708082, 51.65689143996495],\n",
       "    [-1.5923435803877832, 51.6484257860413],\n",
       "    [-1.5925225669770522, 51.629252456312805],\n",
       "    [-1.6313240498998447, 51.629686309100045],\n",
       "    [-1.6617769179346535, 51.62994873863878],\n",
       "    [-1.715447257136181, 51.63018534903567],\n",
       "    [-1.7483946591920845, 51.630161588463274],\n",
       "    [-1.7789150489058498, 51.63009707066823],\n",
       "    [-1.8369443638514822, 51.62966137158252],\n",
       "    [-1.8706869752457782, 51.629244747190995],\n",
       "    [-1.902984365251201, 51.62878127998801],\n",
       "    [-1.9031756192477154, 51.64416997236793],\n",
       "    [-1.9032281966762568, 51.65003679955556],\n",
       "    [-1.9031830688830722, 51.650868451669226],\n",
       "    [-1.9032398631646559, 51.65134952934474],\n",
       "    [-1.9032635080951406, 51.6606374853309],\n",
       "    [-1.903368845801305, 51.668909487362704],\n",
       "    [-1.9033307786452263, 51.669813072279545],\n",
       "    [-1.903389897227946, 51.672618376007144],\n",
       "    [-1.9033553365867595, 51.675275246793404],\n",
       "    [-1.9033978059631684, 51.67570685904059],\n",
       "    [-1.9034325966702832, 51.686577233067496],\n",
       "    [-1.9034135338037725, 51.70237469751975],\n",
       "    [-1.8756005685839259, 51.70273072943466],\n",
       "    [-1.841058256714323, 51.703111743030504],\n",
       "    [-1.8120077713741385, 51.703302690300696],\n",
       "    [-1.7785580302502193, 51.703473760830654],\n",
       "    [-1.7162111146081491, 51.703447752207374]]]},\n",
       " 'links': [],\n",
       " 'assets': {},\n",
       " 'bbox': [-1.903199885312827,\n",
       "  51.62869184186537,\n",
       "  -1.592242985175717,\n",
       "  51.70382196570706],\n",
       " 'stac_extensions': ['eo', 'projection']}"
      ]
     },
     "execution_count": 42,
     "metadata": {},
     "output_type": "execute_result"
    }
   ],
   "source": [
    "example_item.to_dict()"
   ]
  },
  {
   "cell_type": "markdown",
   "metadata": {},
   "source": [
    "### **Functions for** ***Asset*** **metadata**"
   ]
  },
  {
   "cell_type": "markdown",
   "metadata": {},
   "source": [
    "Once we have *Item* level metadata we can add the actual *Assets*. There are a few constants used within these functions at the *Item* level (i.e. band info) and criteria for finding within the object paths."
   ]
  },
  {
   "cell_type": "code",
   "execution_count": 44,
   "metadata": {},
   "outputs": [],
   "source": [
    "#export\n",
    "pleiades_bands = [Band.create(name='Panchromatic', description='Panchromatic: 480 - 830 nm', common_name='pan'),\n",
    "                  Band.create(name='Blue', description='Blue: 430 - 550 nm', common_name='blue'),\n",
    "                  Band.create(name='Green', description='Green: 490 - 610 nm', common_name='green'),\n",
    "                  Band.create(name='Red', description='Red: 600 - 720 nm', common_name='red'),\n",
    "                  Band.create(name='Near-Infrared', description='Near-Infrared: 750 - 950 nm', common_name='nir')]"
   ]
  },
  {
   "cell_type": "code",
   "execution_count": 68,
   "metadata": {},
   "outputs": [],
   "source": [
    "#export\n",
    "pleiades_band_refs = {\n",
    "    'Panchromatic':{'ends':'_band1', 'dif':'_P_', 'id':'B0'},\n",
    "    'Blue':{'ends':'_band1', 'dif':'_MS_', 'id':'B1'},\n",
    "    'Green':{'ends':'_band2', 'dif':'_MS_', 'id':'B2'},\n",
    "    'Red':{'ends':'_band3', 'dif':'_MS_', 'id':'B3'},\n",
    "    'Near-Infrared':{'ends':'_band4', 'dif':'_MS_', 'id':'B4'}\n",
    "}"
   ]
  },
  {
   "cell_type": "code",
   "execution_count": 69,
   "metadata": {},
   "outputs": [
    {
     "data": {
      "text/plain": [
       "{'Panchromatic': {'ends': '_band1', 'dif': '_P_', 'id': 'B0'},\n",
       " 'Blue': {'ends': '_band1', 'dif': '_MS_', 'id': 'B1'},\n",
       " 'Green': {'ends': '_band2', 'dif': '_MS_', 'id': 'B2'},\n",
       " 'Red': {'ends': '_band3', 'dif': '_MS_', 'id': 'B3'},\n",
       " 'Near-Infrared': {'ends': '_band4', 'dif': '_MS_', 'id': 'B4'}}"
      ]
     },
     "execution_count": 69,
     "metadata": {},
     "output_type": "execute_result"
    }
   ],
   "source": [
    "pleiades_band_refs"
   ]
  },
  {
   "cell_type": "markdown",
   "metadata": {},
   "source": [
    "Need to find the actual asset path for a given band. (Note that we typically store COGs per-band.)"
   ]
  },
  {
   "cell_type": "code",
   "execution_count": 47,
   "metadata": {},
   "outputs": [],
   "source": [
    "def pleiades_find_band_path(band_name, scene_obj_paths):\n",
    "    matched_paths = [ o for o in scene_obj_paths if (o.endswith(f\"{pleiades_band_refs[band_name]['ends']}.tif\")) & (f\"{pleiades_band_refs[band_name]['dif']}\" in o) ]\n",
    "    if len(matched_paths) > 1:\n",
    "        raise Exception(f\"Found too many matches: {matched_paths}\")\n",
    "#     elif len(matched_paths) == 0: # should probably add something for when no asset is found...\n",
    "#         raise Warning(f\"\")\n",
    "    return matched_paths[0]"
   ]
  },
  {
   "cell_type": "code",
   "execution_count": 48,
   "metadata": {},
   "outputs": [
    {
     "data": {
      "text/plain": [
       "'uksa-ssgp/pleiades/Pleiades_UKSA173_SO18034614-73-01_DS_PHR1A_201809291110008_FR1_PX_W002N51_0417_007113614104101/IMG_PHR1A_MS_002/IMG_PHR1A_MS_201809291110008_ORT_36141041_band1.tif'"
      ]
     },
     "execution_count": 48,
     "metadata": {},
     "output_type": "execute_result"
    }
   ],
   "source": [
    "pleiades_find_band_path('Blue', scene_obj_paths)"
   ]
  },
  {
   "cell_type": "markdown",
   "metadata": {},
   "source": [
    "Then we can add each asset expected to be found and test with the example item taken from above."
   ]
  },
  {
   "cell_type": "code",
   "execution_count": 49,
   "metadata": {},
   "outputs": [],
   "source": [
    "def pleiades_add_assets2item(item, scene_obj_paths):\n",
    "    for band in pleiades_bands:\n",
    "#         print(band.name)\n",
    "\n",
    "        band_path = pleiades_find_band_path(band.name, scene_obj_paths)\n",
    "        band_url = create_uri(band_path)\n",
    "#         print(band_url)\n",
    "\n",
    "        asset = pystac.Asset(href=band_url, media_type=pystac.MediaType.COG)\n",
    "        item.ext.eo.set_bands([band], asset)\n",
    "        item.add_asset(pleiades_band_refs[band.name]['id'], asset)    \n",
    "        \n",
    "    return item"
   ]
  },
  {
   "cell_type": "code",
   "execution_count": 51,
   "metadata": {},
   "outputs": [],
   "source": [
    "example_item_with_assets = pleiades_add_assets2item(example_item, scene_obj_paths)"
   ]
  },
  {
   "cell_type": "markdown",
   "metadata": {},
   "source": [
    "Now we can see the completed *Item* stac record."
   ]
  },
  {
   "cell_type": "code",
   "execution_count": 52,
   "metadata": {},
   "outputs": [],
   "source": [
    "example_item_with_assets.validate()"
   ]
  },
  {
   "cell_type": "code",
   "execution_count": 53,
   "metadata": {},
   "outputs": [
    {
     "data": {
      "text/plain": [
       "{'type': 'Feature',\n",
       " 'stac_version': '1.0.0-beta.2',\n",
       " 'id': 'Pleiades_UKSA173_SO18034614-73-01_DS_PHR1A_201809291110008_FR1_PX_W002N51_0417_007113614104101',\n",
       " 'properties': {'gsd': 0.74,\n",
       "  'eo:cloud_cover': 0.0,\n",
       "  'proj:epsg': 27700,\n",
       "  'datetime': '2018-09-29T11:10:00Z'},\n",
       " 'geometry': {'type': 'Polygon',\n",
       "  'coordinates': [[[-1.7162111146081491, 51.703447752207374],\n",
       "    [-1.6539393674716631, 51.70305171212088],\n",
       "    [-1.5922000556276548, 51.7022918404328],\n",
       "    [-1.592478005824943, 51.66971308516982],\n",
       "    [-1.5923937686249074, 51.660564184797174],\n",
       "    [-1.5924483796708082, 51.65689143996495],\n",
       "    [-1.5923435803877832, 51.6484257860413],\n",
       "    [-1.5925225669770522, 51.629252456312805],\n",
       "    [-1.6313240498998447, 51.629686309100045],\n",
       "    [-1.6617769179346535, 51.62994873863878],\n",
       "    [-1.715447257136181, 51.63018534903567],\n",
       "    [-1.7483946591920845, 51.630161588463274],\n",
       "    [-1.7789150489058498, 51.63009707066823],\n",
       "    [-1.8369443638514822, 51.62966137158252],\n",
       "    [-1.8706869752457782, 51.629244747190995],\n",
       "    [-1.902984365251201, 51.62878127998801],\n",
       "    [-1.9031756192477154, 51.64416997236793],\n",
       "    [-1.9032281966762568, 51.65003679955556],\n",
       "    [-1.9031830688830722, 51.650868451669226],\n",
       "    [-1.9032398631646559, 51.65134952934474],\n",
       "    [-1.9032635080951406, 51.6606374853309],\n",
       "    [-1.903368845801305, 51.668909487362704],\n",
       "    [-1.9033307786452263, 51.669813072279545],\n",
       "    [-1.903389897227946, 51.672618376007144],\n",
       "    [-1.9033553365867595, 51.675275246793404],\n",
       "    [-1.9033978059631684, 51.67570685904059],\n",
       "    [-1.9034325966702832, 51.686577233067496],\n",
       "    [-1.9034135338037725, 51.70237469751975],\n",
       "    [-1.8756005685839259, 51.70273072943466],\n",
       "    [-1.841058256714323, 51.703111743030504],\n",
       "    [-1.8120077713741385, 51.703302690300696],\n",
       "    [-1.7785580302502193, 51.703473760830654],\n",
       "    [-1.7162111146081491, 51.703447752207374]]]},\n",
       " 'links': [],\n",
       " 'assets': {'B0': {'href': 'http://s3-uk-1.sa-catapult.co.uk/public-eo-data/uksa-ssgp/pleiades/Pleiades_UKSA173_SO18034614-73-01_DS_PHR1A_201809291110008_FR1_PX_W002N51_0417_007113614104101/IMG_PHR1A_P_001/IMG_PHR1A_P_201809291110008_ORT_36141041_band1.tif',\n",
       "   'type': 'image/tiff; application=geotiff; profile=cloud-optimized',\n",
       "   'eo:bands': [{'name': 'Panchromatic',\n",
       "     'common_name': 'pan',\n",
       "     'description': 'Panchromatic: 480 - 830 nm'}]},\n",
       "  'B1': {'href': 'http://s3-uk-1.sa-catapult.co.uk/public-eo-data/uksa-ssgp/pleiades/Pleiades_UKSA173_SO18034614-73-01_DS_PHR1A_201809291110008_FR1_PX_W002N51_0417_007113614104101/IMG_PHR1A_MS_002/IMG_PHR1A_MS_201809291110008_ORT_36141041_band1.tif',\n",
       "   'type': 'image/tiff; application=geotiff; profile=cloud-optimized',\n",
       "   'eo:bands': [{'name': 'Blue',\n",
       "     'common_name': 'blue',\n",
       "     'description': 'Blue: 430 - 550 nm'}]},\n",
       "  'B2': {'href': 'http://s3-uk-1.sa-catapult.co.uk/public-eo-data/uksa-ssgp/pleiades/Pleiades_UKSA173_SO18034614-73-01_DS_PHR1A_201809291110008_FR1_PX_W002N51_0417_007113614104101/IMG_PHR1A_MS_002/IMG_PHR1A_MS_201809291110008_ORT_36141041_band2.tif',\n",
       "   'type': 'image/tiff; application=geotiff; profile=cloud-optimized',\n",
       "   'eo:bands': [{'name': 'Green',\n",
       "     'common_name': 'green',\n",
       "     'description': 'Green: 490 - 610 nm'}]},\n",
       "  'B3': {'href': 'http://s3-uk-1.sa-catapult.co.uk/public-eo-data/uksa-ssgp/pleiades/Pleiades_UKSA173_SO18034614-73-01_DS_PHR1A_201809291110008_FR1_PX_W002N51_0417_007113614104101/IMG_PHR1A_MS_002/IMG_PHR1A_MS_201809291110008_ORT_36141041_band3.tif',\n",
       "   'type': 'image/tiff; application=geotiff; profile=cloud-optimized',\n",
       "   'eo:bands': [{'name': 'Red',\n",
       "     'common_name': 'red',\n",
       "     'description': 'Red: 600 - 720 nm'}]},\n",
       "  'B4': {'href': 'http://s3-uk-1.sa-catapult.co.uk/public-eo-data/uksa-ssgp/pleiades/Pleiades_UKSA173_SO18034614-73-01_DS_PHR1A_201809291110008_FR1_PX_W002N51_0417_007113614104101/IMG_PHR1A_MS_002/IMG_PHR1A_MS_201809291110008_ORT_36141041_band4.tif',\n",
       "   'type': 'image/tiff; application=geotiff; profile=cloud-optimized',\n",
       "   'eo:bands': [{'name': 'Near-Infrared',\n",
       "     'common_name': 'nir',\n",
       "     'description': 'Near-Infrared: 750 - 950 nm'}]}},\n",
       " 'bbox': [-1.903199885312827,\n",
       "  51.62869184186537,\n",
       "  -1.592242985175717,\n",
       "  51.70382196570706],\n",
       " 'stac_extensions': ['eo', 'projection']}"
      ]
     },
     "execution_count": 53,
     "metadata": {},
     "output_type": "execute_result"
    }
   ],
   "source": [
    "example_item_with_assets.to_dict()"
   ]
  },
  {
   "cell_type": "markdown",
   "metadata": {},
   "source": [
    "### **Compiling** ***Items*** **into a** ***Collection*** "
   ]
  },
  {
   "cell_type": "markdown",
   "metadata": {},
   "source": [
    "We naurally want to apply the above tools to all Pleiades-related *Items* and their *Assets* in order to build a *Collection* that can sit within another *Collection* i.e. comprised of other UKSA/SSGP-procured datasets and maybe an overall Satellite Applications Catapult *Catalog* covering all of our internal and external-facing geospatial datasets."
   ]
  },
  {
   "cell_type": "code",
   "execution_count": 60,
   "metadata": {},
   "outputs": [],
   "source": [
    "def pleiades_create_collection(pleiades_dir, bucket='public-eo-data'):\n",
    "    \n",
    "    collection_id = 'uksa-ssgp-pleiades'\n",
    "    collection_title = 'SSGP-procured Pleiades images over the UK'\n",
    "    collection_description = '''### UKSA / SSGP Pleiades\n",
    "\n",
    "    A collection of Pleiades images over the UK. Procured by UKSA under its Space for Smarter Government Programme (SSGP).\n",
    "    '''\n",
    "    \n",
    "    # initially arbitrary as updated later\n",
    "    spatial_extent = pystac.SpatialExtent([[-7.57216793459, 49.959999905, 1.68153079591, 58.6350001085]])\n",
    "    temporal_extent = pystac.TemporalExtent([[datetime(2011, 12, 16), None]])\n",
    "    collection_extent = pystac.Extent(spatial_extent, temporal_extent)\n",
    "    \n",
    "    collection = pystac.Collection(id=collection_id,\n",
    "                                   title=collection_title,\n",
    "                                   description=collection_description,\n",
    "                                   extent=collection_extent)\n",
    "    \n",
    "    collection.providers = [\n",
    "        pystac.Provider(name='Airbus Defence & Space', roles=['producer'], url='https://www.airbus.com/space.html'),\n",
    "        pystac.Provider(name='UK Space Agency', roles=['licensor'], url='https://www.gov.uk/government/organisations/uk-space-agency'),\n",
    "        pystac.Provider(name='Satellite Applications Catapult', roles=['processor'], url='https://sa.catapult.org.uk/'),\n",
    "        pystac.Provider(name='Satellite Applications Catapult', roles=['host'], url='https://sa.catapult.org.uk/')\n",
    "    ]\n",
    "    \n",
    "    obj_paths_list = s3_list_objects_paths(bucket, pleiades_dir)\n",
    "    scene_names = list(np.unique([ i.split('/')[2] for i in obj_paths_list ]))\n",
    "    \n",
    "    for scene_name in scene_names:\n",
    "        \n",
    "        scene_obj_paths = [ i for i in obj_paths_list if scene_name in i]\n",
    "        \n",
    "        item = pleiades_create_item(scene_name, scene_obj_paths)\n",
    "        item = pleiades_add_assets2item(item, scene_obj_paths)\n",
    "        \n",
    "        collection.add_item(item)\n",
    "    \n",
    "    collection.update_extent_from_items()\n",
    "        \n",
    "    return collection\n",
    "    "
   ]
  },
  {
   "cell_type": "code",
   "execution_count": 61,
   "metadata": {},
   "outputs": [],
   "source": [
    "example_collection = pleiades_create_collection('uksa-ssgp/pleiades/')"
   ]
  },
  {
   "cell_type": "code",
   "execution_count": 64,
   "metadata": {},
   "outputs": [
    {
     "name": "stdout",
     "output_type": "stream",
     "text": [
      "* <Collection id=uksa-ssgp-pleiades>\n",
      "  * <Item id=Pleiades_UKSA173_SO18034614-73-01_DS_PHR1A_201809291110008_FR1_PX_W002N51_0417_007113614104101>\n",
      "  * <Item id=Pleiades_UKSA174_SO18034614-74-01_DS_PHR1A_201809291110083_FR1_PX_W002N51_0116_00596TPP1601069431>\n",
      "  * <Item id=Pleiades_UKSA204_SO18034615-4-01_DS_PHR1B_201802251121249_FR1_PX_W002N51_0314_010483613775101>\n",
      "  * <Item id=Pleiades_UKSA305_SO18034616-5-01_DS_PHR1B_201807241124303_FR1_PX_W002N51_0720_01561TPP1601069279>\n",
      "  * <Item id=Pleiades_UKSA341_SO18034616-41-01_DS_PHR1B_201809021117346_FR1_PX_W002N51_1008_03279TPP1601069492>\n",
      "  * <Item id=Pleiades_UKSA396_SO18034616-96-01_DS_PHR1B_201810241117221_FR1_PX_W002N51_0710_01712TPP1601069318>\n",
      "  * <Item id=Pleiades_UKSA7_SO18034613-7-01_DS_PHR1A_201802241127550_FR1_PX_W002N51_0711_024843613631101>\n",
      "  * <Item id=Pleiades_UKSA87_SO18034613-87-01_DS_PHR1A_201806291118170_FR1_PX_W002N51_1016_029773614015101>\n"
     ]
    }
   ],
   "source": [
    "example_collection.describe()"
   ]
  },
  {
   "cell_type": "code",
   "execution_count": 63,
   "metadata": {},
   "outputs": [
    {
     "data": {
      "text/plain": [
       "{'id': 'uksa-ssgp-pleiades',\n",
       " 'stac_version': '1.0.0-beta.2',\n",
       " 'description': '### UKSA / SSGP Pleiades\\n\\n    A collection of Pleiades images over the UK. Procured by UKSA under its Space for Smarter Government Programme (SSGP).\\n    ',\n",
       " 'links': [{'rel': 'root', 'href': None, 'type': 'application/json'},\n",
       "  {'rel': 'item', 'href': None, 'type': 'application/json'},\n",
       "  {'rel': 'item', 'href': None, 'type': 'application/json'},\n",
       "  {'rel': 'item', 'href': None, 'type': 'application/json'},\n",
       "  {'rel': 'item', 'href': None, 'type': 'application/json'},\n",
       "  {'rel': 'item', 'href': None, 'type': 'application/json'},\n",
       "  {'rel': 'item', 'href': None, 'type': 'application/json'},\n",
       "  {'rel': 'item', 'href': None, 'type': 'application/json'},\n",
       "  {'rel': 'item', 'href': None, 'type': 'application/json'}],\n",
       " 'title': 'SSGP-procured Pleiades images over the UK',\n",
       " 'extent': {'spatial': {'bbox': [[-2.153701453474465,\n",
       "     51.15439056920768,\n",
       "     -1.082452236576131,\n",
       "     51.90716967216828]]},\n",
       "  'temporal': {'interval': [['2018-02-24T11:27:55Z',\n",
       "     '2018-10-24T11:17:22Z']]}},\n",
       " 'license': 'proprietary',\n",
       " 'providers': [{'name': 'Airbus Defence & Space',\n",
       "   'roles': ['producer'],\n",
       "   'url': 'https://www.airbus.com/space.html'},\n",
       "  {'name': 'UK Space Agency',\n",
       "   'roles': ['licensor'],\n",
       "   'url': 'https://www.gov.uk/government/organisations/uk-space-agency'},\n",
       "  {'name': 'Satellite Applications Catapult',\n",
       "   'roles': ['processor'],\n",
       "   'url': 'https://sa.catapult.org.uk/'},\n",
       "  {'name': 'Satellite Applications Catapult',\n",
       "   'roles': ['host'],\n",
       "   'url': 'https://sa.catapult.org.uk/'}]}"
      ]
     },
     "execution_count": 63,
     "metadata": {},
     "output_type": "execute_result"
    }
   ],
   "source": [
    "example_collection.to_dict()"
   ]
  },
  {
   "cell_type": "markdown",
   "metadata": {},
   "source": [
    "Note: We normalised hrefs and save in a different notebook."
   ]
  },
  {
   "cell_type": "markdown",
   "metadata": {},
   "source": [
    "## Export"
   ]
  },
  {
   "cell_type": "code",
   "execution_count": null,
   "metadata": {},
   "outputs": [
    {
     "name": "stdout",
     "output_type": "stream",
     "text": [
      "Converted 00_rediswq.ipynb.\n",
      "Converted 00_utils.ipynb.\n",
      "Converted 01A_pleiades.ipynb.\n",
      "Converted 01B_pleiades_prep_worker.ipynb.\n",
      "Converted 02A_spot.ipynb.\n",
      "Converted index.ipynb.\n"
     ]
    }
   ],
   "source": [
    "#hide\n",
    "from nbdev.export import notebook2script; notebook2script()"
   ]
  }
 ],
 "metadata": {
  "kernelspec": {
   "display_name": "Python 3",
   "language": "python",
   "name": "python3"
  },
  "language_info": {
   "codemirror_mode": {
    "name": "ipython",
    "version": 3
   },
   "file_extension": ".py",
   "mimetype": "text/x-python",
   "name": "python",
   "nbconvert_exporter": "python",
   "pygments_lexer": "ipython3",
   "version": "3.7.9"
  }
 },
 "nbformat": 4,
 "nbformat_minor": 4
}
