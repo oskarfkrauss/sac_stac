{
 "cells": [
  {
   "cell_type": "code",
   "execution_count": null,
   "metadata": {},
   "outputs": [],
   "source": [
    "#hide\n",
    "# from sac_stac.utils import *"
   ]
  },
  {
   "cell_type": "markdown",
   "metadata": {},
   "source": [
    "# A super cool project name\n",
    "\n",
    "> A really useful summary description."
   ]
  },
  {
   "cell_type": "code",
   "execution_count": null,
   "metadata": {},
   "outputs": [],
   "source": [
    "#hide\n",
    "%load_ext autoreload\n",
    "%autoreload 2"
   ]
  },
  {
   "cell_type": "markdown",
   "metadata": {},
   "source": [
    "Catapult hosts a variety of satellite Earth Observation (EO) datasets that it's expected would have far more use due to improved **discoverability**, **searchability** and **accessibility** if they were...\n",
    "1. hosted on publicly accessible object storage\n",
    "2. formatted to be cloud-optimised\n",
    "3. consistently catalogued \n",
    "\n",
    "Here we do some exploratory work in using Catapult's internal **[object storage](https://en.wikipedia.org/wiki/Object_storage)**, Cloud Optimised Geotiffs (**[COGs](https://www.cogeo.org/)**) and SpatioTemporal Asset Catalogs (**[STAC](https://stacspec.org/)**) to address each of these components for a selection of Catapult-hosted and publicly available EO datasets.\n",
    "\n",
    "The initial exploration covers a variety of very high resolution images procured from commercial providers with flexible license agreements for [pubic-sector use cases](https://www.gov.uk/government/news/free-satellite-data-available-to-help-tackle-public-sector-challenges) and a nascent flavour of Analysis Reaady Data (**[ARD](http://ceos.org/ard/)**) for [NovaSAR](https://sa.catapult.org.uk/facilities/novasar-1/). \n",
    "\n",
    "\n",
    "\n"
   ]
  },
  {
   "cell_type": "markdown",
   "metadata": {},
   "source": [
    "## Install"
   ]
  },
  {
   "cell_type": "markdown",
   "metadata": {},
   "source": [
    "`pip install sac_stac` (package not created yet)"
   ]
  },
  {
   "cell_type": "markdown",
   "metadata": {},
   "source": [
    "## Dev"
   ]
  },
  {
   "cell_type": "markdown",
   "metadata": {},
   "source": [
    "Alongside trying out some stac pieces this is also a first attempt at using [nbdev](https://nbdev.fast.ai/). (Inspired by the not-so-controversial \"I like notebooks\" [presentation](https://www.youtube.com/watch?v=9Q6sLbz37gk&feature=youtu.be).) The setup for development is simply based around a Docker container serving a Jupyter Lab environment. Folding package requirements within settings.ini is the next step for making use of...). (Inspired by the not-so-controversial \"[I like notebooks presentation](https://www.youtube.com/watch?v=9Q6sLbz37gk&feature=youtu.be)\".) The setup for development is simply based around a Docker container serving a Jupyter Lab environment. Folding package requirements within settings.ini is the next step for making use of..."
   ]
  },
  {
   "cell_type": "markdown",
   "metadata": {},
   "source": [
    "Will want to change volume mount of data directory within docker-compose."
   ]
  },
  {
   "cell_type": "markdown",
   "metadata": {},
   "source": [
    "## So far..."
   ]
  },
  {
   "cell_type": "markdown",
   "metadata": {},
   "source": [
    "There are some basic utilities for working with the sedas api, converting rasters to COG format and dealing with S3-like storage."
   ]
  },
  {
   "cell_type": "code",
   "execution_count": null,
   "metadata": {},
   "outputs": [
    {
     "data": {
      "text/plain": [
       "'Available groups are: Cosmo-SkyMed, SPOT, Pleiades, S1, S2, AIRSAR'"
      ]
     },
     "execution_count": null,
     "metadata": {},
     "output_type": "execute_result"
    }
   ],
   "source": [
    "get_sedas_collections()"
   ]
  },
  {
   "cell_type": "markdown",
   "metadata": {},
   "source": [
    "And these are built up to be used across dataset specific characteristics. Basically addressing different dir structures, mosaic and band stacking requirements, etc. For example with Pleiades..."
   ]
  },
  {
   "cell_type": "code",
   "execution_count": null,
   "metadata": {},
   "outputs": [
    {
     "name": "stdout",
     "output_type": "stream",
     "text": [
      "tbd\n"
     ]
    }
   ],
   "source": [
    "#hide\n",
    "print('tbd')"
   ]
  },
  {
   "cell_type": "markdown",
   "metadata": {},
   "source": [
    "## There soon will be..."
   ]
  },
  {
   "cell_type": "code",
   "execution_count": null,
   "metadata": {},
   "outputs": [
    {
     "name": "stdout",
     "output_type": "stream",
     "text": [
      "tbd\n"
     ]
    }
   ],
   "source": [
    "#hide\n",
    "print('tbd')"
   ]
  },
  {
   "cell_type": "code",
   "execution_count": null,
   "metadata": {},
   "outputs": [
    {
     "name": "stdout",
     "output_type": "stream",
     "text": [
      "Converted 00_rediswq.ipynb.\n",
      "Converted 00_utils.ipynb.\n",
      "Converted 01A_pleiades.ipynb.\n",
      "Converted 01B_pleiades_prep_worker.ipynb.\n",
      "Converted 02A_spot.ipynb.\n",
      "Converted index.ipynb.\n"
     ]
    }
   ],
   "source": [
    "#hide\n",
    "from nbdev.export import notebook2script; notebook2script()"
   ]
  }
 ],
 "metadata": {
  "kernelspec": {
   "display_name": "Python 3",
   "language": "python",
   "name": "python3"
  },
  "language_info": {
   "codemirror_mode": {
    "name": "ipython",
    "version": 3
   },
   "file_extension": ".py",
   "mimetype": "text/x-python",
   "name": "python",
   "nbconvert_exporter": "python",
   "pygments_lexer": "ipython3",
   "version": "3.7.9"
  }
 },
 "nbformat": 4,
 "nbformat_minor": 4
}
