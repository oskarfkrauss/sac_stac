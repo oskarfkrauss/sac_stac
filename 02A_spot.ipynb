{
 "cells": [
  {
   "cell_type": "code",
   "execution_count": null,
   "metadata": {},
   "outputs": [],
   "source": [
    "#default_exp spot"
   ]
  },
  {
   "cell_type": "markdown",
   "metadata": {},
   "source": [
    "# SPOT\n",
    "\n",
    "> Working through conversion to cogs, upload to object storage, stac item metadata parsing, etc. for SPOT 6/7 datasets"
   ]
  },
  {
   "cell_type": "code",
   "execution_count": null,
   "metadata": {},
   "outputs": [],
   "source": [
    "#hide\n",
    "%load_ext autoreload\n",
    "%autoreload 2"
   ]
  },
  {
   "cell_type": "code",
   "execution_count": null,
   "metadata": {},
   "outputs": [],
   "source": [
    "#hide\n",
    "from nbdev.showdoc import *"
   ]
  },
  {
   "cell_type": "code",
   "execution_count": null,
   "metadata": {},
   "outputs": [],
   "source": [
    "#export\n",
    "import os\n",
    "from glob import glob\n",
    "import time\n",
    "import numpy as np\n",
    "from datetime import datetime\n",
    "import json\n",
    "\n",
    "import xmltodict\n",
    "import pystac\n",
    "from pystac import STAC_IO\n",
    "from pystac.extensions.eo import Band\n",
    "import geopandas as gpd\n",
    "\n",
    "from sac_stac.utils import sedas_client, sedas_find_datasets, sedas_download, sedas_extract\n",
    "from sac_stac.utils import cogmosaicbands\n",
    "from sac_stac.utils import s3_upload_dir, s3_list_objects_paths, clean_up\n",
    "from sac_stac.utils import pystac_setIO, create_uri"
   ]
  },
  {
   "cell_type": "code",
   "execution_count": null,
   "metadata": {},
   "outputs": [],
   "source": [
    "import pandas as pd"
   ]
  },
  {
   "cell_type": "markdown",
   "metadata": {},
   "source": [
    "## **Preparation**: ***Download, cloud-optimise, upload***"
   ]
  },
  {
   "cell_type": "markdown",
   "metadata": {},
   "source": [
    "### **Prep Function**"
   ]
  },
  {
   "cell_type": "markdown",
   "metadata": {},
   "source": [
    "Download and use basic gdal tools to mosaic any tiles into single images, convert to cog and upload to our object storage."
   ]
  },
  {
   "cell_type": "code",
   "execution_count": null,
   "metadata": {},
   "outputs": [],
   "source": [
    "#export\n",
    "def prep_spot(sedas_supplierId, inter_dir=\"/tmp/data/intermediate/\", \n",
    "                  s3_bucket=\"public-eo-data\", s3_dir=\"uksa-ssgp/spot/\"):\n",
    "    try:\n",
    "        inter_dir = f\"{inter_dir}{sedas_supplierId}_tmp/\"\n",
    "        os.makedirs(inter_dir, exist_ok=True)\n",
    "        scene_name = sedas_supplierId\n",
    "        down_zip = f\"{inter_dir}{scene_name}.zip\"\n",
    "        scene_dir = f\"{down_zip[:-4]}/\"\n",
    "        print(f\"{time.strftime('%Y-%m-%d %H:%M:%S')} Preparing {scene_name} within {inter_dir}\")\n",
    "        # find & download\n",
    "        sedas_scene_res = sedas_client().search_product(sedas_supplierId)[0]\n",
    "        sedas_download([sedas_scene_res], inter_dir)\n",
    "        sedas_extract(down_zip, scene_dir)\n",
    "        # sensor-specific band mosaicing and cogifying\n",
    "        imgs_ms = glob(f\"{scene_dir}*/*/*MS_001*/*.TIF\")\n",
    "        imgs_pan = glob(f\"{scene_dir}*/*/*P_001*/*.TIF\")\n",
    "        cogmosaicbands(imgs_pan, 1, imgs_pan[0][:-20])\n",
    "        cogmosaicbands(imgs_ms, 4, imgs_ms[0][:-20])\n",
    "        # upload\n",
    "        s3_upload_dir(scene_dir, s3_bucket, s3_dir)\n",
    "        print(f\"{time.strftime('%Y-%m-%d %H:%M:%S')} Prepared {scene_name} at {s3_dir}{scene_name}/\")\n",
    "        clean_up(inter_dir)\n",
    "    except Exception as e:\n",
    "        print(f\"{time.strftime('%Y-%m-%d %H:%M:%S')} Failed with {e}\")    \n",
    "        clean_up(inter_dir)"
   ]
  },
  {
   "cell_type": "markdown",
   "metadata": {},
   "source": [
    "### **Iteration with examples**"
   ]
  },
  {
   "cell_type": "markdown",
   "metadata": {},
   "source": [
    "Some samples used to iterate creation of the prep function."
   ]
  },
  {
   "cell_type": "code",
   "execution_count": null,
   "metadata": {},
   "outputs": [
    {
     "data": {
      "text/html": [
       "<div>\n",
       "<style scoped>\n",
       "    .dataframe tbody tr th:only-of-type {\n",
       "        vertical-align: middle;\n",
       "    }\n",
       "\n",
       "    .dataframe tbody tr th {\n",
       "        vertical-align: top;\n",
       "    }\n",
       "\n",
       "    .dataframe thead th {\n",
       "        text-align: right;\n",
       "    }\n",
       "</style>\n",
       "<table border=\"1\" class=\"dataframe\">\n",
       "  <thead>\n",
       "    <tr style=\"text-align: right;\">\n",
       "      <th></th>\n",
       "      <th>productId</th>\n",
       "      <th>supplierId</th>\n",
       "      <th>type</th>\n",
       "      <th>satelliteName</th>\n",
       "      <th>instrumentName</th>\n",
       "      <th>modeName</th>\n",
       "      <th>sensorType</th>\n",
       "      <th>sensorResolution</th>\n",
       "      <th>coordinatesWKT</th>\n",
       "      <th>start</th>\n",
       "      <th>...</th>\n",
       "      <th>area</th>\n",
       "      <th>aoiCoveragePercent</th>\n",
       "      <th>usefulAreaPercent</th>\n",
       "      <th>cloudCoveragePercent</th>\n",
       "      <th>productType</th>\n",
       "      <th>latency</th>\n",
       "      <th>ql</th>\n",
       "      <th>thumbnail</th>\n",
       "      <th>vendorSpecific</th>\n",
       "      <th>downloadUrl</th>\n",
       "    </tr>\n",
       "  </thead>\n",
       "  <tbody>\n",
       "    <tr>\n",
       "      <th>0</th>\n",
       "      <td>ff3aa1470eb5ed57d7c5a6e05db400b7</td>\n",
       "      <td>UKSA_SPOT161_SO18034609-61-01_DS_SPOT6_2018101...</td>\n",
       "      <td>ARCHIVE</td>\n",
       "      <td>SPOT-6</td>\n",
       "      <td>NAOMI-MS/PAN</td>\n",
       "      <td>0.000</td>\n",
       "      <td>Optical</td>\n",
       "      <td>8.0</td>\n",
       "      <td>POLYGON((-2.820905 50.931699,-1.870556 50.9345...</td>\n",
       "      <td>2018-10-19T10:39:14Z</td>\n",
       "      <td>...</td>\n",
       "      <td>4.313839e+09</td>\n",
       "      <td>0.0</td>\n",
       "      <td>0.0</td>\n",
       "      <td>6.0</td>\n",
       "      <td>L3</td>\n",
       "      <td>Standard</td>\n",
       "      <td>https://geobrowser.satapps.org/archiveql/aeweb...</td>\n",
       "      <td>https://sedasdm.satapps.org/qls/qlmgr.php?scen...</td>\n",
       "      <td>{'property': 'vendorSpecific', 'Filehash': '63...</td>\n",
       "      <td>https://sedasdm.satapps.org/datamgr/datamgr.ph...</td>\n",
       "    </tr>\n",
       "    <tr>\n",
       "      <th>1</th>\n",
       "      <td>c0982f29580eb726f04c9af6bdebb376</td>\n",
       "      <td>UKSA_SPOT156_SO18034609-56-01_DS_SPOT6_2018101...</td>\n",
       "      <td>ARCHIVE</td>\n",
       "      <td>SPOT-6</td>\n",
       "      <td>NAOMI-MS/PAN</td>\n",
       "      <td>0.000</td>\n",
       "      <td>Optical</td>\n",
       "      <td>8.0</td>\n",
       "      <td>POLYGON((-1.918729 51.158248,-0.864598 51.1527...</td>\n",
       "      <td>2018-10-10T10:58:21Z</td>\n",
       "      <td>...</td>\n",
       "      <td>3.463299e+09</td>\n",
       "      <td>25.0</td>\n",
       "      <td>13.0</td>\n",
       "      <td>0.0</td>\n",
       "      <td>L3</td>\n",
       "      <td>Standard</td>\n",
       "      <td>https://geobrowser.satapps.org/archiveql/aeweb...</td>\n",
       "      <td>https://sedasdm.satapps.org/qls/qlmgr.php?scen...</td>\n",
       "      <td>{'property': 'vendorSpecific', 'Filehash': '73...</td>\n",
       "      <td>https://sedasdm.satapps.org/datamgr/datamgr.ph...</td>\n",
       "    </tr>\n",
       "  </tbody>\n",
       "</table>\n",
       "<p>2 rows × 22 columns</p>\n",
       "</div>"
      ],
      "text/plain": [
       "                          productId  \\\n",
       "0  ff3aa1470eb5ed57d7c5a6e05db400b7   \n",
       "1  c0982f29580eb726f04c9af6bdebb376   \n",
       "\n",
       "                                          supplierId     type satelliteName  \\\n",
       "0  UKSA_SPOT161_SO18034609-61-01_DS_SPOT6_2018101...  ARCHIVE        SPOT-6   \n",
       "1  UKSA_SPOT156_SO18034609-56-01_DS_SPOT6_2018101...  ARCHIVE        SPOT-6   \n",
       "\n",
       "  instrumentName modeName sensorType  sensorResolution  \\\n",
       "0   NAOMI-MS/PAN    0.000    Optical               8.0   \n",
       "1   NAOMI-MS/PAN    0.000    Optical               8.0   \n",
       "\n",
       "                                      coordinatesWKT                 start  \\\n",
       "0  POLYGON((-2.820905 50.931699,-1.870556 50.9345...  2018-10-19T10:39:14Z   \n",
       "1  POLYGON((-1.918729 51.158248,-0.864598 51.1527...  2018-10-10T10:58:21Z   \n",
       "\n",
       "   ...          area aoiCoveragePercent  usefulAreaPercent  \\\n",
       "0  ...  4.313839e+09                0.0                0.0   \n",
       "1  ...  3.463299e+09               25.0               13.0   \n",
       "\n",
       "   cloudCoveragePercent  productType   latency  \\\n",
       "0                   6.0           L3  Standard   \n",
       "1                   0.0           L3  Standard   \n",
       "\n",
       "                                                  ql  \\\n",
       "0  https://geobrowser.satapps.org/archiveql/aeweb...   \n",
       "1  https://geobrowser.satapps.org/archiveql/aeweb...   \n",
       "\n",
       "                                           thumbnail  \\\n",
       "0  https://sedasdm.satapps.org/qls/qlmgr.php?scen...   \n",
       "1  https://sedasdm.satapps.org/qls/qlmgr.php?scen...   \n",
       "\n",
       "                                      vendorSpecific  \\\n",
       "0  {'property': 'vendorSpecific', 'Filehash': '63...   \n",
       "1  {'property': 'vendorSpecific', 'Filehash': '73...   \n",
       "\n",
       "                                         downloadUrl  \n",
       "0  https://sedasdm.satapps.org/datamgr/datamgr.ph...  \n",
       "1  https://sedasdm.satapps.org/datamgr/datamgr.ph...  \n",
       "\n",
       "[2 rows x 22 columns]"
      ]
     },
     "execution_count": null,
     "metadata": {},
     "output_type": "execute_result"
    }
   ],
   "source": [
    "result = sedas_find_datasets(\"POLYGON((-1.91 51.81,-1.15 51.81,-1.15 51.50,-1.91 51.50,-1.91 51.81))\", \n",
    "                             \"2000-01-01T00:00:00Z\", \n",
    "                             \"2020-10-27T00:00:00Z\",\n",
    "                             \"SPOT\"\n",
    "                            )\n",
    "pd.DataFrame(result['products']).head(2)"
   ]
  },
  {
   "cell_type": "code",
   "execution_count": null,
   "metadata": {},
   "outputs": [],
   "source": [
    "#hide\n",
    "\n",
    "# done = []\n",
    "# for p in pd.DataFrame(result['products']).supplierId.values:\n",
    "# #     if not True in [i.split('_')[1] in p for i in done]:\n",
    "#     prep_spot(p)"
   ]
  },
  {
   "cell_type": "markdown",
   "metadata": {},
   "source": [
    "Example of testing the first one."
   ]
  },
  {
   "cell_type": "code",
   "execution_count": null,
   "metadata": {},
   "outputs": [],
   "source": [
    "# prep_spot(\"UKSA_SPOT156_SO18034609-56-01_DS_SPOT6_201810101058206_FR1_FR1_FR1_FR1_W001N51_01140\")"
   ]
  },
  {
   "cell_type": "markdown",
   "metadata": {},
   "source": [
    "### **Full Job Lists**"
   ]
  },
  {
   "cell_type": "markdown",
   "metadata": {},
   "source": [
    "Once happy with `prep_spot` we create a list of jobs from search results of `sedas_find_datasets` to submit to a redis queue as per `rediswq`.\n",
    "\n",
    "We can test these via redis within `spot_prep_worker`.\n",
    "\n",
    "Sometimes we run as campaigns via K8s."
   ]
  },
  {
   "cell_type": "code",
   "execution_count": null,
   "metadata": {},
   "outputs": [
    {
     "data": {
      "text/plain": [
       "'20201111'"
      ]
     },
     "execution_count": null,
     "metadata": {},
     "output_type": "execute_result"
    }
   ],
   "source": [
    "jobs_dir = \"/tmp/data/\"\n",
    "td = datetime.today()\n",
    "td = td.strftime('%Y')+td.strftime('%m')+td.strftime('%d')\n",
    "td"
   ]
  },
  {
   "cell_type": "code",
   "execution_count": null,
   "metadata": {},
   "outputs": [],
   "source": [
    "with open(f\"{jobs_dir}/JOBLIST_{td}_spot.txt\", 'w') as t:\n",
    "    for v in pd.DataFrame(result['products']).supplierId.values:\n",
    "        t.write(\"rpush jobPL\"+\" '{\"+'\"sedas_supplierId\": \"'+ v +'\"'\"}'\" + '\\n')"
   ]
  },
  {
   "cell_type": "markdown",
   "metadata": {},
   "source": [
    "## **STAC metadata**: ***core & extensions***"
   ]
  },
  {
   "cell_type": "markdown",
   "metadata": {},
   "source": [
    "With the cogs above hosted object storage we can go create some tools for building a STAC *Collection* from them, to be used within in **insert nb** to build a *Catalog* of different Catapult *Collections*. As per the nb these initially sit within a *static* STAC alongside the actual datasets on the object storage. However we plan on hosting via a STAC compliant API - probs [pygeoapi](https://pygeoapi.io/)."
   ]
  },
  {
   "cell_type": "code",
   "execution_count": null,
   "metadata": {},
   "outputs": [],
   "source": [
    "obj_paths_list = s3_list_objects_paths('public-eo-data', 'uksa-ssgp/spot/')"
   ]
  },
  {
   "cell_type": "code",
   "execution_count": null,
   "metadata": {},
   "outputs": [
    {
     "data": {
      "text/plain": [
       "['UKSA_SPOT155_SO18034609-55-01_DS_SPOT6_201810101058095_FR1_FR1_FR1_FR1_W001N52_01140',\n",
       " 'UKSA_SPOT156_SO18034609-56-01_DS_SPOT6_201810101058206_FR1_FR1_FR1_FR1_W001N51_01140',\n",
       " 'UKSA_SPOT161_SO18034609-61-01_DS_SPOT6_201810191039150_FR1_FR1_SV1_SV1_W002N51_01709',\n",
       " 'UKSA_SPOT287_SO18034610-86-01_DS_SPOT7_201809241031594_FR1_FR1_FR1_FR1_W002N52_01222',\n",
       " 'UKSA_SPOT288_SO18034610-87-01_DS_SPOT7_201809271058114_FR1_FR1_SV1_SV1_W001N52_02845']"
      ]
     },
     "execution_count": null,
     "metadata": {},
     "output_type": "execute_result"
    }
   ],
   "source": [
    "# get unique Item / scene names (third dir from path)\n",
    "scene_names = list(np.unique([ i.split('/')[2] for i in obj_paths_list ]))\n",
    "scene_names[:5]"
   ]
  },
  {
   "cell_type": "markdown",
   "metadata": {},
   "source": [
    "### **Individual example for iteration**"
   ]
  },
  {
   "cell_type": "markdown",
   "metadata": {},
   "source": [
    "can just work with one"
   ]
  },
  {
   "cell_type": "code",
   "execution_count": null,
   "metadata": {},
   "outputs": [
    {
     "data": {
      "text/plain": [
       "'UKSA_SPOT155_SO18034609-55-01_DS_SPOT6_201810101058095_FR1_FR1_FR1_FR1_W001N52_01140'"
      ]
     },
     "execution_count": null,
     "metadata": {},
     "output_type": "execute_result"
    }
   ],
   "source": [
    "scene_name = scene_names[0]\n",
    "scene_name"
   ]
  },
  {
   "cell_type": "markdown",
   "metadata": {},
   "source": [
    "and objects associated with that scene"
   ]
  },
  {
   "cell_type": "code",
   "execution_count": null,
   "metadata": {},
   "outputs": [
    {
     "data": {
      "text/plain": [
       "['uksa-ssgp/spot/UKSA_SPOT155_SO18034609-55-01_DS_SPOT6_201810101058095_FR1_FR1_FR1_FR1_W001N52_01140/DELIVERY.PDF',\n",
       " 'uksa-ssgp/spot/UKSA_SPOT155_SO18034609-55-01_DS_SPOT6_201810101058095_FR1_FR1_FR1_FR1_W001N52_01140/INDEX.HTM']"
      ]
     },
     "execution_count": null,
     "metadata": {},
     "output_type": "execute_result"
    }
   ],
   "source": [
    "scene_obj_paths = [ i for i in obj_paths_list if scene_name in i]\n",
    "scene_obj_paths[:2]"
   ]
  },
  {
   "cell_type": "markdown",
   "metadata": {},
   "source": [
    "set our own I/O for pystac"
   ]
  },
  {
   "cell_type": "code",
   "execution_count": null,
   "metadata": {},
   "outputs": [],
   "source": [
    "#export\n",
    "pystac_setIO()"
   ]
  },
  {
   "cell_type": "markdown",
   "metadata": {},
   "source": [
    "### **Functions for** ***Item*** **metadata**"
   ]
  },
  {
   "cell_type": "code",
   "execution_count": null,
   "metadata": {},
   "outputs": [],
   "source": [
    "#export\n",
    "def spot_get_dt(scene_name):\n",
    "    return datetime.strptime(scene_name.split('_')[5][:14], '%Y%m%d%H%M%S')"
   ]
  },
  {
   "cell_type": "code",
   "execution_count": null,
   "metadata": {},
   "outputs": [
    {
     "data": {
      "text/plain": [
       "datetime.datetime(2018, 10, 10, 10, 58, 9)"
      ]
     },
     "execution_count": null,
     "metadata": {},
     "output_type": "execute_result"
    }
   ],
   "source": [
    "spot_get_dt(scene_name)"
   ]
  },
  {
   "cell_type": "code",
   "execution_count": null,
   "metadata": {},
   "outputs": [],
   "source": [
    "#export\n",
    "def spot_parsemeta(scene_name, scene_obj_paths):\n",
    "    meta_path = [i for i in scene_obj_paths if (i.endswith('.XML')) & (os.path.basename(i).startswith('DIM'))][0]\n",
    "    return xmltodict.parse(pystac.STAC_IO.read_text(create_uri(meta_path)))"
   ]
  },
  {
   "cell_type": "code",
   "execution_count": null,
   "metadata": {},
   "outputs": [
    {
     "data": {
      "text/plain": [
       "odict_keys(['@xmlns:xlink', '@xmlns:xsi', '@xsi:noNamespaceSchemaLocation', '@version', 'Metadata_Identification', 'Dataset_Identification', 'Dataset_Content', 'Product_Information', 'Coordinate_Reference_System', 'Geoposition', 'Processing_Information', 'Raster_Data', 'Radiometric_Data', 'Geometric_Data', 'Quality_Assessment', 'Dataset_Sources'])"
      ]
     },
     "execution_count": null,
     "metadata": {},
     "output_type": "execute_result"
    }
   ],
   "source": [
    "meta = spot_parsemeta(scene_name, scene_obj_paths)\n",
    "meta['Dimap_Document'].keys()"
   ]
  },
  {
   "cell_type": "code",
   "execution_count": null,
   "metadata": {},
   "outputs": [],
   "source": [
    "#export\n",
    "def spot_get_crs(metadata):\n",
    "    return int(metadata['Dimap_Document']['Coordinate_Reference_System']['Projected_CRS']['PROJECTED_CRS_NAME'][:5])"
   ]
  },
  {
   "cell_type": "code",
   "execution_count": null,
   "metadata": {},
   "outputs": [
    {
     "data": {
      "text/plain": [
       "27700"
      ]
     },
     "execution_count": null,
     "metadata": {},
     "output_type": "execute_result"
    }
   ],
   "source": [
    "crs = spot_get_crs(meta)\n",
    "crs"
   ]
  },
  {
   "cell_type": "code",
   "execution_count": null,
   "metadata": {},
   "outputs": [],
   "source": [
    "#export\n",
    "def spot_get_geom(scene_paths, native_epsg):\n",
    "    nat_crs = {\"init\": f\"epsg:{native_epsg}\"}\n",
    "    roi_path = [i for i in scene_paths if (i.endswith('1_MSK.GML') * os.path.basename(i).startswith('ROI'))][0]\n",
    "    roi_uri = create_uri(roi_path)\n",
    "    g = gpd.read_file(roi_uri)\n",
    "    g.crs = f\"EPSG:{native_epsg}\"\n",
    "    return json.loads(g.to_crs('EPSG:4326').to_json(show_bbox=True))['features'][0]['geometry']"
   ]
  },
  {
   "cell_type": "code",
   "execution_count": null,
   "metadata": {},
   "outputs": [
    {
     "data": {
      "text/plain": [
       "{'type': 'Polygon',\n",
       " 'coordinates': [[[-0.6499519273083667, 52.08844089007527],\n",
       "   [-0.6448428681559101, 52.088382273153236],\n",
       "   [-0.6446263981696051, 51.757267668413746],\n",
       "   [-0.644682404135545, 51.755396785700185],\n",
       "   [-0.6450817810991609, 51.75512292935542],\n",
       "   [-1.6964988848377145, 51.685308252199924],\n",
       "   [-1.6970101211854633, 51.685309570681724],\n",
       "   [-1.6975136320308248, 51.685588611054996],\n",
       "   [-1.6977238663030947, 51.85203916138853],\n",
       "   [-1.6978394095956657, 51.94347348226774],\n",
       "   [-1.6973325231656649, 52.018813144847385],\n",
       "   [-0.6499519273083667, 52.08844089007527]]]}"
      ]
     },
     "execution_count": null,
     "metadata": {},
     "output_type": "execute_result"
    }
   ],
   "source": [
    "spot_get_geom(scene_obj_paths, crs)"
   ]
  },
  {
   "cell_type": "code",
   "execution_count": null,
   "metadata": {},
   "outputs": [],
   "source": [
    "#export\n",
    "def spot_get_bbox(metadata):\n",
    "    lons = [float(i['LON']) for i in metadata['Dimap_Document']['Dataset_Content']['Dataset_Extent']['Vertex']]\n",
    "    lats = [float(i['LAT']) for i in metadata['Dimap_Document']['Dataset_Content']['Dataset_Extent']['Vertex']]\n",
    "    return [min(lons), min(lats), max(lons), max(lats)]"
   ]
  },
  {
   "cell_type": "code",
   "execution_count": null,
   "metadata": {},
   "outputs": [
    {
     "data": {
      "text/plain": [
       "[-1.69960277718, 51.6779380171, -0.634664143202, 52.095806321]"
      ]
     },
     "execution_count": null,
     "metadata": {},
     "output_type": "execute_result"
    }
   ],
   "source": [
    "spot_get_bbox(meta)"
   ]
  },
  {
   "cell_type": "code",
   "execution_count": null,
   "metadata": {},
   "outputs": [],
   "source": [
    "#export\n",
    "def spot_get_gsd(metadata):\n",
    "    across = float(metadata['Dimap_Document']['Geometric_Data']['Use_Area']['Located_Geometric_Values'][0]['Ground_Sample_Distance']['GSD_ACROSS_TRACK'])\n",
    "    along = float(metadata['Dimap_Document']['Geometric_Data']['Use_Area']['Located_Geometric_Values'][0]['Ground_Sample_Distance']['GSD_ALONG_TRACK'])\n",
    "    return round(( across + along ) / 2, 2)"
   ]
  },
  {
   "cell_type": "code",
   "execution_count": null,
   "metadata": {},
   "outputs": [
    {
     "data": {
      "text/plain": [
       "9.93"
      ]
     },
     "execution_count": null,
     "metadata": {},
     "output_type": "execute_result"
    }
   ],
   "source": [
    "spot_get_gsd(meta)"
   ]
  },
  {
   "cell_type": "code",
   "execution_count": null,
   "metadata": {},
   "outputs": [],
   "source": [
    "#export\n",
    "def spot_get_cloudcover(metadata):\n",
    "    return round(float(metadata['Dimap_Document']['Dataset_Content']['CLOUD_COVERAGE']['#text']),2)"
   ]
  },
  {
   "cell_type": "code",
   "execution_count": null,
   "metadata": {},
   "outputs": [
    {
     "data": {
      "text/plain": [
       "0.0"
      ]
     },
     "execution_count": null,
     "metadata": {},
     "output_type": "execute_result"
    }
   ],
   "source": [
    "spot_get_cloudcover(meta)"
   ]
  },
  {
   "cell_type": "markdown",
   "metadata": {},
   "source": [
    "**Can now create** ***Item*** **containing core STAC metadata.**"
   ]
  },
  {
   "cell_type": "code",
   "execution_count": null,
   "metadata": {},
   "outputs": [],
   "source": [
    "#export\n",
    "def spot_create_item(scene_name, scene_obj_paths):\n",
    "\n",
    "    meta = spot_parsemeta(scene_name, scene_obj_paths)\n",
    "    \n",
    "    crs = spot_get_crs(meta)\n",
    "    \n",
    "    item = pystac.Item(id=scene_name,\n",
    "                      datetime=spot_get_dt(scene_name),\n",
    "                      geometry=spot_get_geom(scene_obj_paths, crs),\n",
    "                      bbox=spot_get_bbox(meta),\n",
    "                      properties={})\n",
    "\n",
    "    item.common_metadata.gsd = spot_get_gsd(meta)\n",
    "\n",
    "    item.ext.enable('eo')\n",
    "    item.ext.eo.cloud_cover = spot_get_cloudcover(meta)\n",
    "\n",
    "    item.ext.enable('projection')\n",
    "    item.ext.projection.epsg = spot_get_crs(meta)\n",
    "\n",
    "    return item"
   ]
  },
  {
   "cell_type": "code",
   "execution_count": null,
   "metadata": {},
   "outputs": [],
   "source": [
    "example_item = spot_create_item(scene_name, scene_obj_paths)\n",
    "example_item.validate()"
   ]
  },
  {
   "cell_type": "code",
   "execution_count": null,
   "metadata": {},
   "outputs": [
    {
     "data": {
      "text/plain": [
       "{'type': 'Feature',\n",
       " 'stac_version': '1.0.0-beta.2',\n",
       " 'id': 'UKSA_SPOT155_SO18034609-55-01_DS_SPOT6_201810101058095_FR1_FR1_FR1_FR1_W001N52_01140',\n",
       " 'properties': {'gsd': 9.93,\n",
       "  'eo:cloud_cover': 0.0,\n",
       "  'proj:epsg': 27700,\n",
       "  'datetime': '2018-10-10T10:58:09Z'},\n",
       " 'geometry': {'type': 'Polygon',\n",
       "  'coordinates': [[[-0.6499519273083667, 52.08844089007527],\n",
       "    [-0.6448428681559101, 52.088382273153236],\n",
       "    [-0.6446263981696051, 51.757267668413746],\n",
       "    [-0.644682404135545, 51.755396785700185],\n",
       "    [-0.6450817810991609, 51.75512292935542],\n",
       "    [-1.6964988848377145, 51.685308252199924],\n",
       "    [-1.6970101211854633, 51.685309570681724],\n",
       "    [-1.6975136320308248, 51.685588611054996],\n",
       "    [-1.6977238663030947, 51.85203916138853],\n",
       "    [-1.6978394095956657, 51.94347348226774],\n",
       "    [-1.6973325231656649, 52.018813144847385],\n",
       "    [-0.6499519273083667, 52.08844089007527]]]},\n",
       " 'links': [],\n",
       " 'assets': {},\n",
       " 'bbox': [-1.69960277718, 51.6779380171, -0.634664143202, 52.095806321],\n",
       " 'stac_extensions': ['eo', 'projection']}"
      ]
     },
     "execution_count": null,
     "metadata": {},
     "output_type": "execute_result"
    }
   ],
   "source": [
    "example_item.to_dict()"
   ]
  },
  {
   "cell_type": "markdown",
   "metadata": {},
   "source": [
    "### **Functions for** ***Asset*** **metadata**"
   ]
  },
  {
   "cell_type": "markdown",
   "metadata": {},
   "source": [
    "Once we have *Item* level metadata we can add the actual *Assets*. There are a few constants used within these functions at the *Item* level (i.e. band info) and criteria for finding within the object paths."
   ]
  },
  {
   "cell_type": "code",
   "execution_count": null,
   "metadata": {},
   "outputs": [],
   "source": [
    "#export\n",
    "spot_bands = [Band.create(name='Panchromatic', description='Panchromatic: 450 - 745 nm', common_name='pan'),\n",
    "              Band.create(name='Blue', description='Blue: 450 - 520 nm', common_name='blue'),\n",
    "              Band.create(name='Green', description='Green: 530 - 590 nm', common_name='green'),\n",
    "              Band.create(name='Red', description='Red: 625 - 695 nm', common_name='red'),\n",
    "              Band.create(name='Near-Infrared', description='Near-Infrared: 760 - 890 nm', common_name='nir')]"
   ]
  },
  {
   "cell_type": "code",
   "execution_count": null,
   "metadata": {},
   "outputs": [],
   "source": [
    "#export\n",
    "spot_band_refs = {\n",
    "    'Panchromatic':{'ends':'_band1', 'dif':'_P_', 'id':'B0'},\n",
    "    'Blue':{'ends':'_band1', 'dif':'_MS_', 'id':'B1'},\n",
    "    'Green':{'ends':'_band2', 'dif':'_MS_', 'id':'B2'},\n",
    "    'Red':{'ends':'_band3', 'dif':'_MS_', 'id':'B3'},\n",
    "    'Near-Infrared':{'ends':'_band4', 'dif':'_MS_', 'id':'B4'}\n",
    "}"
   ]
  },
  {
   "cell_type": "code",
   "execution_count": null,
   "metadata": {},
   "outputs": [
    {
     "data": {
      "text/plain": [
       "{'Panchromatic': {'ends': '_band1', 'dif': '_P_', 'id': 'B0'},\n",
       " 'Blue': {'ends': '_band1', 'dif': '_MS_', 'id': 'B1'},\n",
       " 'Green': {'ends': '_band2', 'dif': '_MS_', 'id': 'B2'},\n",
       " 'Red': {'ends': '_band3', 'dif': '_MS_', 'id': 'B3'},\n",
       " 'Near-Infrared': {'ends': '_band4', 'dif': '_MS_', 'id': 'B4'}}"
      ]
     },
     "execution_count": null,
     "metadata": {},
     "output_type": "execute_result"
    }
   ],
   "source": [
    "spot_band_refs"
   ]
  },
  {
   "cell_type": "markdown",
   "metadata": {},
   "source": [
    "Need to find the actual asset path for a given band. (Note that we typically store COGs per-band.)"
   ]
  },
  {
   "cell_type": "code",
   "execution_count": null,
   "metadata": {},
   "outputs": [],
   "source": [
    "#export\n",
    "def spot_find_band_path(band_name, scene_obj_paths):\n",
    "    matched_paths = [ o for o in scene_obj_paths if (o.endswith(f\"{spot_band_refs[band_name]['ends']}.tif\")) & (f\"{spot_band_refs[band_name]['dif']}\" in o) ]\n",
    "    if len(matched_paths) > 1:\n",
    "        raise Exception(f\"Found too many matches: {matched_paths}\")\n",
    "#     elif len(matched_paths) == 0: # should probably add something for when no asset is found...\n",
    "#         raise Warning(f\"\")\n",
    "    return matched_paths[0]"
   ]
  },
  {
   "cell_type": "code",
   "execution_count": null,
   "metadata": {},
   "outputs": [
    {
     "data": {
      "text/plain": [
       "'uksa-ssgp/spot/UKSA_SPOT155_SO18034609-55-01_DS_SPOT6_201810101058095_FR1_FR1_FR1_FR1_W001N52_01140/PROD_SPOT6_001/VOL_SPOT6_001_A/IMG_SPOT6_MS_001_A/IMG_SPOT6_MS_201810101058095_ORT_band1.tif'"
      ]
     },
     "execution_count": null,
     "metadata": {},
     "output_type": "execute_result"
    }
   ],
   "source": [
    "spot_find_band_path('Blue', scene_obj_paths)"
   ]
  },
  {
   "cell_type": "markdown",
   "metadata": {},
   "source": [
    "Then we can add each asset expected to be found and test with the example item taken from above."
   ]
  },
  {
   "cell_type": "code",
   "execution_count": null,
   "metadata": {},
   "outputs": [],
   "source": [
    "#export\n",
    "def spot_add_assets2item(item, scene_obj_paths):\n",
    "    for band in spot_bands:\n",
    "#         print(band.name)\n",
    "\n",
    "        band_path = spot_find_band_path(band.name, scene_obj_paths)\n",
    "        band_url = create_uri(band_path)\n",
    "#         print(band_url)\n",
    "\n",
    "        asset = pystac.Asset(href=band_url, media_type=pystac.MediaType.COG)\n",
    "        item.ext.eo.set_bands([band], asset)\n",
    "        item.add_asset(spot_band_refs[band.name]['id'], asset)    \n",
    "        \n",
    "    return item"
   ]
  },
  {
   "cell_type": "code",
   "execution_count": null,
   "metadata": {},
   "outputs": [],
   "source": [
    "example_item_with_assets = spot_add_assets2item(example_item, scene_obj_paths)"
   ]
  },
  {
   "cell_type": "markdown",
   "metadata": {},
   "source": [
    "Now we can see the completed *Item* stac record."
   ]
  },
  {
   "cell_type": "code",
   "execution_count": null,
   "metadata": {},
   "outputs": [],
   "source": [
    "example_item_with_assets.validate()"
   ]
  },
  {
   "cell_type": "code",
   "execution_count": null,
   "metadata": {},
   "outputs": [
    {
     "data": {
      "text/plain": [
       "{'type': 'Feature',\n",
       " 'stac_version': '1.0.0-beta.2',\n",
       " 'id': 'UKSA_SPOT155_SO18034609-55-01_DS_SPOT6_201810101058095_FR1_FR1_FR1_FR1_W001N52_01140',\n",
       " 'properties': {'gsd': 9.93,\n",
       "  'eo:cloud_cover': 0.0,\n",
       "  'proj:epsg': 27700,\n",
       "  'datetime': '2018-10-10T10:58:09Z'},\n",
       " 'geometry': {'type': 'Polygon',\n",
       "  'coordinates': [[[-0.6499519273083667, 52.08844089007527],\n",
       "    [-0.6448428681559101, 52.088382273153236],\n",
       "    [-0.6446263981696051, 51.757267668413746],\n",
       "    [-0.644682404135545, 51.755396785700185],\n",
       "    [-0.6450817810991609, 51.75512292935542],\n",
       "    [-1.6964988848377145, 51.685308252199924],\n",
       "    [-1.6970101211854633, 51.685309570681724],\n",
       "    [-1.6975136320308248, 51.685588611054996],\n",
       "    [-1.6977238663030947, 51.85203916138853],\n",
       "    [-1.6978394095956657, 51.94347348226774],\n",
       "    [-1.6973325231656649, 52.018813144847385],\n",
       "    [-0.6499519273083667, 52.08844089007527]]]},\n",
       " 'links': [],\n",
       " 'assets': {'B0': {'href': 'http://s3-uk-1.sa-catapult.co.uk/public-eo-data/uksa-ssgp/spot/UKSA_SPOT155_SO18034609-55-01_DS_SPOT6_201810101058095_FR1_FR1_FR1_FR1_W001N52_01140/PROD_SPOT6_001/VOL_SPOT6_001_A/IMG_SPOT6_P_001_A/IMG_SPOT6_P_201810101058095_ORT_band1.tif',\n",
       "   'type': 'image/tiff; application=geotiff; profile=cloud-optimized',\n",
       "   'eo:bands': [{'name': 'Panchromatic',\n",
       "     'common_name': 'pan',\n",
       "     'description': 'Panchromatic: 450 - 745 nm'}]},\n",
       "  'B1': {'href': 'http://s3-uk-1.sa-catapult.co.uk/public-eo-data/uksa-ssgp/spot/UKSA_SPOT155_SO18034609-55-01_DS_SPOT6_201810101058095_FR1_FR1_FR1_FR1_W001N52_01140/PROD_SPOT6_001/VOL_SPOT6_001_A/IMG_SPOT6_MS_001_A/IMG_SPOT6_MS_201810101058095_ORT_band1.tif',\n",
       "   'type': 'image/tiff; application=geotiff; profile=cloud-optimized',\n",
       "   'eo:bands': [{'name': 'Blue',\n",
       "     'common_name': 'blue',\n",
       "     'description': 'Blue: 450 - 520 nm'}]},\n",
       "  'B2': {'href': 'http://s3-uk-1.sa-catapult.co.uk/public-eo-data/uksa-ssgp/spot/UKSA_SPOT155_SO18034609-55-01_DS_SPOT6_201810101058095_FR1_FR1_FR1_FR1_W001N52_01140/PROD_SPOT6_001/VOL_SPOT6_001_A/IMG_SPOT6_MS_001_A/IMG_SPOT6_MS_201810101058095_ORT_band2.tif',\n",
       "   'type': 'image/tiff; application=geotiff; profile=cloud-optimized',\n",
       "   'eo:bands': [{'name': 'Green',\n",
       "     'common_name': 'green',\n",
       "     'description': 'Green: 530 - 590 nm'}]},\n",
       "  'B3': {'href': 'http://s3-uk-1.sa-catapult.co.uk/public-eo-data/uksa-ssgp/spot/UKSA_SPOT155_SO18034609-55-01_DS_SPOT6_201810101058095_FR1_FR1_FR1_FR1_W001N52_01140/PROD_SPOT6_001/VOL_SPOT6_001_A/IMG_SPOT6_MS_001_A/IMG_SPOT6_MS_201810101058095_ORT_band3.tif',\n",
       "   'type': 'image/tiff; application=geotiff; profile=cloud-optimized',\n",
       "   'eo:bands': [{'name': 'Red',\n",
       "     'common_name': 'red',\n",
       "     'description': 'Red: 625 - 695 nm'}]},\n",
       "  'B4': {'href': 'http://s3-uk-1.sa-catapult.co.uk/public-eo-data/uksa-ssgp/spot/UKSA_SPOT155_SO18034609-55-01_DS_SPOT6_201810101058095_FR1_FR1_FR1_FR1_W001N52_01140/PROD_SPOT6_001/VOL_SPOT6_001_A/IMG_SPOT6_MS_001_A/IMG_SPOT6_MS_201810101058095_ORT_band4.tif',\n",
       "   'type': 'image/tiff; application=geotiff; profile=cloud-optimized',\n",
       "   'eo:bands': [{'name': 'Near-Infrared',\n",
       "     'common_name': 'nir',\n",
       "     'description': 'Near-Infrared: 760 - 890 nm'}]}},\n",
       " 'bbox': [-1.69960277718, 51.6779380171, -0.634664143202, 52.095806321],\n",
       " 'stac_extensions': ['eo', 'projection']}"
      ]
     },
     "execution_count": null,
     "metadata": {},
     "output_type": "execute_result"
    }
   ],
   "source": [
    "example_item_with_assets.to_dict()"
   ]
  },
  {
   "cell_type": "markdown",
   "metadata": {},
   "source": [
    "### **Compiling** ***Items*** **into a** ***Collection*** "
   ]
  },
  {
   "cell_type": "markdown",
   "metadata": {},
   "source": [
    "We naurally want to apply the above tools to all SPOT-related *Items* and their *Assets* in order to build a *Collection* that can sit within another *Collection* i.e. comprised of other UKSA/SSGP-procured datasets and maybe an overall Satellite Applications Catapult *Catalog* covering all of our internal and external-facing geospatial datasets."
   ]
  },
  {
   "cell_type": "code",
   "execution_count": null,
   "metadata": {},
   "outputs": [],
   "source": [
    "#export\n",
    "def spot_create_collection(spot_dir, bucket='public-eo-data'):\n",
    "    \n",
    "    collection_id = 'uksa-ssgp-spot'\n",
    "    collection_title = 'SSGP-procured Spot 6 & 7 images over the UK'\n",
    "    collection_description = '''### UKSA / SSGP SPOT 6 & 7\n",
    "\n",
    "    A collection of SPOT 6 & 7 images over the UK. Procured by UKSA under its Space for Smarter Government Programme (SSGP).\n",
    "    '''\n",
    "    \n",
    "    # initially arbitrary as updated later\n",
    "    spatial_extent = pystac.SpatialExtent([[-7.57216793459, 49.959999905, 1.68153079591, 58.6350001085]])\n",
    "    temporal_extent = pystac.TemporalExtent([[datetime(2011, 12, 16), None]])\n",
    "    collection_extent = pystac.Extent(spatial_extent, temporal_extent)\n",
    "    \n",
    "    collection = pystac.Collection(id=collection_id,\n",
    "                                   title=collection_title,\n",
    "                                   description=collection_description,\n",
    "                                   extent=collection_extent)\n",
    "    \n",
    "    collection.providers = [\n",
    "        pystac.Provider(name='Airbus Defence & Space', roles=['producer'], url='https://www.airbus.com/space.html'),\n",
    "        pystac.Provider(name='UK Space Agency', roles=['licensor'], url='https://www.gov.uk/government/organisations/uk-space-agency'),\n",
    "        pystac.Provider(name='Satellite Applications Catapult', roles=['processor'], url='https://sa.catapult.org.uk/'),\n",
    "        pystac.Provider(name='Satellite Applications Catapult', roles=['host'], url='https://sa.catapult.org.uk/')\n",
    "    ]\n",
    "    \n",
    "    obj_paths_list = s3_list_objects_paths(bucket, spot_dir)\n",
    "    scene_names = list(np.unique([ i.split('/')[2] for i in obj_paths_list ]))\n",
    "    \n",
    "    for scene_name in scene_names:\n",
    "        \n",
    "        scene_obj_paths = [ i for i in obj_paths_list if scene_name in i]\n",
    "        \n",
    "        item = spot_create_item(scene_name, scene_obj_paths)\n",
    "        item = spot_add_assets2item(item, scene_obj_paths)\n",
    "        \n",
    "        collection.add_item(item)\n",
    "    \n",
    "    collection.update_extent_from_items()\n",
    "        \n",
    "    return collection\n",
    "    "
   ]
  },
  {
   "cell_type": "code",
   "execution_count": null,
   "metadata": {},
   "outputs": [],
   "source": [
    "example_collection = spot_create_collection('uksa-ssgp/spot/')"
   ]
  },
  {
   "cell_type": "code",
   "execution_count": null,
   "metadata": {},
   "outputs": [
    {
     "name": "stdout",
     "output_type": "stream",
     "text": [
      "* <Collection id=uksa-ssgp-spot>\n",
      "  * <Item id=UKSA_SPOT155_SO18034609-55-01_DS_SPOT6_201810101058095_FR1_FR1_FR1_FR1_W001N52_01140>\n",
      "  * <Item id=UKSA_SPOT156_SO18034609-56-01_DS_SPOT6_201810101058206_FR1_FR1_FR1_FR1_W001N51_01140>\n",
      "  * <Item id=UKSA_SPOT161_SO18034609-61-01_DS_SPOT6_201810191039150_FR1_FR1_SV1_SV1_W002N51_01709>\n",
      "  * <Item id=UKSA_SPOT287_SO18034610-86-01_DS_SPOT7_201809241031594_FR1_FR1_FR1_FR1_W002N52_01222>\n",
      "  * <Item id=UKSA_SPOT288_SO18034610-87-01_DS_SPOT7_201809271058114_FR1_FR1_SV1_SV1_W001N52_02845>\n",
      "  * <Item id=UKSA_SPOT289_SO18034610-88-01_DS_SPOT7_201809271058350_FR1_FR1_SV1_SV1_W002N52_03251>\n",
      "  * <Item id=UKSA_SPOT290_SO18034610-89-01_DS_SPOT7_201809271059006_FR1_FR1_FR1_FR1_W002N52_03332>\n",
      "  * <Item id=UKSA_SPOT291_SO18034610-90-01_DS_SPOT7_201809271059251_FR1_FR1_SV1_SV1_W002N51_04469>\n"
     ]
    }
   ],
   "source": [
    "example_collection.describe()"
   ]
  },
  {
   "cell_type": "code",
   "execution_count": null,
   "metadata": {},
   "outputs": [
    {
     "data": {
      "text/plain": [
       "{'id': 'uksa-ssgp-spot',\n",
       " 'stac_version': '1.0.0-beta.2',\n",
       " 'description': '### UKSA / SSGP SPOT 6 & 7\\n\\n    A collection of SPOT 6 & 7 images over the UK. Procured by UKSA under its Space for Smarter Government Programme (SSGP).\\n    ',\n",
       " 'links': [{'rel': 'root', 'href': None, 'type': 'application/json'},\n",
       "  {'rel': 'item', 'href': None, 'type': 'application/json'},\n",
       "  {'rel': 'item', 'href': None, 'type': 'application/json'},\n",
       "  {'rel': 'item', 'href': None, 'type': 'application/json'},\n",
       "  {'rel': 'item', 'href': None, 'type': 'application/json'},\n",
       "  {'rel': 'item', 'href': None, 'type': 'application/json'},\n",
       "  {'rel': 'item', 'href': None, 'type': 'application/json'},\n",
       "  {'rel': 'item', 'href': None, 'type': 'application/json'},\n",
       "  {'rel': 'item', 'href': None, 'type': 'application/json'}],\n",
       " 'title': 'SSGP-procured Spot 6 & 7 images over the UK',\n",
       " 'extent': {'spatial': {'bbox': [[-2.83129686995,\n",
       "     50.4427331374,\n",
       "     -0.240355992445,\n",
       "     52.473109175]]},\n",
       "  'temporal': {'interval': [['2018-09-24T10:31:59Z',\n",
       "     '2018-10-19T10:39:15Z']]}},\n",
       " 'license': 'proprietary',\n",
       " 'providers': [{'name': 'Airbus Defence & Space',\n",
       "   'roles': ['producer'],\n",
       "   'url': 'https://www.airbus.com/space.html'},\n",
       "  {'name': 'UK Space Agency',\n",
       "   'roles': ['licensor'],\n",
       "   'url': 'https://www.gov.uk/government/organisations/uk-space-agency'},\n",
       "  {'name': 'Satellite Applications Catapult',\n",
       "   'roles': ['processor'],\n",
       "   'url': 'https://sa.catapult.org.uk/'},\n",
       "  {'name': 'Satellite Applications Catapult',\n",
       "   'roles': ['host'],\n",
       "   'url': 'https://sa.catapult.org.uk/'}]}"
      ]
     },
     "execution_count": null,
     "metadata": {},
     "output_type": "execute_result"
    }
   ],
   "source": [
    "example_collection.to_dict()"
   ]
  },
  {
   "cell_type": "markdown",
   "metadata": {},
   "source": [
    "Note: We normalised hrefs and save in a different notebook."
   ]
  },
  {
   "cell_type": "markdown",
   "metadata": {},
   "source": [
    "## Export"
   ]
  },
  {
   "cell_type": "code",
   "execution_count": null,
   "metadata": {},
   "outputs": [
    {
     "name": "stdout",
     "output_type": "stream",
     "text": [
      "Converted 00_rediswq.ipynb.\n",
      "Converted 00_utils.ipynb.\n",
      "Converted 01A_pleiades.ipynb.\n",
      "Converted 01B_pleiades_prep_worker.ipynb.\n",
      "Converted 02A_spot.ipynb.\n",
      "Converted index.ipynb.\n"
     ]
    }
   ],
   "source": [
    "#hide\n",
    "from nbdev.export import notebook2script; notebook2script()"
   ]
  }
 ],
 "metadata": {
  "kernelspec": {
   "display_name": "Python 3",
   "language": "python",
   "name": "python3"
  },
  "language_info": {
   "codemirror_mode": {
    "name": "ipython",
    "version": 3
   },
   "file_extension": ".py",
   "mimetype": "text/x-python",
   "name": "python",
   "nbconvert_exporter": "python",
   "pygments_lexer": "ipython3",
   "version": "3.7.4"
  }
 },
 "nbformat": 4,
 "nbformat_minor": 4
}
