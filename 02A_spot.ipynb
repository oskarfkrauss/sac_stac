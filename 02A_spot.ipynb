{
 "cells": [
  {
   "cell_type": "code",
   "execution_count": 1,
   "metadata": {},
   "outputs": [],
   "source": [
    "#default_exp spot"
   ]
  },
  {
   "cell_type": "markdown",
   "metadata": {},
   "source": [
    "# SPOT\n",
    "\n",
    "> Working through conversion to cogs, upload to object storage, stac item metadata parsing, etc. for SPOT 6/7 datasets"
   ]
  },
  {
   "cell_type": "code",
   "execution_count": 2,
   "metadata": {},
   "outputs": [],
   "source": [
    "#hide\n",
    "%load_ext autoreload\n",
    "%autoreload 2"
   ]
  },
  {
   "cell_type": "code",
   "execution_count": 3,
   "metadata": {},
   "outputs": [],
   "source": [
    "#hide\n",
    "from nbdev.showdoc import *"
   ]
  },
  {
   "cell_type": "code",
   "execution_count": 4,
   "metadata": {},
   "outputs": [],
   "source": [
    "#export\n",
    "import os\n",
    "from glob import glob\n",
    "import time\n",
    "import numpy as np\n",
    "from datetime import datetime\n",
    "import json\n",
    "\n",
    "import xmltodict\n",
    "import pystac\n",
    "from pystac import STAC_IO\n",
    "from pystac.extensions.eo import Band\n",
    "import geopandas as gpd\n",
    "\n",
    "from sac_stac.utils import sedas_client, sedas_find_datasets, sedas_download, sedas_extract\n",
    "from sac_stac.utils import cogmosaicbands\n",
    "from sac_stac.utils import s3_upload_dir, s3_list_objects_paths, clean_up\n",
    "from sac_stac.utils import pystac_setIO, create_uri"
   ]
  },
  {
   "cell_type": "code",
   "execution_count": 5,
   "metadata": {},
   "outputs": [],
   "source": [
    "import pandas as pd"
   ]
  },
  {
   "cell_type": "markdown",
   "metadata": {
    "collapsed": "true"
   },
   "source": [
    "## **Preparation**: Download, cloud-optimise, upload"
   ]
  },
  {
   "cell_type": "markdown",
   "metadata": {
    "collapsed": "true"
   },
   "source": [
    "### Prep Function"
   ]
  },
  {
   "cell_type": "markdown",
   "metadata": {},
   "source": [
    "Download and use basic gdal tools to mosaic any tiles into single images, convert to cog and upload to our object storage."
   ]
  },
  {
   "cell_type": "code",
   "execution_count": 6,
   "metadata": {},
   "outputs": [],
   "source": [
    "#export\n",
    "def prep_spot(sedas_supplierId, inter_dir=\"/tmp/data/intermediate/\", \n",
    "                  s3_bucket=\"public-eo-data\", s3_dir=\"uksa-ssgp/spot/\"):\n",
    "    try:\n",
    "        inter_dir = f\"{inter_dir}{sedas_supplierId}_tmp/\"\n",
    "        os.makedirs(inter_dir, exist_ok=True)\n",
    "        scene_name = sedas_supplierId\n",
    "        down_zip = f\"{inter_dir}{scene_name}.zip\"\n",
    "        scene_dir = f\"{down_zip[:-4]}/\"\n",
    "        print(f\"{time.strftime('%Y-%m-%d %H:%M:%S')} Preparing {scene_name} within {inter_dir}\")\n",
    "        # find & download\n",
    "        sedas_scene_res = sedas_client().search_product(sedas_supplierId)[0]\n",
    "        sedas_download([sedas_scene_res], inter_dir)\n",
    "        sedas_extract(down_zip, scene_dir)\n",
    "        # sensor-specific band mosaicing and cogifying\n",
    "        imgs_ms = glob(f\"{scene_dir}*/*/*MS_001*/*.TIF\")\n",
    "        imgs_pan = glob(f\"{scene_dir}*/*/*P_001*/*.TIF\")\n",
    "        cogmosaicbands(imgs_pan, 1, imgs_pan[0][:-20])\n",
    "        cogmosaicbands(imgs_ms, 4, imgs_ms[0][:-20])\n",
    "        # upload\n",
    "        s3_upload_dir(scene_dir, s3_bucket, s3_dir)\n",
    "        print(f\"{time.strftime('%Y-%m-%d %H:%M:%S')} Prepared {scene_name} at {s3_dir}{scene_name}/\")\n",
    "        clean_up(inter_dir)\n",
    "    except Exception as e:\n",
    "        print(f\"{time.strftime('%Y-%m-%d %H:%M:%S')} Failed with {e}\")    \n",
    "        clean_up(inter_dir)"
   ]
  },
  {
   "cell_type": "markdown",
   "metadata": {
    "collapsed": "true"
   },
   "source": [
    "### Iteration with samples"
   ]
  },
  {
   "cell_type": "markdown",
   "metadata": {},
   "source": [
    "Some samples used to iterate creation of the prep function."
   ]
  },
  {
   "cell_type": "code",
   "execution_count": 7,
   "metadata": {},
   "outputs": [
    {
     "data": {
      "text/html": [
       "<div>\n",
       "<style scoped>\n",
       "    .dataframe tbody tr th:only-of-type {\n",
       "        vertical-align: middle;\n",
       "    }\n",
       "\n",
       "    .dataframe tbody tr th {\n",
       "        vertical-align: top;\n",
       "    }\n",
       "\n",
       "    .dataframe thead th {\n",
       "        text-align: right;\n",
       "    }\n",
       "</style>\n",
       "<table border=\"1\" class=\"dataframe\">\n",
       "  <thead>\n",
       "    <tr style=\"text-align: right;\">\n",
       "      <th></th>\n",
       "      <th>productId</th>\n",
       "      <th>supplierId</th>\n",
       "      <th>type</th>\n",
       "      <th>satelliteName</th>\n",
       "      <th>instrumentName</th>\n",
       "      <th>modeName</th>\n",
       "      <th>sensorType</th>\n",
       "      <th>sensorResolution</th>\n",
       "      <th>coordinatesWKT</th>\n",
       "      <th>start</th>\n",
       "      <th>...</th>\n",
       "      <th>area</th>\n",
       "      <th>aoiCoveragePercent</th>\n",
       "      <th>usefulAreaPercent</th>\n",
       "      <th>cloudCoveragePercent</th>\n",
       "      <th>productType</th>\n",
       "      <th>latency</th>\n",
       "      <th>ql</th>\n",
       "      <th>thumbnail</th>\n",
       "      <th>vendorSpecific</th>\n",
       "      <th>downloadUrl</th>\n",
       "    </tr>\n",
       "  </thead>\n",
       "  <tbody>\n",
       "    <tr>\n",
       "      <th>0</th>\n",
       "      <td>ff3aa1470eb5ed57d7c5a6e05db400b7</td>\n",
       "      <td>UKSA_SPOT161_SO18034609-61-01_DS_SPOT6_2018101...</td>\n",
       "      <td>ARCHIVE</td>\n",
       "      <td>SPOT-6</td>\n",
       "      <td>NAOMI-MS/PAN</td>\n",
       "      <td>0.000</td>\n",
       "      <td>Optical</td>\n",
       "      <td>8.0</td>\n",
       "      <td>POLYGON((-2.820905 50.931699,-1.870556 50.9345...</td>\n",
       "      <td>2018-10-19T10:39:14Z</td>\n",
       "      <td>...</td>\n",
       "      <td>4.313839e+09</td>\n",
       "      <td>0.0</td>\n",
       "      <td>0.0</td>\n",
       "      <td>6.0</td>\n",
       "      <td>L3</td>\n",
       "      <td>Standard</td>\n",
       "      <td>https://geobrowser.satapps.org/archiveql/aeweb...</td>\n",
       "      <td>https://sedasdm.satapps.org/qls/qlmgr.php?scen...</td>\n",
       "      <td>{'property': 'vendorSpecific', 'Filehash': '63...</td>\n",
       "      <td>https://sedasdm.satapps.org/datamgr/datamgr.ph...</td>\n",
       "    </tr>\n",
       "    <tr>\n",
       "      <th>1</th>\n",
       "      <td>c0982f29580eb726f04c9af6bdebb376</td>\n",
       "      <td>UKSA_SPOT156_SO18034609-56-01_DS_SPOT6_2018101...</td>\n",
       "      <td>ARCHIVE</td>\n",
       "      <td>SPOT-6</td>\n",
       "      <td>NAOMI-MS/PAN</td>\n",
       "      <td>0.000</td>\n",
       "      <td>Optical</td>\n",
       "      <td>8.0</td>\n",
       "      <td>POLYGON((-1.918729 51.158248,-0.864598 51.1527...</td>\n",
       "      <td>2018-10-10T10:58:21Z</td>\n",
       "      <td>...</td>\n",
       "      <td>3.463299e+09</td>\n",
       "      <td>25.0</td>\n",
       "      <td>13.0</td>\n",
       "      <td>0.0</td>\n",
       "      <td>L3</td>\n",
       "      <td>Standard</td>\n",
       "      <td>https://geobrowser.satapps.org/archiveql/aeweb...</td>\n",
       "      <td>https://sedasdm.satapps.org/qls/qlmgr.php?scen...</td>\n",
       "      <td>{'property': 'vendorSpecific', 'Filehash': '73...</td>\n",
       "      <td>https://sedasdm.satapps.org/datamgr/datamgr.ph...</td>\n",
       "    </tr>\n",
       "    <tr>\n",
       "      <th>2</th>\n",
       "      <td>e60f722dcbb5d4a122a231183a66ab0e</td>\n",
       "      <td>UKSA_SPOT155_SO18034609-55-01_DS_SPOT6_2018101...</td>\n",
       "      <td>ARCHIVE</td>\n",
       "      <td>SPOT-6</td>\n",
       "      <td>NAOMI-MS/PAN</td>\n",
       "      <td>0.000</td>\n",
       "      <td>Optical</td>\n",
       "      <td>8.0</td>\n",
       "      <td>POLYGON((-1.699603 51.685303,-0.646975 51.6778...</td>\n",
       "      <td>2018-10-10T10:58:10Z</td>\n",
       "      <td>...</td>\n",
       "      <td>3.325405e+09</td>\n",
       "      <td>29.0</td>\n",
       "      <td>16.0</td>\n",
       "      <td>0.0</td>\n",
       "      <td>L3</td>\n",
       "      <td>Standard</td>\n",
       "      <td>https://geobrowser.satapps.org/archiveql/aeweb...</td>\n",
       "      <td>https://sedasdm.satapps.org/qls/qlmgr.php?scen...</td>\n",
       "      <td>{'property': 'vendorSpecific', 'Filehash': 'a9...</td>\n",
       "      <td>https://sedasdm.satapps.org/datamgr/datamgr.ph...</td>\n",
       "    </tr>\n",
       "    <tr>\n",
       "      <th>3</th>\n",
       "      <td>65f52dbd5981d6a203b3070927993898</td>\n",
       "      <td>UKSA_SPOT291_SO18034610-90-01_DS_SPOT7_2018092...</td>\n",
       "      <td>ARCHIVE</td>\n",
       "      <td>SPOT-7</td>\n",
       "      <td>NAOMI-MS/PAN</td>\n",
       "      <td>0.000</td>\n",
       "      <td>Optical</td>\n",
       "      <td>8.0</td>\n",
       "      <td>POLYGON((-2.055493 50.446539,-1.051938 50.4426...</td>\n",
       "      <td>2018-09-27T10:59:25Z</td>\n",
       "      <td>...</td>\n",
       "      <td>1.227865e+10</td>\n",
       "      <td>100.0</td>\n",
       "      <td>15.0</td>\n",
       "      <td>1.0</td>\n",
       "      <td>L3</td>\n",
       "      <td>Standard</td>\n",
       "      <td>https://geobrowser.satapps.org/archiveql/aeweb...</td>\n",
       "      <td>https://sedasdm.satapps.org/qls/qlmgr.php?scen...</td>\n",
       "      <td>{'property': 'vendorSpecific', 'Filehash': '54...</td>\n",
       "      <td>https://sedasdm.satapps.org/datamgr/datamgr.ph...</td>\n",
       "    </tr>\n",
       "    <tr>\n",
       "      <th>4</th>\n",
       "      <td>7e3fa163ffa951ec0850714139a8a073</td>\n",
       "      <td>UKSA_SPOT290_SO18034610-89-01_DS_SPOT7_2018092...</td>\n",
       "      <td>ARCHIVE</td>\n",
       "      <td>SPOT-7</td>\n",
       "      <td>NAOMI-MS/PAN</td>\n",
       "      <td>0.000</td>\n",
       "      <td>Optical</td>\n",
       "      <td>8.0</td>\n",
       "      <td>POLYGON((-2.796381 51.428559,-1.884609 51.4312...</td>\n",
       "      <td>2018-09-27T10:59:01Z</td>\n",
       "      <td>...</td>\n",
       "      <td>7.219406e+09</td>\n",
       "      <td>3.0</td>\n",
       "      <td>1.0</td>\n",
       "      <td>0.0</td>\n",
       "      <td>L3</td>\n",
       "      <td>Standard</td>\n",
       "      <td>https://geobrowser.satapps.org/archiveql/aeweb...</td>\n",
       "      <td>https://sedasdm.satapps.org/qls/qlmgr.php?scen...</td>\n",
       "      <td>{'property': 'vendorSpecific', 'Filehash': '4d...</td>\n",
       "      <td>https://sedasdm.satapps.org/datamgr/datamgr.ph...</td>\n",
       "    </tr>\n",
       "    <tr>\n",
       "      <th>5</th>\n",
       "      <td>0898d97bb20b981a6280f4310b3556f2</td>\n",
       "      <td>UKSA_SPOT289_SO18034610-88-01_DS_SPOT7_2018092...</td>\n",
       "      <td>ARCHIVE</td>\n",
       "      <td>SPOT-7</td>\n",
       "      <td>NAOMI-MS/PAN</td>\n",
       "      <td>0.000</td>\n",
       "      <td>Optical</td>\n",
       "      <td>8.0</td>\n",
       "      <td>POLYGON((-2.791968 51.422924,-1.891268 51.4255...</td>\n",
       "      <td>2018-09-27T10:58:35Z</td>\n",
       "      <td>...</td>\n",
       "      <td>7.202192e+09</td>\n",
       "      <td>3.0</td>\n",
       "      <td>1.0</td>\n",
       "      <td>0.0</td>\n",
       "      <td>L3</td>\n",
       "      <td>Standard</td>\n",
       "      <td>https://geobrowser.satapps.org/archiveql/aeweb...</td>\n",
       "      <td>https://sedasdm.satapps.org/qls/qlmgr.php?scen...</td>\n",
       "      <td>{'property': 'vendorSpecific', 'Filehash': 'c8...</td>\n",
       "      <td>https://sedasdm.satapps.org/datamgr/datamgr.ph...</td>\n",
       "    </tr>\n",
       "    <tr>\n",
       "      <th>6</th>\n",
       "      <td>f4b5e3c63318bbc021fff734873a4001</td>\n",
       "      <td>UKSA_SPOT288_SO18034610-87-01_DS_SPOT7_2018092...</td>\n",
       "      <td>ARCHIVE</td>\n",
       "      <td>SPOT-7</td>\n",
       "      <td>NAOMI-MS/PAN</td>\n",
       "      <td>0.000</td>\n",
       "      <td>Optical</td>\n",
       "      <td>8.0</td>\n",
       "      <td>POLYGON((-1.288551 51.408716,-0.281425 51.3982...</td>\n",
       "      <td>2018-09-27T10:58:11Z</td>\n",
       "      <td>...</td>\n",
       "      <td>8.301192e+09</td>\n",
       "      <td>18.0</td>\n",
       "      <td>4.0</td>\n",
       "      <td>0.0</td>\n",
       "      <td>L3</td>\n",
       "      <td>Standard</td>\n",
       "      <td>https://geobrowser.satapps.org/archiveql/aeweb...</td>\n",
       "      <td>https://sedasdm.satapps.org/qls/qlmgr.php?scen...</td>\n",
       "      <td>{'property': 'vendorSpecific', 'Filehash': 'ab...</td>\n",
       "      <td>https://sedasdm.satapps.org/datamgr/datamgr.ph...</td>\n",
       "    </tr>\n",
       "    <tr>\n",
       "      <th>7</th>\n",
       "      <td>b66bad8bfa0fcee1918558bbbad733e2</td>\n",
       "      <td>UKSA_SPOT287_SO18034610-86-01_DS_SPOT7_2018092...</td>\n",
       "      <td>ARCHIVE</td>\n",
       "      <td>SPOT-7</td>\n",
       "      <td>NAOMI-MS/PAN</td>\n",
       "      <td>0.000</td>\n",
       "      <td>Optical</td>\n",
       "      <td>8.0</td>\n",
       "      <td>POLYGON((-2.382915 51.450709,-1.22423 51.44877...</td>\n",
       "      <td>2018-09-24T10:31:59Z</td>\n",
       "      <td>...</td>\n",
       "      <td>4.208909e+09</td>\n",
       "      <td>91.0</td>\n",
       "      <td>39.0</td>\n",
       "      <td>4.0</td>\n",
       "      <td>L3</td>\n",
       "      <td>Standard</td>\n",
       "      <td>https://geobrowser.satapps.org/archiveql/aeweb...</td>\n",
       "      <td>https://sedasdm.satapps.org/qls/qlmgr.php?scen...</td>\n",
       "      <td>{'property': 'vendorSpecific', 'Filehash': '6d...</td>\n",
       "      <td>https://sedasdm.satapps.org/datamgr/datamgr.ph...</td>\n",
       "    </tr>\n",
       "    <tr>\n",
       "      <th>8</th>\n",
       "      <td>4d553fcdddf8b2059caee5c1376fca03</td>\n",
       "      <td>UKSA_SPOT134_SO18034609-34-01_DS_SPOT6_2018090...</td>\n",
       "      <td>ARCHIVE</td>\n",
       "      <td>SPOT-6</td>\n",
       "      <td>NAOMI-MS/PAN</td>\n",
       "      <td>0.000</td>\n",
       "      <td>Optical</td>\n",
       "      <td>8.0</td>\n",
       "      <td>POLYGON((-1.772879 51.279608,-0.816458 51.2738...</td>\n",
       "      <td>2018-09-02T10:49:47Z</td>\n",
       "      <td>...</td>\n",
       "      <td>6.758638e+09</td>\n",
       "      <td>82.0</td>\n",
       "      <td>22.0</td>\n",
       "      <td>10.0</td>\n",
       "      <td>L3</td>\n",
       "      <td>Standard</td>\n",
       "      <td>https://geobrowser.satapps.org/archiveql/aeweb...</td>\n",
       "      <td>https://sedasdm.satapps.org/qls/qlmgr.php?scen...</td>\n",
       "      <td>{'property': 'vendorSpecific', 'Filehash': '9d...</td>\n",
       "      <td>https://sedasdm.satapps.org/datamgr/datamgr.ph...</td>\n",
       "    </tr>\n",
       "    <tr>\n",
       "      <th>9</th>\n",
       "      <td>13a56582915a6d18d3410b53729f8a01</td>\n",
       "      <td>UKSA_SPOT278_SO18034610-77-01_DS_SPOT7_2018080...</td>\n",
       "      <td>ARCHIVE</td>\n",
       "      <td>SPOT-7</td>\n",
       "      <td>NAOMI-MS/PAN</td>\n",
       "      <td>0.000</td>\n",
       "      <td>Optical</td>\n",
       "      <td>8.0</td>\n",
       "      <td>POLYGON((-1.970532 51.322985,-0.993961 51.3186...</td>\n",
       "      <td>2018-08-06T10:58:29Z</td>\n",
       "      <td>...</td>\n",
       "      <td>6.126105e+09</td>\n",
       "      <td>100.0</td>\n",
       "      <td>30.0</td>\n",
       "      <td>6.0</td>\n",
       "      <td>L3</td>\n",
       "      <td>Standard</td>\n",
       "      <td>https://geobrowser.satapps.org/archiveql/aeweb...</td>\n",
       "      <td>https://sedasdm.satapps.org/qls/qlmgr.php?scen...</td>\n",
       "      <td>{'property': 'vendorSpecific', 'Filehash': '07...</td>\n",
       "      <td>https://sedasdm.satapps.org/datamgr/datamgr.ph...</td>\n",
       "    </tr>\n",
       "    <tr>\n",
       "      <th>10</th>\n",
       "      <td>6c05ace4f73908830158fd500f656da3</td>\n",
       "      <td>UKSA_SPOT121_SO18034609-21-01_DS_SPOT6_2018072...</td>\n",
       "      <td>ARCHIVE</td>\n",
       "      <td>SPOT-6</td>\n",
       "      <td>NAOMI-MS/PAN</td>\n",
       "      <td>0.000</td>\n",
       "      <td>Optical</td>\n",
       "      <td>8.0</td>\n",
       "      <td>POLYGON((-1.954773 51.324545,-1.008562 51.3203...</td>\n",
       "      <td>2018-07-24T10:58:02Z</td>\n",
       "      <td>...</td>\n",
       "      <td>5.928326e+09</td>\n",
       "      <td>100.0</td>\n",
       "      <td>31.0</td>\n",
       "      <td>11.0</td>\n",
       "      <td>L3</td>\n",
       "      <td>Standard</td>\n",
       "      <td>https://geobrowser.satapps.org/archiveql/aeweb...</td>\n",
       "      <td>https://sedasdm.satapps.org/qls/qlmgr.php?scen...</td>\n",
       "      <td>{'property': 'vendorSpecific', 'Filehash': 'fe...</td>\n",
       "      <td>https://sedasdm.satapps.org/datamgr/datamgr.ph...</td>\n",
       "    </tr>\n",
       "    <tr>\n",
       "      <th>11</th>\n",
       "      <td>5f2f08d6be83497ef3eea3870bae0433</td>\n",
       "      <td>UKSA_SPOT268_SO18034610-67-01_DS_SPOT7_2018072...</td>\n",
       "      <td>ARCHIVE</td>\n",
       "      <td>SPOT-7</td>\n",
       "      <td>NAOMI-MS/PAN</td>\n",
       "      <td>0.000</td>\n",
       "      <td>Optical</td>\n",
       "      <td>8.0</td>\n",
       "      <td>POLYGON((-1.921984 51.263401,-0.852469 51.2578...</td>\n",
       "      <td>2018-07-23T11:06:53Z</td>\n",
       "      <td>...</td>\n",
       "      <td>2.865060e+09</td>\n",
       "      <td>35.0</td>\n",
       "      <td>22.0</td>\n",
       "      <td>1.0</td>\n",
       "      <td>L3</td>\n",
       "      <td>Standard</td>\n",
       "      <td>https://geobrowser.satapps.org/archiveql/aeweb...</td>\n",
       "      <td>https://sedasdm.satapps.org/qls/qlmgr.php?scen...</td>\n",
       "      <td>{'property': 'vendorSpecific', 'Filehash': '75...</td>\n",
       "      <td>https://sedasdm.satapps.org/datamgr/datamgr.ph...</td>\n",
       "    </tr>\n",
       "    <tr>\n",
       "      <th>12</th>\n",
       "      <td>ffa4d36727a62f5c1e12ad49e4054f25</td>\n",
       "      <td>UKSA_SPOT42_SO18034608-42-01_DS_SPOT6_20180507...</td>\n",
       "      <td>ARCHIVE</td>\n",
       "      <td>SPOT-6</td>\n",
       "      <td>NAOMI-MS/PAN</td>\n",
       "      <td>0.000</td>\n",
       "      <td>Optical</td>\n",
       "      <td>8.0</td>\n",
       "      <td>POLYGON((-2.34341 51.559431,-1.419178 51.55849...</td>\n",
       "      <td>2018-05-07T10:58:42Z</td>\n",
       "      <td>...</td>\n",
       "      <td>7.426668e+09</td>\n",
       "      <td>52.0</td>\n",
       "      <td>13.0</td>\n",
       "      <td>0.0</td>\n",
       "      <td>L3</td>\n",
       "      <td>Standard</td>\n",
       "      <td>https://geobrowser.satapps.org/archiveql/aeweb...</td>\n",
       "      <td>https://sedasdm.satapps.org/qls/qlmgr.php?scen...</td>\n",
       "      <td>{'property': 'vendorSpecific', 'Filehash': '12...</td>\n",
       "      <td>https://sedasdm.satapps.org/datamgr/datamgr.ph...</td>\n",
       "    </tr>\n",
       "    <tr>\n",
       "      <th>13</th>\n",
       "      <td>aad3743522b52b961adbabc96efe77a3</td>\n",
       "      <td>UKSA_SPOT4_SO18034608-4-01_DS_SPOT6_2018012510...</td>\n",
       "      <td>ARCHIVE</td>\n",
       "      <td>SPOT-6</td>\n",
       "      <td>NAOMI-MS/PAN</td>\n",
       "      <td>0.000</td>\n",
       "      <td>Optical</td>\n",
       "      <td>8.0</td>\n",
       "      <td>POLYGON((-2.02159 51.319534,-1.135292 51.31634...</td>\n",
       "      <td>2018-01-25T10:44:22Z</td>\n",
       "      <td>...</td>\n",
       "      <td>3.941232e+09</td>\n",
       "      <td>100.0</td>\n",
       "      <td>46.0</td>\n",
       "      <td>5.0</td>\n",
       "      <td>L3</td>\n",
       "      <td>Standard</td>\n",
       "      <td>https://geobrowser.satapps.org/archiveql/aeweb...</td>\n",
       "      <td>https://sedasdm.satapps.org/qls/qlmgr.php?scen...</td>\n",
       "      <td>{'property': 'vendorSpecific', 'Filehash': '7c...</td>\n",
       "      <td>https://sedasdm.satapps.org/datamgr/datamgr.ph...</td>\n",
       "    </tr>\n",
       "    <tr>\n",
       "      <th>14</th>\n",
       "      <td>3dfee35af4b169411580b6cd2994e5ae</td>\n",
       "      <td>UKSA_SPOT319_SO18034611-19-01_DS_SPOT6_2017110...</td>\n",
       "      <td>ARCHIVE</td>\n",
       "      <td>SPOT-6</td>\n",
       "      <td>NAOMI-MS/PAN</td>\n",
       "      <td>0.000</td>\n",
       "      <td>Optical</td>\n",
       "      <td>8.0</td>\n",
       "      <td>POLYGON((-2.037256 51.31543,-1.099391 51.31197...</td>\n",
       "      <td>2017-11-06T10:59:17Z</td>\n",
       "      <td>...</td>\n",
       "      <td>4.153655e+09</td>\n",
       "      <td>100.0</td>\n",
       "      <td>44.0</td>\n",
       "      <td>0.0</td>\n",
       "      <td>L3</td>\n",
       "      <td>Standard</td>\n",
       "      <td>https://geobrowser.satapps.org/archiveql/aeweb...</td>\n",
       "      <td>https://sedasdm.satapps.org/qls/qlmgr.php?scen...</td>\n",
       "      <td>{'property': 'vendorSpecific', 'Filehash': 'c0...</td>\n",
       "      <td>https://sedasdm.satapps.org/datamgr/datamgr.ph...</td>\n",
       "    </tr>\n",
       "    <tr>\n",
       "      <th>15</th>\n",
       "      <td>bfe0b2c8583d568864fd0dcf5327f2a3</td>\n",
       "      <td>SP_2_UKSA75_SO19000617-75-01_DS_SPOT7_20170705...</td>\n",
       "      <td>ARCHIVE</td>\n",
       "      <td>SPOT-7</td>\n",
       "      <td>NAOMI-MS/PAN</td>\n",
       "      <td>0.000</td>\n",
       "      <td>Optical</td>\n",
       "      <td>8.0</td>\n",
       "      <td>POLYGON((-2.810396 50.438386,-1.867087 50.4411...</td>\n",
       "      <td>2017-07-05T10:59:30Z</td>\n",
       "      <td>...</td>\n",
       "      <td>1.150368e+10</td>\n",
       "      <td>6.0</td>\n",
       "      <td>1.0</td>\n",
       "      <td>0.0</td>\n",
       "      <td>L3</td>\n",
       "      <td>Standard</td>\n",
       "      <td>https://geobrowser.satapps.org/archiveql/aeweb...</td>\n",
       "      <td>https://sedasdm.satapps.org/qls/qlmgr.php?scen...</td>\n",
       "      <td>{'property': 'vendorSpecific', 'Filehash': '40...</td>\n",
       "      <td>https://sedasdm.satapps.org/datamgr/datamgr.ph...</td>\n",
       "    </tr>\n",
       "    <tr>\n",
       "      <th>16</th>\n",
       "      <td>1123ca1207e153cb13add6a5d99f635a</td>\n",
       "      <td>SP_2_UKSA74_SO19000617-74-01_DS_SPOT7_20170705...</td>\n",
       "      <td>ARCHIVE</td>\n",
       "      <td>SPOT-7</td>\n",
       "      <td>NAOMI-MS/PAN</td>\n",
       "      <td>0.000</td>\n",
       "      <td>Optical</td>\n",
       "      <td>8.0</td>\n",
       "      <td>POLYGON((-2.067655 50.912176,-1.048402 50.9083...</td>\n",
       "      <td>2017-07-05T10:59:08Z</td>\n",
       "      <td>...</td>\n",
       "      <td>8.648763e+09</td>\n",
       "      <td>100.0</td>\n",
       "      <td>21.0</td>\n",
       "      <td>0.0</td>\n",
       "      <td>L3</td>\n",
       "      <td>Standard</td>\n",
       "      <td>https://geobrowser.satapps.org/archiveql/aeweb...</td>\n",
       "      <td>https://sedasdm.satapps.org/qls/qlmgr.php?scen...</td>\n",
       "      <td>{'property': 'vendorSpecific', 'Filehash': 'b9...</td>\n",
       "      <td>https://sedasdm.satapps.org/datamgr/datamgr.ph...</td>\n",
       "    </tr>\n",
       "    <tr>\n",
       "      <th>17</th>\n",
       "      <td>c4be0ee4424b71e3b296c00894c6ea5d</td>\n",
       "      <td>SP_2_UKSA107_SO19000619-7-01_DS_SPOT6_20161128...</td>\n",
       "      <td>ARCHIVE</td>\n",
       "      <td>SPOT-6</td>\n",
       "      <td>NAOMI-MS/PAN</td>\n",
       "      <td>0.000</td>\n",
       "      <td>Optical</td>\n",
       "      <td>8.0</td>\n",
       "      <td>POLYGON((-1.795557 51.48056,-0.888226 51.47547...</td>\n",
       "      <td>2016-11-28T10:47:28Z</td>\n",
       "      <td>...</td>\n",
       "      <td>3.856150e+09</td>\n",
       "      <td>85.0</td>\n",
       "      <td>40.0</td>\n",
       "      <td>0.0</td>\n",
       "      <td>L3</td>\n",
       "      <td>Standard</td>\n",
       "      <td>https://geobrowser.satapps.org/archiveql/aeweb...</td>\n",
       "      <td>https://sedasdm.satapps.org/qls/qlmgr.php?scen...</td>\n",
       "      <td>{'property': 'vendorSpecific', 'Filehash': '0b...</td>\n",
       "      <td>https://sedasdm.satapps.org/datamgr/datamgr.ph...</td>\n",
       "    </tr>\n",
       "    <tr>\n",
       "      <th>18</th>\n",
       "      <td>621cad4558c58a0122b10df451534053</td>\n",
       "      <td>SP_2_UKSA104_SO19000619-4-01_DS_SPOT7_20161125...</td>\n",
       "      <td>ARCHIVE</td>\n",
       "      <td>SPOT-7</td>\n",
       "      <td>NAOMI-MS/PAN</td>\n",
       "      <td>0.000</td>\n",
       "      <td>Optical</td>\n",
       "      <td>8.0</td>\n",
       "      <td>POLYGON((-2.664849 51.034774,-1.57745 51.03590...</td>\n",
       "      <td>2016-11-25T11:09:20Z</td>\n",
       "      <td>...</td>\n",
       "      <td>1.774115e+10</td>\n",
       "      <td>44.0</td>\n",
       "      <td>5.0</td>\n",
       "      <td>4.0</td>\n",
       "      <td>L3</td>\n",
       "      <td>Standard</td>\n",
       "      <td>https://geobrowser.satapps.org/archiveql/aeweb...</td>\n",
       "      <td>https://sedasdm.satapps.org/qls/qlmgr.php?scen...</td>\n",
       "      <td>{'property': 'vendorSpecific', 'Filehash': '3f...</td>\n",
       "      <td>https://sedasdm.satapps.org/datamgr/datamgr.ph...</td>\n",
       "    </tr>\n",
       "    <tr>\n",
       "      <th>19</th>\n",
       "      <td>99df443a0edd6a4ba0dd3f7934742748</td>\n",
       "      <td>SP_3_UKSA72_SO19000615-72-01_DS_SPOT7_20160720...</td>\n",
       "      <td>ARCHIVE</td>\n",
       "      <td>SPOT-7</td>\n",
       "      <td>NAOMI-MS/PAN</td>\n",
       "      <td>0.000</td>\n",
       "      <td>Optical</td>\n",
       "      <td>8.0</td>\n",
       "      <td>POLYGON((-1.789462 51.000707,-0.88776 50.99560...</td>\n",
       "      <td>2016-07-20T10:54:44Z</td>\n",
       "      <td>...</td>\n",
       "      <td>3.819103e+09</td>\n",
       "      <td>11.0</td>\n",
       "      <td>5.0</td>\n",
       "      <td>4.0</td>\n",
       "      <td>L3</td>\n",
       "      <td>Standard</td>\n",
       "      <td>https://geobrowser.satapps.org/archiveql/aeweb...</td>\n",
       "      <td>https://sedasdm.satapps.org/qls/qlmgr.php?scen...</td>\n",
       "      <td>{'property': 'vendorSpecific', 'Filehash': '82...</td>\n",
       "      <td>https://sedasdm.satapps.org/datamgr/datamgr.ph...</td>\n",
       "    </tr>\n",
       "    <tr>\n",
       "      <th>20</th>\n",
       "      <td>4cdc552341efdcfb429202507d598ce0</td>\n",
       "      <td>SP_3_UKSA49_SO19000615-49-01_DS_SPOT6_20160606...</td>\n",
       "      <td>ARCHIVE</td>\n",
       "      <td>SPOT-6</td>\n",
       "      <td>NAOMI-MS/PAN</td>\n",
       "      <td>0.000</td>\n",
       "      <td>Optical</td>\n",
       "      <td>8.0</td>\n",
       "      <td>POLYGON((-2.148368 51.810586,-1.12854 51.80745...</td>\n",
       "      <td>2016-06-06T10:45:19Z</td>\n",
       "      <td>...</td>\n",
       "      <td>3.127398e+09</td>\n",
       "      <td>0.0</td>\n",
       "      <td>0.0</td>\n",
       "      <td>2.0</td>\n",
       "      <td>L3</td>\n",
       "      <td>Standard</td>\n",
       "      <td>https://geobrowser.satapps.org/archiveql/aeweb...</td>\n",
       "      <td>https://sedasdm.satapps.org/qls/qlmgr.php?scen...</td>\n",
       "      <td>{'property': 'vendorSpecific', 'Filehash': 'f1...</td>\n",
       "      <td>https://sedasdm.satapps.org/datamgr/datamgr.ph...</td>\n",
       "    </tr>\n",
       "  </tbody>\n",
       "</table>\n",
       "<p>21 rows × 22 columns</p>\n",
       "</div>"
      ],
      "text/plain": [
       "                           productId  \\\n",
       "0   ff3aa1470eb5ed57d7c5a6e05db400b7   \n",
       "1   c0982f29580eb726f04c9af6bdebb376   \n",
       "2   e60f722dcbb5d4a122a231183a66ab0e   \n",
       "3   65f52dbd5981d6a203b3070927993898   \n",
       "4   7e3fa163ffa951ec0850714139a8a073   \n",
       "5   0898d97bb20b981a6280f4310b3556f2   \n",
       "6   f4b5e3c63318bbc021fff734873a4001   \n",
       "7   b66bad8bfa0fcee1918558bbbad733e2   \n",
       "8   4d553fcdddf8b2059caee5c1376fca03   \n",
       "9   13a56582915a6d18d3410b53729f8a01   \n",
       "10  6c05ace4f73908830158fd500f656da3   \n",
       "11  5f2f08d6be83497ef3eea3870bae0433   \n",
       "12  ffa4d36727a62f5c1e12ad49e4054f25   \n",
       "13  aad3743522b52b961adbabc96efe77a3   \n",
       "14  3dfee35af4b169411580b6cd2994e5ae   \n",
       "15  bfe0b2c8583d568864fd0dcf5327f2a3   \n",
       "16  1123ca1207e153cb13add6a5d99f635a   \n",
       "17  c4be0ee4424b71e3b296c00894c6ea5d   \n",
       "18  621cad4558c58a0122b10df451534053   \n",
       "19  99df443a0edd6a4ba0dd3f7934742748   \n",
       "20  4cdc552341efdcfb429202507d598ce0   \n",
       "\n",
       "                                           supplierId     type satelliteName  \\\n",
       "0   UKSA_SPOT161_SO18034609-61-01_DS_SPOT6_2018101...  ARCHIVE        SPOT-6   \n",
       "1   UKSA_SPOT156_SO18034609-56-01_DS_SPOT6_2018101...  ARCHIVE        SPOT-6   \n",
       "2   UKSA_SPOT155_SO18034609-55-01_DS_SPOT6_2018101...  ARCHIVE        SPOT-6   \n",
       "3   UKSA_SPOT291_SO18034610-90-01_DS_SPOT7_2018092...  ARCHIVE        SPOT-7   \n",
       "4   UKSA_SPOT290_SO18034610-89-01_DS_SPOT7_2018092...  ARCHIVE        SPOT-7   \n",
       "5   UKSA_SPOT289_SO18034610-88-01_DS_SPOT7_2018092...  ARCHIVE        SPOT-7   \n",
       "6   UKSA_SPOT288_SO18034610-87-01_DS_SPOT7_2018092...  ARCHIVE        SPOT-7   \n",
       "7   UKSA_SPOT287_SO18034610-86-01_DS_SPOT7_2018092...  ARCHIVE        SPOT-7   \n",
       "8   UKSA_SPOT134_SO18034609-34-01_DS_SPOT6_2018090...  ARCHIVE        SPOT-6   \n",
       "9   UKSA_SPOT278_SO18034610-77-01_DS_SPOT7_2018080...  ARCHIVE        SPOT-7   \n",
       "10  UKSA_SPOT121_SO18034609-21-01_DS_SPOT6_2018072...  ARCHIVE        SPOT-6   \n",
       "11  UKSA_SPOT268_SO18034610-67-01_DS_SPOT7_2018072...  ARCHIVE        SPOT-7   \n",
       "12  UKSA_SPOT42_SO18034608-42-01_DS_SPOT6_20180507...  ARCHIVE        SPOT-6   \n",
       "13  UKSA_SPOT4_SO18034608-4-01_DS_SPOT6_2018012510...  ARCHIVE        SPOT-6   \n",
       "14  UKSA_SPOT319_SO18034611-19-01_DS_SPOT6_2017110...  ARCHIVE        SPOT-6   \n",
       "15  SP_2_UKSA75_SO19000617-75-01_DS_SPOT7_20170705...  ARCHIVE        SPOT-7   \n",
       "16  SP_2_UKSA74_SO19000617-74-01_DS_SPOT7_20170705...  ARCHIVE        SPOT-7   \n",
       "17  SP_2_UKSA107_SO19000619-7-01_DS_SPOT6_20161128...  ARCHIVE        SPOT-6   \n",
       "18  SP_2_UKSA104_SO19000619-4-01_DS_SPOT7_20161125...  ARCHIVE        SPOT-7   \n",
       "19  SP_3_UKSA72_SO19000615-72-01_DS_SPOT7_20160720...  ARCHIVE        SPOT-7   \n",
       "20  SP_3_UKSA49_SO19000615-49-01_DS_SPOT6_20160606...  ARCHIVE        SPOT-6   \n",
       "\n",
       "   instrumentName modeName sensorType  sensorResolution  \\\n",
       "0    NAOMI-MS/PAN    0.000    Optical               8.0   \n",
       "1    NAOMI-MS/PAN    0.000    Optical               8.0   \n",
       "2    NAOMI-MS/PAN    0.000    Optical               8.0   \n",
       "3    NAOMI-MS/PAN    0.000    Optical               8.0   \n",
       "4    NAOMI-MS/PAN    0.000    Optical               8.0   \n",
       "5    NAOMI-MS/PAN    0.000    Optical               8.0   \n",
       "6    NAOMI-MS/PAN    0.000    Optical               8.0   \n",
       "7    NAOMI-MS/PAN    0.000    Optical               8.0   \n",
       "8    NAOMI-MS/PAN    0.000    Optical               8.0   \n",
       "9    NAOMI-MS/PAN    0.000    Optical               8.0   \n",
       "10   NAOMI-MS/PAN    0.000    Optical               8.0   \n",
       "11   NAOMI-MS/PAN    0.000    Optical               8.0   \n",
       "12   NAOMI-MS/PAN    0.000    Optical               8.0   \n",
       "13   NAOMI-MS/PAN    0.000    Optical               8.0   \n",
       "14   NAOMI-MS/PAN    0.000    Optical               8.0   \n",
       "15   NAOMI-MS/PAN    0.000    Optical               8.0   \n",
       "16   NAOMI-MS/PAN    0.000    Optical               8.0   \n",
       "17   NAOMI-MS/PAN    0.000    Optical               8.0   \n",
       "18   NAOMI-MS/PAN    0.000    Optical               8.0   \n",
       "19   NAOMI-MS/PAN    0.000    Optical               8.0   \n",
       "20   NAOMI-MS/PAN    0.000    Optical               8.0   \n",
       "\n",
       "                                       coordinatesWKT                 start  \\\n",
       "0   POLYGON((-2.820905 50.931699,-1.870556 50.9345...  2018-10-19T10:39:14Z   \n",
       "1   POLYGON((-1.918729 51.158248,-0.864598 51.1527...  2018-10-10T10:58:21Z   \n",
       "2   POLYGON((-1.699603 51.685303,-0.646975 51.6778...  2018-10-10T10:58:10Z   \n",
       "3   POLYGON((-2.055493 50.446539,-1.051938 50.4426...  2018-09-27T10:59:25Z   \n",
       "4   POLYGON((-2.796381 51.428559,-1.884609 51.4312...  2018-09-27T10:59:01Z   \n",
       "5   POLYGON((-2.791968 51.422924,-1.891268 51.4255...  2018-09-27T10:58:35Z   \n",
       "6   POLYGON((-1.288551 51.408716,-0.281425 51.3982...  2018-09-27T10:58:11Z   \n",
       "7   POLYGON((-2.382915 51.450709,-1.22423 51.44877...  2018-09-24T10:31:59Z   \n",
       "8   POLYGON((-1.772879 51.279608,-0.816458 51.2738...  2018-09-02T10:49:47Z   \n",
       "9   POLYGON((-1.970532 51.322985,-0.993961 51.3186...  2018-08-06T10:58:29Z   \n",
       "10  POLYGON((-1.954773 51.324545,-1.008562 51.3203...  2018-07-24T10:58:02Z   \n",
       "11  POLYGON((-1.921984 51.263401,-0.852469 51.2578...  2018-07-23T11:06:53Z   \n",
       "12  POLYGON((-2.34341 51.559431,-1.419178 51.55849...  2018-05-07T10:58:42Z   \n",
       "13  POLYGON((-2.02159 51.319534,-1.135292 51.31634...  2018-01-25T10:44:22Z   \n",
       "14  POLYGON((-2.037256 51.31543,-1.099391 51.31197...  2017-11-06T10:59:17Z   \n",
       "15  POLYGON((-2.810396 50.438386,-1.867087 50.4411...  2017-07-05T10:59:30Z   \n",
       "16  POLYGON((-2.067655 50.912176,-1.048402 50.9083...  2017-07-05T10:59:08Z   \n",
       "17  POLYGON((-1.795557 51.48056,-0.888226 51.47547...  2016-11-28T10:47:28Z   \n",
       "18  POLYGON((-2.664849 51.034774,-1.57745 51.03590...  2016-11-25T11:09:20Z   \n",
       "19  POLYGON((-1.789462 51.000707,-0.88776 50.99560...  2016-07-20T10:54:44Z   \n",
       "20  POLYGON((-2.148368 51.810586,-1.12854 51.80745...  2016-06-06T10:45:19Z   \n",
       "\n",
       "    ...          area aoiCoveragePercent  usefulAreaPercent  \\\n",
       "0   ...  4.313839e+09                0.0                0.0   \n",
       "1   ...  3.463299e+09               25.0               13.0   \n",
       "2   ...  3.325405e+09               29.0               16.0   \n",
       "3   ...  1.227865e+10              100.0               15.0   \n",
       "4   ...  7.219406e+09                3.0                1.0   \n",
       "5   ...  7.202192e+09                3.0                1.0   \n",
       "6   ...  8.301192e+09               18.0                4.0   \n",
       "7   ...  4.208909e+09               91.0               39.0   \n",
       "8   ...  6.758638e+09               82.0               22.0   \n",
       "9   ...  6.126105e+09              100.0               30.0   \n",
       "10  ...  5.928326e+09              100.0               31.0   \n",
       "11  ...  2.865060e+09               35.0               22.0   \n",
       "12  ...  7.426668e+09               52.0               13.0   \n",
       "13  ...  3.941232e+09              100.0               46.0   \n",
       "14  ...  4.153655e+09              100.0               44.0   \n",
       "15  ...  1.150368e+10                6.0                1.0   \n",
       "16  ...  8.648763e+09              100.0               21.0   \n",
       "17  ...  3.856150e+09               85.0               40.0   \n",
       "18  ...  1.774115e+10               44.0                5.0   \n",
       "19  ...  3.819103e+09               11.0                5.0   \n",
       "20  ...  3.127398e+09                0.0                0.0   \n",
       "\n",
       "    cloudCoveragePercent  productType   latency  \\\n",
       "0                    6.0           L3  Standard   \n",
       "1                    0.0           L3  Standard   \n",
       "2                    0.0           L3  Standard   \n",
       "3                    1.0           L3  Standard   \n",
       "4                    0.0           L3  Standard   \n",
       "5                    0.0           L3  Standard   \n",
       "6                    0.0           L3  Standard   \n",
       "7                    4.0           L3  Standard   \n",
       "8                   10.0           L3  Standard   \n",
       "9                    6.0           L3  Standard   \n",
       "10                  11.0           L3  Standard   \n",
       "11                   1.0           L3  Standard   \n",
       "12                   0.0           L3  Standard   \n",
       "13                   5.0           L3  Standard   \n",
       "14                   0.0           L3  Standard   \n",
       "15                   0.0           L3  Standard   \n",
       "16                   0.0           L3  Standard   \n",
       "17                   0.0           L3  Standard   \n",
       "18                   4.0           L3  Standard   \n",
       "19                   4.0           L3  Standard   \n",
       "20                   2.0           L3  Standard   \n",
       "\n",
       "                                                   ql  \\\n",
       "0   https://geobrowser.satapps.org/archiveql/aeweb...   \n",
       "1   https://geobrowser.satapps.org/archiveql/aeweb...   \n",
       "2   https://geobrowser.satapps.org/archiveql/aeweb...   \n",
       "3   https://geobrowser.satapps.org/archiveql/aeweb...   \n",
       "4   https://geobrowser.satapps.org/archiveql/aeweb...   \n",
       "5   https://geobrowser.satapps.org/archiveql/aeweb...   \n",
       "6   https://geobrowser.satapps.org/archiveql/aeweb...   \n",
       "7   https://geobrowser.satapps.org/archiveql/aeweb...   \n",
       "8   https://geobrowser.satapps.org/archiveql/aeweb...   \n",
       "9   https://geobrowser.satapps.org/archiveql/aeweb...   \n",
       "10  https://geobrowser.satapps.org/archiveql/aeweb...   \n",
       "11  https://geobrowser.satapps.org/archiveql/aeweb...   \n",
       "12  https://geobrowser.satapps.org/archiveql/aeweb...   \n",
       "13  https://geobrowser.satapps.org/archiveql/aeweb...   \n",
       "14  https://geobrowser.satapps.org/archiveql/aeweb...   \n",
       "15  https://geobrowser.satapps.org/archiveql/aeweb...   \n",
       "16  https://geobrowser.satapps.org/archiveql/aeweb...   \n",
       "17  https://geobrowser.satapps.org/archiveql/aeweb...   \n",
       "18  https://geobrowser.satapps.org/archiveql/aeweb...   \n",
       "19  https://geobrowser.satapps.org/archiveql/aeweb...   \n",
       "20  https://geobrowser.satapps.org/archiveql/aeweb...   \n",
       "\n",
       "                                            thumbnail  \\\n",
       "0   https://sedasdm.satapps.org/qls/qlmgr.php?scen...   \n",
       "1   https://sedasdm.satapps.org/qls/qlmgr.php?scen...   \n",
       "2   https://sedasdm.satapps.org/qls/qlmgr.php?scen...   \n",
       "3   https://sedasdm.satapps.org/qls/qlmgr.php?scen...   \n",
       "4   https://sedasdm.satapps.org/qls/qlmgr.php?scen...   \n",
       "5   https://sedasdm.satapps.org/qls/qlmgr.php?scen...   \n",
       "6   https://sedasdm.satapps.org/qls/qlmgr.php?scen...   \n",
       "7   https://sedasdm.satapps.org/qls/qlmgr.php?scen...   \n",
       "8   https://sedasdm.satapps.org/qls/qlmgr.php?scen...   \n",
       "9   https://sedasdm.satapps.org/qls/qlmgr.php?scen...   \n",
       "10  https://sedasdm.satapps.org/qls/qlmgr.php?scen...   \n",
       "11  https://sedasdm.satapps.org/qls/qlmgr.php?scen...   \n",
       "12  https://sedasdm.satapps.org/qls/qlmgr.php?scen...   \n",
       "13  https://sedasdm.satapps.org/qls/qlmgr.php?scen...   \n",
       "14  https://sedasdm.satapps.org/qls/qlmgr.php?scen...   \n",
       "15  https://sedasdm.satapps.org/qls/qlmgr.php?scen...   \n",
       "16  https://sedasdm.satapps.org/qls/qlmgr.php?scen...   \n",
       "17  https://sedasdm.satapps.org/qls/qlmgr.php?scen...   \n",
       "18  https://sedasdm.satapps.org/qls/qlmgr.php?scen...   \n",
       "19  https://sedasdm.satapps.org/qls/qlmgr.php?scen...   \n",
       "20  https://sedasdm.satapps.org/qls/qlmgr.php?scen...   \n",
       "\n",
       "                                       vendorSpecific  \\\n",
       "0   {'property': 'vendorSpecific', 'Filehash': '63...   \n",
       "1   {'property': 'vendorSpecific', 'Filehash': '73...   \n",
       "2   {'property': 'vendorSpecific', 'Filehash': 'a9...   \n",
       "3   {'property': 'vendorSpecific', 'Filehash': '54...   \n",
       "4   {'property': 'vendorSpecific', 'Filehash': '4d...   \n",
       "5   {'property': 'vendorSpecific', 'Filehash': 'c8...   \n",
       "6   {'property': 'vendorSpecific', 'Filehash': 'ab...   \n",
       "7   {'property': 'vendorSpecific', 'Filehash': '6d...   \n",
       "8   {'property': 'vendorSpecific', 'Filehash': '9d...   \n",
       "9   {'property': 'vendorSpecific', 'Filehash': '07...   \n",
       "10  {'property': 'vendorSpecific', 'Filehash': 'fe...   \n",
       "11  {'property': 'vendorSpecific', 'Filehash': '75...   \n",
       "12  {'property': 'vendorSpecific', 'Filehash': '12...   \n",
       "13  {'property': 'vendorSpecific', 'Filehash': '7c...   \n",
       "14  {'property': 'vendorSpecific', 'Filehash': 'c0...   \n",
       "15  {'property': 'vendorSpecific', 'Filehash': '40...   \n",
       "16  {'property': 'vendorSpecific', 'Filehash': 'b9...   \n",
       "17  {'property': 'vendorSpecific', 'Filehash': '0b...   \n",
       "18  {'property': 'vendorSpecific', 'Filehash': '3f...   \n",
       "19  {'property': 'vendorSpecific', 'Filehash': '82...   \n",
       "20  {'property': 'vendorSpecific', 'Filehash': 'f1...   \n",
       "\n",
       "                                          downloadUrl  \n",
       "0   https://sedasdm.satapps.org/datamgr/datamgr.ph...  \n",
       "1   https://sedasdm.satapps.org/datamgr/datamgr.ph...  \n",
       "2   https://sedasdm.satapps.org/datamgr/datamgr.ph...  \n",
       "3   https://sedasdm.satapps.org/datamgr/datamgr.ph...  \n",
       "4   https://sedasdm.satapps.org/datamgr/datamgr.ph...  \n",
       "5   https://sedasdm.satapps.org/datamgr/datamgr.ph...  \n",
       "6   https://sedasdm.satapps.org/datamgr/datamgr.ph...  \n",
       "7   https://sedasdm.satapps.org/datamgr/datamgr.ph...  \n",
       "8   https://sedasdm.satapps.org/datamgr/datamgr.ph...  \n",
       "9   https://sedasdm.satapps.org/datamgr/datamgr.ph...  \n",
       "10  https://sedasdm.satapps.org/datamgr/datamgr.ph...  \n",
       "11  https://sedasdm.satapps.org/datamgr/datamgr.ph...  \n",
       "12  https://sedasdm.satapps.org/datamgr/datamgr.ph...  \n",
       "13  https://sedasdm.satapps.org/datamgr/datamgr.ph...  \n",
       "14  https://sedasdm.satapps.org/datamgr/datamgr.ph...  \n",
       "15  https://sedasdm.satapps.org/datamgr/datamgr.ph...  \n",
       "16  https://sedasdm.satapps.org/datamgr/datamgr.ph...  \n",
       "17  https://sedasdm.satapps.org/datamgr/datamgr.ph...  \n",
       "18  https://sedasdm.satapps.org/datamgr/datamgr.ph...  \n",
       "19  https://sedasdm.satapps.org/datamgr/datamgr.ph...  \n",
       "20  https://sedasdm.satapps.org/datamgr/datamgr.ph...  \n",
       "\n",
       "[21 rows x 22 columns]"
      ]
     },
     "execution_count": 7,
     "metadata": {},
     "output_type": "execute_result"
    }
   ],
   "source": [
    "result = sedas_find_datasets(\"POLYGON((-1.91 51.81,-1.15 51.81,-1.15 51.50,-1.91 51.50,-1.91 51.81))\", \n",
    "                             \"2000-01-01T00:00:00Z\", \n",
    "                             \"2020-10-27T00:00:00Z\",\n",
    "                             \"SPOT\"\n",
    "                            )\n",
    "pd.DataFrame(result['products'])"
   ]
  },
  {
   "cell_type": "code",
   "execution_count": null,
   "metadata": {},
   "outputs": [],
   "source": [
    "for p in pd.DataFrame(result['products']).supplierId.values:\n",
    "    \n",
    "#     if not True in [i.split('_')[1] in p for i in done]:\n",
    "    prep_spot(p)"
   ]
  },
  {
   "cell_type": "markdown",
   "metadata": {},
   "source": [
    "Example of testing the first one."
   ]
  },
  {
   "cell_type": "code",
   "execution_count": null,
   "metadata": {},
   "outputs": [
    {
     "name": "stdout",
     "output_type": "stream",
     "text": [
      "2020-11-10 11:42:18 Preparing UKSA_SPOT156_SO18034609-56-01_DS_SPOT6_201810101058206_FR1_FR1_FR1_FR1_W001N51_01140 within /tmp/data/intermediate/UKSA_SPOT156_SO18034609-56-01_DS_SPOT6_201810101058206_FR1_FR1_FR1_FR1_W001N51_01140_tmp/\n",
      "2020-11-10 11:42:19 Downloading\n",
      "2020-11-10 11:45:14 Downloaded\n",
      "2020-11-10 11:45:14 Extracting /tmp/data/intermediate/UKSA_SPOT156_SO18034609-56-01_DS_SPOT6_201810101058206_FR1_FR1_FR1_FR1_W001N51_01140_tmp/UKSA_SPOT156_SO18034609-56-01_DS_SPOT6_201810101058206_FR1_FR1_FR1_FR1_W001N51_01140.zip\n",
      "2020-11-10 11:47:29 Extracted to /tmp/data/intermediate/UKSA_SPOT156_SO18034609-56-01_DS_SPOT6_201810101058206_FR1_FR1_FR1_FR1_W001N51_01140_tmp/UKSA_SPOT156_SO18034609-56-01_DS_SPOT6_201810101058206_FR1_FR1_FR1_FR1_W001N51_01140/\n",
      "2020-11-10 11:47:29 Mosaicing band 1 imgs: /tmp/data/intermediate/UKSA_SPOT156_SO18034609-56-01_DS_SPOT6_201810101058206_FR1_FR1_FR1_FR1_W001N51_01140_tmp/UKSA_SPOT156_SO18034609-56-01_DS_SPOT6_201810101058206_FR1_FR1_FR1_FR1_W001N51_01140/PROD_SPOT6_001/VOL_SPOT6_001_A/IMG_SPOT6_P_001_A/IMG_SPOT6_P_201810101058206_ORT_3613543101_R1C1.TIF\n",
      "2020-11-10 11:47:29 Mosaicd /tmp/data/intermediate/UKSA_SPOT156_SO18034609-56-01_DS_SPOT6_201810101058206_FR1_FR1_FR1_FR1_W001N51_01140_tmp/UKSA_SPOT156_SO18034609-56-01_DS_SPOT6_201810101058206_FR1_FR1_FR1_FR1_W001N51_01140/PROD_SPOT6_001/VOL_SPOT6_001_A/IMG_SPOT6_P_001_A/IMG_SPOT6_P_201810101058206_ORT_band1_mosaic.tif\n",
      "2020-11-10 11:47:29 Starting conversion: <osgeo.gdal.Dataset; proxy of <Swig Object of type 'GDALDatasetShadow *' at 0x7f9f36353b10> >.\n",
      "2020-11-10 11:48:41 Conversion complete: True.\n",
      "2020-11-10 11:48:42 Mosaicing band 1 imgs: /tmp/data/intermediate/UKSA_SPOT156_SO18034609-56-01_DS_SPOT6_201810101058206_FR1_FR1_FR1_FR1_W001N51_01140_tmp/UKSA_SPOT156_SO18034609-56-01_DS_SPOT6_201810101058206_FR1_FR1_FR1_FR1_W001N51_01140/PROD_SPOT6_001/VOL_SPOT6_001_A/IMG_SPOT6_MS_001_A/IMG_SPOT6_MS_201810101058206_ORT_3613543101_R1C1.TIF\n",
      "2020-11-10 11:48:42 Mosaicd /tmp/data/intermediate/UKSA_SPOT156_SO18034609-56-01_DS_SPOT6_201810101058206_FR1_FR1_FR1_FR1_W001N51_01140_tmp/UKSA_SPOT156_SO18034609-56-01_DS_SPOT6_201810101058206_FR1_FR1_FR1_FR1_W001N51_01140/PROD_SPOT6_001/VOL_SPOT6_001_A/IMG_SPOT6_MS_001_A/IMG_SPOT6_MS_201810101058206_ORT_band1_mosaic.tif\n",
      "2020-11-10 11:48:42 Starting conversion: <osgeo.gdal.Dataset; proxy of <Swig Object of type 'GDALDatasetShadow *' at 0x7f9f363530c0> >.\n",
      "2020-11-10 11:48:46 Conversion complete: True.\n",
      "2020-11-10 11:48:46 Mosaicing band 2 imgs: /tmp/data/intermediate/UKSA_SPOT156_SO18034609-56-01_DS_SPOT6_201810101058206_FR1_FR1_FR1_FR1_W001N51_01140_tmp/UKSA_SPOT156_SO18034609-56-01_DS_SPOT6_201810101058206_FR1_FR1_FR1_FR1_W001N51_01140/PROD_SPOT6_001/VOL_SPOT6_001_A/IMG_SPOT6_MS_001_A/IMG_SPOT6_MS_201810101058206_ORT_3613543101_R1C1.TIF\n",
      "2020-11-10 11:48:46 Mosaicd /tmp/data/intermediate/UKSA_SPOT156_SO18034609-56-01_DS_SPOT6_201810101058206_FR1_FR1_FR1_FR1_W001N51_01140_tmp/UKSA_SPOT156_SO18034609-56-01_DS_SPOT6_201810101058206_FR1_FR1_FR1_FR1_W001N51_01140/PROD_SPOT6_001/VOL_SPOT6_001_A/IMG_SPOT6_MS_001_A/IMG_SPOT6_MS_201810101058206_ORT_band2_mosaic.tif\n",
      "2020-11-10 11:48:46 Starting conversion: <osgeo.gdal.Dataset; proxy of <Swig Object of type 'GDALDatasetShadow *' at 0x7f9f36353cc0> >.\n",
      "2020-11-10 11:48:51 Conversion complete: True.\n",
      "2020-11-10 11:48:51 Mosaicing band 3 imgs: /tmp/data/intermediate/UKSA_SPOT156_SO18034609-56-01_DS_SPOT6_201810101058206_FR1_FR1_FR1_FR1_W001N51_01140_tmp/UKSA_SPOT156_SO18034609-56-01_DS_SPOT6_201810101058206_FR1_FR1_FR1_FR1_W001N51_01140/PROD_SPOT6_001/VOL_SPOT6_001_A/IMG_SPOT6_MS_001_A/IMG_SPOT6_MS_201810101058206_ORT_3613543101_R1C1.TIF\n",
      "2020-11-10 11:48:51 Mosaicd /tmp/data/intermediate/UKSA_SPOT156_SO18034609-56-01_DS_SPOT6_201810101058206_FR1_FR1_FR1_FR1_W001N51_01140_tmp/UKSA_SPOT156_SO18034609-56-01_DS_SPOT6_201810101058206_FR1_FR1_FR1_FR1_W001N51_01140/PROD_SPOT6_001/VOL_SPOT6_001_A/IMG_SPOT6_MS_001_A/IMG_SPOT6_MS_201810101058206_ORT_band3_mosaic.tif\n",
      "2020-11-10 11:48:51 Starting conversion: <osgeo.gdal.Dataset; proxy of <Swig Object of type 'GDALDatasetShadow *' at 0x7f9f363537e0> >.\n",
      "2020-11-10 11:48:55 Conversion complete: True.\n",
      "2020-11-10 11:48:55 Mosaicing band 4 imgs: /tmp/data/intermediate/UKSA_SPOT156_SO18034609-56-01_DS_SPOT6_201810101058206_FR1_FR1_FR1_FR1_W001N51_01140_tmp/UKSA_SPOT156_SO18034609-56-01_DS_SPOT6_201810101058206_FR1_FR1_FR1_FR1_W001N51_01140/PROD_SPOT6_001/VOL_SPOT6_001_A/IMG_SPOT6_MS_001_A/IMG_SPOT6_MS_201810101058206_ORT_3613543101_R1C1.TIF\n",
      "2020-11-10 11:48:55 Mosaicd /tmp/data/intermediate/UKSA_SPOT156_SO18034609-56-01_DS_SPOT6_201810101058206_FR1_FR1_FR1_FR1_W001N51_01140_tmp/UKSA_SPOT156_SO18034609-56-01_DS_SPOT6_201810101058206_FR1_FR1_FR1_FR1_W001N51_01140/PROD_SPOT6_001/VOL_SPOT6_001_A/IMG_SPOT6_MS_001_A/IMG_SPOT6_MS_201810101058206_ORT_band4_mosaic.tif\n",
      "2020-11-10 11:48:55 Starting conversion: <osgeo.gdal.Dataset; proxy of <Swig Object of type 'GDALDatasetShadow *' at 0x7f9f36353480> >.\n",
      "2020-11-10 11:48:59 Conversion complete: True.\n",
      "2020-11-10 11:55:06 Prepared UKSA_SPOT156_SO18034609-56-01_DS_SPOT6_201810101058206_FR1_FR1_FR1_FR1_W001N51_01140 at uksa-ssgp/spot/UKSA_SPOT156_SO18034609-56-01_DS_SPOT6_201810101058206_FR1_FR1_FR1_FR1_W001N51_01140/\n"
     ]
    }
   ],
   "source": [
    "prep_spot(\"UKSA_SPOT156_SO18034609-56-01_DS_SPOT6_201810101058206_FR1_FR1_FR1_FR1_W001N51_01140\")"
   ]
  },
  {
   "cell_type": "markdown",
   "metadata": {},
   "source": [
    "## **STAC metadata**: core & limited extension"
   ]
  },
  {
   "cell_type": "markdown",
   "metadata": {},
   "source": [
    "With some cogs hosted on object storage we can fill out some of the necessary STAC core and extension metadata fields."
   ]
  },
  {
   "cell_type": "markdown",
   "metadata": {},
   "source": [
    "### *Collection* fields"
   ]
  },
  {
   "cell_type": "markdown",
   "metadata": {},
   "source": [
    "Since for SPOT 6 & 7 we're working with electro-optical imagery, we can make use of the STAC **[EO Extension](https://github.com/radiantearth/stac-spec/tree/master/extensions/eo)**. At the SPOT *Collection* level we can therefore manually set some default metadata fields that will be consistent across all *Items* and *Assets*."
   ]
  },
  {
   "cell_type": "code",
   "execution_count": null,
   "metadata": {},
   "outputs": [],
   "source": [
    "#export\n",
    "spot_bands = [Band.create(name='Panchromatic', description='Panchromatic: 450 - 745 nm', common_name='pan'),\n",
    "              Band.create(name='Blue', description='Blue: 450 - 520 nm', common_name='blue'),\n",
    "              Band.create(name='Green', description='Green: 530 - 590 nm', common_name='green'),\n",
    "              Band.create(name='Red', description='Red: 625 - 695 nm', common_name='red'),\n",
    "              Band.create(name='Near-Infrared', description='Near-Infrared: 760 - 890 nm', common_name='nir')]"
   ]
  },
  {
   "cell_type": "markdown",
   "metadata": {},
   "source": [
    "We could also make use of the **[Satellite Extension](https://github.com/radiantearth/stac-spec/blob/master/extensions/sat/README.md)**, however the fields of orbit_state (i.e. ascending / descending) and relative_orbit (i.e. orbit no.) don't seem immediately useful for Pleiades. Other extensions are commented on as we delve deeper into a *Collection*."
   ]
  },
  {
   "cell_type": "markdown",
   "metadata": {},
   "source": [
    "### *Item* fields"
   ]
  },
  {
   "cell_type": "code",
   "execution_count": 8,
   "metadata": {},
   "outputs": [],
   "source": [
    "obj_paths_list = s3_list_objects_paths('public-eo-data', 'uksa-ssgp/spot/')"
   ]
  },
  {
   "cell_type": "code",
   "execution_count": 9,
   "metadata": {},
   "outputs": [
    {
     "data": {
      "text/plain": [
       "['UKSA_SPOT155_SO18034609-55-01_DS_SPOT6_201810101058095_FR1_FR1_FR1_FR1_W001N52_01140',\n",
       " 'UKSA_SPOT156_SO18034609-56-01_DS_SPOT6_201810101058206_FR1_FR1_FR1_FR1_W001N51_01140',\n",
       " 'UKSA_SPOT161_SO18034609-61-01_DS_SPOT6_201810191039150_FR1_FR1_SV1_SV1_W002N51_01709',\n",
       " 'UKSA_SPOT287_SO18034610-86-01_DS_SPOT7_201809241031594_FR1_FR1_FR1_FR1_W002N52_01222',\n",
       " 'UKSA_SPOT288_SO18034610-87-01_DS_SPOT7_201809271058114_FR1_FR1_SV1_SV1_W001N52_02845']"
      ]
     },
     "execution_count": 9,
     "metadata": {},
     "output_type": "execute_result"
    }
   ],
   "source": [
    "# get unique Item / scene names (third dir from path)\n",
    "scene_names = list(np.unique([ i.split('/')[2] for i in obj_paths_list ]))\n",
    "scene_names[:5]"
   ]
  },
  {
   "cell_type": "code",
   "execution_count": 10,
   "metadata": {},
   "outputs": [
    {
     "data": {
      "text/plain": [
       "'UKSA_SPOT155_SO18034609-55-01_DS_SPOT6_201810101058095_FR1_FR1_FR1_FR1_W001N52_01140'"
      ]
     },
     "execution_count": 10,
     "metadata": {},
     "output_type": "execute_result"
    }
   ],
   "source": [
    "# can just work with one\n",
    "scene_name = scene_names[0]\n",
    "scene_name"
   ]
  },
  {
   "cell_type": "code",
   "execution_count": 11,
   "metadata": {},
   "outputs": [
    {
     "data": {
      "text/plain": [
       "['uksa-ssgp/spot/UKSA_SPOT155_SO18034609-55-01_DS_SPOT6_201810101058095_FR1_FR1_FR1_FR1_W001N52_01140/DELIVERY.PDF',\n",
       " 'uksa-ssgp/spot/UKSA_SPOT155_SO18034609-55-01_DS_SPOT6_201810101058095_FR1_FR1_FR1_FR1_W001N52_01140/INDEX.HTM']"
      ]
     },
     "execution_count": 11,
     "metadata": {},
     "output_type": "execute_result"
    }
   ],
   "source": [
    "# and objects associated with that scene\n",
    "scene_obj_paths = [ i for i in obj_paths_list if scene_name in i]\n",
    "scene_obj_paths[:2]"
   ]
  },
  {
   "cell_type": "code",
   "execution_count": 12,
   "metadata": {},
   "outputs": [],
   "source": [
    "# set our own I/O for pystac\n",
    "pystac_setIO()"
   ]
  },
  {
   "cell_type": "markdown",
   "metadata": {},
   "source": [
    "We have a set of pleiades-specific tools for parsing stac metadata at the *Item* level. Some are more complex than others both in approach for generating and assumptions."
   ]
  },
  {
   "cell_type": "markdown",
   "metadata": {},
   "source": [
    "We start off simple by getting the date from the scene name."
   ]
  },
  {
   "cell_type": "code",
   "execution_count": 13,
   "metadata": {},
   "outputs": [],
   "source": [
    "#export\n",
    "def spot_get_dt(scene_name):\n",
    "    return datetime.strptime(scene_name.split('_')[5][:14], '%Y%m%d%H%M%S')"
   ]
  },
  {
   "cell_type": "code",
   "execution_count": 14,
   "metadata": {},
   "outputs": [
    {
     "data": {
      "text/plain": [
       "datetime.datetime(2018, 10, 10, 10, 58, 9)"
      ]
     },
     "execution_count": 14,
     "metadata": {},
     "output_type": "execute_result"
    }
   ],
   "source": [
    "spot_get_dt(scene_name)"
   ]
  },
  {
   "cell_type": "code",
   "execution_count": 15,
   "metadata": {},
   "outputs": [
    {
     "data": {
      "text/plain": [
       "'UKSA_SPOT155_SO18034609-55-01_DS_SPOT6_201810101058095_FR1_FR1_FR1_FR1_W001N52_01140'"
      ]
     },
     "execution_count": 15,
     "metadata": {},
     "output_type": "execute_result"
    }
   ],
   "source": [
    "scene_name"
   ]
  },
  {
   "cell_type": "markdown",
   "metadata": {},
   "source": [
    "A variety of *Item* metadata already exists within either the multi-spectral and / or the panchromatic image metadata supplied with the original dataset."
   ]
  },
  {
   "cell_type": "code",
   "execution_count": 16,
   "metadata": {},
   "outputs": [],
   "source": [
    "#export\n",
    "def spot_parsemeta(meta_path):\n",
    "    return xmltodict.parse(pystac.STAC_IO.read_text(create_uri(meta_path)))"
   ]
  },
  {
   "cell_type": "markdown",
   "metadata": {},
   "source": [
    "Typically there are two metadata files, one each for both MS & PAN, but both offer equivalent info for our purposes."
   ]
  },
  {
   "cell_type": "code",
   "execution_count": 17,
   "metadata": {},
   "outputs": [],
   "source": [
    "meta = spot_parsemeta([i for i in scene_obj_paths if (i.endswith('.XML')) & (os.path.basename(i).startswith('DIM'))][0]) # not sure if this catches for all Items?"
   ]
  },
  {
   "cell_type": "markdown",
   "metadata": {},
   "source": [
    "Get crs. Typically only used for eo extension, but helps transform of the geom into 4326."
   ]
  },
  {
   "cell_type": "code",
   "execution_count": 18,
   "metadata": {},
   "outputs": [],
   "source": [
    "def spot_get_crs(metadata):\n",
    "    return int(metadata['Dimap_Document']['Coordinate_Reference_System']['Projected_CRS']['PROJECTED_CRS_NAME'][:5])"
   ]
  },
  {
   "cell_type": "code",
   "execution_count": 19,
   "metadata": {},
   "outputs": [
    {
     "data": {
      "text/plain": [
       "27700"
      ]
     },
     "execution_count": 19,
     "metadata": {},
     "output_type": "execute_result"
    }
   ],
   "source": [
    "spot_get_crs(meta)"
   ]
  },
  {
   "cell_type": "markdown",
   "metadata": {},
   "source": [
    "Geometry (footprint of actually useful data) can be taken from a .gml, but need to set crs on load sometimes for the reprojection, so parse from earlier."
   ]
  },
  {
   "cell_type": "code",
   "execution_count": 51,
   "metadata": {},
   "outputs": [],
   "source": [
    "#export\n",
    "def spot_get_geom(scene_paths, native_epsg):\n",
    "    nat_crs = {\"init\": f\"epsg:{native_epsg}\"}\n",
    "    roi_path = [i for i in scene_paths if (i.endswith('1_MSK.GML') * os.path.basename(i).startswith('ROI'))][0]\n",
    "    roi_uri = create_uri(roi_path)\n",
    "    g = gpd.read_file(roi_uri)\n",
    "    g.crs = f\"EPSG:{native_epsg}\"\n",
    "    return json.loads(g.to_crs('EPSG:4326').to_json(show_bbox=True))['features'][0]['geometry']"
   ]
  },
  {
   "cell_type": "code",
   "execution_count": 52,
   "metadata": {},
   "outputs": [
    {
     "data": {
      "text/plain": [
       "{'type': 'Polygon',\n",
       " 'coordinates': [[[-0.6499519273083667, 52.08844089007527],\n",
       "   [-0.6448428681559101, 52.088382273153236],\n",
       "   [-0.6446263981696051, 51.757267668413746],\n",
       "   [-0.644682404135545, 51.755396785700185],\n",
       "   [-0.6450817810991609, 51.75512292935542],\n",
       "   [-1.6964988848377145, 51.685308252199924],\n",
       "   [-1.6970101211854633, 51.685309570681724],\n",
       "   [-1.6975136320308248, 51.685588611054996],\n",
       "   [-1.6977238663030947, 51.85203916138853],\n",
       "   [-1.6978394095956657, 51.94347348226774],\n",
       "   [-1.6973325231656649, 52.018813144847385],\n",
       "   [-0.6499519273083667, 52.08844089007527]]]}"
      ]
     },
     "execution_count": 52,
     "metadata": {},
     "output_type": "execute_result"
    }
   ],
   "source": [
    "spot_get_geom(scene_obj_paths, '27700')"
   ]
  },
  {
   "cell_type": "markdown",
   "metadata": {},
   "source": [
    "Bounding box is one.."
   ]
  },
  {
   "cell_type": "code",
   "execution_count": 54,
   "metadata": {},
   "outputs": [],
   "source": [
    "#export\n",
    "def spot_get_bbox(metadata):\n",
    "    lons = [float(i['LON']) for i in metadata['Dimap_Document']['Dataset_Content']['Dataset_Extent']['Vertex']]\n",
    "    lats = [float(i['LAT']) for i in metadata['Dimap_Document']['Dataset_Content']['Dataset_Extent']['Vertex']]\n",
    "    return [min(lons), min(lats), max(lons), max(lats)]"
   ]
  },
  {
   "cell_type": "code",
   "execution_count": 55,
   "metadata": {},
   "outputs": [
    {
     "data": {
      "text/plain": [
       "[-1.69960277718, 51.6779380171, -0.634664143202, 52.095806321]"
      ]
     },
     "execution_count": 55,
     "metadata": {},
     "output_type": "execute_result"
    }
   ],
   "source": [
    "spot_get_bbox(meta)"
   ]
  },
  {
   "cell_type": "code",
   "execution_count": 56,
   "metadata": {},
   "outputs": [],
   "source": [
    "item = pystac.Item(id=scene_name,\n",
    "                  datetime=spot_get_dt(scene_name),\n",
    "                  geometry=spot_get_geom(scene_obj_paths, native_epsg),\n",
    "                  bbox=spot_get_bbox(meta),\n",
    "                  properties={})"
   ]
  },
  {
   "cell_type": "code",
   "execution_count": 57,
   "metadata": {},
   "outputs": [],
   "source": [
    "item.validate()"
   ]
  },
  {
   "cell_type": "code",
   "execution_count": 65,
   "metadata": {},
   "outputs": [],
   "source": [
    "def spot_get_gsd(metadata):\n",
    "    across = float(metadata['Dimap_Document']['Geometric_Data']['Use_Area']['Located_Geometric_Values'][0]['Ground_Sample_Distance']['GSD_ACROSS_TRACK'])\n",
    "    along = float(metadata['Dimap_Document']['Geometric_Data']['Use_Area']['Located_Geometric_Values'][0]['Ground_Sample_Distance']['GSD_ALONG_TRACK'])\n",
    "    return round(( across + along ) / 2, 2)"
   ]
  },
  {
   "cell_type": "code",
   "execution_count": 67,
   "metadata": {},
   "outputs": [
    {
     "data": {
      "text/plain": [
       "9.93"
      ]
     },
     "execution_count": 67,
     "metadata": {},
     "output_type": "execute_result"
    }
   ],
   "source": [
    "spot_get_gsd(meta)"
   ]
  },
  {
   "cell_type": "code",
   "execution_count": 69,
   "metadata": {},
   "outputs": [],
   "source": [
    "item.common_metadata.gsd = spot_get_gsd(meta)"
   ]
  },
  {
   "cell_type": "code",
   "execution_count": 70,
   "metadata": {},
   "outputs": [],
   "source": [
    "item.ext.enable('eo')"
   ]
  },
  {
   "cell_type": "code",
   "execution_count": 71,
   "metadata": {},
   "outputs": [],
   "source": [
    "def spot_get_cloudcover(metadata):\n",
    "    return round(float(metadata['Dimap_Document']['Dataset_Content']['CLOUD_COVERAGE']['#text']),2)"
   ]
  },
  {
   "cell_type": "code",
   "execution_count": 72,
   "metadata": {},
   "outputs": [
    {
     "data": {
      "text/plain": [
       "0.0"
      ]
     },
     "execution_count": 72,
     "metadata": {},
     "output_type": "execute_result"
    }
   ],
   "source": [
    "spot_get_cloudcover(meta)"
   ]
  },
  {
   "cell_type": "code",
   "execution_count": 74,
   "metadata": {},
   "outputs": [],
   "source": [
    "item.ext.eo.cloud_cover = spot_get_cloudcover(meta)"
   ]
  },
  {
   "cell_type": "code",
   "execution_count": 75,
   "metadata": {},
   "outputs": [],
   "source": [
    "item.ext.enable('projection')"
   ]
  },
  {
   "cell_type": "code",
   "execution_count": 76,
   "metadata": {},
   "outputs": [],
   "source": [
    "item.ext.projection.epsg = spot_get_crs(meta)\n"
   ]
  },
  {
   "cell_type": "code",
   "execution_count": 77,
   "metadata": {},
   "outputs": [],
   "source": [
    "item.validate()"
   ]
  },
  {
   "cell_type": "code",
   "execution_count": null,
   "metadata": {},
   "outputs": [],
   "source": []
  },
  {
   "cell_type": "markdown",
   "metadata": {},
   "source": [
    "### Adding *Assets*"
   ]
  },
  {
   "cell_type": "code",
   "execution_count": 80,
   "metadata": {},
   "outputs": [],
   "source": [
    "#export\n",
    "spot_bands = [Band.create(name='Panchromatic', description='Panchromatic: 450 - 745 nm', common_name='pan'),\n",
    "              Band.create(name='Blue', description='Blue: 450 - 520 nm', common_name='blue'),\n",
    "              Band.create(name='Green', description='Green: 530 - 590 nm', common_name='green'),\n",
    "              Band.create(name='Red', description='Red: 625 - 695 nm', common_name='red'),\n",
    "              Band.create(name='Near-Infrared', description='Near-Infrared: 760 - 890 nm', common_name='nir')]"
   ]
  },
  {
   "cell_type": "code",
   "execution_count": 78,
   "metadata": {},
   "outputs": [
    {
     "data": {
      "text/plain": [
       "{'Panchromatic': {'ends': '_band1', 'dif': '_P_', 'id': 'B0'},\n",
       " 'Blue': {'ends': '_band1', 'dif': '_MS_', 'id': 'B1'},\n",
       " 'Green': {'ends': '_band2', 'dif': '_MS_', 'id': 'B2'},\n",
       " 'Red': {'ends': '_band3', 'dif': '_MS_', 'id': 'B3'},\n",
       " 'Near-Infrared': {'ends': '_band4', 'dif': '_MS_', 'id': 'B4'}}"
      ]
     },
     "execution_count": 78,
     "metadata": {},
     "output_type": "execute_result"
    }
   ],
   "source": [
    "bfs = {\n",
    "    'Panchromatic':{'ends':'_band1', 'dif':'_P_', 'id':'B0'},\n",
    "    'Blue':{'ends':'_band1', 'dif':'_MS_', 'id':'B1'},\n",
    "    'Green':{'ends':'_band2', 'dif':'_MS_', 'id':'B2'},\n",
    "    'Red':{'ends':'_band3', 'dif':'_MS_', 'id':'B3'},\n",
    "    'Near-Infrared':{'ends':'_band4', 'dif':'_MS_', 'id':'B4'}\n",
    "}\n",
    "bfs"
   ]
  },
  {
   "cell_type": "code",
   "execution_count": 82,
   "metadata": {},
   "outputs": [
    {
     "name": "stdout",
     "output_type": "stream",
     "text": [
      "Panchromatic\n",
      "http://s3-uk-1.sa-catapult.co.uk/public-eo-data/uksa-ssgp/spot/UKSA_SPOT155_SO18034609-55-01_DS_SPOT6_201810101058095_FR1_FR1_FR1_FR1_W001N52_01140/PROD_SPOT6_001/VOL_SPOT6_001_A/IMG_SPOT6_P_001_A/IMG_SPOT6_P_201810101058095_ORT_band1.tif\n",
      "Blue\n",
      "http://s3-uk-1.sa-catapult.co.uk/public-eo-data/uksa-ssgp/spot/UKSA_SPOT155_SO18034609-55-01_DS_SPOT6_201810101058095_FR1_FR1_FR1_FR1_W001N52_01140/PROD_SPOT6_001/VOL_SPOT6_001_A/IMG_SPOT6_MS_001_A/IMG_SPOT6_MS_201810101058095_ORT_band1.tif\n",
      "Green\n",
      "http://s3-uk-1.sa-catapult.co.uk/public-eo-data/uksa-ssgp/spot/UKSA_SPOT155_SO18034609-55-01_DS_SPOT6_201810101058095_FR1_FR1_FR1_FR1_W001N52_01140/PROD_SPOT6_001/VOL_SPOT6_001_A/IMG_SPOT6_MS_001_A/IMG_SPOT6_MS_201810101058095_ORT_band2.tif\n",
      "Red\n",
      "http://s3-uk-1.sa-catapult.co.uk/public-eo-data/uksa-ssgp/spot/UKSA_SPOT155_SO18034609-55-01_DS_SPOT6_201810101058095_FR1_FR1_FR1_FR1_W001N52_01140/PROD_SPOT6_001/VOL_SPOT6_001_A/IMG_SPOT6_MS_001_A/IMG_SPOT6_MS_201810101058095_ORT_band3.tif\n",
      "Near-Infrared\n",
      "http://s3-uk-1.sa-catapult.co.uk/public-eo-data/uksa-ssgp/spot/UKSA_SPOT155_SO18034609-55-01_DS_SPOT6_201810101058095_FR1_FR1_FR1_FR1_W001N52_01140/PROD_SPOT6_001/VOL_SPOT6_001_A/IMG_SPOT6_MS_001_A/IMG_SPOT6_MS_201810101058095_ORT_band4.tif\n"
     ]
    }
   ],
   "source": [
    "for band in spot_bands:\n",
    "    print(band.name)\n",
    "    \n",
    "    matched_paths = [ o for o in scene_obj_paths if (o.endswith(f\"{bfs[band.name]['ends']}.tif\")) & (f\"{bfs[band.name]['dif']}\" in o) ]\n",
    "    if len(matched_paths) > 1:\n",
    "        raise Exception(f\"Found too many matches: {matched_paths}\")\n",
    "    band_url = create_uri(matched_paths[0])\n",
    "    print(band_url)\n",
    "    \n",
    "    asset = pystac.Asset(href=band_url, media_type=pystac.MediaType.COG)\n",
    "    item.ext.eo.set_bands([band], asset)\n",
    "    item.add_asset(bfs[band.name]['id'], asset)    "
   ]
  },
  {
   "cell_type": "code",
   "execution_count": 83,
   "metadata": {},
   "outputs": [
    {
     "data": {
      "text/plain": [
       "{'type': 'Feature',\n",
       " 'stac_version': '1.0.0-beta.2',\n",
       " 'id': 'UKSA_SPOT155_SO18034609-55-01_DS_SPOT6_201810101058095_FR1_FR1_FR1_FR1_W001N52_01140',\n",
       " 'properties': {'datetime': '2018-10-10T10:58:09Z',\n",
       "  'gsd': 9.93,\n",
       "  'eo:cloud_cover': 0.0,\n",
       "  'proj:epsg': 27700},\n",
       " 'geometry': {'type': 'Polygon',\n",
       "  'coordinates': [[[-0.6499519273083667, 52.08844089007527],\n",
       "    [-0.6448428681559101, 52.088382273153236],\n",
       "    [-0.6446263981696051, 51.757267668413746],\n",
       "    [-0.644682404135545, 51.755396785700185],\n",
       "    [-0.6450817810991609, 51.75512292935542],\n",
       "    [-1.6964988848377145, 51.685308252199924],\n",
       "    [-1.6970101211854633, 51.685309570681724],\n",
       "    [-1.6975136320308248, 51.685588611054996],\n",
       "    [-1.6977238663030947, 51.85203916138853],\n",
       "    [-1.6978394095956657, 51.94347348226774],\n",
       "    [-1.6973325231656649, 52.018813144847385],\n",
       "    [-0.6499519273083667, 52.08844089007527]]]},\n",
       " 'links': [],\n",
       " 'assets': {'B0': {'href': 'http://s3-uk-1.sa-catapult.co.uk/public-eo-data/uksa-ssgp/spot/UKSA_SPOT155_SO18034609-55-01_DS_SPOT6_201810101058095_FR1_FR1_FR1_FR1_W001N52_01140/PROD_SPOT6_001/VOL_SPOT6_001_A/IMG_SPOT6_P_001_A/IMG_SPOT6_P_201810101058095_ORT_band1.tif',\n",
       "   'type': 'image/tiff; application=geotiff; profile=cloud-optimized',\n",
       "   'eo:bands': [{'name': 'Panchromatic',\n",
       "     'common_name': 'pan',\n",
       "     'description': 'Panchromatic: 450 - 745 nm'}]},\n",
       "  'B1': {'href': 'http://s3-uk-1.sa-catapult.co.uk/public-eo-data/uksa-ssgp/spot/UKSA_SPOT155_SO18034609-55-01_DS_SPOT6_201810101058095_FR1_FR1_FR1_FR1_W001N52_01140/PROD_SPOT6_001/VOL_SPOT6_001_A/IMG_SPOT6_MS_001_A/IMG_SPOT6_MS_201810101058095_ORT_band1.tif',\n",
       "   'type': 'image/tiff; application=geotiff; profile=cloud-optimized',\n",
       "   'eo:bands': [{'name': 'Blue',\n",
       "     'common_name': 'blue',\n",
       "     'description': 'Blue: 450 - 520 nm'}]},\n",
       "  'B2': {'href': 'http://s3-uk-1.sa-catapult.co.uk/public-eo-data/uksa-ssgp/spot/UKSA_SPOT155_SO18034609-55-01_DS_SPOT6_201810101058095_FR1_FR1_FR1_FR1_W001N52_01140/PROD_SPOT6_001/VOL_SPOT6_001_A/IMG_SPOT6_MS_001_A/IMG_SPOT6_MS_201810101058095_ORT_band2.tif',\n",
       "   'type': 'image/tiff; application=geotiff; profile=cloud-optimized',\n",
       "   'eo:bands': [{'name': 'Green',\n",
       "     'common_name': 'green',\n",
       "     'description': 'Green: 530 - 590 nm'}]},\n",
       "  'B3': {'href': 'http://s3-uk-1.sa-catapult.co.uk/public-eo-data/uksa-ssgp/spot/UKSA_SPOT155_SO18034609-55-01_DS_SPOT6_201810101058095_FR1_FR1_FR1_FR1_W001N52_01140/PROD_SPOT6_001/VOL_SPOT6_001_A/IMG_SPOT6_MS_001_A/IMG_SPOT6_MS_201810101058095_ORT_band3.tif',\n",
       "   'type': 'image/tiff; application=geotiff; profile=cloud-optimized',\n",
       "   'eo:bands': [{'name': 'Red',\n",
       "     'common_name': 'red',\n",
       "     'description': 'Red: 625 - 695 nm'}]},\n",
       "  'B4': {'href': 'http://s3-uk-1.sa-catapult.co.uk/public-eo-data/uksa-ssgp/spot/UKSA_SPOT155_SO18034609-55-01_DS_SPOT6_201810101058095_FR1_FR1_FR1_FR1_W001N52_01140/PROD_SPOT6_001/VOL_SPOT6_001_A/IMG_SPOT6_MS_001_A/IMG_SPOT6_MS_201810101058095_ORT_band4.tif',\n",
       "   'type': 'image/tiff; application=geotiff; profile=cloud-optimized',\n",
       "   'eo:bands': [{'name': 'Near-Infrared',\n",
       "     'common_name': 'nir',\n",
       "     'description': 'Near-Infrared: 760 - 890 nm'}]}},\n",
       " 'bbox': [-1.69960277718, 51.6779380171, -0.634664143202, 52.095806321],\n",
       " 'stac_extensions': ['eo', 'projection']}"
      ]
     },
     "execution_count": 83,
     "metadata": {},
     "output_type": "execute_result"
    }
   ],
   "source": [
    "item.to_dict()"
   ]
  },
  {
   "cell_type": "code",
   "execution_count": null,
   "metadata": {},
   "outputs": [],
   "source": []
  }
 ],
 "metadata": {
  "kernelspec": {
   "display_name": "Python 3",
   "language": "python",
   "name": "python3"
  },
  "language_info": {
   "codemirror_mode": {
    "name": "ipython",
    "version": 3
   },
   "file_extension": ".py",
   "mimetype": "text/x-python",
   "name": "python",
   "nbconvert_exporter": "python",
   "pygments_lexer": "ipython3",
   "version": "3.7.9"
  }
 },
 "nbformat": 4,
 "nbformat_minor": 4
}
