{
 "cells": [
  {
   "cell_type": "code",
   "execution_count": null,
   "metadata": {},
   "outputs": [],
   "source": [
    "#default_exp extensions"
   ]
  },
  {
   "cell_type": "markdown",
   "metadata": {},
   "source": [
    "# STAC Extensions\n",
    "\n",
    "> Basic utility functions across sac_stac."
   ]
  },
  {
   "cell_type": "code",
   "execution_count": null,
   "metadata": {},
   "outputs": [],
   "source": [
    "#hide\n",
    "%load_ext autoreload\n",
    "%autoreload 2"
   ]
  },
  {
   "cell_type": "code",
   "execution_count": null,
   "metadata": {},
   "outputs": [],
   "source": [
    "#hide\n",
    "from nbdev.showdoc import *"
   ]
  },
  {
   "cell_type": "code",
   "execution_count": null,
   "metadata": {},
   "outputs": [],
   "source": [
    "#export\n",
    "import pystac\n",
    "from pystac.extensions.base import CollectionExtension\n",
    "from pystac.extensions.base import ExtendedObject\n",
    "from pystac.extensions.base import ExtensionDefinition\n",
    "# from pystac import Extensions    # have to use own bespoke class\n",
    "from pystac.collection import Collection"
   ]
  },
  {
   "cell_type": "code",
   "execution_count": null,
   "metadata": {},
   "outputs": [],
   "source": [
    "#export\n",
    "class Extensions:\n",
    "    PRODUCT_DEFINITION = 'product_definition'"
   ]
  },
  {
   "cell_type": "code",
   "execution_count": null,
   "metadata": {},
   "outputs": [],
   "source": [
    "#export\n",
    "class ProdefColExt(CollectionExtension):\n",
    "    def __init__(self, collection):\n",
    "        self.collection = collection\n",
    "    def apply(self, metadata_type=None, metadata=None, measurements=None):\n",
    "        \"\"\"Applies Satellite extension properties to the extended Item.\n",
    "\n",
    "        Args:\n",
    "            orbit_state (str): The state of the orbit. Either ascending or descending\n",
    "                for polar orbiting satellites, or geostationary for geosynchronous satellites\n",
    "            relative_orbit (int): The relative orbit number at the time of acquisition.\n",
    "\n",
    "        Note:\n",
    "            At least one property must be supplied.\n",
    "        \"\"\"\n",
    "        if metadata_type is None and relative_orbit is None:\n",
    "            raise pystac.STACError(\"sat extension needs at least one property value.\")\n",
    "\n",
    "        self.metadata_type = metadata_type\n",
    "        self.metadata = metadata\n",
    "\n",
    "    @property\n",
    "    def metadata_type(self):\n",
    "        \"\"\"\"ADD DOCSTRING!\"\"\"\n",
    "        return self.collection.properties.get('product_definition:metadata_type')\n",
    "\n",
    "    @metadata_type.setter\n",
    "    def metadata_type(self, v):\n",
    "        self.collection.properties['product_definition:metadata_type'] = v\n",
    "\n",
    "    @property\n",
    "    def metadata(self):\n",
    "        \"\"\"\"ADD DOCSTRING!\"\"\"\n",
    "        return self.collection.properties.get('product_definition:metadata')\n",
    "\n",
    "    @metadata.setter\n",
    "    def metadata(self, v):\n",
    "        self.collection.properties['product_definition:metadata'] = v\n",
    "\n",
    "    @property\n",
    "    def measurements(self):\n",
    "        \"\"\"\"ADD DOCSTRING!\"\"\"\n",
    "        return self.collection.properties.get('product_definition:measurements')\n",
    "\n",
    "    @measurements.setter\n",
    "    def measurements(self, v):\n",
    "        self.collection.properties['product_definition:measurements'] = v    \n",
    "        \n",
    "    @classmethod\n",
    "    def from_collection(self, collection):\n",
    "        return ProdefColExt(collection)\n",
    "\n",
    "    @classmethod\n",
    "    def _object_links(cls):\n",
    "        return []"
   ]
  },
  {
   "cell_type": "code",
   "execution_count": null,
   "metadata": {},
   "outputs": [],
   "source": [
    "#export\n",
    "def add_custom_extensions():\n",
    "    extended_object = ExtendedObject(Collection, ProdefColExt)\n",
    "    extension_definition = ExtensionDefinition(Extensions.PRODUCT_DEFINITION, [extended_object])\n",
    "    if pystac.STAC_EXTENSIONS.is_registered_extension('product_definition'):\n",
    "        pystac.STAC_EXTENSIONS.remove_extension('product_definition')\n",
    "    pystac.STAC_EXTENSIONS.add_extension(extension_definition)\n"
   ]
  },
  {
   "cell_type": "code",
   "execution_count": null,
   "metadata": {},
   "outputs": [
    {
     "name": "stdout",
     "output_type": "stream",
     "text": [
      "Help on method apply in module __main__:\n",
      "\n",
      "apply(metadata_type=None, metadata=None, measurements=None) method of __main__.ProdefColExt instance\n",
      "    Applies Satellite extension properties to the extended Item.\n",
      "    \n",
      "    Args:\n",
      "        orbit_state (str): The state of the orbit. Either ascending or descending\n",
      "            for polar orbiting satellites, or geostationary for geosynchronous satellites\n",
      "        relative_orbit (int): The relative orbit number at the time of acquisition.\n",
      "    \n",
      "    Note:\n",
      "        At least one property must be supplied.\n",
      "\n"
     ]
    }
   ],
   "source": [
    "add_custom_extensions()\n",
    "\n",
    "test_col = pystac.read_file('https://s3-uk-1.sa-catapult.co.uk/public-eo-data/stac_catalogs/cs_stac/sentinel-2/collection.json')\n",
    "test_col.ext.enable(Extensions.PRODUCT_DEFINITION)\n",
    "help(test_col.ext.product_definition.apply)"
   ]
  },
  {
   "cell_type": "markdown",
   "metadata": {},
   "source": [
    "## Export"
   ]
  },
  {
   "cell_type": "code",
   "execution_count": null,
   "metadata": {},
   "outputs": [
    {
     "name": "stdout",
     "output_type": "stream",
     "text": [
      "Converted 00_extensions.ipynb.\n",
      "Converted 00_rediswq.ipynb.\n",
      "Converted 00_utils.ipynb.\n",
      "Converted 01A_pleiades.ipynb.\n",
      "Converted 01B_pleiades_prep_worker.ipynb.\n",
      "Converted 02A_spot.ipynb.\n",
      "Converted 03A_novasar.ipynb.\n",
      "Converted 04A_cs_sentinel2.ipynb.\n",
      "Converted 09_cs_stact_catalog.ipynb.\n",
      "Converted 09_sac_stac_catalog.ipynb.\n",
      "Converted 10_load_stac.ipynb.\n",
      "Converted index.ipynb.\n"
     ]
    }
   ],
   "source": [
    "from nbdev.export import notebook2script; notebook2script()"
   ]
  }
 ],
 "metadata": {
  "kernelspec": {
   "display_name": "Python 3",
   "language": "python",
   "name": "python3"
  },
  "language_info": {
   "codemirror_mode": {
    "name": "ipython",
    "version": 3
   },
   "file_extension": ".py",
   "mimetype": "text/x-python",
   "name": "python",
   "nbconvert_exporter": "python",
   "pygments_lexer": "ipython3",
   "version": "3.7.4"
  }
 },
 "nbformat": 4,
 "nbformat_minor": 4
}
