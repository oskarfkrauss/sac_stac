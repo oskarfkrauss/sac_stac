{
 "cells": [
  {
   "cell_type": "code",
   "execution_count": 1,
   "metadata": {},
   "outputs": [],
   "source": [
    "#default_exp pleiades"
   ]
  },
  {
   "cell_type": "markdown",
   "metadata": {},
   "source": [
    "# NovaSAR\n",
    "\n",
    "> Working through stac item metadata parsing, etc. for NovaSAR datasets (data already prepped to COG)."
   ]
  },
  {
   "cell_type": "code",
   "execution_count": 2,
   "metadata": {},
   "outputs": [],
   "source": [
    "#hide\n",
    "# %load_ext autoreload\n",
    "# %autoreload 2"
   ]
  },
  {
   "cell_type": "code",
   "execution_count": 3,
   "metadata": {},
   "outputs": [],
   "source": [
    "# from nbdev.showdoc import *"
   ]
  },
  {
   "cell_type": "code",
   "execution_count": 3,
   "metadata": {
    "tags": []
   },
   "outputs": [],
   "source": [
    "import os\n",
    "import boto3 \n",
    "\n",
    "import numpy as np\n",
    "from datetime import datetime\n",
    "import json\n",
    "\n",
    "import xmltodict\n",
    "import pystac\n",
    "from pystac import StacIO\n",
    "from pystac.extensions.projection import ProjectionExtension\n",
    "from pystac.extensions.sar import FrequencyBand, Polarization, ObservationDirection\n",
    "from pystac.extensions.sar import SarExtension\n",
    "import rasterio\n",
    "from shapely.geometry import Polygon\n",
    "\n",
    "import ipynb\n",
    "\n",
    "from ipynb.fs.defs.utils import *"
   ]
  },
  {
   "cell_type": "markdown",
   "metadata": {
    "tags": []
   },
   "source": [
    "## **STAC metadata**: ***core & extensions***"
   ]
  },
  {
   "cell_type": "markdown",
   "metadata": {},
   "source": [
    "With the cogs above hosted object storage we can go create some tools for building a STAC *Collection* from them, to be used within in **insert nb** to build a *Catalog* of different Catapult *Collections*. As per the nb these initially sit within a *static* STAC alongside the actual datasets on the object storage. However we plan on hosting via a STAC compliant API - probs [pygeoapi](https://pygeoapi.io/). First define bucket and imagery directory"
   ]
  },
  {
   "cell_type": "code",
   "execution_count": 5,
   "metadata": {},
   "outputs": [],
   "source": [
    "s3_bucket = 'public-eo-data'\n",
    "img_dir = 'novasar_uk_test/'\n",
    "\n",
    "obj_paths_list = s3_list_objects_paths(s3_bucket, img_dir)\n",
    "\n",
    "# obj_paths_list"
   ]
  },
  {
   "cell_type": "code",
   "execution_count": 6,
   "metadata": {},
   "outputs": [
    {
     "data": {
      "text/plain": [
       "['NovaSAR_01_10135_slc_11_200215_094557_HH_1_ML_TC_TF_cog',\n",
       " 'NovaSAR_01_10135_slc_11_200215_094601_HH_2_ML_TC_TF_cog',\n",
       " 'NovaSAR_01_10387_slc_11_200307_101114_HH_1_ML_TC_TF_cog',\n",
       " 'NovaSAR_01_10387_slc_11_200307_101118_HH_2_ML_TC_TF_cog',\n",
       " 'NovaSAR_01_10387_slc_11_200307_101122_HH_3_ML_TC_TF_cog']"
      ]
     },
     "execution_count": 6,
     "metadata": {},
     "output_type": "execute_result"
    }
   ],
   "source": [
    "# get unique Item / scene names (third dir from path)\n",
    "\n",
    "scene_names = list(np.unique([i.split('/')[2] for i in obj_paths_list if 'uk_novasar_scansar_20m' in i or 'uk_novasar_stripmap_6m' in i]))[1:]\n",
    "\n",
    "scene_names[:5]"
   ]
  },
  {
   "cell_type": "markdown",
   "metadata": {},
   "source": [
    "### **Individual example for iteration**"
   ]
  },
  {
   "cell_type": "markdown",
   "metadata": {},
   "source": [
    "Can just work with one"
   ]
  },
  {
   "cell_type": "code",
   "execution_count": 7,
   "metadata": {},
   "outputs": [
    {
     "data": {
      "text/plain": [
       "'NovaSAR_01_10135_slc_11_200215_094557_HH_1_ML_TC_TF_cog'"
      ]
     },
     "execution_count": 7,
     "metadata": {},
     "output_type": "execute_result"
    }
   ],
   "source": [
    "scene_name = scene_names[0]\n",
    "scene_name"
   ]
  },
  {
   "cell_type": "markdown",
   "metadata": {},
   "source": [
    "and objects associated with that scene"
   ]
  },
  {
   "cell_type": "code",
   "execution_count": 8,
   "metadata": {},
   "outputs": [
    {
     "data": {
      "text/plain": [
       "['novasar_uk_test/uk_novasar_stripmap_6m/NovaSAR_01_10135_slc_11_200215_094557_HH_1_ML_TC_TF_cog/NovaSAR_01_10135_slc_11_200215_094557_HH_1_Gamma0_Intensity_HH_db.tif',\n",
       " 'novasar_uk_test/uk_novasar_stripmap_6m/NovaSAR_01_10135_slc_11_200215_094557_HH_1_ML_TC_TF_cog/original_metadata.xml',\n",
       " 'novasar_uk_test/uk_novasar_stripmap_6m/NovaSAR_01_10135_slc_11_200215_094557_HH_1_ML_TC_TF_cog/process_metadata.dim',\n",
       " 'novasar_uk_test/uk_novasar_stripmap_6m/NovaSAR_01_10135_slc_11_200215_094557_HH_1_ML_TC_TF_cog/thumbnail.jpg']"
      ]
     },
     "execution_count": 8,
     "metadata": {},
     "output_type": "execute_result"
    }
   ],
   "source": [
    "scene_obj_paths = [i for i in obj_paths_list if scene_name in i]\n",
    "list(scene_obj_paths)"
   ]
  },
  {
   "cell_type": "markdown",
   "metadata": {},
   "source": [
    "set our own I/O for pystac"
   ]
  },
  {
   "cell_type": "code",
   "execution_count": 9,
   "metadata": {},
   "outputs": [],
   "source": [
    "#export\n",
    "pystac_setIO()"
   ]
  },
  {
   "cell_type": "markdown",
   "metadata": {},
   "source": [
    "### **Functions for** ***Item*** **metadata**"
   ]
  },
  {
   "cell_type": "code",
   "execution_count": 10,
   "metadata": {},
   "outputs": [],
   "source": [
    "#export\n",
    "def novasar_get_dt(scene_name):\n",
    "    return datetime.strptime('_'.join(scene_name.split('_')[5:7]), '%y%m%d_%H%M%S')"
   ]
  },
  {
   "cell_type": "code",
   "execution_count": 11,
   "metadata": {},
   "outputs": [
    {
     "data": {
      "text/plain": [
       "datetime.datetime(2020, 2, 15, 9, 45, 57)"
      ]
     },
     "execution_count": 11,
     "metadata": {},
     "output_type": "execute_result"
    }
   ],
   "source": [
    "novasar_get_dt(scene_name)"
   ]
  },
  {
   "cell_type": "code",
   "execution_count": 12,
   "metadata": {},
   "outputs": [],
   "source": [
    "#export\n",
    "def novasar_parsemeta(scene_name, scene_obj_paths):\n",
    "    meta_path = [i for i in scene_obj_paths if (i.endswith('.dim'))][0]\n",
    "    return xmltodict.parse(pystac.STAC_IO.read_text(create_uri(meta_path)))\n",
    "\n",
    "# TODO: link to SeDAS API"
   ]
  },
  {
   "cell_type": "code",
   "execution_count": 13,
   "metadata": {},
   "outputs": [],
   "source": [
    "# meta = novasar_parsemeta(scene_name, scene_obj_paths)\n",
    "\n",
    "# orbit_data = meta['Dimap_Document']['Dataset_Sources']['MDElem']['MDElem'][1]['MDElem']['MDElem'][2]['MDATTR'][0]['#text'] #this seems daft"
   ]
  },
  {
   "cell_type": "code",
   "execution_count": 14,
   "metadata": {},
   "outputs": [],
   "source": [
    "def novasar_get_crs_and_bbox(raster_uri):\n",
    "    \"\"\"\n",
    "    BBOX list, geometry shapely and rasterio crs from\n",
    "    URI of COG.\n",
    "    nb: footprint currently same as bbo.\n",
    "    \"\"\"\n",
    "    with rasterio.open(raster_uri) as ds:\n",
    "        bounds = ds.bounds\n",
    "        bbox = [bounds.left, bounds.bottom, bounds.right, bounds.top]\n",
    "        footprint = [[\n",
    "            [bounds.left, bounds.bottom],\n",
    "            [bounds.left, bounds.top],\n",
    "            [bounds.right, bounds.top],\n",
    "            [bounds.right, bounds.bottom],\n",
    "            [bounds.left, bounds.bottom]\n",
    "        ]] \n",
    "        return bbox, {'type': 'Polygon', 'coordinates': footprint}, ds.crs #changed format of geometry"
   ]
  },
  {
   "cell_type": "code",
   "execution_count": 15,
   "metadata": {},
   "outputs": [],
   "source": [
    "def novasar_get_instrument_mode(scene_obj_paths): \n",
    "    return '_'.join(scene_obj_paths[0].split('/')[1].split('_')[2:]) # any object path"
   ]
  },
  {
   "cell_type": "code",
   "execution_count": 16,
   "metadata": {},
   "outputs": [
    {
     "data": {
      "text/plain": [
       "'stripmap_6m'"
      ]
     },
     "execution_count": 16,
     "metadata": {},
     "output_type": "execute_result"
    }
   ],
   "source": [
    "novasar_get_instrument_mode(scene_obj_paths)"
   ]
  },
  {
   "cell_type": "code",
   "execution_count": 17,
   "metadata": {},
   "outputs": [
    {
     "data": {
      "text/plain": [
       "([-1.0478259576205007,\n",
       "  50.397680132459946,\n",
       "  -0.6671061061552759,\n",
       "  50.6936401639443],\n",
       " {'type': 'Polygon',\n",
       "  'coordinates': [[[-1.0478259576205007, 50.397680132459946],\n",
       "    [-1.0478259576205007, 50.6936401639443],\n",
       "    [-0.6671061061552759, 50.6936401639443],\n",
       "    [-0.6671061061552759, 50.397680132459946],\n",
       "    [-1.0478259576205007, 50.397680132459946]]]},\n",
       " '4326')"
      ]
     },
     "execution_count": 17,
     "metadata": {},
     "output_type": "execute_result"
    }
   ],
   "source": [
    "bbox, g, epsg = novasar_get_crs_and_bbox(create_uri([i for i in scene_obj_paths if i.endswith('.tif')][0]))\n",
    "bbox, g, epsg.to_dict()['init'][5:]"
   ]
  },
  {
   "cell_type": "code",
   "execution_count": 18,
   "metadata": {},
   "outputs": [],
   "source": [
    "#export\n",
    "def novasar_create_item(scene_name, scene_obj_paths):\n",
    "\n",
    "#     meta = pleiades_parsemeta(scene_name, scene_obj_paths)\n",
    "\n",
    "#     crs = pleiades_get_crs(meta)\n",
    "\n",
    "    bbox, g, epsg = novasar_get_crs_and_bbox(create_uri([i for i in scene_obj_paths if i.endswith('.tif')][0]))\n",
    "\n",
    "    item = pystac.Item(id=scene_name,\n",
    "                      datetime=novasar_get_dt(scene_name),\n",
    "                      geometry=g,\n",
    "                      bbox=bbox,\n",
    "                      properties={})\n",
    "\n",
    "    # need to add func for res of novasar\n",
    "#     item.common_metadata.gsd = pleiades_get_gsd(meta)\n",
    "\n",
    "#    item.ext.enable('projection')\n",
    "#    item.ext.projection.epsg = int(epsg.to_dict()['init'][5:])\n",
    "    \n",
    "#    item.ext.enable('sar')\n",
    "#    item.ext.sar.instrument_mode = novasar_get_instrument_mode(scene_obj_paths)\n",
    "#    item.ext.sar.frequency_band = FrequencyBand('S')\n",
    "\n",
    "    SarExtension.add_to(item)\n",
    "\n",
    "    sar_ext = SarExtension.ext(item)\n",
    "    sar_ext.frequency_band = FrequencyBand('S')\n",
    "    sar_ext.instrument_mode = novasar_get_instrument_mode(scene_obj_paths)\n",
    "\n",
    "    ProjectionExtension.add_to(item)\n",
    "\n",
    "    proj_ext = ProjectionExtension.ext(item)#\n",
    "    proj_ext.epsg = int(epsg.to_dict()['init'][5:])\n",
    "    \n",
    "    # item.ext.sar.orbit = orbit_data (no such extension)\n",
    "\n",
    "    return item"
   ]
  },
  {
   "cell_type": "code",
   "execution_count": 19,
   "metadata": {},
   "outputs": [],
   "source": [
    "item = novasar_create_item(scene_name, scene_obj_paths)"
   ]
  },
  {
   "cell_type": "code",
   "execution_count": 139,
   "metadata": {},
   "outputs": [
    {
     "data": {
      "text/plain": [
       "method"
      ]
     },
     "execution_count": 139,
     "metadata": {},
     "output_type": "execute_result"
    }
   ],
   "source": [
    "type(SarExtension.ext)"
   ]
  },
  {
   "cell_type": "code",
   "execution_count": 20,
   "metadata": {},
   "outputs": [
    {
     "data": {
      "text/plain": [
       "{'type': 'Feature',\n",
       " 'stac_version': '1.0.0',\n",
       " 'id': 'NovaSAR_01_10135_slc_11_200215_094557_HH_1_ML_TC_TF_cog',\n",
       " 'properties': {'sar:frequency_band': 'S',\n",
       "  'sar:instrument_mode': 'stripmap_6m',\n",
       "  'proj:epsg': 4326,\n",
       "  'datetime': '2020-02-15T09:45:57Z'},\n",
       " 'geometry': {'type': 'Polygon',\n",
       "  'coordinates': [[[-1.0478259576205007, 50.397680132459946],\n",
       "    [-1.0478259576205007, 50.6936401639443],\n",
       "    [-0.6671061061552759, 50.6936401639443],\n",
       "    [-0.6671061061552759, 50.397680132459946],\n",
       "    [-1.0478259576205007, 50.397680132459946]]]},\n",
       " 'links': [],\n",
       " 'assets': {},\n",
       " 'bbox': [-1.0478259576205007,\n",
       "  50.397680132459946,\n",
       "  -0.6671061061552759,\n",
       "  50.6936401639443],\n",
       " 'stac_extensions': ['https://stac-extensions.github.io/sar/v1.0.0/schema.json',\n",
       "  'https://stac-extensions.github.io/projection/v1.0.0/schema.json']}"
      ]
     },
     "execution_count": 20,
     "metadata": {},
     "output_type": "execute_result"
    }
   ],
   "source": [
    "item.to_dict()"
   ]
  },
  {
   "cell_type": "code",
   "execution_count": 134,
   "metadata": {},
   "outputs": [],
   "source": [
    "# item.validate() # won't work as need polarisation (added below)"
   ]
  },
  {
   "cell_type": "markdown",
   "metadata": {},
   "source": [
    "### **Functions for** ***Asset*** **metadata**"
   ]
  },
  {
   "cell_type": "markdown",
   "metadata": {},
   "source": [
    "Once we have *Item* level metadata we can add the actual *Assets*. There are a few constants used within these functions at the *Item* level (i.e. band info) and criteria for finding within the object paths."
   ]
  },
  {
   "cell_type": "code",
   "execution_count": 21,
   "metadata": {},
   "outputs": [],
   "source": [
    "# first, get href(s) for asset(s) in scene\n",
    "\n",
    "# cog_hrefs = list(map(create_uri, [i for i in obj_paths_list if scene_name in i if i.endswith('.tif')])) # this would create href for all tifs in folder\n",
    "\n",
    "cog_href = create_uri([i for i in scene_obj_paths if i.endswith('.tif')][0])\n",
    "\n",
    "if len([i for i in scene_obj_paths if i.endswith('.jpg')])==0: # messy workaround to account for some scenes not having thumbnails\n",
    "    thumb_href = ''\n",
    "    \n",
    "else:\n",
    "    thumb_href = create_uri([i for i in scene_obj_paths if i.endswith('.jpg')][0])\n",
    "\n",
    "asset_hrefs = [cog_href, thumb_href]"
   ]
  },
  {
   "cell_type": "code",
   "execution_count": 22,
   "metadata": {},
   "outputs": [],
   "source": [
    "def novasar_get_pol(asset_path):\n",
    "    asset_name = os.path.basename(asset_path)\n",
    "    if '_VV_' in asset_name:\n",
    "        pol = Polarization('VV')\n",
    "    elif '_HH_' in asset_name:\n",
    "        pol = Polarization('HH')\n",
    "    return pol"
   ]
  },
  {
   "cell_type": "code",
   "execution_count": 23,
   "metadata": {},
   "outputs": [
    {
     "data": {
      "text/plain": [
       "<Polarization.HH: 'HH'>"
      ]
     },
     "execution_count": 23,
     "metadata": {},
     "output_type": "execute_result"
    }
   ],
   "source": [
    "novasar_get_pol(cog_href)"
   ]
  },
  {
   "cell_type": "code",
   "execution_count": 24,
   "metadata": {},
   "outputs": [],
   "source": [
    "def novasar_get_prod_type(asset_path): #TODO: generalise for multiple assets ??\n",
    "    asset_name = os.path.basename(asset_path)\n",
    "    if 'Gamma0' in asset_path:\n",
    "        prod = 'gamma0_db'\n",
    "    return prod"
   ]
  },
  {
   "cell_type": "code",
   "execution_count": 25,
   "metadata": {},
   "outputs": [
    {
     "data": {
      "text/plain": [
       "'gamma0_db'"
      ]
     },
     "execution_count": 25,
     "metadata": {},
     "output_type": "execute_result"
    }
   ],
   "source": [
    "novasar_get_prod_type(cog_href)"
   ]
  },
  {
   "cell_type": "code",
   "execution_count": 26,
   "metadata": {},
   "outputs": [
    {
     "data": {
      "text/plain": [
       "[<Polarization.HH: 'HH'>]"
      ]
     },
     "execution_count": 26,
     "metadata": {},
     "output_type": "execute_result"
    }
   ],
   "source": [
    "[novasar_get_pol(cog_href)]"
   ]
  },
  {
   "cell_type": "code",
   "execution_count": 85,
   "metadata": {},
   "outputs": [],
   "source": [
    "def add_assets_novasar(item, asset_paths):\n",
    "    \n",
    "    for asset_path in asset_paths:\n",
    "        \n",
    "        if asset_path.endswith('.tif'):\n",
    "            # print(asset_path)\n",
    "            item.add_asset('cog', pystac.Asset(href = asset_path, media_type = pystac.MediaType.COG))\n",
    "            \n",
    "            # item.ext.sar.polarizations = [Polarization(novasar_get_pol(asset_path))]\n",
    "            # item.ext.sar.product_type = novasar_get_prod_type(os.path.basename(asset_path))\n",
    "            \n",
    "            sar_ext = SarExtension.ext(item)\n",
    "            \n",
    "            sar_ext.polarizations = [novasar_get_pol(asset_path)]\n",
    "            sar_ext.product_type = novasar_get_prod_type(os.path.basename(asset_path))\n",
    "     \n",
    "        elif asset_path.endswith('.jpg'):\n",
    "            # print(asset_path)\n",
    "            item.add_asset('thumbnail', pystac.Asset(href = asset_path, media_type= pystac.MediaType.JPEG))       \n",
    "\n",
    "            \n",
    "    return item"
   ]
  },
  {
   "cell_type": "code",
   "execution_count": 86,
   "metadata": {},
   "outputs": [
    {
     "data": {
      "text/plain": [
       "<Item id=NovaSAR_01_10135_slc_11_200215_094557_HH_1_ML_TC_TF_cog>"
      ]
     },
     "execution_count": 86,
     "metadata": {},
     "output_type": "execute_result"
    }
   ],
   "source": [
    "add_assets_novasar(item, asset_hrefs)"
   ]
  },
  {
   "cell_type": "code",
   "execution_count": 89,
   "metadata": {},
   "outputs": [
    {
     "data": {
      "text/plain": [
       "{'type': 'Feature',\n",
       " 'stac_version': '1.0.0',\n",
       " 'id': 'NovaSAR_01_10135_slc_11_200215_094557_HH_1_ML_TC_TF_cog',\n",
       " 'properties': {'sar:frequency_band': 'S',\n",
       "  'sar:instrument_mode': 'stripmap_6m',\n",
       "  'proj:epsg': 4326,\n",
       "  'datetime': '2020-02-15T09:45:57Z',\n",
       "  'sar:polarizations': ['HH'],\n",
       "  'sar:product_type': 'gamma0_db'},\n",
       " 'geometry': {'type': 'Polygon',\n",
       "  'coordinates': [[[-1.0478259576205007, 50.397680132459946],\n",
       "    [-1.0478259576205007, 50.6936401639443],\n",
       "    [-0.6671061061552759, 50.6936401639443],\n",
       "    [-0.6671061061552759, 50.397680132459946],\n",
       "    [-1.0478259576205007, 50.397680132459946]]]},\n",
       " 'links': [],\n",
       " 'assets': {'cog': {'href': 'http://s3-uk-1.sa-catapult.co.uk/public-eo-data/novasar_uk_test/uk_novasar_stripmap_6m/NovaSAR_01_10135_slc_11_200215_094557_HH_1_ML_TC_TF_cog/NovaSAR_01_10135_slc_11_200215_094557_HH_1_Gamma0_Intensity_HH_db.tif',\n",
       "   'type': <MediaType.COG: 'image/tiff; application=geotiff; profile=cloud-optimized'>},\n",
       "  'thumbnail': {'href': 'http://s3-uk-1.sa-catapult.co.uk/public-eo-data/novasar_uk_test/uk_novasar_stripmap_6m/NovaSAR_01_10135_slc_11_200215_094557_HH_1_ML_TC_TF_cog/thumbnail.jpg',\n",
       "   'type': <MediaType.JPEG: 'image/jpeg'>}},\n",
       " 'bbox': [-1.0478259576205007,\n",
       "  50.397680132459946,\n",
       "  -0.6671061061552759,\n",
       "  50.6936401639443],\n",
       " 'stac_extensions': ['https://stac-extensions.github.io/sar/v1.0.0/schema.json',\n",
       "  'https://stac-extensions.github.io/projection/v1.0.0/schema.json']}"
      ]
     },
     "execution_count": 89,
     "metadata": {},
     "output_type": "execute_result"
    }
   ],
   "source": [
    "item.to_dict()"
   ]
  },
  {
   "cell_type": "code",
   "execution_count": 90,
   "metadata": {},
   "outputs": [
    {
     "data": {
      "text/plain": [
       "['https://schemas.stacspec.org/v1.0.0/item-spec/json-schema/item.json',\n",
       " 'https://stac-extensions.github.io/sar/v1.0.0/schema.json',\n",
       " 'https://stac-extensions.github.io/projection/v1.0.0/schema.json']"
      ]
     },
     "execution_count": 90,
     "metadata": {},
     "output_type": "execute_result"
    }
   ],
   "source": [
    "item.validate()"
   ]
  },
  {
   "cell_type": "code",
   "execution_count": 158,
   "metadata": {},
   "outputs": [
    {
     "data": {
      "text/plain": [
       "'https://stac-extensions.github.io/sar/v1.0.0/schema.json'"
      ]
     },
     "execution_count": 158,
     "metadata": {},
     "output_type": "execute_result"
    }
   ],
   "source": [
    "SarExtension.get_schema_uri()"
   ]
  },
  {
   "cell_type": "markdown",
   "metadata": {},
   "source": [
    "## Make Collection"
   ]
  },
  {
   "cell_type": "markdown",
   "metadata": {},
   "source": [
    "Now gather 6m and 20m resolution assets together into collections"
   ]
  },
  {
   "cell_type": "code",
   "execution_count": 106,
   "metadata": {},
   "outputs": [],
   "source": [
    "def create_novasar_collection(novasar_dir, bucket=s3_bucket): #, n=None):\n",
    "    \n",
    "    collection_id = f'novasar_{novasar_dir[27:]}'\n",
    "    collection_title = 'NovaSAR test'\n",
    "    collection_description = '''### NovaSAR test STACs\n",
    "\n",
    "    A collection of NovaSAR COGs stored in Catapult object storage\n",
    "    '''\n",
    "    \n",
    "    # initially arbitrary as updated later\n",
    "    spatial_extent = pystac.SpatialExtent([[-180, 90, 180, 90]])\n",
    "    temporal_extent = pystac.TemporalExtent([[datetime(2011, 12, 16), None]])\n",
    "    collection_extent = pystac.Extent(spatial_extent, temporal_extent)\n",
    "    \n",
    "    collection = pystac.Collection(id=collection_id,\n",
    "                                   title=collection_title,\n",
    "                                   description=collection_description,\n",
    "                                   extent=collection_extent)\n",
    "    \n",
    "    collection.providers = [\n",
    "       # pystac.Provider(name='European Space Agency', roles=['producer'], url='https://www.esa.int/'),\n",
    "       # pystac.Provider(name='European Space Agency', roles=['licensor'], url='https://www.esa.int/'),\n",
    "        pystac.Provider(name='Satellite Applications Catapult', roles=['processor'], url='https://sa.catapult.org.uk/'),\n",
    "        pystac.Provider(name='Satellite Applications Catapult', roles=['host'], url='https://sa.catapult.org.uk/')\n",
    "    ]\n",
    "    \n",
    "    obj_paths_list = s3_list_objects_paths(bucket, novasar_dir)\n",
    "    scene_names = list(np.unique([i.split('/')[2] for i in obj_paths_list if 'uk_novasar_scansar_20m' in i or 'uk_novasar_stripmap_6m' in i]))[1:]\n",
    "    \n",
    "    for scene_name in scene_names: #[:n]:\n",
    "        \n",
    "        # print(scene_name)\n",
    "        \n",
    "        scene_obj_paths = [i for i in obj_paths_list if scene_name in i]\n",
    "        \n",
    "        item = novasar_create_item(scene_name, scene_obj_paths)\n",
    "        \n",
    "        if len([i for i in scene_obj_paths if '_Gamma0_' in i])==0:\n",
    "            \n",
    "            continue\n",
    "        \n",
    "        cog_href = create_uri([i for i in scene_obj_paths if '_Gamma0_' in i][0])\n",
    "        \n",
    "        if len([i for i in scene_obj_paths if i.endswith('.jpg')])==0: # messy workaround to account for some scenes not having thumbnails\n",
    "            \n",
    "            thumb_href = ''\n",
    "            \n",
    "        else: \n",
    "            \n",
    "            thumb_href = create_uri([i for i in scene_obj_paths if i.endswith('.jpg')][0])\n",
    "\n",
    "        asset_hrefs = [cog_href, thumb_href]\n",
    "        \n",
    "        add_assets_novasar(item, asset_hrefs) # only works for gamma 0 products (so far)\n",
    "        \n",
    "        collection.add_item(item)\n",
    "    \n",
    "    collection.update_extent_from_items()\n",
    "        \n",
    "    return collection"
   ]
  },
  {
   "cell_type": "code",
   "execution_count": 107,
   "metadata": {},
   "outputs": [],
   "source": [
    "collection_6m = create_novasar_collection('novasar_uk_test/uk_novasar_stripmap_6m')\n",
    "collection_20m = create_novasar_collection('novasar_uk_test/uk_novasar_scansar_20m')"
   ]
  },
  {
   "cell_type": "code",
   "execution_count": 95,
   "metadata": {},
   "outputs": [],
   "source": [
    "#collection_6m.validate()\n",
    "#collection_20m.validate()"
   ]
  },
  {
   "cell_type": "code",
   "execution_count": 96,
   "metadata": {},
   "outputs": [],
   "source": [
    "def upload_to_s3(body: bytes, key: str):\n",
    "    \n",
    "    s3_client, bucket = s3_create_client(s3_bucket='public-eo-data')\n",
    "\n",
    "    s3_client.put_object(Bucket='public-eo-data',\n",
    "                         Key=key,\n",
    "                         Body=body)"
   ]
  },
  {
   "cell_type": "code",
   "execution_count": null,
   "metadata": {},
   "outputs": [],
   "source": []
  },
  {
   "cell_type": "markdown",
   "metadata": {},
   "source": [
    "## Overall Catalog"
   ]
  },
  {
   "cell_type": "markdown",
   "metadata": {},
   "source": [
    "Create catalog for 6m and 20m collections"
   ]
  },
  {
   "cell_type": "code",
   "execution_count": 215,
   "metadata": {},
   "outputs": [],
   "source": [
    "#export\n",
    "def novasar_create_catalog(collections):\n",
    "\n",
    "    catalog_id = 'novasar-overall'\n",
    "    catalog_title = 'Catapult-hosted Novasar'\n",
    "    catalog_description = '''### NovaSAR test STACs\n",
    "\n",
    "    A collection of NovaSAR COGs stored in Catapult object storage\n",
    "    '''\n",
    "    # catalog_extensions = [SarExtension.get_schema_uri(), ProjectionExtension.get_schema_uri()]\n",
    "\n",
    "    catalog = pystac.Catalog(id=catalog_id,\n",
    "                             title=catalog_title,\n",
    "                             description=catalog_description)\n",
    "                             # stac_extensions=catalog_extensions)\n",
    "    \n",
    "    catalog.add_children(collections)\n",
    "    \n",
    "    # SarExtension.add_to(catalog)\n",
    "\n",
    "    return catalog"
   ]
  },
  {
   "cell_type": "code",
   "execution_count": 208,
   "metadata": {},
   "outputs": [],
   "source": [
    "catalog=novasar_create_catalog([collection_6m, collection_20m])"
   ]
  },
  {
   "cell_type": "code",
   "execution_count": null,
   "metadata": {},
   "outputs": [],
   "source": []
  },
  {
   "cell_type": "code",
   "execution_count": 209,
   "metadata": {},
   "outputs": [],
   "source": [
    "#next(next(catalog.get_children()).get_items()).to_dict()"
   ]
  },
  {
   "cell_type": "code",
   "execution_count": 210,
   "metadata": {},
   "outputs": [
    {
     "data": {
      "text/plain": [
       "{'type': 'Catalog',\n",
       " 'id': 'novasar-overall',\n",
       " 'stac_version': '1.0.0',\n",
       " 'description': '### NovaSAR test STACs\\n\\n    A collection of NovaSAR COGs stored in Catapult object storage\\n    ',\n",
       " 'links': [{'rel': <RelType.ROOT: 'root'>,\n",
       "   'href': None,\n",
       "   'type': <MediaType.JSON: 'application/json'>},\n",
       "  {'rel': <RelType.CHILD: 'child'>,\n",
       "   'href': 'http://s3-uk-1.sa-catapult.co.uk/public-eo-data/stac_catalogs/novasar_test/novasar_stripmap_6m/collection.json',\n",
       "   'type': <MediaType.JSON: 'application/json'>},\n",
       "  {'rel': <RelType.CHILD: 'child'>,\n",
       "   'href': 'http://s3-uk-1.sa-catapult.co.uk/public-eo-data/stac_catalogs/novasar_test/novasar_scansar_20m/collection.json',\n",
       "   'type': <MediaType.JSON: 'application/json'>}],\n",
       " 'stac_extensions': [],\n",
       " 'title': 'Catapult-hosted Novasar'}"
      ]
     },
     "execution_count": 210,
     "metadata": {},
     "output_type": "execute_result"
    }
   ],
   "source": [
    "catalog.to_dict()"
   ]
  },
  {
   "cell_type": "code",
   "execution_count": 211,
   "metadata": {},
   "outputs": [],
   "source": [
    "catalog.normalize_hrefs(create_uri('stac_catalogs/novasar_test'))\n",
    "\n",
    "# collection_6m.to_dict()"
   ]
  },
  {
   "cell_type": "code",
   "execution_count": 212,
   "metadata": {},
   "outputs": [],
   "source": [
    "# os.path.split(catalog.get_self_href())"
   ]
  },
  {
   "cell_type": "code",
   "execution_count": 201,
   "metadata": {},
   "outputs": [],
   "source": [
    "def save_cat_to_s3(catalog):\n",
    "    \n",
    "    upload_to_s3(body=json.dumps(catalog.to_dict(), indent = 2), \n",
    "                 key=catalog.get_self_href().split('/', 4)[4])\n",
    "    \n",
    "    for collection in catalog.get_children():\n",
    "    \n",
    "        upload_to_s3(body=json.dumps(collection.to_dict(), indent = 2), \n",
    "                 key=collection.get_self_href().split('/', 4)[4]) \n",
    "    \n",
    "        for item in collection.get_items():\n",
    "\n",
    "            upload_to_s3(body=json.dumps(item.to_dict(), indent = 2), \n",
    "                         key=item.get_self_href().split('/', 4)[4]) "
   ]
  },
  {
   "cell_type": "code",
   "execution_count": 202,
   "metadata": {},
   "outputs": [],
   "source": [
    "# save_cat_to_s3(catalog)"
   ]
  },
  {
   "cell_type": "code",
   "execution_count": 203,
   "metadata": {},
   "outputs": [
    {
     "data": {
      "text/plain": [
       "'stac_catalogs/novasar_test/novasar_stripmap_6m/collection.json'"
      ]
     },
     "execution_count": 203,
     "metadata": {},
     "output_type": "execute_result"
    }
   ],
   "source": [
    "next(catalog.get_children()).get_self_href().split('/', 4)[4]"
   ]
  },
  {
   "cell_type": "code",
   "execution_count": 214,
   "metadata": {},
   "outputs": [
    {
     "data": {
      "text/plain": [
       "{'type': 'Catalog',\n",
       " 'id': 'novasar-overall',\n",
       " 'stac_version': '1.0.0',\n",
       " 'description': '### NovaSAR test STACs\\n\\n    A collection of NovaSAR COGs stored in Catapult object storage\\n    ',\n",
       " 'links': [{'rel': <RelType.ROOT: 'root'>,\n",
       "   'href': 'http://s3-uk-1.sa-catapult.co.uk/public-eo-data/stac_catalogs/novasar_test/catalog.json',\n",
       "   'type': <MediaType.JSON: 'application/json'>},\n",
       "  {'rel': <RelType.CHILD: 'child'>,\n",
       "   'href': 'http://s3-uk-1.sa-catapult.co.uk/public-eo-data/stac_catalogs/novasar_test/novasar_stripmap_6m/collection.json',\n",
       "   'type': <MediaType.JSON: 'application/json'>},\n",
       "  {'rel': <RelType.CHILD: 'child'>,\n",
       "   'href': 'http://s3-uk-1.sa-catapult.co.uk/public-eo-data/stac_catalogs/novasar_test/novasar_scansar_20m/collection.json',\n",
       "   'type': <MediaType.JSON: 'application/json'>},\n",
       "  {'rel': <RelType.SELF: 'self'>,\n",
       "   'href': 'http://s3-uk-1.sa-catapult.co.uk/public-eo-data/stac_catalogs/novasar_test/catalog.json',\n",
       "   'type': <MediaType.JSON: 'application/json'>}],\n",
       " 'stac_extensions': [],\n",
       " 'title': 'Catapult-hosted Novasar'}"
      ]
     },
     "execution_count": 214,
     "metadata": {},
     "output_type": "execute_result"
    }
   ],
   "source": [
    "catalog.to_dict()"
   ]
  },
  {
   "cell_type": "code",
   "execution_count": 213,
   "metadata": {},
   "outputs": [],
   "source": [
    "catalog.validate_all()"
   ]
  },
  {
   "cell_type": "code",
   "execution_count": 176,
   "metadata": {},
   "outputs": [
    {
     "data": {
      "text/plain": [
       "False"
      ]
     },
     "execution_count": 176,
     "metadata": {},
     "output_type": "execute_result"
    }
   ],
   "source": []
  },
  {
   "cell_type": "markdown",
   "metadata": {},
   "source": [
    "## SeDAS "
   ]
  },
  {
   "cell_type": "markdown",
   "metadata": {},
   "source": [
    "First need to log in..."
   ]
  },
  {
   "cell_type": "code",
   "execution_count": 4,
   "metadata": {},
   "outputs": [],
   "source": [
    "from urllib.error import HTTPError\n",
    "\n",
    "from sedas_pyapi.sedas_api import SeDASAPI\n",
    "\n",
    "if __name__ == '__main__':\n",
    "\n",
    "    # creating the SeDASAPI object attempts to log into live. It will throw an exception if it cant. so we feed it real creds (any one using test should have a live set)\n",
    "    _username = os.getenv('SEDAS_USERNAME')\n",
    "    __password = os.getenv('SEDAS_PWD')\n",
    "\n",
    "    # Note the SeDASBulkDownload is very chatty at debug. But if you need to know what is going on enable logging.\n",
    "\n",
    "    # create the object this will connect to the test.\n",
    "    sedas = SeDASAPI(_username, __password)\n",
    "\n",
    "    # set the base url to point at the test instance\n",
    "    sedas.base_url = \"https://geobrowsertest.satapps.org/api/\"\n",
    "\n",
    "    # Now we need to reset a few variables that have the original base url still\n",
    "    sedas.sensor_url = f\"{sedas.base_url}sensors\"\n",
    "    sedas.authentication_url = f\"{sedas.base_url}authentication\"\n",
    "    sedas.search_url = f\"{sedas.base_url}search\" #\"https://geobrowsertest.satapps.org/api/ais/search\n",
    "    \n",
    "\n",
    "    # Get rid of the token force the log in to happen again.\n",
    "    sedas._token = None  \n",
    "\n",
    "    # now we can get the users actual test password\n",
    "    sedas._username = os.getenv('SEDAS_USERNAME')\n",
    "    sedas.__password = os.getenv('SEDAS_PWD')\n",
    "    # and log into test\n",
    "    sedas.login()\n"
   ]
  },
  {
   "cell_type": "code",
   "execution_count": 86,
   "metadata": {},
   "outputs": [
    {
     "ename": "NameError",
     "evalue": "name 'collection_6m' is not defined",
     "output_type": "error",
     "traceback": [
      "\u001b[0;31m---------------------------------------------------------------------------\u001b[0m",
      "\u001b[0;31mNameError\u001b[0m                                 Traceback (most recent call last)",
      "\u001b[0;32m<ipython-input-86-d5a67b6cba0d>\u001b[0m in \u001b[0;36m<module>\u001b[0;34m\u001b[0m\n\u001b[0;32m----> 1\u001b[0;31m \u001b[0msp_extent\u001b[0m \u001b[0;34m=\u001b[0m \u001b[0mjson\u001b[0m\u001b[0;34m.\u001b[0m\u001b[0mdumps\u001b[0m\u001b[0;34m(\u001b[0m\u001b[0mcollection_6m\u001b[0m\u001b[0;34m.\u001b[0m\u001b[0mextent\u001b[0m\u001b[0;34m.\u001b[0m\u001b[0mspatial\u001b[0m\u001b[0;34m.\u001b[0m\u001b[0mto_dict\u001b[0m\u001b[0;34m(\u001b[0m\u001b[0;34m)\u001b[0m\u001b[0;34m)\u001b[0m\u001b[0;34m\u001b[0m\u001b[0;34m\u001b[0m\u001b[0m\n\u001b[0m\u001b[1;32m      2\u001b[0m \u001b[0mtemp_extent\u001b[0m \u001b[0;34m=\u001b[0m \u001b[0mjson\u001b[0m\u001b[0;34m.\u001b[0m\u001b[0mdumps\u001b[0m\u001b[0;34m(\u001b[0m\u001b[0mcollection_6m\u001b[0m\u001b[0;34m.\u001b[0m\u001b[0mextent\u001b[0m\u001b[0;34m.\u001b[0m\u001b[0mtemporal\u001b[0m\u001b[0;34m.\u001b[0m\u001b[0mto_dict\u001b[0m\u001b[0;34m(\u001b[0m\u001b[0;34m)\u001b[0m\u001b[0;34m)\u001b[0m\u001b[0;34m\u001b[0m\u001b[0;34m\u001b[0m\u001b[0m\n",
      "\u001b[0;31mNameError\u001b[0m: name 'collection_6m' is not defined"
     ]
    }
   ],
   "source": [
    "sp_extent = json.dumps(collection_6m.extent.spatial.to_dict())\n",
    "temp_extent = json.dumps(collection_6m.extent.temporal.to_dict())"
   ]
  },
  {
   "cell_type": "code",
   "execution_count": 84,
   "metadata": {},
   "outputs": [],
   "source": []
  },
  {
   "cell_type": "code",
   "execution_count": 47,
   "metadata": {},
   "outputs": [],
   "source": [
    "left_bounds, bot_bounds, right_bounds, top_bounds = sp_extent.split('[[')[1].split(']]')[0].split(',')"
   ]
  },
  {
   "cell_type": "code",
   "execution_count": 48,
   "metadata": {},
   "outputs": [],
   "source": [
    "wkt = f\"POLYGON(({left_bounds} {bot_bounds},\" \\\n",
    "      f\"{left_bounds} {top_bounds},\" \\\n",
    "      f\"{right_bounds} {top_bounds},\" \\\n",
    "      f\"{right_bounds} {bot_bounds},\" \\\n",
    "      f\"{left_bounds} {bot_bounds}))\"\n",
    "\n",
    "startDate, endDate = temp_extent.split('[[')[1].split(']]')[0].split(',')\n",
    "\n",
    "result_sar = sedas.search_sar(wkt, eval(startDate), eval(endDate), satellite_name=\"NovaSAR-1\")"
   ]
  },
  {
   "cell_type": "code",
   "execution_count": 5,
   "metadata": {},
   "outputs": [],
   "source": [
    "wkt = f\"POLYGON((0.263671875 50.28933925329178,\" \\\n",
    "      f\"0.263671875 51.91716758909015,\" \\\n",
    "      f\"2.548828125 51.91716758909015,\" \\\n",
    "      f\"2.548828125 50.28933925329178,\" \\\n",
    "      f\"0.263671875 50.28933925329178))\"\n",
    "\n",
    "result_sar = sedas.search_sar(wkt, '2019-01-01T09:43:45Z', '2021-07-01T09:43:45Z', source_group=\"NovaSAR\")"
   ]
  },
  {
   "cell_type": "code",
   "execution_count": 49,
   "metadata": {},
   "outputs": [],
   "source": [
    "startDate, endDate = temp_extent.split('[[')[1].split(']]')[0].split(',')"
   ]
  },
  {
   "cell_type": "code",
   "execution_count": 50,
   "metadata": {},
   "outputs": [
    {
     "data": {
      "text/plain": [
       "'2020-01-29T09:43:45Z'"
      ]
     },
     "execution_count": 50,
     "metadata": {},
     "output_type": "execute_result"
    }
   ],
   "source": [
    "eval(startDate)"
   ]
  },
  {
   "cell_type": "code",
   "execution_count": 75,
   "metadata": {},
   "outputs": [],
   "source": [
    "result_groups = sedas.list_sensor_groups()\n",
    "# print(json.dumps(result_groups, sort_keys=True, indent=4, separators=(',', ': ')))"
   ]
  },
  {
   "cell_type": "code",
   "execution_count": 76,
   "metadata": {},
   "outputs": [],
   "source": [
    "# print(json.dumps(result_sar, indent = 4))"
   ]
  },
  {
   "cell_type": "code",
   "execution_count": 87,
   "metadata": {},
   "outputs": [],
   "source": [
    "wkt = f\"POLYGON((0.263671875 50.28933925329178,\" \\\n",
    "      f\"0.263671875 51.91716758909015,\" \\\n",
    "      f\"2.548828125 51.91716758909015,\" \\\n",
    "      f\"2.548828125 50.28933925329178,\" \\\n",
    "      f\"0.263671875 50.28933925329178))\"\n",
    "\n",
    "result = sedas.search(wkt, '2019-01-01T09:43:45Z', '2021-07-01T09:43:45Z')"
   ]
  },
  {
   "cell_type": "markdown",
   "metadata": {},
   "source": [
    "#### Function to find thumbnails (from SeDAS API) then save ot S3 (NovaSAR)"
   ]
  },
  {
   "cell_type": "code",
   "execution_count": 219,
   "metadata": {},
   "outputs": [],
   "source": [
    "import re\n",
    "import requests\n",
    "\n",
    "def get_thumbs(scene_names):\n",
    "\n",
    "    for scene_name in scene_names:\n",
    "\n",
    "        singleProduct = sedas.search_product('_'.join(scene_name.split('_')[0:4] + scene_name.split('_')[5:8])) #searches for scenes\n",
    "\n",
    "        if singleProduct == []:\n",
    "\n",
    "            print('no_thumbnail')\n",
    "\n",
    "        else: \n",
    "\n",
    "            print('thumbnail for', scene_name)\n",
    "\n",
    "            thumb_url = re.findall(\"https?://[^\\s]+\", json.dumps(singleProduct, sort_keys=True, indent=4, separators=('\"',' ')))[2].replace('\"\"','') #gets thumb url\n",
    "\n",
    "            tn = requests.get(thumb_url, stream = True).content #saves jpg as bytes\n",
    "\n",
    "            scene_obj_paths = [i for i in obj_paths_list if scene_name in i]\n",
    "\n",
    "            upload_to_s3(tn, f'{os.path.dirname(scene_obj_paths[0])}/thumbnail.jpg') #saves to s3"
   ]
  },
  {
   "cell_type": "code",
   "execution_count": 221,
   "metadata": {},
   "outputs": [
    {
     "name": "stdout",
     "output_type": "stream",
     "text": [
      "no_thumbnail\n",
      "no_thumbnail\n",
      "no_thumbnail\n",
      "no_thumbnail\n",
      "no_thumbnail\n",
      "thumbnail for NovaSAR_01_13113_slc_11_200719_232900_VV_1_ML_TC_TF_cog\n",
      "no_thumbnail\n",
      "no_thumbnail\n",
      "thumbnail for NovaSAR_01_13145_slc_11_200720_233418_HH_1_ML_TC_TF_cog\n",
      "no_thumbnail\n",
      "no_thumbnail\n",
      "no_thumbnail\n",
      "no_thumbnail\n",
      "no_thumbnail\n",
      "no_thumbnail\n",
      "no_thumbnail\n",
      "no_thumbnail\n",
      "no_thumbnail\n",
      "no_thumbnail\n",
      "thumbnail for NovaSAR_01_13449_slc_11_200729_225102_HH_ML_TC_TF_cog\n",
      "thumbnail for NovaSAR_01_13612_slc_11_200803_231937_HH_1_ML_TC_TF_cog\n",
      "no_thumbnail\n",
      "no_thumbnail\n",
      "no_thumbnail\n",
      "no_thumbnail\n",
      "thumbnail for NovaSAR_01_14265_slc_11_200822_233314_HH_1_ML_TC_TF_cog\n",
      "no_thumbnail\n",
      "no_thumbnail\n",
      "no_thumbnail\n",
      "no_thumbnail\n",
      "no_thumbnail\n",
      "no_thumbnail\n",
      "no_thumbnail\n",
      "no_thumbnail\n",
      "no_thumbnail\n",
      "thumbnail for NovaSAR_01_14295_slc_11_200823_233848_HH_1_ML_TC_TF_cog\n",
      "no_thumbnail\n",
      "no_thumbnail\n",
      "no_thumbnail\n",
      "no_thumbnail\n",
      "no_thumbnail\n",
      "no_thumbnail\n",
      "no_thumbnail\n",
      "thumbnail for NovaSAR_01_15228_slc_11_200920_095717_HH_1_ML_TC_TF_cog\n",
      "no_thumbnail\n",
      "thumbnail for NovaSAR_01_15277_slc_11_200921_231437_HH_1_ML_TC_TF_cog\n",
      "no_thumbnail\n",
      "no_thumbnail\n",
      "thumbnail for NovaSAR_01_15310_slc_11_200922_232026_HH_1_ML_TC_TF_cog\n",
      "no_thumbnail\n",
      "thumbnail for NovaSAR_01_15394_slc_11_200925_102554_HH_1_ML_TC_TF_cog\n",
      "no_thumbnail\n",
      "no_thumbnail\n",
      "no_thumbnail\n",
      "thumbnail for NovaSAR_01_15443_slc_11_200926_234322_HH_1_ML_TC_TF_cog\n",
      "no_thumbnail\n",
      "no_thumbnail\n",
      "thumbnail for NovaSAR_01_15785_slc_11_201007_095918_HH_1_ML_TC_TF_cog\n",
      "no_thumbnail\n",
      "thumbnail for NovaSAR_01_15861_slc_11_201009_232225_VV_1_ML_TC_TF_cog\n",
      "no_thumbnail\n",
      "no_thumbnail\n",
      "thumbnail for NovaSAR_01_16231_slc_11_201021_225532_HH_1_ML_TC_TF_cog\n",
      "no_thumbnail\n",
      "thumbnail for NovaSAR_01_16328_slc_11_201024_231245_HH_ML_TC_TF_cog\n",
      "thumbnail for NovaSAR_01_16359_slc_11_201025_231828_HH_1_ML_TC_TF_cog\n",
      "no_thumbnail\n",
      "thumbnail for NovaSAR_01_9629_slc_11_200129_094345_HH_1_ML_TC_TF_cog\n",
      "no_thumbnail\n",
      "no_thumbnail\n",
      "thumbnail for NovaSAR_01_9669_slc_11_200130_095029_HH_1_ML_TC_TF_cog\n",
      "no_thumbnail\n",
      "no_thumbnail\n",
      "no_thumbnail\n",
      "no_thumbnail\n"
     ]
    }
   ],
   "source": [
    "get_thumbs(scene_names[60:])"
   ]
  },
  {
   "cell_type": "code",
   "execution_count": 6,
   "metadata": {},
   "outputs": [
    {
     "data": {
      "text/plain": [
       "'ofkrauss'"
      ]
     },
     "execution_count": 6,
     "metadata": {},
     "output_type": "execute_result"
    }
   ],
   "source": [
    "os.getenv('SEDAS_USERNAME')"
   ]
  },
  {
   "cell_type": "code",
   "execution_count": 70,
   "metadata": {},
   "outputs": [],
   "source": [
    "jso = {\n",
    "  \"sourceGroup\" : \"ALL\",\n",
    "  \"polygon\" : f\"POLYGON((0.263671875 50.28933925329178,\" \\\n",
    "      f\"0.263671875 51.91716758909015,\" \\\n",
    "      f\"2.548828125 51.91716758909015,\" \\\n",
    "      f\"2.548828125 50.28933925329178,\" \\\n",
    "      f\"0.263671875 50.28933925329178))\",\n",
    "  \"start\" : \"2019-04-01T00:00:00Z\",\n",
    "  \"stop\" : \"2021-04-01T00:00:00Z\",\n",
    "  \"filters\" : {\n",
    "    \"messageType\" : \"1\",\n",
    "    \"mmsi\" : \"636017265\"\n",
    "  }\n",
    "}\n",
    "\n",
    "# request.post( json)"
   ]
  },
  {
   "cell_type": "code",
   "execution_count": 80,
   "metadata": {},
   "outputs": [
    {
     "ename": "TypeError",
     "evalue": "search() missing 3 required positional arguments: 'wkt', 'start_date', and 'end_date'",
     "output_type": "error",
     "traceback": [
      "\u001b[0;31m---------------------------------------------------------------------------\u001b[0m",
      "\u001b[0;31mTypeError\u001b[0m                                 Traceback (most recent call last)",
      "\u001b[0;32m<ipython-input-80-2e2ed50a3537>\u001b[0m in \u001b[0;36m<module>\u001b[0;34m\u001b[0m\n\u001b[1;32m      1\u001b[0m \u001b[0;32mimport\u001b[0m \u001b[0mrequests\u001b[0m\u001b[0;34m\u001b[0m\u001b[0;34m\u001b[0m\u001b[0m\n\u001b[1;32m      2\u001b[0m \u001b[0;34m\u001b[0m\u001b[0m\n\u001b[0;32m----> 3\u001b[0;31m \u001b[0msedas\u001b[0m\u001b[0;34m.\u001b[0m\u001b[0msearch\u001b[0m\u001b[0;34m(\u001b[0m\u001b[0mdata\u001b[0m \u001b[0;34m=\u001b[0m \u001b[0mjso\u001b[0m\u001b[0;34m,\u001b[0m \u001b[0mheaders\u001b[0m \u001b[0;34m=\u001b[0m \u001b[0;34m{\u001b[0m\u001b[0;34m'Content-Type'\u001b[0m\u001b[0;34m:\u001b[0m \u001b[0;34m'application/json'\u001b[0m\u001b[0;34m,\u001b[0m \u001b[0;34m'Accept'\u001b[0m\u001b[0;34m:\u001b[0m \u001b[0;34m'application/json'\u001b[0m\u001b[0;34m}\u001b[0m\u001b[0;34m)\u001b[0m\u001b[0;34m\u001b[0m\u001b[0;34m\u001b[0m\u001b[0m\n\u001b[0m",
      "\u001b[0;31mTypeError\u001b[0m: search() missing 3 required positional arguments: 'wkt', 'start_date', and 'end_date'"
     ]
    }
   ],
   "source": [
    "import requests\n",
    "\n",
    "sedas.search()"
   ]
  },
  {
   "cell_type": "code",
   "execution_count": 74,
   "metadata": {},
   "outputs": [
    {
     "data": {
      "text/plain": [
       "dict"
      ]
     },
     "execution_count": 74,
     "metadata": {},
     "output_type": "execute_result"
    }
   ],
   "source": [
    "type(jso)"
   ]
  },
  {
   "cell_type": "code",
   "execution_count": 53,
   "metadata": {},
   "outputs": [],
   "source": [
    "from PIL import Image\n",
    "import numpy\n",
    "\n",
    "im = Image.open('NovaSAR_01_12547_slc_11_200629_095854_HH_1_Gamma0_Intensity_HH_db.tif')\n",
    "# im.show()\n",
    "\n",
    "imarray = numpy.array(im)"
   ]
  },
  {
   "cell_type": "code",
   "execution_count": 54,
   "metadata": {},
   "outputs": [
    {
     "data": {
      "text/plain": [
       "array([[0., 0., 0., ..., 0., 0., 0.],\n",
       "       [0., 0., 0., ..., 0., 0., 0.],\n",
       "       [0., 0., 0., ..., 0., 0., 0.],\n",
       "       ...,\n",
       "       [0., 0., 0., ..., 0., 0., 0.],\n",
       "       [0., 0., 0., ..., 0., 0., 0.],\n",
       "       [0., 0., 0., ..., 0., 0., 0.]], dtype=float32)"
      ]
     },
     "execution_count": 54,
     "metadata": {},
     "output_type": "execute_result"
    }
   ],
   "source": [
    "imarray"
   ]
  },
  {
   "cell_type": "code",
   "execution_count": 48,
   "metadata": {},
   "outputs": [
    {
     "data": {
      "text/plain": [
       "['.dockerignore',\n",
       " '.env.example',\n",
       " '.git',\n",
       " '.gitignore',\n",
       " '.ipynb_checkpoints',\n",
       " '00_extensions.ipynb',\n",
       " '01A_pleiades.ipynb',\n",
       " '01B_pleiades_prep_worker.ipynb',\n",
       " '02A_spot.ipynb',\n",
       " '03A_novasar.ipynb',\n",
       " '04A_cs_sentinel2.ipynb',\n",
       " '09_cs_stact_catalog.ipynb',\n",
       " '09_sac_stac_catalog.ipynb',\n",
       " '10_load_stac.ipynb',\n",
       " 'docker-compose.yml',\n",
       " 'Dockerfile',\n",
       " 'NovaSAR_01_12547_slc_11_200629_095854_HH_1_Gamma0_Intensity_HH_db.tif',\n",
       " 'NovaSAR_01_13113_slc_11_200719_232900_VV_1_Gamma0_Intensity_VV_db.tif',\n",
       " 'NovaSAR_01_9629_slc_11_200129_094345_HH_1_Gamma0_Intensity_HH_db.tif',\n",
       " 'README.md',\n",
       " 'test.py',\n",
       " 'utils.ipynb']"
      ]
     },
     "execution_count": 48,
     "metadata": {},
     "output_type": "execute_result"
    }
   ],
   "source": [
    "os.listdir()"
   ]
  },
  {
   "cell_type": "code",
   "execution_count": null,
   "metadata": {},
   "outputs": [],
   "source": []
  }
 ],
 "metadata": {
  "kernelspec": {
   "display_name": "Python 3",
   "language": "python",
   "name": "python3"
  },
  "language_info": {
   "codemirror_mode": {
    "name": "ipython",
    "version": 3
   },
   "file_extension": ".py",
   "mimetype": "text/x-python",
   "name": "python",
   "nbconvert_exporter": "python",
   "pygments_lexer": "ipython3",
   "version": "3.7.4"
  },
  "toc-showcode": true
 },
 "nbformat": 4,
 "nbformat_minor": 4
}
