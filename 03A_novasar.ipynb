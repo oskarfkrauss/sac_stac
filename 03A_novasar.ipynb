{
 "cells": [
  {
   "cell_type": "code",
   "execution_count": 1,
   "metadata": {},
   "outputs": [],
   "source": [
    "#default_exp pleiades"
   ]
  },
  {
   "cell_type": "markdown",
   "metadata": {},
   "source": [
    "# NovaSAR\n",
    "\n",
    "> Working through stac item metadata parsing, etc. for NovaSAR datasets (data already prepped to COG)."
   ]
  },
  {
   "cell_type": "code",
   "execution_count": 2,
   "metadata": {},
   "outputs": [],
   "source": [
    "#hide\n",
    "# %load_ext autoreload\n",
    "# %autoreload 2"
   ]
  },
  {
   "cell_type": "code",
   "execution_count": 3,
   "metadata": {},
   "outputs": [],
   "source": [
    "# from nbdev.showdoc import *"
   ]
  },
  {
   "cell_type": "code",
   "execution_count": 4,
   "metadata": {},
   "outputs": [],
   "source": [
    "import os\n",
    "import boto3\n",
    "\n",
    "import numpy as np\n",
    "from datetime import datetime\n",
    "import json\n",
    "\n",
    "import xmltodict\n",
    "import pystac\n",
    "from pystac import STAC_IO\n",
    "from pystac.extensions.eo import Band\n",
    "from pystac.extensions.sar import FrequencyBand, Polarization, ObservationDirection\n",
    "import rasterio\n",
    "from shapely.geometry import Polygon\n",
    "\n",
    "import ipynb\n",
    "\n",
    "from ipynb.fs.defs.utils import *"
   ]
  },
  {
   "cell_type": "markdown",
   "metadata": {},
   "source": [
    "## **STAC metadata**: ***core & extensions***"
   ]
  },
  {
   "cell_type": "markdown",
   "metadata": {},
   "source": [
    "With the cogs above hosted object storage we can go create some tools for building a STAC *Collection* from them, to be used within in **insert nb** to build a *Catalog* of different Catapult *Collections*. As per the nb these initially sit within a *static* STAC alongside the actual datasets on the object storage. However we plan on hosting via a STAC compliant API - probs [pygeoapi](https://pygeoapi.io/). First define bucket and imagery directory"
   ]
  },
  {
   "cell_type": "code",
   "execution_count": 53,
   "metadata": {},
   "outputs": [],
   "source": [
    "s3_bucket = 'public-eo-data'\n",
    "img_dir = 'novasar_uk_test/'\n",
    "\n",
    "obj_paths_list = s3_list_objects_paths(s3_bucket, img_dir)"
   ]
  },
  {
   "cell_type": "code",
   "execution_count": 54,
   "metadata": {},
   "outputs": [
    {
     "data": {
      "text/plain": [
       "['NovaSAR_01_10135_slc_11_200215_094557_HH_1_ML_TC_TF_cog',\n",
       " 'NovaSAR_01_10135_slc_11_200215_094601_HH_2_ML_TC_TF_cog',\n",
       " 'NovaSAR_01_10387_slc_11_200307_101114_HH_1_ML_TC_TF_cog',\n",
       " 'NovaSAR_01_10387_slc_11_200307_101118_HH_2_ML_TC_TF_cog',\n",
       " 'NovaSAR_01_10387_slc_11_200307_101122_HH_3_ML_TC_TF_cog']"
      ]
     },
     "execution_count": 54,
     "metadata": {},
     "output_type": "execute_result"
    }
   ],
   "source": [
    "# get unique Item / scene names (third dir from path)\n",
    "\n",
    "scene_names = list(np.unique([i.split('/')[2] for i in obj_paths_list if '20m-ScanSAR' in i or '6m-Stripmap' in i]))\n",
    "\n",
    "scene_names[:5]"
   ]
  },
  {
   "cell_type": "markdown",
   "metadata": {},
   "source": [
    "### **Individual example for iteration**"
   ]
  },
  {
   "cell_type": "markdown",
   "metadata": {},
   "source": [
    "Can just work with one"
   ]
  },
  {
   "cell_type": "code",
   "execution_count": 7,
   "metadata": {},
   "outputs": [
    {
     "data": {
      "text/plain": [
       "'NovaSAR_01_10135_slc_11_200215_094557_HH_1_ML_TC_TF_cog'"
      ]
     },
     "execution_count": 7,
     "metadata": {},
     "output_type": "execute_result"
    }
   ],
   "source": [
    "scene_name = scene_names[0]\n",
    "scene_name"
   ]
  },
  {
   "cell_type": "markdown",
   "metadata": {},
   "source": [
    "and objects associated with that scene"
   ]
  },
  {
   "cell_type": "code",
   "execution_count": 8,
   "metadata": {},
   "outputs": [
    {
     "data": {
      "text/plain": [
       "['novasar_uk_test/6m-Stripmap/NovaSAR_01_10135_slc_11_200215_094557_HH_1_ML_TC_TF_cog/NovaSAR_01_10135_slc_11_200215_094557_HH_1_Gamma0_Intensity_HH_db.tif',\n",
       " 'novasar_uk_test/6m-Stripmap/NovaSAR_01_10135_slc_11_200215_094557_HH_1_ML_TC_TF_cog/original_metadata.xml',\n",
       " 'novasar_uk_test/6m-Stripmap/NovaSAR_01_10135_slc_11_200215_094557_HH_1_ML_TC_TF_cog/process_metadata.dim']"
      ]
     },
     "execution_count": 8,
     "metadata": {},
     "output_type": "execute_result"
    }
   ],
   "source": [
    "scene_obj_paths = [i for i in obj_paths_list if scene_name in i]\n",
    "list(scene_obj_paths)"
   ]
  },
  {
   "cell_type": "markdown",
   "metadata": {},
   "source": [
    "set our own I/O for pystac"
   ]
  },
  {
   "cell_type": "code",
   "execution_count": 9,
   "metadata": {},
   "outputs": [],
   "source": [
    "#export\n",
    "#pystac_setIO()"
   ]
  },
  {
   "cell_type": "markdown",
   "metadata": {},
   "source": [
    "### **Functions for** ***Item*** **metadata**"
   ]
  },
  {
   "cell_type": "code",
   "execution_count": 10,
   "metadata": {},
   "outputs": [],
   "source": [
    "#export\n",
    "def novasar_get_dt(scene_name):\n",
    "    return datetime.strptime('_'.join(scene_name.split('_')[5:7]), '%y%m%d_%H%M%S')"
   ]
  },
  {
   "cell_type": "code",
   "execution_count": 11,
   "metadata": {},
   "outputs": [
    {
     "data": {
      "text/plain": [
       "datetime.datetime(2020, 2, 15, 9, 45, 57)"
      ]
     },
     "execution_count": 11,
     "metadata": {},
     "output_type": "execute_result"
    }
   ],
   "source": [
    "novasar_get_dt(scene_name)"
   ]
  },
  {
   "cell_type": "code",
   "execution_count": 55,
   "metadata": {},
   "outputs": [],
   "source": [
    "#export\n",
    "def novasar_parsemeta(scene_name, scene_obj_paths):\n",
    "    meta_path = [i for i in scene_obj_paths if (i.endswith('.dim'))][0]\n",
    "    return xmltodict.parse(pystac.STAC_IO.read_text(create_uri(meta_path)))\n",
    "\n",
    "# TODO: link to SeDAS API"
   ]
  },
  {
   "cell_type": "code",
   "execution_count": 56,
   "metadata": {},
   "outputs": [],
   "source": [
    "# meta = novasar_parsemeta(scene_name, scene_obj_paths)\n",
    "\n",
    "# orbit_data = meta['Dimap_Document']['Dataset_Sources']['MDElem']['MDElem'][1]['MDElem']['MDElem'][2]['MDATTR'][0]['#text'] #this seems daft"
   ]
  },
  {
   "cell_type": "code",
   "execution_count": 14,
   "metadata": {},
   "outputs": [],
   "source": [
    "def novasar_get_crs_and_bbox(raster_uri):\n",
    "    \"\"\"\n",
    "    BBOX list, geometry shapely and rasterio crs from\n",
    "    URI of COG.\n",
    "    nb: footprint currently same as bbo.\n",
    "    \"\"\"\n",
    "    with rasterio.open(raster_uri) as ds:\n",
    "        bounds = ds.bounds\n",
    "        bbox = [bounds.left, bounds.bottom, bounds.right, bounds.top]\n",
    "        footprint = [[\n",
    "            [bounds.left, bounds.bottom],\n",
    "            [bounds.left, bounds.top],\n",
    "            [bounds.right, bounds.top],\n",
    "            [bounds.right, bounds.bottom],\n",
    "            [bounds.left, bounds.bottom]\n",
    "        ]] \n",
    "        return bbox, {'type': 'Polygon', 'coordinates': footprint}, ds.crs #changed format of geometry"
   ]
  },
  {
   "cell_type": "code",
   "execution_count": 15,
   "metadata": {},
   "outputs": [],
   "source": [
    "def novasar_get_instrument_mode(scene_obj_paths): \n",
    "    return scene_obj_paths[0].split('/')[1] # any object path"
   ]
  },
  {
   "cell_type": "code",
   "execution_count": 16,
   "metadata": {},
   "outputs": [
    {
     "data": {
      "text/plain": [
       "'6m-Stripmap'"
      ]
     },
     "execution_count": 16,
     "metadata": {},
     "output_type": "execute_result"
    }
   ],
   "source": [
    "novasar_get_instrument_mode(scene_obj_paths)"
   ]
  },
  {
   "cell_type": "code",
   "execution_count": 17,
   "metadata": {},
   "outputs": [
    {
     "data": {
      "text/plain": [
       "([-1.0478259576205007,\n",
       "  50.397680132459946,\n",
       "  -0.6671061061552759,\n",
       "  50.6936401639443],\n",
       " {'type': 'Polygon',\n",
       "  'coordinates': [[[-1.0478259576205007, 50.397680132459946],\n",
       "    [-1.0478259576205007, 50.6936401639443],\n",
       "    [-0.6671061061552759, 50.6936401639443],\n",
       "    [-0.6671061061552759, 50.397680132459946],\n",
       "    [-1.0478259576205007, 50.397680132459946]]]},\n",
       " '4326')"
      ]
     },
     "execution_count": 17,
     "metadata": {},
     "output_type": "execute_result"
    }
   ],
   "source": [
    "bbox, g, epsg = novasar_get_crs_and_bbox(create_uri([i for i in scene_obj_paths if i.endswith('.tif')][0]))\n",
    "bbox, g, epsg.to_dict()['init'][5:]"
   ]
  },
  {
   "cell_type": "code",
   "execution_count": 18,
   "metadata": {},
   "outputs": [],
   "source": [
    "#export\n",
    "def novasar_create_item(scene_name, scene_obj_paths):\n",
    "\n",
    "#     meta = pleiades_parsemeta(scene_name, scene_obj_paths)\n",
    "\n",
    "#     crs = pleiades_get_crs(meta)\n",
    "\n",
    "    bbox, g, epsg = novasar_get_crs_and_bbox(create_uri([i for i in scene_obj_paths if i.endswith('.tif')][0]))\n",
    "\n",
    "    item = pystac.Item(id=scene_name,\n",
    "                      datetime=novasar_get_dt(scene_name),\n",
    "                      geometry=g,\n",
    "                      bbox=bbox,\n",
    "                      properties={})\n",
    "\n",
    "    # need to add func for res of novasar\n",
    "#     item.common_metadata.gsd = pleiades_get_gsd(meta)\n",
    "\n",
    "    item.ext.enable('projection')\n",
    "    item.ext.projection.epsg = int(epsg.to_dict()['init'][5:])\n",
    "    \n",
    "    item.ext.enable('sar')\n",
    "    item.ext.sar.instrument_mode = novasar_get_instrument_mode(scene_obj_paths)\n",
    "    item.ext.sar.frequency_band = FrequencyBand('S')\n",
    "    \n",
    "    # item.ext.sar.orbit = orbit_data (no such extension)\n",
    "\n",
    "    return item"
   ]
  },
  {
   "cell_type": "code",
   "execution_count": 19,
   "metadata": {},
   "outputs": [],
   "source": [
    "item = novasar_create_item(scene_name, scene_obj_paths)"
   ]
  },
  {
   "cell_type": "code",
   "execution_count": 20,
   "metadata": {},
   "outputs": [
    {
     "data": {
      "text/plain": [
       "{'type': 'Feature',\n",
       " 'stac_version': '1.0.0-beta.2',\n",
       " 'id': 'NovaSAR_01_10135_slc_11_200215_094557_HH_1_ML_TC_TF_cog',\n",
       " 'properties': {'proj:epsg': 4326,\n",
       "  'sar:instrument_mode': '6m-Stripmap',\n",
       "  'sar:frequency_band': 'S',\n",
       "  'datetime': '2020-02-15T09:45:57Z'},\n",
       " 'geometry': {'type': 'Polygon',\n",
       "  'coordinates': [[[-1.0478259576205007, 50.397680132459946],\n",
       "    [-1.0478259576205007, 50.6936401639443],\n",
       "    [-0.6671061061552759, 50.6936401639443],\n",
       "    [-0.6671061061552759, 50.397680132459946],\n",
       "    [-1.0478259576205007, 50.397680132459946]]]},\n",
       " 'links': [],\n",
       " 'assets': {},\n",
       " 'bbox': [-1.0478259576205007,\n",
       "  50.397680132459946,\n",
       "  -0.6671061061552759,\n",
       "  50.6936401639443],\n",
       " 'stac_extensions': ['projection', 'sar']}"
      ]
     },
     "execution_count": 20,
     "metadata": {},
     "output_type": "execute_result"
    }
   ],
   "source": [
    "item.to_dict()"
   ]
  },
  {
   "cell_type": "code",
   "execution_count": 21,
   "metadata": {},
   "outputs": [],
   "source": [
    "# item.validate() # won't work as need polarisation (added below)"
   ]
  },
  {
   "cell_type": "markdown",
   "metadata": {},
   "source": [
    "### **Functions for** ***Asset*** **metadata**"
   ]
  },
  {
   "cell_type": "markdown",
   "metadata": {},
   "source": [
    "Once we have *Item* level metadata we can add the actual *Assets*. There are a few constants used within these functions at the *Item* level (i.e. band info) and criteria for finding within the object paths."
   ]
  },
  {
   "cell_type": "code",
   "execution_count": 22,
   "metadata": {},
   "outputs": [
    {
     "data": {
      "text/plain": [
       "'http://s3-uk-1.sa-catapult.co.uk/public-eo-data/novasar_uk_test/6m-Stripmap/NovaSAR_01_10135_slc_11_200215_094557_HH_1_ML_TC_TF_cog/NovaSAR_01_10135_slc_11_200215_094557_HH_1_Gamma0_Intensity_HH_db.tif'"
      ]
     },
     "execution_count": 22,
     "metadata": {},
     "output_type": "execute_result"
    }
   ],
   "source": [
    "# first, get href(s) for asset(s) in scene\n",
    "\n",
    "# cog_hrefs = list(map(create_uri, [i for i in obj_paths_list if scene_name in i if i.endswith('.tif')]))\n",
    "\n",
    "cog_href = create_uri([i for i in scene_obj_paths if i.endswith('.tif')][0])\n",
    "\n",
    "cog_href"
   ]
  },
  {
   "cell_type": "code",
   "execution_count": 23,
   "metadata": {},
   "outputs": [],
   "source": [
    "def novasar_get_pol(asset_path):\n",
    "    asset_name = os.path.basename(asset_path)\n",
    "    if '_VV_' in asset_name:\n",
    "        pol = Polarization('VV')\n",
    "    elif '_HH_' in asset_name:\n",
    "        pol = Polarization('HH')\n",
    "    return pol"
   ]
  },
  {
   "cell_type": "code",
   "execution_count": 24,
   "metadata": {},
   "outputs": [
    {
     "data": {
      "text/plain": [
       "<Polarization.HH: 'HH'>"
      ]
     },
     "execution_count": 24,
     "metadata": {},
     "output_type": "execute_result"
    }
   ],
   "source": [
    "novasar_get_pol(cog_href)"
   ]
  },
  {
   "cell_type": "code",
   "execution_count": 25,
   "metadata": {},
   "outputs": [],
   "source": [
    "def novasar_get_prod_type(asset_path): #TODO: generalise for multiple assets ??\n",
    "    asset_name = os.path.basename(asset_path)\n",
    "    if 'Gamma0' in asset_path:\n",
    "        prod = 'gamma0_db'\n",
    "    return prod"
   ]
  },
  {
   "cell_type": "code",
   "execution_count": 26,
   "metadata": {},
   "outputs": [
    {
     "data": {
      "text/plain": [
       "'gamma0_db'"
      ]
     },
     "execution_count": 26,
     "metadata": {},
     "output_type": "execute_result"
    }
   ],
   "source": [
    "novasar_get_prod_type(cog_href)"
   ]
  },
  {
   "cell_type": "code",
   "execution_count": 27,
   "metadata": {},
   "outputs": [],
   "source": [
    "# item.ext.sar.observation_direction"
   ]
  },
  {
   "cell_type": "code",
   "execution_count": 28,
   "metadata": {},
   "outputs": [],
   "source": [
    "def add_asset_novasar(item, asset_path):\n",
    "    \n",
    "    # for asset_href in asset_hrefs:\n",
    "    item.add_asset('cog', pystac.Asset(href = asset_path, media_type = pystac.MediaType.COG))\n",
    "\n",
    "    item.ext.sar.polarizations = [Polarization(novasar_get_pol(asset_path))]\n",
    "    item.ext.sar.product_type = novasar_get_prod_type(os.path.basename(asset_path))\n",
    "    \n",
    "    return item"
   ]
  },
  {
   "cell_type": "code",
   "execution_count": 29,
   "metadata": {},
   "outputs": [
    {
     "data": {
      "text/plain": [
       "<Item id=NovaSAR_01_10135_slc_11_200215_094557_HH_1_ML_TC_TF_cog>"
      ]
     },
     "execution_count": 29,
     "metadata": {},
     "output_type": "execute_result"
    }
   ],
   "source": [
    "add_asset_novasar(item, cog_href)"
   ]
  },
  {
   "cell_type": "code",
   "execution_count": 30,
   "metadata": {},
   "outputs": [],
   "source": [
    "item.validate()"
   ]
  },
  {
   "cell_type": "code",
   "execution_count": 31,
   "metadata": {},
   "outputs": [
    {
     "data": {
      "text/plain": [
       "{'type': 'Feature',\n",
       " 'stac_version': '1.0.0-beta.2',\n",
       " 'id': 'NovaSAR_01_10135_slc_11_200215_094557_HH_1_ML_TC_TF_cog',\n",
       " 'properties': {'proj:epsg': 4326,\n",
       "  'sar:instrument_mode': '6m-Stripmap',\n",
       "  'sar:frequency_band': 'S',\n",
       "  'datetime': '2020-02-15T09:45:57Z',\n",
       "  'sar:polarizations': ['HH'],\n",
       "  'sar:product_type': 'gamma0_db'},\n",
       " 'geometry': {'type': 'Polygon',\n",
       "  'coordinates': [[[-1.0478259576205007, 50.397680132459946],\n",
       "    [-1.0478259576205007, 50.6936401639443],\n",
       "    [-0.6671061061552759, 50.6936401639443],\n",
       "    [-0.6671061061552759, 50.397680132459946],\n",
       "    [-1.0478259576205007, 50.397680132459946]]]},\n",
       " 'links': [],\n",
       " 'assets': {'cog': {'href': 'http://s3-uk-1.sa-catapult.co.uk/public-eo-data/novasar_uk_test/6m-Stripmap/NovaSAR_01_10135_slc_11_200215_094557_HH_1_ML_TC_TF_cog/NovaSAR_01_10135_slc_11_200215_094557_HH_1_Gamma0_Intensity_HH_db.tif',\n",
       "   'type': <MediaType.COG: 'image/tiff; application=geotiff; profile=cloud-optimized'>}},\n",
       " 'bbox': [-1.0478259576205007,\n",
       "  50.397680132459946,\n",
       "  -0.6671061061552759,\n",
       "  50.6936401639443],\n",
       " 'stac_extensions': ['projection', 'sar']}"
      ]
     },
     "execution_count": 31,
     "metadata": {},
     "output_type": "execute_result"
    }
   ],
   "source": [
    "item.to_dict()"
   ]
  },
  {
   "cell_type": "markdown",
   "metadata": {},
   "source": [
    "### Make Collection"
   ]
  },
  {
   "cell_type": "markdown",
   "metadata": {},
   "source": [
    "Now gather 6m and 20m resolution assets together into collections"
   ]
  },
  {
   "cell_type": "code",
   "execution_count": 32,
   "metadata": {},
   "outputs": [
    {
     "data": {
      "text/plain": [
       "'novasar_uk_test/20m-ScanSAR/NovaSAR_01_11849_scd_20_200524_094209_HH_1_ML_TC_TF_cog/NovaSAR_01_11849_scd_20_200524_094209_HH_1_Gamma0_intensity_HH_db.tif'"
      ]
     },
     "execution_count": 32,
     "metadata": {},
     "output_type": "execute_result"
    }
   ],
   "source": [
    "[i for i in obj_paths_list if '_Gamma0_' in i][0]"
   ]
  },
  {
   "cell_type": "code",
   "execution_count": 33,
   "metadata": {},
   "outputs": [],
   "source": [
    "def create_novasar_collection(novasar_dir, bucket=s3_bucket): #, n=None):\n",
    "    \n",
    "    collection_id = f'novasar_{novasar_dir[16:]}'\n",
    "    collection_title = 'NovaSAR test'\n",
    "    collection_description = '''### NovaSAR test STACs\n",
    "\n",
    "    A collection of NovaSAR COGs stored in Catapult object storage\n",
    "    '''\n",
    "    \n",
    "    # initially arbitrary as updated later\n",
    "    spatial_extent = pystac.SpatialExtent([[-180, 90, 180, 90]])\n",
    "    temporal_extent = pystac.TemporalExtent([[datetime(2011, 12, 16), None]])\n",
    "    collection_extent = pystac.Extent(spatial_extent, temporal_extent)\n",
    "    \n",
    "    collection = pystac.Collection(id=collection_id,\n",
    "                                   title=collection_title,\n",
    "                                   description=collection_description,\n",
    "                                   extent=collection_extent,\n",
    "                                   properties={})\n",
    "    \n",
    "    collection.providers = [\n",
    "       # pystac.Provider(name='European Space Agency', roles=['producer'], url='https://www.esa.int/'),\n",
    "       # pystac.Provider(name='European Space Agency', roles=['licensor'], url='https://www.esa.int/'),\n",
    "        pystac.Provider(name='Satellite Applications Catapult', roles=['processor'], url='https://sa.catapult.org.uk/'),\n",
    "        pystac.Provider(name='Satellite Applications Catapult', roles=['host'], url='https://sa.catapult.org.uk/')\n",
    "    ]\n",
    "    \n",
    "    obj_paths_list = s3_list_objects_paths(bucket, novasar_dir)\n",
    "    scene_names = list(np.unique([i.split('/')[2] for i in obj_paths_list]))\n",
    "    \n",
    "    for scene_name in scene_names: #[:n]:\n",
    "        \n",
    "        print(scene_name)\n",
    "        \n",
    "        scene_obj_paths = [i for i in obj_paths_list if scene_name in i]\n",
    "        \n",
    "        item = novasar_create_item(scene_name, scene_obj_paths)\n",
    "        \n",
    "        add_asset_novasar(item, create_uri([i for i in scene_obj_paths if '_Gamma0_' in i][0])) # only works for gamma 0 products (so far)\n",
    "        \n",
    "        collection.add_item(item)\n",
    "    \n",
    "    collection.update_extent_from_items()\n",
    "        \n",
    "    return collection"
   ]
  },
  {
   "cell_type": "code",
   "execution_count": 34,
   "metadata": {},
   "outputs": [
    {
     "name": "stdout",
     "output_type": "stream",
     "text": [
      "NovaSAR_01_10135_slc_11_200215_094557_HH_1_ML_TC_TF_cog\n",
      "NovaSAR_01_10135_slc_11_200215_094601_HH_2_ML_TC_TF_cog\n",
      "NovaSAR_01_10387_slc_11_200307_101114_HH_1_ML_TC_TF_cog\n",
      "NovaSAR_01_10387_slc_11_200307_101118_HH_2_ML_TC_TF_cog\n",
      "NovaSAR_01_10387_slc_11_200307_101122_HH_3_ML_TC_TF_cog\n",
      "NovaSAR_01_10387_slc_11_200307_101127_HH_4_ML_TC_TF_cog\n",
      "NovaSAR_01_11109_slc_11_200410_232727_HH_1_ML_TC_TF_cog\n",
      "NovaSAR_01_11109_slc_11_200410_232732_HH_2_ML_TC_TF_cog\n",
      "NovaSAR_01_11109_slc_11_200410_232737_HH_3_ML_TC_TF_cog\n",
      "NovaSAR_01_11183_slc_11_200417_000118_HH_1_ML_TC_TF_cog\n",
      "NovaSAR_01_11183_slc_11_200417_000122_HH_2_ML_TC_TF_cog\n",
      "NovaSAR_01_11454_slc_11_200506_224624_HH_1_ML_TC_TF_cog\n",
      "NovaSAR_01_11454_slc_11_200506_224629_HH_2_ML_TC_TF_cog\n",
      "NovaSAR_01_11454_slc_11_200506_224633_HH_3_ML_TC_TF_cog\n",
      "NovaSAR_01_12184_slc_11_200615_101308_HH_ML_TC_TF_cog\n",
      "NovaSAR_01_12211_slc_11_200616_101852_HH_1_ML_TC_TF_cog\n",
      "NovaSAR_01_12211_slc_11_200616_101857_HH_2_ML_TC_TF_cog\n",
      "NovaSAR_01_12478_slc_11_200626_225229_HH_1_ML_TC_TF_cog\n",
      "NovaSAR_01_12478_slc_11_200626_225234_HH_2_ML_TC_TF_cog\n",
      "NovaSAR_01_12507_slc_11_200627_225809_HH_1_ML_TC_TF_cog\n",
      "NovaSAR_01_12507_slc_11_200627_225813_HH_2_ML_TC_TF_cog\n",
      "NovaSAR_01_12507_slc_11_200627_225816_HH_3_ML_TC_TF_cog\n",
      "NovaSAR_01_12520_slc_11_200628_095221_HH_1_ML_TC_TF_cog\n",
      "NovaSAR_01_12520_slc_11_200628_095224_HH_2_ML_TC_TF_cog\n",
      "NovaSAR_01_12520_slc_11_200628_095228_HH_3_ML_TC_TF_cog\n",
      "NovaSAR_01_12520_slc_11_200628_095232_HH_4_ML_TC_TF_cog\n",
      "NovaSAR_01_12520_slc_11_200628_095235_HH_5_ML_TC_TF_cog\n",
      "NovaSAR_01_12983_slc_11_200715_230535_VV_ML_TC_TF_cog\n",
      "NovaSAR_01_13032_slc_11_200717_100641_VV_ML_TC_TF_cog\n",
      "NovaSAR_01_13113_slc_11_200719_232900_VV_1_ML_TC_TF_cog\n",
      "NovaSAR_01_13113_slc_11_200719_232905_VV_2_ML_TC_TF_cog\n",
      "NovaSAR_01_13113_slc_11_200719_232909_VV_3_ML_TC_TF_cog\n",
      "NovaSAR_01_15861_slc_11_201009_232225_VV_1_ML_TC_TF_cog\n",
      "NovaSAR_01_15861_slc_11_201009_232228_VV_2_ML_TC_TF_cog\n",
      "NovaSAR_01_15861_slc_11_201009_232232_VV_3_ML_TC_TF_cog\n",
      "NovaSAR_01_9629_slc_11_200129_094345_HH_1_ML_TC_TF_cog\n",
      "NovaSAR_01_9629_slc_11_200129_094350_HH_2_ML_TC_TF_cog\n",
      "NovaSAR_01_9629_slc_11_200129_094354_HH_3_ML_TC_TF_cog\n",
      "NovaSAR_01_9669_slc_11_200130_095029_HH_1_ML_TC_TF_cog\n",
      "NovaSAR_01_9669_slc_11_200130_095033_HH_2_ML_TC_TF_cog\n",
      "NovaSAR_01_9669_slc_11_200130_095036_HH_3_ML_TC_TF_cog\n",
      "NovaSAR_01_9669_slc_11_200130_095040_HH_4_ML_TC_TF_cog\n",
      "NovaSAR_01_9669_slc_11_200130_095044_HH_5_ML_TC_TF_cog\n",
      "NovaSAR_01_11849_scd_20_200524_094209_HH_1_ML_TC_TF_cog\n",
      "NovaSAR_01_12520_slc_11_200628_095239_HH_6_ML_TC_TF_cog\n",
      "NovaSAR_01_12547_slc_11_200629_095854_HH_1_ML_TC_TF_cog\n",
      "NovaSAR_01_12547_slc_11_200629_095858_HH_2_ML_TC_TF_cog\n",
      "NovaSAR_01_12588_slc_11_200630_231438_HH_1_ML_TC_TF_cog\n",
      "NovaSAR_01_12588_slc_11_200630_231443_HH_2_ML_TC_TF_cog\n",
      "NovaSAR_01_12619_slc_11_200701_232010_HH_1_ML_TC_TF_cog\n",
      "NovaSAR_01_12619_slc_11_200701_232014_HH_2_ML_TC_TF_cog\n",
      "NovaSAR_01_12628_slc_11_200702_101516_HH_1_ML_TC_TF_cog\n",
      "NovaSAR_01_12628_slc_11_200702_101520_HH_2_ML_TC_TF_cog\n",
      "NovaSAR_01_12628_slc_11_200702_101524_HH_3_ML_TC_TF_cog\n",
      "NovaSAR_01_12628_slc_11_200702_101528_HH_4_ML_TC_TF_cog\n",
      "NovaSAR_01_12650_slc_11_200703_102230_HH_1_ML_TC_TF_cog\n",
      "NovaSAR_01_12650_slc_11_200703_102234_HH_2_ML_TC_TF_cog\n",
      "NovaSAR_01_12676_slc_11_200704_102737_HH_1_ML_TC_TF_cog\n",
      "NovaSAR_01_12676_slc_11_200704_102740_HH_2_ML_TC_TF_cog\n",
      "NovaSAR_01_12676_slc_11_200704_102744_HH_3_ML_TC_TF_cog\n",
      "NovaSAR_01_12702_slc_11_200705_103232_HH_ML_TC_TF_cog\n",
      "NovaSAR_01_12729_slc_11_200706_103817_HH_ML_TC_TF_cog\n"
     ]
    }
   ],
   "source": [
    "collection_6m = create_novasar_collection('novasar_uk_test/6m-Stripmap')\n",
    "collection_20m = create_novasar_collection('novasar_uk_test/20m-ScanSAR')"
   ]
  },
  {
   "cell_type": "code",
   "execution_count": 35,
   "metadata": {},
   "outputs": [
    {
     "data": {
      "text/plain": [
       "{'type': 'Feature',\n",
       " 'stac_version': '1.0.0-beta.2',\n",
       " 'id': 'NovaSAR_01_10135_slc_11_200215_094557_HH_1_ML_TC_TF_cog',\n",
       " 'properties': {'proj:epsg': 4326,\n",
       "  'sar:instrument_mode': '6m-Stripmap',\n",
       "  'sar:frequency_band': 'S',\n",
       "  'sar:polarizations': ['HH'],\n",
       "  'sar:product_type': 'gamma0_db',\n",
       "  'datetime': '2020-02-15T09:45:57Z'},\n",
       " 'geometry': {'type': 'Polygon',\n",
       "  'coordinates': [[[-1.0478259576205007, 50.397680132459946],\n",
       "    [-1.0478259576205007, 50.6936401639443],\n",
       "    [-0.6671061061552759, 50.6936401639443],\n",
       "    [-0.6671061061552759, 50.397680132459946],\n",
       "    [-1.0478259576205007, 50.397680132459946]]]},\n",
       " 'links': [{'rel': 'root', 'href': None, 'type': 'application/json'},\n",
       "  {'rel': 'collection', 'href': None, 'type': 'application/json'},\n",
       "  {'rel': 'parent', 'href': None, 'type': 'application/json'}],\n",
       " 'assets': {'cog': {'href': 'http://s3-uk-1.sa-catapult.co.uk/public-eo-data/novasar_uk_test/6m-Stripmap/NovaSAR_01_10135_slc_11_200215_094557_HH_1_ML_TC_TF_cog/NovaSAR_01_10135_slc_11_200215_094557_HH_1_Gamma0_Intensity_HH_db.tif',\n",
       "   'type': <MediaType.COG: 'image/tiff; application=geotiff; profile=cloud-optimized'>}},\n",
       " 'bbox': [-1.0478259576205007,\n",
       "  50.397680132459946,\n",
       "  -0.6671061061552759,\n",
       "  50.6936401639443],\n",
       " 'stac_extensions': ['projection', 'sar'],\n",
       " 'collection': 'novasar_6m-Stripmap'}"
      ]
     },
     "execution_count": 35,
     "metadata": {},
     "output_type": "execute_result"
    }
   ],
   "source": [
    "next(collection_6m.get_items()).to_dict()"
   ]
  },
  {
   "cell_type": "code",
   "execution_count": 36,
   "metadata": {},
   "outputs": [],
   "source": [
    "# collection_20m.validate()"
   ]
  },
  {
   "cell_type": "code",
   "execution_count": 37,
   "metadata": {},
   "outputs": [],
   "source": [
    "def upload_to_s3(body: bytes, key: str):\n",
    "    \n",
    "    s3_client, bucket = s3_create_client(s3_bucket='public-eo-data')\n",
    "\n",
    "    s3_client.put_object(Bucket='public-eo-data',\n",
    "                         Key=key,\n",
    "                         Body=body)\n",
    "\n",
    "# res = s3_list_objects(s3_bucket='public-eo-data', prefix='/stac_catalogs/sac_stac/')\n",
    "\n",
    "# upload_to_s3(body=json.dumps(collection.to_dict(), indent = 2), \n",
    "            # key='stac_catalogs/novasar_test/collection.json')\n",
    "\n",
    "# collection.to_dict()"
   ]
  },
  {
   "cell_type": "markdown",
   "metadata": {},
   "source": [
    "## Overall Catalog"
   ]
  },
  {
   "cell_type": "markdown",
   "metadata": {},
   "source": [
    "Create catalog for 6m and 20m collections"
   ]
  },
  {
   "cell_type": "code",
   "execution_count": 38,
   "metadata": {},
   "outputs": [],
   "source": [
    "#export\n",
    "def novasar_create_catalog(collections):\n",
    "\n",
    "    catalog_id = 'novasar-overall'\n",
    "    catalog_title = 'Catapult-hosted Novasar'\n",
    "    catalog_description = '''### NovaSAR test STACs\n",
    "\n",
    "    A collection of NovaSAR COGs stored in Catapult object storage\n",
    "    '''\n",
    "    catalog_extensions = ['eo', 'projection']\n",
    "\n",
    "    catalog = pystac.Catalog(id=catalog_id,\n",
    "                             title=catalog_title,\n",
    "                             description=catalog_description,\n",
    "                             stac_extensions=catalog_extensions)\n",
    "    \n",
    "    catalog.add_children(collections)\n",
    "\n",
    "    return catalog"
   ]
  },
  {
   "cell_type": "code",
   "execution_count": 39,
   "metadata": {},
   "outputs": [],
   "source": [
    "catalog=novasar_create_catalog([collection_6m, collection_20m])"
   ]
  },
  {
   "cell_type": "code",
   "execution_count": 40,
   "metadata": {},
   "outputs": [
    {
     "data": {
      "text/plain": [
       "{'type': 'Feature',\n",
       " 'stac_version': '1.0.0-beta.2',\n",
       " 'id': 'NovaSAR_01_10135_slc_11_200215_094557_HH_1_ML_TC_TF_cog',\n",
       " 'properties': {'proj:epsg': 4326,\n",
       "  'sar:instrument_mode': '6m-Stripmap',\n",
       "  'sar:frequency_band': 'S',\n",
       "  'sar:polarizations': ['HH'],\n",
       "  'sar:product_type': 'gamma0_db',\n",
       "  'datetime': '2020-02-15T09:45:57Z'},\n",
       " 'geometry': {'type': 'Polygon',\n",
       "  'coordinates': [[[-1.0478259576205007, 50.397680132459946],\n",
       "    [-1.0478259576205007, 50.6936401639443],\n",
       "    [-0.6671061061552759, 50.6936401639443],\n",
       "    [-0.6671061061552759, 50.397680132459946],\n",
       "    [-1.0478259576205007, 50.397680132459946]]]},\n",
       " 'links': [{'rel': 'root', 'href': None, 'type': 'application/json'},\n",
       "  {'rel': 'collection', 'href': None, 'type': 'application/json'},\n",
       "  {'rel': 'parent', 'href': None, 'type': 'application/json'}],\n",
       " 'assets': {'cog': {'href': 'http://s3-uk-1.sa-catapult.co.uk/public-eo-data/novasar_uk_test/6m-Stripmap/NovaSAR_01_10135_slc_11_200215_094557_HH_1_ML_TC_TF_cog/NovaSAR_01_10135_slc_11_200215_094557_HH_1_Gamma0_Intensity_HH_db.tif',\n",
       "   'type': <MediaType.COG: 'image/tiff; application=geotiff; profile=cloud-optimized'>}},\n",
       " 'bbox': [-1.0478259576205007,\n",
       "  50.397680132459946,\n",
       "  -0.6671061061552759,\n",
       "  50.6936401639443],\n",
       " 'stac_extensions': ['projection', 'sar'],\n",
       " 'collection': 'novasar_6m-Stripmap'}"
      ]
     },
     "execution_count": 40,
     "metadata": {},
     "output_type": "execute_result"
    }
   ],
   "source": [
    "next(next(catalog.get_children()).get_items()).to_dict()"
   ]
  },
  {
   "cell_type": "code",
   "execution_count": 48,
   "metadata": {},
   "outputs": [
    {
     "data": {
      "text/plain": [
       "{'id': 'novasar-overall',\n",
       " 'stac_version': '1.0.0-beta.2',\n",
       " 'description': '### NovaSAR test STACs\\n\\n    A collection of NovaSAR COGs stored in Catapult object storage\\n    ',\n",
       " 'links': [{'rel': 'root',\n",
       "   'href': 'http://s3-uk-1.sa-catapult.co.uk/public-eo-data/stac_catalogs/novasar_test/catalog.json',\n",
       "   'type': 'application/json'},\n",
       "  {'rel': 'child',\n",
       "   'href': 'http://s3-uk-1.sa-catapult.co.uk/public-eo-data/stac_catalogs/novasar_test/novasar_6m-Stripmap/collection.json',\n",
       "   'type': 'application/json'},\n",
       "  {'rel': 'child',\n",
       "   'href': 'http://s3-uk-1.sa-catapult.co.uk/public-eo-data/stac_catalogs/novasar_test/novasar_20m-ScanSAR/collection.json',\n",
       "   'type': 'application/json'},\n",
       "  {'rel': 'self',\n",
       "   'href': 'http://s3-uk-1.sa-catapult.co.uk/public-eo-data/stac_catalogs/novasar_test/catalog.json',\n",
       "   'type': 'application/json'}],\n",
       " 'stac_extensions': ['eo', 'projection'],\n",
       " 'title': 'Catapult-hosted Novasar'}"
      ]
     },
     "execution_count": 48,
     "metadata": {},
     "output_type": "execute_result"
    }
   ],
   "source": [
    "catalog.normalize_hrefs(create_uri('stac_catalogs/novasar_test'))\n",
    "\n",
    "catalog.to_dict()"
   ]
  },
  {
   "cell_type": "code",
   "execution_count": 49,
   "metadata": {},
   "outputs": [
    {
     "data": {
      "text/plain": [
       "'stac_catalogs/novasar_test/catalog.json'"
      ]
     },
     "execution_count": 49,
     "metadata": {},
     "output_type": "execute_result"
    }
   ],
   "source": [
    "catalog.get_self_href().split('/', 4)[4]"
   ]
  },
  {
   "cell_type": "code",
   "execution_count": 50,
   "metadata": {},
   "outputs": [],
   "source": [
    "def save_cat_to_s3(catalog):\n",
    "    \n",
    "    upload_to_s3(body=json.dumps(catalog.to_dict(), indent = 2), \n",
    "                 key=catalog.get_self_href().split('/', 4)[4])\n",
    "    \n",
    "    for collection in catalog.get_children():\n",
    "    \n",
    "        upload_to_s3(body=json.dumps(catalog.to_dict(), indent = 2), \n",
    "                 key=collection.get_self_href().split('/', 4)[4]) \n",
    "    \n",
    "        for item in collection.get_items():\n",
    "\n",
    "            upload_to_s3(body=json.dumps(item.to_dict(), indent = 2), \n",
    "                         key=item.get_self_href().split('/', 4)[4]) "
   ]
  },
  {
   "cell_type": "code",
   "execution_count": 51,
   "metadata": {},
   "outputs": [],
   "source": [
    "save_cat_to_s3(catalog)"
   ]
  },
  {
   "cell_type": "code",
   "execution_count": 52,
   "metadata": {},
   "outputs": [],
   "source": [
    "catalog.validate_all()"
   ]
  },
  {
   "cell_type": "markdown",
   "metadata": {},
   "source": [
    "### SeDAS "
   ]
  },
  {
   "cell_type": "code",
   "execution_count": 46,
   "metadata": {},
   "outputs": [
    {
     "name": "stdin",
     "output_type": "stream",
     "text": [
      "Please enter your test username: \n"
     ]
    },
    {
     "ename": "ValueError",
     "evalue": "username and password must not be blank",
     "output_type": "error",
     "traceback": [
      "\u001b[0;31m---------------------------------------------------------------------------\u001b[0m",
      "\u001b[0;31mValueError\u001b[0m                                Traceback (most recent call last)",
      "\u001b[0;32m<ipython-input-46-7dbf5b557746>\u001b[0m in \u001b[0;36m<module>\u001b[0;34m\u001b[0m\n\u001b[1;32m     18\u001b[0m \u001b[0;34m\u001b[0m\u001b[0m\n\u001b[1;32m     19\u001b[0m     \u001b[0;31m# create the object this will connect to the test.\u001b[0m\u001b[0;34m\u001b[0m\u001b[0;34m\u001b[0m\u001b[0;34m\u001b[0m\u001b[0m\n\u001b[0;32m---> 20\u001b[0;31m     \u001b[0msedas\u001b[0m \u001b[0;34m=\u001b[0m \u001b[0mSeDASAPI\u001b[0m\u001b[0;34m(\u001b[0m\u001b[0m_username\u001b[0m\u001b[0;34m,\u001b[0m \u001b[0m__password\u001b[0m\u001b[0;34m)\u001b[0m\u001b[0;34m\u001b[0m\u001b[0;34m\u001b[0m\u001b[0m\n\u001b[0m\u001b[1;32m     21\u001b[0m \u001b[0;34m\u001b[0m\u001b[0m\n\u001b[1;32m     22\u001b[0m     \u001b[0;31m# set the base url to point at the test instance\u001b[0m\u001b[0;34m\u001b[0m\u001b[0;34m\u001b[0m\u001b[0;34m\u001b[0m\u001b[0m\n",
      "\u001b[0;32m/opt/conda/lib/python3.7/site-packages/sedas_pyapi/sedas_api.py\u001b[0m in \u001b[0;36m__init__\u001b[0;34m(self, username, password)\u001b[0m\n\u001b[1;32m     44\u001b[0m         \u001b[0mself\u001b[0m\u001b[0;34m.\u001b[0m\u001b[0m_username\u001b[0m \u001b[0;34m=\u001b[0m \u001b[0musername\u001b[0m\u001b[0;34m\u001b[0m\u001b[0;34m\u001b[0m\u001b[0m\n\u001b[1;32m     45\u001b[0m         \u001b[0mself\u001b[0m\u001b[0;34m.\u001b[0m\u001b[0m__password\u001b[0m \u001b[0;34m=\u001b[0m \u001b[0mpassword\u001b[0m\u001b[0;34m\u001b[0m\u001b[0;34m\u001b[0m\u001b[0m\n\u001b[0;32m---> 46\u001b[0;31m         \u001b[0mself\u001b[0m\u001b[0;34m.\u001b[0m\u001b[0mlogin\u001b[0m\u001b[0;34m(\u001b[0m\u001b[0;34m)\u001b[0m\u001b[0;34m\u001b[0m\u001b[0;34m\u001b[0m\u001b[0m\n\u001b[0m\u001b[1;32m     47\u001b[0m \u001b[0;34m\u001b[0m\u001b[0m\n\u001b[1;32m     48\u001b[0m     \u001b[0;32mdef\u001b[0m \u001b[0mlogin\u001b[0m\u001b[0;34m(\u001b[0m\u001b[0mself\u001b[0m\u001b[0;34m)\u001b[0m \u001b[0;34m->\u001b[0m \u001b[0;32mNone\u001b[0m\u001b[0;34m:\u001b[0m\u001b[0;34m\u001b[0m\u001b[0;34m\u001b[0m\u001b[0m\n",
      "\u001b[0;32m/opt/conda/lib/python3.7/site-packages/sedas_pyapi/sedas_api.py\u001b[0m in \u001b[0;36mlogin\u001b[0;34m(self)\u001b[0m\n\u001b[1;32m     59\u001b[0m         \u001b[0;31m# check that the username and password have been set.\u001b[0m\u001b[0;34m\u001b[0m\u001b[0;34m\u001b[0m\u001b[0;34m\u001b[0m\u001b[0m\n\u001b[1;32m     60\u001b[0m         \u001b[0;32mif\u001b[0m \u001b[0;32mnot\u001b[0m \u001b[0mself\u001b[0m\u001b[0;34m.\u001b[0m\u001b[0m_username\u001b[0m \u001b[0;32mor\u001b[0m \u001b[0;32mnot\u001b[0m \u001b[0mself\u001b[0m\u001b[0;34m.\u001b[0m\u001b[0m__password\u001b[0m\u001b[0;34m:\u001b[0m\u001b[0;34m\u001b[0m\u001b[0;34m\u001b[0m\u001b[0m\n\u001b[0;32m---> 61\u001b[0;31m             \u001b[0;32mraise\u001b[0m \u001b[0mValueError\u001b[0m\u001b[0;34m(\u001b[0m\u001b[0;34m\"username and password must not be blank\"\u001b[0m\u001b[0;34m)\u001b[0m\u001b[0;34m\u001b[0m\u001b[0;34m\u001b[0m\u001b[0m\n\u001b[0m\u001b[1;32m     62\u001b[0m \u001b[0;34m\u001b[0m\u001b[0m\n\u001b[1;32m     63\u001b[0m         \u001b[0mdata\u001b[0m \u001b[0;34m=\u001b[0m \u001b[0;34m{\u001b[0m\u001b[0;34m'username'\u001b[0m\u001b[0;34m:\u001b[0m \u001b[0mself\u001b[0m\u001b[0;34m.\u001b[0m\u001b[0m_username\u001b[0m\u001b[0;34m,\u001b[0m \u001b[0;34m'password'\u001b[0m\u001b[0;34m:\u001b[0m \u001b[0mself\u001b[0m\u001b[0;34m.\u001b[0m\u001b[0m__password\u001b[0m\u001b[0;34m}\u001b[0m\u001b[0;34m\u001b[0m\u001b[0;34m\u001b[0m\u001b[0m\n",
      "\u001b[0;31mValueError\u001b[0m: username and password must not be blank"
     ]
    }
   ],
   "source": [
    "from getpass import getpass\n",
    "from urllib.error import HTTPError\n",
    "\n",
    "from sedas_pyapi.sedas_api import SeDASAPI\n",
    "\n",
    "\n",
    "if __name__ == '__main__':\n",
    "\n",
    "    # creating the SeDASAPI object attempts to log into live. It will throw an exception if it cant. so we feed it real creds (any one using test should have a live set)\n",
    "    _username = input(\"Please enter your test username:\")\n",
    "    __password = os.getenv('SEDAS_PWD')\n",
    "\n",
    "    # Note the SeDASBulkDownload is very chatty at debug. But if you need to know what is going on enable logging.\n",
    "    # import logging\n",
    "    \n",
    "    # logging.basicConfig(level=logging.DEBUG)\n",
    "    # logger.setLevel(logging.DEBUG)\n",
    "\n",
    "    # create the object this will connect to the test.\n",
    "    sedas = SeDASAPI(_username, __password)\n",
    "\n",
    "    # set the base url to point at the test instance\n",
    "    sedas.base_url = \"https://geobrowsertest.satapps.org/api/\"\n",
    "\n",
    "    # Now we need to reset a few variables that have the original base url still\n",
    "    sedas.sensor_url = f\"{sedas.base_url}sensors\"\n",
    "    sedas.authentication_url = f\"{sedas.base_url}authentication\"\n",
    "    sedas.search_url = f\"{sedas.base_url}search\"\n",
    "\n",
    "    # Get rid of the token force the log in to happen again.\n",
    "    sedas._token = None  \n",
    "\n",
    "    # now we can get the users actual test password\n",
    "    sedas._username = input(\"Please enter your test username:\")\n",
    "    sedas.__password = getpass(\"Please enter your test password:\")\n",
    "    # and log into test\n",
    "    sedas.login()\n",
    "\n",
    "    # now what ever end points we call should go to the test server.\n",
    "    result_sats = sedas.list_satellites()\n",
    "\n",
    "    ## do some thing a bit more interesting with the results.\n",
    "    print(json.dumps(result_sats, sort_keys=True, indent=4, separators=(',', ': ')))\n",
    "\n",
    "    satellites = []\n",
    "    for i in range(0, len(result_sats)):\n",
    "        satellites.append(result_sats[i]['name'])\n",
    "\n",
    "    print(f\"Available satellites are: {', '.join(satellites)}\")\n"
   ]
  },
  {
   "cell_type": "code",
   "execution_count": null,
   "metadata": {},
   "outputs": [],
   "source": []
  },
  {
   "cell_type": "code",
   "execution_count": null,
   "metadata": {},
   "outputs": [],
   "source": [
    "os.getenv('SEDAS_PWD')"
   ]
  },
  {
   "cell_type": "code",
   "execution_count": null,
   "metadata": {},
   "outputs": [],
   "source": [
    "from sedas_pyapi.sedas_api import SeDASAPI\n",
    "\n",
    "SeDASAPI(os.getenv('SEDAS_USERNAME'), os.getenv('SEDAS_PWD'))"
   ]
  },
  {
   "cell_type": "code",
   "execution_count": null,
   "metadata": {},
   "outputs": [],
   "source": []
  },
  {
   "cell_type": "code",
   "execution_count": null,
   "metadata": {},
   "outputs": [],
   "source": []
  }
 ],
 "metadata": {
  "kernelspec": {
   "display_name": "Python 3",
   "language": "python",
   "name": "python3"
  },
  "language_info": {
   "codemirror_mode": {
    "name": "ipython",
    "version": 3
   },
   "file_extension": ".py",
   "mimetype": "text/x-python",
   "name": "python",
   "nbconvert_exporter": "python",
   "pygments_lexer": "ipython3",
   "version": "3.7.4"
  },
  "toc-showcode": true
 },
 "nbformat": 4,
 "nbformat_minor": 4
}
