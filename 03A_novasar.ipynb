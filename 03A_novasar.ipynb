{
 "cells": [
  {
   "cell_type": "code",
   "execution_count": null,
   "metadata": {},
   "outputs": [],
   "source": [
    "#default_exp pleiades"
   ]
  },
  {
   "cell_type": "markdown",
   "metadata": {},
   "source": [
    "# NovaSAR\n",
    "\n",
    "> Working through stac item metadata parsing, etc. for NovaSAR datasets (data already prepped to COG)."
   ]
  },
  {
   "cell_type": "code",
   "execution_count": null,
   "metadata": {},
   "outputs": [],
   "source": [
    "#hide\n",
    "%load_ext autoreload\n",
    "%autoreload 2"
   ]
  },
  {
   "cell_type": "code",
   "execution_count": null,
   "metadata": {},
   "outputs": [],
   "source": [
    "#hide\n",
    "from nbdev.showdoc import *"
   ]
  },
  {
   "cell_type": "code",
   "execution_count": null,
   "metadata": {},
   "outputs": [],
   "source": [
    "#export\n",
    "import os\n",
    "from glob import glob\n",
    "import time\n",
    "import numpy as np\n",
    "from datetime import datetime\n",
    "import json\n",
    "\n",
    "import xmltodict\n",
    "import pystac\n",
    "from pystac import STAC_IO\n",
    "from pystac.extensions.eo import Band\n",
    "from pystac.extensions.sar import FrequencyBand, Polarization, ObservationDirection\n",
    "import geopandas as gpd\n",
    "import rasterio\n",
    "from shapely.geometry import Polygon\n",
    "\n",
    "from sac_stac.utils import s3_list_objects_paths\n",
    "from sac_stac.utils import pystac_setIO, create_uri"
   ]
  },
  {
   "cell_type": "markdown",
   "metadata": {},
   "source": [
    "## **STAC metadata**: ***core & extensions***"
   ]
  },
  {
   "cell_type": "markdown",
   "metadata": {},
   "source": [
    "With the cogs above hosted object storage we can go create some tools for building a STAC *Collection* from them, to be used within in **insert nb** to build a *Catalog* of different Catapult *Collections*. As per the nb these initially sit within a *static* STAC alongside the actual datasets on the object storage. However we plan on hosting via a STAC compliant API - probs [pygeoapi](https://pygeoapi.io/)."
   ]
  },
  {
   "cell_type": "code",
   "execution_count": null,
   "metadata": {},
   "outputs": [],
   "source": [
    "obj_paths_list = s3_list_objects_paths('public-eo-data', 'novasar_uk_test/')"
   ]
  },
  {
   "cell_type": "code",
   "execution_count": null,
   "metadata": {},
   "outputs": [
    {
     "data": {
      "text/plain": [
       "['NovaSAR_01_10135_slc_11_200215_094557_HH_1_ML_TC_TF_cog',\n",
       " 'NovaSAR_01_10135_slc_11_200215_094601_HH_2_ML_TC_TF_cog',\n",
       " 'NovaSAR_01_10387_slc_11_200307_101114_HH_1_ML_TC_TF_cog',\n",
       " 'NovaSAR_01_10387_slc_11_200307_101118_HH_2_ML_TC_TF_cog',\n",
       " 'NovaSAR_01_10387_slc_11_200307_101122_HH_3_ML_TC_TF_cog']"
      ]
     },
     "execution_count": null,
     "metadata": {},
     "output_type": "execute_result"
    }
   ],
   "source": [
    "# get unique Item / scene names (third dir from path)\n",
    "scene_names = list(np.unique([ i.split('/')[2] for i in obj_paths_list ]))\n",
    "scene_names[:5]"
   ]
  },
  {
   "cell_type": "markdown",
   "metadata": {},
   "source": [
    "### **Individual example for iteration**"
   ]
  },
  {
   "cell_type": "markdown",
   "metadata": {},
   "source": [
    "can just work with one"
   ]
  },
  {
   "cell_type": "code",
   "execution_count": null,
   "metadata": {},
   "outputs": [
    {
     "data": {
      "text/plain": [
       "'NovaSAR_01_10135_slc_11_200215_094557_HH_1_ML_TC_TF_cog'"
      ]
     },
     "execution_count": null,
     "metadata": {},
     "output_type": "execute_result"
    }
   ],
   "source": [
    "scene_name = scene_names[0]\n",
    "scene_name"
   ]
  },
  {
   "cell_type": "markdown",
   "metadata": {},
   "source": [
    "and objects associated with that scene"
   ]
  },
  {
   "cell_type": "code",
   "execution_count": null,
   "metadata": {},
   "outputs": [
    {
     "data": {
      "text/plain": [
       "['novasar_uk_test/6m-Stripmap/NovaSAR_01_10135_slc_11_200215_094557_HH_1_ML_TC_TF_cog/NovaSAR_01_10135_slc_11_200215_094557_HH_1_Gamma0_Intensity_HH_db.tif',\n",
       " 'novasar_uk_test/6m-Stripmap/NovaSAR_01_10135_slc_11_200215_094557_HH_1_ML_TC_TF_cog/original_metadata.xml']"
      ]
     },
     "execution_count": null,
     "metadata": {},
     "output_type": "execute_result"
    }
   ],
   "source": [
    "scene_obj_paths = [ i for i in obj_paths_list if scene_name in i]\n",
    "scene_obj_paths[:2]"
   ]
  },
  {
   "cell_type": "markdown",
   "metadata": {},
   "source": [
    "set our own I/O for pystac"
   ]
  },
  {
   "cell_type": "code",
   "execution_count": null,
   "metadata": {},
   "outputs": [],
   "source": [
    "#export\n",
    "pystac_setIO()"
   ]
  },
  {
   "cell_type": "markdown",
   "metadata": {},
   "source": [
    "### **Functions for** ***Item*** **metadata**"
   ]
  },
  {
   "cell_type": "code",
   "execution_count": null,
   "metadata": {},
   "outputs": [],
   "source": [
    "#export\n",
    "def novasar_get_dt(scene_name):\n",
    "    return datetime.strptime('_'.join(scene_name.split('_')[5:7]), '%y%m%d_%H%M%S')"
   ]
  },
  {
   "cell_type": "code",
   "execution_count": null,
   "metadata": {},
   "outputs": [
    {
     "data": {
      "text/plain": [
       "datetime.datetime(2020, 2, 15, 9, 45, 57)"
      ]
     },
     "execution_count": null,
     "metadata": {},
     "output_type": "execute_result"
    }
   ],
   "source": [
    "novasar_get_dt(scene_name)"
   ]
  },
  {
   "cell_type": "code",
   "execution_count": null,
   "metadata": {},
   "outputs": [],
   "source": [
    "#export\n",
    "def novasar_parsemeta(scene_name, scene_obj_paths):\n",
    "    meta_path = [i for i in scene_obj_paths if (i.endswith('.dim'))][0]\n",
    "    return xmltodict.parse(pystac.STAC_IO.read_text(create_uri(meta_path)))"
   ]
  },
  {
   "cell_type": "code",
   "execution_count": null,
   "metadata": {},
   "outputs": [
    {
     "data": {
      "text/plain": [
       "odict_keys(['@name', 'Metadata_Id', 'Dataset_Id', 'Dataset_Use', 'Production', 'Coordinate_Reference_System', 'Geoposition', 'Raster_Dimensions', 'Data_Access', 'Image_Interpretation', 'Dataset_Sources'])"
      ]
     },
     "execution_count": null,
     "metadata": {},
     "output_type": "execute_result"
    }
   ],
   "source": [
    "meta = novasar_parsemeta(scene_name, scene_obj_paths)\n",
    "meta['Dimap_Document'].keys()"
   ]
  },
  {
   "cell_type": "code",
   "execution_count": null,
   "metadata": {},
   "outputs": [],
   "source": [
    "def novasar_get_crs_and_bbox(raster_uri):\n",
    "    \"\"\"\n",
    "    BBOX list, geometry shapely and rasterio crs from\n",
    "    URI of COG.\n",
    "    nb: footprint currently same as bbo.\n",
    "    \"\"\"\n",
    "    with rasterio.open(raster_uri) as ds:\n",
    "        bounds = ds.bounds\n",
    "        bbox = [bounds.left, bounds.bottom, bounds.right, bounds.top]\n",
    "        footprint = Polygon([\n",
    "            [bounds.left, bounds.bottom],\n",
    "            [bounds.left, bounds.top],\n",
    "            [bounds.right, bounds.top],\n",
    "            [bounds.right, bounds.bottom]\n",
    "        ])\n",
    "        return bbox, footprint, ds.crs"
   ]
  },
  {
   "cell_type": "code",
   "execution_count": null,
   "metadata": {},
   "outputs": [
    {
     "data": {
      "text/plain": [
       "([-1.2347811947155378,\n",
       "  50.54787880721796,\n",
       "  -0.8301439683052121,\n",
       "  50.88365450771424],\n",
       " 'POLYGON ((-1.2347811947155378 50.5478788072179626, -1.2347811947155378 50.8836545077142404, -0.8301439683052121 50.8836545077142404, -0.8301439683052121 50.5478788072179626, -1.2347811947155378 50.5478788072179626))',\n",
       " '4326')"
      ]
     },
     "execution_count": null,
     "metadata": {},
     "output_type": "execute_result"
    }
   ],
   "source": [
    "bbox, g, epsg = novasar_get_crs_and_bbox('https://s3-uk-1.sa-catapult.co.uk/public-eo-data/novasar_uk_test/6m-Stripmap/NovaSAR_01_9629_slc_11_200129_094350_HH_2_ML_TC_TF_cog/NovaSAR_01_9629_slc_11_200129_094350_HH_2_Gamma0_Intensity_HH_db.tif')\n",
    "bbox, g.to_wkt(), epsg.to_dict()['init'][5:]"
   ]
  },
  {
   "cell_type": "code",
   "execution_count": null,
   "metadata": {},
   "outputs": [],
   "source": [
    "#export\n",
    "def novasar_create_item(scene_name, scene_obj_paths):\n",
    "\n",
    "#     meta = pleiades_parsemeta(scene_name, scene_obj_paths)\n",
    "\n",
    "#     crs = pleiades_get_crs(meta)\n",
    "\n",
    "    bbox, g, epsg = novasar_get_crs_and_bbox(create_uri([i for i in scene_obj_paths if i.endswith('.tif')][0]))\n",
    "\n",
    "    item = pystac.Item(id=scene_name,\n",
    "                      datetime=novasar_get_dt(scene_name),\n",
    "                      geometry=g.to_wkt(),\n",
    "                      bbox=bbox,\n",
    "                      properties={})\n",
    "\n",
    "    # need to add func for res of novasar\n",
    "#     item.common_metadata.gsd = pleiades_get_gsd(meta)\n",
    "\n",
    "    item.ext.enable('projection')\n",
    "    item.ext.projection.epsg = epsg.to_dict()['init'][5:]\n",
    "    \n",
    "    item.ext.enable('sar')\n",
    "    item.ext.sar.instrument_mode = \"6m-Stripmap\"\n",
    "    item.ext.sar.frequency_band = FrequencyBand('S')\n",
    "\n",
    "    \n",
    "    return item"
   ]
  },
  {
   "cell_type": "code",
   "execution_count": null,
   "metadata": {},
   "outputs": [
    {
     "data": {
      "text/plain": [
       "<Item id=NovaSAR_01_10135_slc_11_200215_094557_HH_1_ML_TC_TF_cog>"
      ]
     },
     "execution_count": null,
     "metadata": {},
     "output_type": "execute_result"
    }
   ],
   "source": [
    "novasar_create_item(scene_name, scene_obj_paths)"
   ]
  },
  {
   "cell_type": "code",
   "execution_count": null,
   "metadata": {},
   "outputs": [
    {
     "data": {
      "text/plain": [
       "{'type': 'Feature',\n",
       " 'stac_version': '1.0.0-beta.2',\n",
       " 'id': 'NovaSAR_01_10135_slc_11_200215_094557_HH_1_ML_TC_TF_cog',\n",
       " 'properties': {'proj:epsg': '4326',\n",
       "  'sar:instrument_mode': '6m-Stripmap',\n",
       "  'sar:frequency_band': 'S',\n",
       "  'datetime': '2020-02-15T09:45:57Z'},\n",
       " 'geometry': 'POLYGON ((-1.0478259576205007 50.3976801324599464, -1.0478259576205007 50.6936401639443019, -0.6671061061552759 50.6936401639443019, -0.6671061061552759 50.3976801324599464, -1.0478259576205007 50.3976801324599464))',\n",
       " 'links': [],\n",
       " 'assets': {},\n",
       " 'bbox': [-1.0478259576205007,\n",
       "  50.397680132459946,\n",
       "  -0.6671061061552759,\n",
       "  50.6936401639443],\n",
       " 'stac_extensions': ['projection', 'sar']}"
      ]
     },
     "execution_count": null,
     "metadata": {},
     "output_type": "execute_result"
    }
   ],
   "source": [
    "novasar_create_item(scene_name, scene_obj_paths).to_dict()"
   ]
  },
  {
   "cell_type": "markdown",
   "metadata": {},
   "source": [
    "### **Functions for** ***Asset*** **metadata**"
   ]
  },
  {
   "cell_type": "markdown",
   "metadata": {},
   "source": [
    "Once we have *Item* level metadata we can add the actual *Assets*. There are a few constants used within these functions at the *Item* level (i.e. band info) and criteria for finding within the object paths."
   ]
  },
  {
   "cell_type": "code",
   "execution_count": null,
   "metadata": {},
   "outputs": [],
   "source": [
    "def novasar_get_pol(asset_path):\n",
    "    asset_name = os.path.basename(asset_path)\n",
    "    if '_VV_' in asset_name:\n",
    "        pol = Polarization('VV')\n",
    "    elif '_HH_' in asset_name:\n",
    "        pol = Polarization('HH')\n",
    "    return pol"
   ]
  },
  {
   "cell_type": "code",
   "execution_count": null,
   "metadata": {},
   "outputs": [
    {
     "data": {
      "text/plain": [
       "<Polarization.HH: 'HH'>"
      ]
     },
     "execution_count": null,
     "metadata": {},
     "output_type": "execute_result"
    }
   ],
   "source": [
    "novasar_get_pol([os.path.basename(i) for i in scene_obj_paths if i.endswith('.tif')][0])"
   ]
  },
  {
   "cell_type": "code",
   "execution_count": null,
   "metadata": {},
   "outputs": [],
   "source": [
    "def novasar_get_prod_type(asset_path):\n",
    "    asset_name = os.path.basename(asset_path)\n",
    "    if 'Gamma0' in asset_path:\n",
    "        prod = 'gamma0_db'\n",
    "    return prod"
   ]
  },
  {
   "cell_type": "code",
   "execution_count": null,
   "metadata": {},
   "outputs": [
    {
     "data": {
      "text/plain": [
       "'gamma0_db'"
      ]
     },
     "execution_count": null,
     "metadata": {},
     "output_type": "execute_result"
    }
   ],
   "source": [
    "get_prod_type([os.path.basename(i) for i in scene_obj_paths if i.endswith('.tif')][0])"
   ]
  },
  {
   "cell_type": "code",
   "execution_count": null,
   "metadata": {},
   "outputs": [],
   "source": []
  },
  {
   "cell_type": "code",
   "execution_count": null,
   "metadata": {},
   "outputs": [],
   "source": [
    "item.ext.sar.polarizations = [Polarization(get_pol(scene_name))]\n",
    "item.ext.sar.product_type = 'gamma0_dB'\n",
    "# item.ext.sar.observation_direction"
   ]
  },
  {
   "cell_type": "code",
   "execution_count": null,
   "metadata": {},
   "outputs": [],
   "source": []
  },
  {
   "cell_type": "code",
   "execution_count": null,
   "metadata": {},
   "outputs": [],
   "source": []
  },
  {
   "cell_type": "code",
   "execution_count": null,
   "metadata": {},
   "outputs": [],
   "source": []
  }
 ],
 "metadata": {
  "kernelspec": {
   "display_name": "Python 3",
   "language": "python",
   "name": "python3"
  }
 },
 "nbformat": 4,
 "nbformat_minor": 4
}
