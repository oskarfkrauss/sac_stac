{
 "cells": [
  {
   "cell_type": "code",
   "execution_count": null,
   "metadata": {},
   "outputs": [],
   "source": [
    "#default_exp sentinel2"
   ]
  },
  {
   "cell_type": "markdown",
   "metadata": {},
   "source": [
    "# Catapult Sentinel-2 L2A\n",
    "\n",
    "> STAC *Item* and *Collection* metadata attribute hardcoding and parsing for Sentinel-2 datasets prepared by Catapult (data already prepped to COG). Copernicus-generated L2A datasets converted directly to COGs and where L1C available appropriate sen2cor versions applied. "
   ]
  },
  {
   "cell_type": "markdown",
   "metadata": {},
   "source": [
    "**This nb takes care of both hardcoding and parsing of *Collection* and *Item*-specific metadata attributes.**\n",
    "\n",
    "**See cs_stac_catalog nb for compilation of all catalogues and writing to public-eo-data. We envisage this second nb comprising tools for updating / appending new items to a *Collection*.**"
   ]
  },
  {
   "cell_type": "code",
   "execution_count": null,
   "metadata": {},
   "outputs": [
    {
     "name": "stdout",
     "output_type": "stream",
     "text": [
      "The autoreload extension is already loaded. To reload it, use:\n",
      "  %reload_ext autoreload\n"
     ]
    }
   ],
   "source": [
    "#hide\n",
    "%load_ext autoreload\n",
    "%autoreload 2"
   ]
  },
  {
   "cell_type": "code",
   "execution_count": null,
   "metadata": {},
   "outputs": [],
   "source": [
    "#hide\n",
    "from nbdev.showdoc import *"
   ]
  },
  {
   "cell_type": "code",
   "execution_count": null,
   "metadata": {},
   "outputs": [],
   "source": [
    "#export\n",
    "import os\n",
    "from glob import glob\n",
    "import time\n",
    "import numpy as np\n",
    "from datetime import datetime\n",
    "import json\n",
    "\n",
    "import xmltodict\n",
    "import pystac\n",
    "from pystac import STAC_IO\n",
    "from pystac.extensions.eo import Band\n",
    "from pystac.extensions.sar import FrequencyBand, Polarization, ObservationDirection\n",
    "import geopandas as gpd\n",
    "import rasterio\n",
    "# from shapely.geometry import Polygon\n",
    "\n",
    "from sac_stac.utils import s3_list_objects_paths\n",
    "from sac_stac.utils import pystac_setIO, create_uri, get_img_crs_and_bbox\n",
    "from sac_stac.extensions import add_custom_extensions\n",
    "add_custom_extensions() # needed to extend pystac extensions without formally adding\n",
    "pystac_setIO() # use bespoke own IO "
   ]
  },
  {
   "cell_type": "markdown",
   "metadata": {},
   "source": [
    "set our own I/O for pystac"
   ]
  },
  {
   "cell_type": "markdown",
   "metadata": {},
   "source": [
    "## **Hardcoded Attributes**"
   ]
  },
  {
   "cell_type": "code",
   "execution_count": null,
   "metadata": {},
   "outputs": [],
   "source": [
    "#export\n",
    "# common_names aligned to stac eo ext for inclusion at Asset-level - https://github.com/radiantearth/stac-spec/tree/master/extensions/eo\n",
    "# scl added for scene classification\n",
    "S2_BANDS = [Band.create(name='aot', description='TBD', common_name='aot'),\n",
    "                  Band.create(name='coastal', description='TBD', common_name='coastal'),\n",
    "                  Band.create(name='blue', description='TBD', common_name='blue'),\n",
    "                  Band.create(name='green', description='TBD', common_name='green'),\n",
    "                  Band.create(name='red', description='TBD', common_name='red'),\n",
    "                  Band.create(name='nir', description='TBD', common_name='nir'),\n",
    "                  Band.create(name='nir08', description='TBD', common_name='nir08'),\n",
    "                  Band.create(name='nir09', description='TBD', common_name='nir09'),\n",
    "                  Band.create(name='swir16', description='TBD', common_name='swir16'),\n",
    "                  Band.create(name='swir22', description='TBDm', common_name='swir22'),\n",
    "                  Band.create(name='scene_classification', description='TBDm', common_name='scene_classification'),                   \n",
    "                  ]\n",
    "# refs to help link file paths with bands when creating Assets\n",
    "S2_BAND_REFS = {\n",
    "    'AOT_10m': 'aot',\n",
    "    'B01_60m': 'coastal',\n",
    "    'B02_10m': 'blue',\n",
    "    'B03_10m': 'green',\n",
    "    'B04_10m': 'red',\n",
    "    'B08_10m': 'nir',\n",
    "    'B8A_20m': 'nir08',\n",
    "    'B09_60m': 'nir09',\n",
    "    'B11_20m': 'swir16',\n",
    "    'B12_20m': 'swir22',\n",
    "    'SCL_20m': 'scene_classification'\n",
    "}\n",
    "# measurements formatted for product_definition at Colelction-level and ODC indexing\n",
    "S2_MEASUREMENTS = [{'name':'aot','units':'1','dtype':'uint16','nodata':0},\n",
    "                   {'name':'coastal','units':'1','dtype':'uint16','nodata':0},\n",
    "                   {'name':'blue','units':'1','dtype':'uint16','nodata':0},\n",
    "                   {'name':'green','units':'1','dtype':'uint16','nodata':0},\n",
    "                   {'name':'red','units':'1','dtype':'uint16','nodata':0},\n",
    "                   {'name':'nir','units':'1','dtype':'uint16','nodata':0},\n",
    "                   {'name':'nir08','units':'1','dtype':'uint16','nodata':0},\n",
    "                   {'name':'nir09','units':'1','dtype':'uint16','nodata':0},\n",
    "                   {'name':'swir16','units':'1','dtype':'uint16','nodata':0},\n",
    "                   {'name':'swir22','units':'1','dtype':'uint16','nodata':0},\n",
    "                   {'name':'scene_classification','units':'1','dtype':'uint8','nodata':0}]\n",
    "# metadata for product_definition at Collection-level and ODC indexing\n",
    "S2_METADATA = {\n",
    "    \"product\":{\"name\":\"sentinel_2\"}\n",
    "}"
   ]
  },
  {
   "cell_type": "markdown",
   "metadata": {},
   "source": [
    "## **Representative Sample of *Collection* *Items***"
   ]
  },
  {
   "cell_type": "markdown",
   "metadata": {},
   "source": [
    "get paths of representative *Items* and *Assets* associated with *Collection*"
   ]
  },
  {
   "cell_type": "code",
   "execution_count": null,
   "metadata": {},
   "outputs": [],
   "source": [
    "obj_paths_list = s3_list_objects_paths('public-eo-data', 'common_sensing/fiji/sentinel_2/')"
   ]
  },
  {
   "cell_type": "code",
   "execution_count": null,
   "metadata": {},
   "outputs": [
    {
     "data": {
      "text/plain": [
       "['S2A_MSIL2A_20151002T222056_T01KAU',\n",
       " 'S2A_MSIL2A_20151002T222056_T01KBU',\n",
       " 'S2A_MSIL2A_20151022T222102_T01KAU',\n",
       " 'S2A_MSIL2A_20151022T222102_T01KBU',\n",
       " 'S2A_MSIL2A_20151114T223002_T60KWD']"
      ]
     },
     "execution_count": null,
     "metadata": {},
     "output_type": "execute_result"
    }
   ],
   "source": [
    "# get unique Item / scene names (third dir from path)\n",
    "item_names = list(np.unique([ i.split('/')[-2] for i in obj_paths_list ]))\n",
    "item_names[:5]"
   ]
  },
  {
   "cell_type": "markdown",
   "metadata": {},
   "source": [
    "## **Individual *Item* Example**"
   ]
  },
  {
   "cell_type": "markdown",
   "metadata": {},
   "source": [
    "can just work with one *Item* to dev tools"
   ]
  },
  {
   "cell_type": "code",
   "execution_count": null,
   "metadata": {},
   "outputs": [
    {
     "data": {
      "text/plain": [
       "'S2A_MSIL2A_20151002T222056_T01KAU'"
      ]
     },
     "execution_count": null,
     "metadata": {},
     "output_type": "execute_result"
    }
   ],
   "source": [
    "item_name = item_names[0]\n",
    "item_name"
   ]
  },
  {
   "cell_type": "markdown",
   "metadata": {},
   "source": [
    "and *Assets* associated with that *Item*"
   ]
  },
  {
   "cell_type": "code",
   "execution_count": null,
   "metadata": {},
   "outputs": [
    {
     "data": {
      "text/plain": [
       "['common_sensing/fiji/sentinel_2/S2A_MSIL2A_20151002T222056_T01KAU/S2A_MSIL2A_20151002T222056_T01KAU_AOT_10m.tif',\n",
       " 'common_sensing/fiji/sentinel_2/S2A_MSIL2A_20151002T222056_T01KAU/S2A_MSIL2A_20151002T222056_T01KAU_B01_60m.tif']"
      ]
     },
     "execution_count": null,
     "metadata": {},
     "output_type": "execute_result"
    }
   ],
   "source": [
    "item_obj_paths = [ i for i in obj_paths_list if item_name in i]\n",
    "item_obj_paths[:2]"
   ]
  },
  {
   "cell_type": "markdown",
   "metadata": {},
   "source": [
    "## ***Item* Creation & Metadata**"
   ]
  },
  {
   "cell_type": "markdown",
   "metadata": {},
   "source": [
    "Functions to parse *Item*-level metadata from file naming conventions, existing metadata files or, where necessary, reading *Asset* metadata from image."
   ]
  },
  {
   "cell_type": "code",
   "execution_count": null,
   "metadata": {},
   "outputs": [],
   "source": [
    "#export\n",
    "def s2_get_dt(item_name):\n",
    "    \"\"\"Get time \"\"\"\n",
    "    return datetime.strptime(''.join([item_name.split('_')[2][:8],item_name.split('_')[2][9:]]), '%Y%m%d%H%M%S')"
   ]
  },
  {
   "cell_type": "code",
   "execution_count": null,
   "metadata": {},
   "outputs": [
    {
     "data": {
      "text/plain": [
       "datetime.datetime(2015, 10, 2, 22, 20, 56)"
      ]
     },
     "execution_count": null,
     "metadata": {},
     "output_type": "execute_result"
    }
   ],
   "source": [
    "s2_get_dt(item_name)"
   ]
  },
  {
   "cell_type": "code",
   "execution_count": null,
   "metadata": {},
   "outputs": [],
   "source": [
    "#export\n",
    "def s2_get_spatial(img_uri):\n",
    "    bbox, g, epsg = get_img_crs_and_bbox(img_uri) # g not valid mask, only bbox geometry...\n",
    "    epsg_code = f\"EPSG:{epsg.to_dict()['init'][5:]}\"\n",
    "    geom = json.loads(gpd.GeoSeries([g], crs=epsg_code).to_crs('EPSG:4326').to_json())['features'][0]['geometry']\n",
    "    return bbox, geom, epsg_code    "
   ]
  },
  {
   "cell_type": "code",
   "execution_count": null,
   "metadata": {},
   "outputs": [
    {
     "data": {
      "text/plain": [
       "([199980.0, 7790200.0, 309780.0, 7900000.0],\n",
       " {'type': 'Polygon',\n",
       "  'coordinates': [[[-179.8664990658884, -19.961639731204293],\n",
       "    [-179.84911627778376, -18.970593044236296],\n",
       "    [-178.80690412376134, -18.983701491992505],\n",
       "    [-178.81793922844454, -19.975488243224966],\n",
       "    [-179.8664990658884, -19.961639731204293]]]},\n",
       " 'EPSG:32701')"
      ]
     },
     "execution_count": null,
     "metadata": {},
     "output_type": "execute_result"
    }
   ],
   "source": [
    "s2_get_spatial('https://s3-uk-1.sa-catapult.co.uk/public-eo-data/common_sensing/fiji/sentinel_2/S2A_MSIL2A_20151022T222102_T01KBU/S2A_MSIL2A_20151022T222102_T01KBU_B01_60m.tif')"
   ]
  },
  {
   "cell_type": "code",
   "execution_count": null,
   "metadata": {},
   "outputs": [],
   "source": [
    "#export\n",
    "def s2_create_item(item_name, item_obj_paths):\n",
    "\n",
    "    # assume first item img asset rep of spatial\n",
    "    bbox, geom, epsg = s2_get_spatial(create_uri([i for i in item_obj_paths if i.endswith('.tif')][0])) \n",
    "\n",
    "    # core\n",
    "    item = pystac.Item(id=item_name,\n",
    "                      datetime=s2_get_dt(item_name),\n",
    "                      geometry=geom,\n",
    "                      bbox=bbox,\n",
    "                      properties={})\n",
    "    \n",
    "    # extensions\n",
    "    item.ext.enable('projection')\n",
    "    item.ext.projection.epsg = int(epsg[5:])\n",
    "        \n",
    "    item.ext.enable('eo')\n",
    "    item.ext.eo.cloud_cover = 0.0    # need to get from meta\n",
    "    \n",
    "    item.common_metadata.gsd = 10    # nominal asset resolution\n",
    "    item.common_metadata.platform = 'sentinel_2'    # should diff S2 AvB?\n",
    "    item.common_metadata.instruments = ['msi']\n",
    "    item.common_metadata.constellation = 'sentinel_2'\n",
    "        \n",
    "    return item"
   ]
  },
  {
   "cell_type": "code",
   "execution_count": null,
   "metadata": {},
   "outputs": [],
   "source": [
    "example_item = s2_create_item(item_name, item_obj_paths)\n",
    "example_item.validate()"
   ]
  },
  {
   "cell_type": "code",
   "execution_count": null,
   "metadata": {},
   "outputs": [
    {
     "data": {
      "text/plain": [
       "{'type': 'Feature',\n",
       " 'stac_version': '1.0.0-beta.2',\n",
       " 'id': 'S2A_MSIL2A_20151002T222056_T01KAU',\n",
       " 'properties': {'proj:epsg': 32701,\n",
       "  'eo:cloud_cover': 0.0,\n",
       "  'gsd': 10,\n",
       "  'platform': 'sentinel-2',\n",
       "  'instruments': ['msi'],\n",
       "  'datetime': '2015-10-02T22:20:56Z'},\n",
       " 'geometry': {'type': 'Polygon',\n",
       "  'coordinates': [[[179.17926444633878, -19.943650180308413],\n",
       "    [179.20240407672088, -18.95356468137259],\n",
       "    [-179.75632222592535, -18.971998100113254],\n",
       "    [-179.77314066061123, -19.963124106519743],\n",
       "    [179.17926444633878, -19.943650180308413]]]},\n",
       " 'links': [],\n",
       " 'assets': {},\n",
       " 'bbox': [99960.0, 7790200.0, 209760.0, 7900000.0],\n",
       " 'stac_extensions': ['projection', 'eo']}"
      ]
     },
     "execution_count": null,
     "metadata": {},
     "output_type": "execute_result"
    }
   ],
   "source": [
    "example_item.to_dict()"
   ]
  },
  {
   "cell_type": "markdown",
   "metadata": {},
   "source": [
    "### **Adding *Assets* and *Asset* metadata to *Item***"
   ]
  },
  {
   "cell_type": "markdown",
   "metadata": {},
   "source": [
    "Need to find the actual asset path for a given band. (Note that we typically store COGs per-band.)"
   ]
  },
  {
   "cell_type": "code",
   "execution_count": null,
   "metadata": {},
   "outputs": [],
   "source": [
    "#export\n",
    "def s2_find_band_path(band_ref, item_obj_paths):\n",
    "    matched_paths = [ o for o in item_obj_paths if (band_ref in o) ]\n",
    "    if len(matched_paths) > 1:\n",
    "        raise Exception(f\"Found too many matches: {matched_paths}\")\n",
    "#     elif len(matched_paths) == 0:    # should probs add smth for when no asset is found (i.e. to help odc index)...\n",
    "#         raise Warning(f\"\")\n",
    "    return matched_paths[0]"
   ]
  },
  {
   "cell_type": "code",
   "execution_count": null,
   "metadata": {},
   "outputs": [
    {
     "name": "stdout",
     "output_type": "stream",
     "text": [
      "AOT_10m aot\n",
      "common_sensing/fiji/sentinel_2/S2A_MSIL2A_20151002T222056_T01KAU/S2A_MSIL2A_20151002T222056_T01KAU_AOT_10m.tif\n",
      "B01_60m coastal\n",
      "common_sensing/fiji/sentinel_2/S2A_MSIL2A_20151002T222056_T01KAU/S2A_MSIL2A_20151002T222056_T01KAU_B01_60m.tif\n",
      "B02_10m blue\n",
      "common_sensing/fiji/sentinel_2/S2A_MSIL2A_20151002T222056_T01KAU/S2A_MSIL2A_20151002T222056_T01KAU_B02_10m.tif\n",
      "B03_10m green\n",
      "common_sensing/fiji/sentinel_2/S2A_MSIL2A_20151002T222056_T01KAU/S2A_MSIL2A_20151002T222056_T01KAU_B03_10m.tif\n",
      "B04_10m red\n",
      "common_sensing/fiji/sentinel_2/S2A_MSIL2A_20151002T222056_T01KAU/S2A_MSIL2A_20151002T222056_T01KAU_B04_10m.tif\n",
      "B08_10m nir\n",
      "common_sensing/fiji/sentinel_2/S2A_MSIL2A_20151002T222056_T01KAU/S2A_MSIL2A_20151002T222056_T01KAU_B08_10m.tif\n",
      "B8A_20m nir08\n",
      "common_sensing/fiji/sentinel_2/S2A_MSIL2A_20151002T222056_T01KAU/S2A_MSIL2A_20151002T222056_T01KAU_B8A_20m.tif\n",
      "B09_60m nir09\n",
      "common_sensing/fiji/sentinel_2/S2A_MSIL2A_20151002T222056_T01KAU/S2A_MSIL2A_20151002T222056_T01KAU_B09_60m.tif\n",
      "B11_20m swir16\n",
      "common_sensing/fiji/sentinel_2/S2A_MSIL2A_20151002T222056_T01KAU/S2A_MSIL2A_20151002T222056_T01KAU_B11_20m.tif\n",
      "B12_20m swir22\n",
      "common_sensing/fiji/sentinel_2/S2A_MSIL2A_20151002T222056_T01KAU/S2A_MSIL2A_20151002T222056_T01KAU_B12_20m.tif\n",
      "SCL_20m scene_classification\n",
      "common_sensing/fiji/sentinel_2/S2A_MSIL2A_20151002T222056_T01KAU/S2A_MSIL2A_20151002T222056_T01KAU_SCL_20m.tif\n"
     ]
    }
   ],
   "source": [
    "for b_ref in S2_BAND_REFS: \n",
    "    print(b_ref, S2_BAND_REFS[b_ref])\n",
    "    print(s2_find_band_path(b_ref, item_obj_paths))"
   ]
  },
  {
   "cell_type": "markdown",
   "metadata": {},
   "source": [
    "Then we can add each asset expected to be found and test with the example item taken from above."
   ]
  },
  {
   "cell_type": "code",
   "execution_count": null,
   "metadata": {},
   "outputs": [],
   "source": [
    "#export\n",
    "def get_asset_spatial(img_uri):\n",
    "    with rasterio.open(img_uri) as ds:\n",
    "        return list(ds.shape), list(ds.transform)"
   ]
  },
  {
   "cell_type": "code",
   "execution_count": null,
   "metadata": {},
   "outputs": [],
   "source": [
    "#export\n",
    "def s2_add_assets2item(item, item_obj_paths):\n",
    "    for b_ref in S2_BAND_REFS:\n",
    "        band = [ b for b in S2_BANDS if b.name == S2_BAND_REFS[b_ref] ][0]\n",
    "\n",
    "        band_path = s2_find_band_path(b_ref, item_obj_paths)\n",
    "        band_url = create_uri(band_path)\n",
    "\n",
    "        asset = pystac.Asset(href=band_url, \n",
    "                             media_type=pystac.MediaType.COG)\n",
    "        \n",
    "        proj_shp, proj_tran = get_asset_spatial(band_url)\n",
    "        \n",
    "        item.ext.projection.set_transform(proj_tran, asset)\n",
    "        item.ext.projection.set_shape(proj_shp, asset)        \n",
    "        item.ext.eo.set_bands([band], asset)\n",
    "        \n",
    "        item.add_asset(band.name, asset)\n",
    "        \n",
    "    return item"
   ]
  },
  {
   "cell_type": "code",
   "execution_count": null,
   "metadata": {},
   "outputs": [],
   "source": [
    "example_item_with_assets = s2_add_assets2item(example_item, item_obj_paths)"
   ]
  },
  {
   "cell_type": "markdown",
   "metadata": {},
   "source": [
    "Now we can see the completed *Item* stac record."
   ]
  },
  {
   "cell_type": "code",
   "execution_count": null,
   "metadata": {},
   "outputs": [],
   "source": [
    "example_item_with_assets.validate()"
   ]
  },
  {
   "cell_type": "code",
   "execution_count": null,
   "metadata": {},
   "outputs": [
    {
     "data": {
      "text/plain": [
       "{'type': 'Feature',\n",
       " 'stac_version': '1.0.0-beta.2',\n",
       " 'id': 'S2A_MSIL2A_20151002T222056_T01KAU',\n",
       " 'properties': {'proj:epsg': 32701,\n",
       "  'eo:cloud_cover': 0.0,\n",
       "  'gsd': 10,\n",
       "  'platform': 'sentinel-2',\n",
       "  'instruments': ['msi'],\n",
       "  'datetime': '2015-10-02T22:20:56Z'},\n",
       " 'geometry': {'type': 'Polygon',\n",
       "  'coordinates': [[[179.17926444633878, -19.943650180308413],\n",
       "    [179.20240407672088, -18.95356468137259],\n",
       "    [-179.75632222592535, -18.971998100113254],\n",
       "    [-179.77314066061123, -19.963124106519743],\n",
       "    [179.17926444633878, -19.943650180308413]]]},\n",
       " 'links': [],\n",
       " 'assets': {'aot': {'href': 'http://s3-uk-1.sa-catapult.co.uk/public-eo-data/common_sensing/fiji/sentinel_2/S2A_MSIL2A_20151002T222056_T01KAU/S2A_MSIL2A_20151002T222056_T01KAU_AOT_10m.tif',\n",
       "   'type': 'image/tiff; application=geotiff; profile=cloud-optimized',\n",
       "   'proj:transform': [5490, 5490],\n",
       "   'proj:shape': [20.0, 0.0, 99960.0, 0.0, -20.0, 7900000.0, 0.0, 0.0, 1.0],\n",
       "   'eo:bands': [{'name': 'aot', 'common_name': 'aot', 'description': 'TBD'}]},\n",
       "  'coastal': {'href': 'http://s3-uk-1.sa-catapult.co.uk/public-eo-data/common_sensing/fiji/sentinel_2/S2A_MSIL2A_20151002T222056_T01KAU/S2A_MSIL2A_20151002T222056_T01KAU_B01_60m.tif',\n",
       "   'type': 'image/tiff; application=geotiff; profile=cloud-optimized',\n",
       "   'proj:transform': [5490, 5490],\n",
       "   'proj:shape': [20.0, 0.0, 99960.0, 0.0, -20.0, 7900000.0, 0.0, 0.0, 1.0],\n",
       "   'eo:bands': [{'name': 'coastal',\n",
       "     'common_name': 'coastal',\n",
       "     'description': 'TBD'}]},\n",
       "  'blue': {'href': 'http://s3-uk-1.sa-catapult.co.uk/public-eo-data/common_sensing/fiji/sentinel_2/S2A_MSIL2A_20151002T222056_T01KAU/S2A_MSIL2A_20151002T222056_T01KAU_B02_10m.tif',\n",
       "   'type': 'image/tiff; application=geotiff; profile=cloud-optimized',\n",
       "   'proj:transform': [5490, 5490],\n",
       "   'proj:shape': [20.0, 0.0, 99960.0, 0.0, -20.0, 7900000.0, 0.0, 0.0, 1.0],\n",
       "   'eo:bands': [{'name': 'blue',\n",
       "     'common_name': 'blue',\n",
       "     'description': 'TBD'}]},\n",
       "  'green': {'href': 'http://s3-uk-1.sa-catapult.co.uk/public-eo-data/common_sensing/fiji/sentinel_2/S2A_MSIL2A_20151002T222056_T01KAU/S2A_MSIL2A_20151002T222056_T01KAU_B03_10m.tif',\n",
       "   'type': 'image/tiff; application=geotiff; profile=cloud-optimized',\n",
       "   'proj:transform': [5490, 5490],\n",
       "   'proj:shape': [20.0, 0.0, 99960.0, 0.0, -20.0, 7900000.0, 0.0, 0.0, 1.0],\n",
       "   'eo:bands': [{'name': 'green',\n",
       "     'common_name': 'green',\n",
       "     'description': 'TBD'}]},\n",
       "  'red': {'href': 'http://s3-uk-1.sa-catapult.co.uk/public-eo-data/common_sensing/fiji/sentinel_2/S2A_MSIL2A_20151002T222056_T01KAU/S2A_MSIL2A_20151002T222056_T01KAU_B04_10m.tif',\n",
       "   'type': 'image/tiff; application=geotiff; profile=cloud-optimized',\n",
       "   'proj:transform': [5490, 5490],\n",
       "   'proj:shape': [20.0, 0.0, 99960.0, 0.0, -20.0, 7900000.0, 0.0, 0.0, 1.0],\n",
       "   'eo:bands': [{'name': 'red', 'common_name': 'red', 'description': 'TBD'}]},\n",
       "  'nir': {'href': 'http://s3-uk-1.sa-catapult.co.uk/public-eo-data/common_sensing/fiji/sentinel_2/S2A_MSIL2A_20151002T222056_T01KAU/S2A_MSIL2A_20151002T222056_T01KAU_B08_10m.tif',\n",
       "   'type': 'image/tiff; application=geotiff; profile=cloud-optimized',\n",
       "   'proj:transform': [5490, 5490],\n",
       "   'proj:shape': [20.0, 0.0, 99960.0, 0.0, -20.0, 7900000.0, 0.0, 0.0, 1.0],\n",
       "   'eo:bands': [{'name': 'nir', 'common_name': 'nir', 'description': 'TBD'}]},\n",
       "  'nir08': {'href': 'http://s3-uk-1.sa-catapult.co.uk/public-eo-data/common_sensing/fiji/sentinel_2/S2A_MSIL2A_20151002T222056_T01KAU/S2A_MSIL2A_20151002T222056_T01KAU_B8A_20m.tif',\n",
       "   'type': 'image/tiff; application=geotiff; profile=cloud-optimized',\n",
       "   'proj:transform': [5490, 5490],\n",
       "   'proj:shape': [20.0, 0.0, 99960.0, 0.0, -20.0, 7900000.0, 0.0, 0.0, 1.0],\n",
       "   'eo:bands': [{'name': 'nir08',\n",
       "     'common_name': 'nir08',\n",
       "     'description': 'TBD'}]},\n",
       "  'nir09': {'href': 'http://s3-uk-1.sa-catapult.co.uk/public-eo-data/common_sensing/fiji/sentinel_2/S2A_MSIL2A_20151002T222056_T01KAU/S2A_MSIL2A_20151002T222056_T01KAU_B09_60m.tif',\n",
       "   'type': 'image/tiff; application=geotiff; profile=cloud-optimized',\n",
       "   'proj:transform': [5490, 5490],\n",
       "   'proj:shape': [20.0, 0.0, 99960.0, 0.0, -20.0, 7900000.0, 0.0, 0.0, 1.0],\n",
       "   'eo:bands': [{'name': 'nir09',\n",
       "     'common_name': 'nir09',\n",
       "     'description': 'TBD'}]},\n",
       "  'swir16': {'href': 'http://s3-uk-1.sa-catapult.co.uk/public-eo-data/common_sensing/fiji/sentinel_2/S2A_MSIL2A_20151002T222056_T01KAU/S2A_MSIL2A_20151002T222056_T01KAU_B11_20m.tif',\n",
       "   'type': 'image/tiff; application=geotiff; profile=cloud-optimized',\n",
       "   'proj:transform': [5490, 5490],\n",
       "   'proj:shape': [20.0, 0.0, 99960.0, 0.0, -20.0, 7900000.0, 0.0, 0.0, 1.0],\n",
       "   'eo:bands': [{'name': 'swir16',\n",
       "     'common_name': 'swir16',\n",
       "     'description': 'TBD'}]},\n",
       "  'swir22': {'href': 'http://s3-uk-1.sa-catapult.co.uk/public-eo-data/common_sensing/fiji/sentinel_2/S2A_MSIL2A_20151002T222056_T01KAU/S2A_MSIL2A_20151002T222056_T01KAU_B12_20m.tif',\n",
       "   'type': 'image/tiff; application=geotiff; profile=cloud-optimized',\n",
       "   'proj:transform': [5490, 5490],\n",
       "   'proj:shape': [20.0, 0.0, 99960.0, 0.0, -20.0, 7900000.0, 0.0, 0.0, 1.0],\n",
       "   'eo:bands': [{'name': 'swir22',\n",
       "     'common_name': 'swir22',\n",
       "     'description': 'TBDm'}]},\n",
       "  'scene_classification': {'href': 'http://s3-uk-1.sa-catapult.co.uk/public-eo-data/common_sensing/fiji/sentinel_2/S2A_MSIL2A_20151002T222056_T01KAU/S2A_MSIL2A_20151002T222056_T01KAU_SCL_20m.tif',\n",
       "   'type': 'image/tiff; application=geotiff; profile=cloud-optimized',\n",
       "   'proj:transform': [5490, 5490],\n",
       "   'proj:shape': [20.0, 0.0, 99960.0, 0.0, -20.0, 7900000.0, 0.0, 0.0, 1.0],\n",
       "   'eo:bands': [{'name': 'scene_classification',\n",
       "     'common_name': 'scene_classification',\n",
       "     'description': 'TBDm'}]}},\n",
       " 'bbox': [99960.0, 7790200.0, 209760.0, 7900000.0],\n",
       " 'stac_extensions': ['projection', 'eo']}"
      ]
     },
     "execution_count": null,
     "metadata": {},
     "output_type": "execute_result"
    }
   ],
   "source": [
    "example_item_with_assets.to_dict()"
   ]
  },
  {
   "cell_type": "markdown",
   "metadata": {},
   "source": [
    "### **Compiling *Items* into a *Collection*** "
   ]
  },
  {
   "cell_type": "markdown",
   "metadata": {},
   "source": [
    "We naurally want to apply the above tools to all related *Items* and their *Assets* in order to build a *Collection* that can sit within another *Collection* or an overall *Catalog* covering various geospatial datasets."
   ]
  },
  {
   "cell_type": "code",
   "execution_count": null,
   "metadata": {},
   "outputs": [],
   "source": [
    "#export\n",
    "def s2_create_collection(s2_dir, bucket='public-eo-data', n=None):\n",
    "    \n",
    "    collection_id = 'sentinel-2'\n",
    "    collection_title = 'Copernicus Sentinel-2 datasets'\n",
    "    collection_description = '''### Sentinel-2 Datasets\n",
    "\n",
    "    A collection of Sentinel-2 datasets. Obtained from Copernicus Hub and Google Cloud and preparred by Catapult.\n",
    "    '''\n",
    "    \n",
    "    # initially arbitrary as updated later\n",
    "    spatial_extent = pystac.SpatialExtent([[-7.57216793459, 49.959999905, 1.68153079591, 58.6350001085]])\n",
    "    temporal_extent = pystac.TemporalExtent([[datetime(2011, 12, 16), None]])\n",
    "    collection_extent = pystac.Extent(spatial_extent, temporal_extent)\n",
    "    \n",
    "    collection = pystac.Collection(id=collection_id,\n",
    "                                   title=collection_title,\n",
    "                                   description=collection_description,\n",
    "                                   extent=collection_extent,\n",
    "#                                    product_definition={})\n",
    "                                   properties={})\n",
    "    \n",
    "    collection.providers = [\n",
    "        pystac.Provider(name='European Space Agency', roles=['producer'], url='https://www.esa.int/'),\n",
    "        pystac.Provider(name='European Space Agency', roles=['licensor'], url='https://www.esa.int/'),\n",
    "        pystac.Provider(name='Satellite Applications Catapult', roles=['processor'], url='https://sa.catapult.org.uk/'),\n",
    "        pystac.Provider(name='Satellite Applications Catapult', roles=['host'], url='https://sa.catapult.org.uk/')\n",
    "    ]\n",
    "    \n",
    "    collection.ext.enable('product_definition')\n",
    "    collection.ext.product_definition.metadata_type = \"eo3\"\n",
    "    collection.ext.product_definition.metadata = S2_METADATA\n",
    "    collection.ext.product_definition.measurements = S2_MEASUREMENTS\n",
    "        \n",
    "    obj_paths_list = s3_list_objects_paths(bucket, s2_dir)\n",
    "    item_names = list(np.unique([ i.split('/')[-2] for i in obj_paths_list ]))\n",
    "    \n",
    "    for item_name in item_names[:n]:\n",
    "#         print(item_name)\n",
    "        item_obj_paths = [ i for i in obj_paths_list if item_name in i]\n",
    "        \n",
    "        item = s2_create_item(item_name, item_obj_paths)\n",
    "        item = s2_add_assets2item(item, item_obj_paths)\n",
    "        \n",
    "        collection.add_item(item)\n",
    "    \n",
    "    collection.update_extent_from_items()\n",
    "        \n",
    "    return collection\n",
    "    "
   ]
  },
  {
   "cell_type": "code",
   "execution_count": null,
   "metadata": {},
   "outputs": [
    {
     "name": "stdout",
     "output_type": "stream",
     "text": [
      "S2A_MSIL2A_20151002T222056_T01KAU\n",
      "S2A_MSIL2A_20151002T222056_T01KBU\n",
      "S2A_MSIL2A_20151022T222102_T01KAU\n",
      "S2A_MSIL2A_20151022T222102_T01KBU\n",
      "S2A_MSIL2A_20151114T223002_T60KWD\n",
      "S2A_MSIL2A_20151114T223002_T60KWE\n",
      "S2A_MSIL2A_20151114T223002_T60KWF\n",
      "S2A_MSIL2A_20151114T223002_T60KWG\n",
      "S2A_MSIL2A_20151114T223002_T60KXD\n",
      "S2A_MSIL2A_20151114T223002_T60KXE\n"
     ]
    }
   ],
   "source": [
    "example_collection = s2_create_collection('common_sensing/fiji/sentinel_2/', n=10)"
   ]
  },
  {
   "cell_type": "code",
   "execution_count": null,
   "metadata": {},
   "outputs": [
    {
     "name": "stdout",
     "output_type": "stream",
     "text": [
      "* <Collection id=sentinel-2>\n",
      "  * <Item id=S2A_MSIL2A_20151002T222056_T01KAU>\n",
      "  * <Item id=S2A_MSIL2A_20151002T222056_T01KBU>\n",
      "  * <Item id=S2A_MSIL2A_20151022T222102_T01KAU>\n",
      "  * <Item id=S2A_MSIL2A_20151022T222102_T01KBU>\n",
      "  * <Item id=S2A_MSIL2A_20151114T223002_T60KWD>\n",
      "  * <Item id=S2A_MSIL2A_20151114T223002_T60KWE>\n",
      "  * <Item id=S2A_MSIL2A_20151114T223002_T60KWF>\n",
      "  * <Item id=S2A_MSIL2A_20151114T223002_T60KWG>\n",
      "  * <Item id=S2A_MSIL2A_20151114T223002_T60KXD>\n",
      "  * <Item id=S2A_MSIL2A_20151114T223002_T60KXE>\n"
     ]
    }
   ],
   "source": [
    "example_collection.describe()"
   ]
  },
  {
   "cell_type": "code",
<<<<<<< HEAD
   "execution_count": 1,
   "metadata": {},
   "outputs": [
    {
     "ename": "NameError",
     "evalue": "name 'example_collection' is not defined",
     "output_type": "error",
     "traceback": [
      "\u001b[0;31m---------------------------------------------------------------------------\u001b[0m",
      "\u001b[0;31mNameError\u001b[0m                                 Traceback (most recent call last)",
      "\u001b[0;32m<ipython-input-1-0f55e3679def>\u001b[0m in \u001b[0;36m<module>\u001b[0;34m\u001b[0m\n\u001b[0;32m----> 1\u001b[0;31m \u001b[0mexample_collection\u001b[0m\u001b[0;34m.\u001b[0m\u001b[0mto_dict\u001b[0m\u001b[0;34m(\u001b[0m\u001b[0;34m)\u001b[0m\u001b[0;34m\u001b[0m\u001b[0;34m\u001b[0m\u001b[0m\n\u001b[0m\u001b[1;32m      2\u001b[0m \u001b[0;34m\u001b[0m\u001b[0m\n\u001b[1;32m      3\u001b[0m \u001b[0mexample_collection\u001b[0m\u001b[0;34m.\u001b[0m\u001b[0mvalidate\u001b[0m\u001b[0;34m(\u001b[0m\u001b[0;34m)\u001b[0m\u001b[0;34m\u001b[0m\u001b[0;34m\u001b[0m\u001b[0m\n",
      "\u001b[0;31mNameError\u001b[0m: name 'example_collection' is not defined"
     ]
    }
   ],
   "source": [
    "example_collection.to_dict()\n",
    "\n",
    "example_collection.validate()"
=======
   "execution_count": null,
   "metadata": {},
   "outputs": [
    {
     "data": {
      "text/plain": [
       "{'id': 'sentinel-2',\n",
       " 'stac_version': '1.0.0-beta.2',\n",
       " 'description': '### Sentinel-2 Datasets\\n\\n    A collection of Sentinel-2 datasets. Obtained from Copernicus Hub and Google Cloud and preparred by Catapult.\\n    ',\n",
       " 'links': [{'rel': 'root', 'href': None, 'type': 'application/json'},\n",
       "  {'rel': 'item', 'href': None, 'type': 'application/json'},\n",
       "  {'rel': 'item', 'href': None, 'type': 'application/json'},\n",
       "  {'rel': 'item', 'href': None, 'type': 'application/json'},\n",
       "  {'rel': 'item', 'href': None, 'type': 'application/json'},\n",
       "  {'rel': 'item', 'href': None, 'type': 'application/json'},\n",
       "  {'rel': 'item', 'href': None, 'type': 'application/json'},\n",
       "  {'rel': 'item', 'href': None, 'type': 'application/json'},\n",
       "  {'rel': 'item', 'href': None, 'type': 'application/json'},\n",
       "  {'rel': 'item', 'href': None, 'type': 'application/json'},\n",
       "  {'rel': 'item', 'href': None, 'type': 'application/json'}],\n",
       " 'stac_extensions': ['product_definition'],\n",
       " 'title': 'Copernicus Sentinel-2 datasets',\n",
       " 'extent': {'spatial': {'bbox': [[99960.0, 7790200.0, 709800.0, 8200000.0]]},\n",
       "  'temporal': {'interval': [['2015-10-02T22:20:56Z',\n",
       "     '2015-11-14T22:30:02Z']]}},\n",
       " 'license': 'proprietary',\n",
       " 'providers': [{'name': 'European Space Agency',\n",
       "   'roles': ['producer'],\n",
       "   'url': 'https://www.esa.int/'},\n",
       "  {'name': 'European Space Agency',\n",
       "   'roles': ['licensor'],\n",
       "   'url': 'https://www.esa.int/'},\n",
       "  {'name': 'Satellite Applications Catapult',\n",
       "   'roles': ['processor'],\n",
       "   'url': 'https://sa.catapult.org.uk/'},\n",
       "  {'name': 'Satellite Applications Catapult',\n",
       "   'roles': ['host'],\n",
       "   'url': 'https://sa.catapult.org.uk/'}],\n",
       " 'properties': {'product_definition:metadata_type': 'eo3',\n",
       "  'product_definition:metadata:': {'product': {'name': 's2_l2a'},\n",
       "   'instrument': {'name': 's2_l2a'},\n",
       "   'platform': {'name': 'sentinel-2'}},\n",
       "  'product_definition:measurements': [{'name': 'aot',\n",
       "    'units': '1',\n",
       "    'dtype': 'uint16',\n",
       "    'nodata': '0'},\n",
       "   {'name': 'coastal', 'units': '1', 'dtype': 'uint16', 'nodata': '0'},\n",
       "   {'name': 'blue', 'units': '1', 'dtype': 'uint16', 'nodata': '0'},\n",
       "   {'name': 'green', 'units': '1', 'dtype': 'uint16', 'nodata': '0'},\n",
       "   {'name': 'red', 'units': '1', 'dtype': 'uint16', 'nodata': '0'},\n",
       "   {'name': 'nir', 'units': '1', 'dtype': 'uint16', 'nodata': '0'},\n",
       "   {'name': 'nir08', 'units': '1', 'dtype': 'uint16', 'nodata': '0'},\n",
       "   {'name': 'nir09', 'units': '1', 'dtype': 'uint16', 'nodata': '0'},\n",
       "   {'name': 'swir16', 'units': '1', 'dtype': 'uint16', 'nodata': '0'},\n",
       "   {'name': 'swir22', 'units': '1', 'dtype': 'uint16', 'nodata': '0'},\n",
       "   {'name': 'scene_classification',\n",
       "    'units': '1',\n",
       "    'dtype': 'uint8',\n",
       "    'nodata': '0'}]}}"
      ]
     },
     "execution_count": null,
     "metadata": {},
     "output_type": "execute_result"
    }
   ],
   "source": [
    "example_collection.to_dict()"
>>>>>>> 96fded2fb53c372112a05f422b20e6b9156ebd22
   ]
  },
  {
   "cell_type": "code",
   "execution_count": null,
   "metadata": {},
   "outputs": [
    {
     "name": "stdout",
     "output_type": "stream",
     "text": [
      "Converted 00_extensions.ipynb.\n",
      "Converted 00_rediswq.ipynb.\n",
      "Converted 00_utils.ipynb.\n",
      "Converted 01A_pleiades.ipynb.\n",
      "Converted 01B_pleiades_prep_worker.ipynb.\n",
      "Converted 02A_spot.ipynb.\n",
      "Converted 03A_novasar.ipynb.\n",
      "Converted 04A_cs_sentinel2.ipynb.\n",
      "Converted 09_cs_stact_catalog.ipynb.\n",
      "Converted 09_sac_stac_catalog.ipynb.\n",
      "Converted 10_load_stac.ipynb.\n",
      "Converted index.ipynb.\n"
     ]
    }
   ],
   "source": [
    "#hide\n",
    "from nbdev.export import notebook2script; notebook2script()"
   ]
  }
 ],
 "metadata": {
  "kernelspec": {
   "display_name": "Python 3",
   "language": "python",
   "name": "python3"
<<<<<<< HEAD
  },
  "language_info": {
   "codemirror_mode": {
    "name": "ipython",
    "version": 3
   },
   "file_extension": ".py",
   "mimetype": "text/x-python",
   "name": "python",
   "nbconvert_exporter": "python",
   "pygments_lexer": "ipython3",
   "version": "3.7.4"
=======
>>>>>>> 96fded2fb53c372112a05f422b20e6b9156ebd22
  }
 },
 "nbformat": 4,
 "nbformat_minor": 4
}
